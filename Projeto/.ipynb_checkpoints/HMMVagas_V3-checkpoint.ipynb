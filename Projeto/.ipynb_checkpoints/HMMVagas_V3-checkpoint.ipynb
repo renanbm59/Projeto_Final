{
 "cells": [
  {
   "cell_type": "code",
   "execution_count": 1,
   "metadata": {
    "id": "P1H9UTBLvtKR"
   },
   "outputs": [],
   "source": [
    "#Fixed vocabulary, unknown probability based on training\n",
    "import os\n",
    "\n",
    "import lib.tratamentoTexto as TT\n",
    "from lib.HMM.HMM_Vagas_V3 import HMM_Vagas_V3"
   ]
  },
  {
   "cell_type": "code",
   "execution_count": 2,
   "metadata": {
    "id": "BgdoRfTjHSwi"
   },
   "outputs": [],
   "source": [
    "path = os.path.abspath(os.getcwd()) + \"/Dados/vagas.json\"\n",
    "path = path.replace(\"\\\\\", \"/\")\n",
    "estados = ['salario', 'local', 'beneficios', 'descricao', 'empresa']"
   ]
  },
  {
   "cell_type": "code",
   "execution_count": 5,
   "metadata": {
    "colab": {
     "base_uri": "https://localhost:8080/",
     "height": 35
    },
    "id": "Og9u46KVFbi8",
    "outputId": "d303694c-a013-4a53-c04c-99dc940b4d4c"
   },
   "outputs": [
    {
     "name": "stdout",
     "output_type": "stream",
     "text": [
      "Tamanho vocabulario: 61206\n"
     ]
    }
   ],
   "source": [
    "#Usando como vocabulario palavras de outro dataset de vagas, diferente do treinamento e teste\n",
    "pathVoc = os.path.abspath(os.getcwd()) + \"/Dados/vagas2.json\"\n",
    "pathVoc = path.replace(\"\\\\\", \"/\")\n",
    "data = TT.loadDataset(pathVoc, True)\n",
    "vocabulario = TT.getVocabularioFromDataSet(data)\n",
    "print(\"Tamanho vocabulario:\", len(vocabulario))"
   ]
  },
  {
   "cell_type": "code",
   "execution_count": 7,
   "metadata": {
    "colab": {
     "base_uri": "https://localhost:8080/",
     "height": 255
    },
    "id": "fpbmCRpqg_mS",
    "outputId": "12ddf8c1-6a46-406f-9920-7564ce38c617"
   },
   "outputs": [
    {
     "name": "stdout",
     "output_type": "stream",
     "text": [
      "Linha 500\n",
      "Linha 1000\n",
      "Linha 1500\n",
      "Linha 2000\n",
      "Linha 2500\n",
      "Linha 3000\n",
      "Linha 3500\n",
      "Linha 4000\n",
      "Linha 4500\n",
      "Fit duration: 0:02:22.108422\n"
     ]
    }
   ],
   "source": [
    "data = TT.loadDataset(path, True)\n",
    "model = HMM_Vagas_V3(data = data, trainPerc=0.7, checkpoint=500, estados=estados, vocabulario = vocabulario)\n",
    "model.fit()"
   ]
  },
  {
   "cell_type": "code",
   "execution_count": 8,
   "metadata": {
    "colab": {
     "base_uri": "https://localhost:8080/",
     "height": 310
    },
    "id": "7iMwDpXHidAw",
    "outputId": "b8072d22-1700-4b14-ce23-08f79a9e171e"
   },
   "outputs": [
    {
     "name": "stdout",
     "output_type": "stream",
     "text": [
      "Calculating cost <...>\n",
      "Loss: 0.38270592370654305\n",
      "Percentual acertos totais: 0.011752682677567705\n",
      "Loss em salario 0.5650104481077316\n",
      "\t {'local': 0.5276497695852534, 'beneficios': 0.5205128205128206, 'descricao': 0.8041958041958042, 'empresa': 0.6007751937984496}\n",
      "Loss em local 0.5272240404641476\n",
      "\t {'salario': 0.5486111111111112, 'beneficios': 0.5597826086956522, 'descricao': 0.8264462809917356, 'empresa': 0.5324675324675324}\n",
      "Loss em beneficios 0.5287152161042037\n",
      "\t {'salario': 0.5571030640668524, 'local': 0.6010928961748634, 'descricao': 0.8498727735368957, 'empresa': 0.5260663507109005}\n",
      "Loss em descricao 0.3502618901716264\n",
      "\t {'salario': 0.24056603773584906, 'local': 0.22494432071269488, 'beneficios': 0.1478494623655914, 'empresa': 0.19117647058823528}\n",
      "Loss em empresa 0.42205825762519034\n",
      "\t {'salario': 0.3741258741258741, 'local': 0.1796875, 'beneficios': 0.18048780487804877, 'descricao': 0.5210084033613446}\n",
      "Loss em estado inicial\n",
      "\t {'salario': 1.0, 'local': 0.9402654867256637, 'beneficios': 1.0, 'descricao': 1.0, 'empresa': 1.0}\n"
     ]
    }
   ],
   "source": [
    "x = model.fullCost(model.tests)"
   ]
  },
  {
   "cell_type": "code",
   "execution_count": null,
   "metadata": {
    "colab": {
     "base_uri": "https://localhost:8080/",
     "height": 35
    },
    "id": "-tqXUJJef_7L",
    "outputId": "d7ac4b1d-efc9-42a8-e0f3-af45aba3dd55"
   },
   "outputs": [],
   "source": [
    "#Usando como vocabulario um vocabulario de palavras da internet\n",
    "pathVoc = os.path.abspath(os.getcwd()).replace(\"\\\\\", \"/\")+ \"/Dados/vocabularioInternet.txt\"\n",
    "vocabulario = []\n",
    "with open(pathVoc, \"r\", encoding=\"utf-8\") as f:\n",
    "    for palavra in f:\n",
    "        palavra = TT.cleanText(palavra)\n",
    "        if palavra not in vocabulario:\n",
    "            vocabulario.append(palavra)\n",
    "print(\"Tamanho vocabulario:\", len(vocabulario))"
   ]
  },
  {
   "cell_type": "code",
   "execution_count": null,
   "metadata": {
    "colab": {
     "base_uri": "https://localhost:8080/",
     "height": 255
    },
    "id": "cjEKHZyf-xm8",
    "outputId": "5b9af90b-d385-42c9-fbac-66f986b23229"
   },
   "outputs": [],
   "source": [
    "data = TT.loadDataset(path, True)\n",
    "model = HMM_Vagas_V3(data = data, trainPerc=0.7, checkpoint=500, estados=estados, vocabulario = vocabulario)\n",
    "model.fit()"
   ]
  },
  {
   "cell_type": "code",
   "execution_count": null,
   "metadata": {
    "colab": {
     "base_uri": "https://localhost:8080/",
     "height": 310
    },
    "id": "KwNIVz7V-6SH",
    "outputId": "6a8f1b7c-3390-4228-bb95-4c2800d9e1e5"
   },
   "outputs": [],
   "source": [
    "x = model.fullCost(model.tests)"
   ]
  },
  {
   "cell_type": "code",
   "execution_count": null,
   "metadata": {
    "colab": {
     "base_uri": "https://localhost:8080/",
     "height": 146
    },
    "id": "8rTOs1_5FAjv",
    "outputId": "c9846610-64b8-4b25-b4f8-b757007efd05"
   },
   "outputs": [],
   "source": [
    "#Testes para verificar previsoes individualmente\n",
    "observacoes, previsto, real = model.predictRandomTest()"
   ]
  },
  {
   "cell_type": "code",
   "execution_count": null,
   "metadata": {
    "colab": {
     "base_uri": "https://localhost:8080/",
     "height": 53
    },
    "id": "QEaEz4Pu1AmO",
    "outputId": "77bc44c1-2b7b-44df-ba6e-9d600712807b"
   },
   "outputs": [],
   "source": [
    "#Exibe as mudanças de estado incorretas\n",
    "model.ExibeMudancasEstadoIncorretas(observacoes, previsto, real)"
   ]
  }
 ],
 "metadata": {
  "accelerator": "GPU",
  "colab": {
   "collapsed_sections": [],
   "name": "HMMVagas_V3",
   "provenance": []
  },
  "kernelspec": {
   "display_name": "Python 3",
   "language": "python",
   "name": "python3"
  },
  "language_info": {
   "codemirror_mode": {
    "name": "ipython",
    "version": 3
   },
   "file_extension": ".py",
   "mimetype": "text/x-python",
   "name": "python",
   "nbconvert_exporter": "python",
   "pygments_lexer": "ipython3",
   "version": "3.7.6"
  }
 },
 "nbformat": 4,
 "nbformat_minor": 1
}
