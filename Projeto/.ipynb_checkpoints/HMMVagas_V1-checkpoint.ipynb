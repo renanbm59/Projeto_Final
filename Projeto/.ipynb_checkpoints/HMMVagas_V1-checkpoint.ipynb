{
 "cells": [
  {
   "cell_type": "code",
   "execution_count": 2,
   "metadata": {
    "id": "P1H9UTBLvtKR"
   },
   "outputs": [],
   "source": [
    "import os\n",
    "\n",
    "import lib.tratamentoTexto as TT\n",
    "from lib.HMM.HMM_Vagas_V1 import HMM_Vagas_V1"
   ]
  },
  {
   "cell_type": "code",
   "execution_count": 3,
   "metadata": {},
   "outputs": [],
   "source": [
    "path = os.path.abspath(os.getcwd()) + \"/Dados/vagas.json\"\n",
    "path = path.replace(\"\\\\\", \"/\")\n",
    "estados = ['salario', 'local', 'beneficios', 'descricao', 'empresa']"
   ]
  },
  {
   "cell_type": "code",
   "execution_count": null,
   "metadata": {
    "colab": {
     "base_uri": "https://localhost:8080/",
     "height": 255
    },
    "id": "fpbmCRpqg_mS",
    "outputId": "ec5fb19e-df3c-49a9-9381-5a1335ec7c81"
   },
   "outputs": [
    {
     "name": "stdout",
     "output_type": "stream",
     "text": [
      "Linha 500\n",
      "Linha 1000\n",
      "Linha 1500\n",
      "Linha 2000\n",
      "Linha 2500\n",
      "Linha 3000\n"
     ]
    }
   ],
   "source": [
    "data = TT.loadDataset(path, False)\n",
    "model = HMM_Vagas_V1(data = data, trainPerc=0.7, checkpoint=500, estados=estados)\n",
    "model.fit()"
   ]
  },
  {
   "cell_type": "code",
   "execution_count": 19,
   "metadata": {
    "colab": {
     "base_uri": "https://localhost:8080/",
     "height": 310
    },
    "id": "Aqs6vX2e5V8z",
    "outputId": "7552b8c5-e019-49f7-87b7-37bde86e18d8"
   },
   "outputs": [
    {
     "name": "stdout",
     "output_type": "stream",
     "text": [
      "Calculating cost <...>\n",
      "Loss: 0.5631650011995827\n",
      "Percentual acertos totais: 0.1313234542667348\n",
      "Loss em salario 0.9987230090550268\n",
      "\t {'local': 0.9340827797649464, 'beneficios': -1, 'descricao': -1, 'empresa': -1}\n",
      "Loss em local 0.9384111871466825\n",
      "\t {'salario': -1, 'beneficios': 0.9728453364817001, 'descricao': 0.9923954372623575, 'empresa': -1}\n",
      "Loss em beneficios 0.9674363528715216\n",
      "\t {'salario': -1, 'local': -1, 'descricao': 0.9817001180637545, 'empresa': -1}\n",
      "Loss em descricao 0.6807534206747865\n",
      "\t {'salario': -1, 'local': -1, 'beneficios': -1, 'empresa': 0.13530824659727783}\n",
      "Loss em empresa 0.2898827151198782\n",
      "\t {'salario': -1, 'local': -1, 'beneficios': -1, 'descricao': -1}\n",
      "Loss em estado inicial\n",
      "\t {'salario': 1.0, 'local': -1, 'beneficios': -1, 'descricao': -1, 'empresa': -1}\n"
     ]
    }
   ],
   "source": [
    "x = model.fullCost(model.tests)"
   ]
  },
  {
   "cell_type": "code",
   "execution_count": 20,
   "metadata": {
    "colab": {
     "base_uri": "https://localhost:8080/",
     "height": 255
    },
    "id": "cjEKHZyf-xm8",
    "outputId": "5ad58032-5b27-4a47-f275-757da0e6e89e"
   },
   "outputs": [
    {
     "name": "stdout",
     "output_type": "stream",
     "text": [
      "Linha 500\n",
      "Linha 1000\n",
      "Linha 1500\n",
      "Linha 2000\n",
      "Linha 2500\n",
      "Linha 3000\n",
      "Linha 3500\n",
      "Linha 4000\n",
      "Linha 4500\n",
      "Fit duration: 0:01:52.058191\n"
     ]
    }
   ],
   "source": [
    "data = TT.loadDataset(path, True)\n",
    "model = HMM_Vagas_V1(data = data, trainPerc=0.7, checkpoint=500, estados=estados)\n",
    "model.fit()"
   ]
  },
  {
   "cell_type": "code",
   "execution_count": 21,
   "metadata": {
    "colab": {
     "base_uri": "https://localhost:8080/",
     "height": 290
    },
    "id": "kq5mcYl--1Cf",
    "outputId": "2eff6b8d-8477-4d44-a4f3-e2aef98c3302"
   },
   "outputs": [
    {
     "name": "stdout",
     "output_type": "stream",
     "text": [
      "Calculating cost <...>\n",
      "Loss: 0.5921809528591914\n",
      "Percentual acertos totais: 0.07102708226877874\n",
      "Loss em salario 0.7238216856280474\n",
      "\t {'local': 0.6901408450704225, 'beneficios': 0.717032967032967, 'descricao': 0.9084821428571429, 'empresa': 0.8}\n",
      "Loss em local 0.6120202320737875\n",
      "\t {'salario': 0.7717647058823529, 'beneficios': 0.6947368421052632, 'descricao': 0.9004329004329005, 'empresa': 0.752}\n",
      "Loss em beneficios 0.6465364120781527\n",
      "\t {'salario': 0.696969696969697, 'local': 0.6818181818181818, 'descricao': 0.9025787965616046, 'empresa': 0.8153153153153153}\n",
      "Loss em descricao 0.6123265061480451\n",
      "\t {'salario': 0.5689277899343544, 'local': 0.17761557177615572, 'beneficios': 0.1906005221932115, 'empresa': 0.15298507462686567}\n",
      "Loss em empresa 0.5429235891515669\n",
      "\t {'salario': 0.4423076923076923, 'local': 0.1890909090909091, 'beneficios': 0.15942028985507245, 'descricao': 0.6436781609195402}\n",
      "Loss em estado inicial\n",
      "\t {'salario': 1.0, 'local': 0.9844097995545658, 'beneficios': 0.9972222222222222, 'descricao': 1.0, 'empresa': 1.0}\n"
     ]
    }
   ],
   "source": [
    "x = model.fullCost(model.tests)"
   ]
  },
  {
   "cell_type": "code",
   "execution_count": null,
   "metadata": {
    "colab": {
     "base_uri": "https://localhost:8080/",
     "height": 146
    },
    "id": "8rTOs1_5FAjv",
    "outputId": "4216a5e2-c92d-4cc4-9c32-76307d91549c"
   },
   "outputs": [],
   "source": [
    "observacoes, previsto, real = model.predictRandomTest()"
   ]
  },
  {
   "cell_type": "code",
   "execution_count": null,
   "metadata": {
    "colab": {
     "base_uri": "https://localhost:8080/",
     "height": 1000
    },
    "id": "QEaEz4Pu1AmO",
    "outputId": "5a787665-52a5-4d14-9d9e-77ea94633ec3"
   },
   "outputs": [],
   "source": [
    "model.ExibeMudancasEstadoIncorretas(observacoes, previsto, real)"
   ]
  }
 ],
 "metadata": {
  "accelerator": "GPU",
  "colab": {
   "collapsed_sections": [],
   "name": "HMMVagas_V1",
   "provenance": []
  },
  "kernelspec": {
   "display_name": "Python 3",
   "language": "python",
   "name": "python3"
  },
  "language_info": {
   "codemirror_mode": {
    "name": "ipython",
    "version": 3
   },
   "file_extension": ".py",
   "mimetype": "text/x-python",
   "name": "python",
   "nbconvert_exporter": "python",
   "pygments_lexer": "ipython3",
   "version": "3.7.6"
  }
 },
 "nbformat": 4,
 "nbformat_minor": 1
}
