{
 "cells": [
  {
   "cell_type": "code",
   "execution_count": 1,
   "metadata": {
    "id": "P1H9UTBLvtKR"
   },
   "outputs": [],
   "source": [
    "import os\n",
    "\n",
    "import lib.tratamentoTexto as TT\n",
    "from lib.HMM.HMM_Vagas import HMM"
   ]
  },
  {
   "cell_type": "code",
   "execution_count": 2,
   "metadata": {},
   "outputs": [],
   "source": [
    "path = os.path.abspath(os.getcwd()) + \"/Dados/vagas.json\"\n",
    "path = path.replace(\"\\\\\", \"/\")\n",
    "estados = ['salario', 'local', 'beneficios', 'descricao', 'empresa']"
   ]
  },
  {
   "cell_type": "code",
   "execution_count": 3,
   "metadata": {
    "colab": {
     "base_uri": "https://localhost:8080/",
     "height": 255
    },
    "id": "fpbmCRpqg_mS",
    "outputId": "ec5fb19e-df3c-49a9-9381-5a1335ec7c81"
   },
   "outputs": [
    {
     "name": "stdout",
     "output_type": "stream",
     "text": [
      "Linha 500\n",
      "Linha 1000\n",
      "Linha 1500\n",
      "Linha 2000\n",
      "Linha 2500\n",
      "Linha 3000\n",
      "Linha 3500\n",
      "Linha 4000\n",
      "Linha 4500\n",
      "Fit duration: 0:00:50.816359\n"
     ]
    }
   ],
   "source": [
    "data = TT.loadDataset(path, False)\n",
    "model = HMM(data = data, trainPerc=0.7, checkpoint=500, estados=estados)\n",
    "model.fit()"
   ]
  },
  {
   "cell_type": "code",
   "execution_count": 4,
   "metadata": {
    "colab": {
     "base_uri": "https://localhost:8080/",
     "height": 310
    },
    "id": "Aqs6vX2e5V8z",
    "outputId": "7552b8c5-e019-49f7-87b7-37bde86e18d8"
   },
   "outputs": [
    {
     "name": "stdout",
     "output_type": "stream",
     "text": [
      "Calculating cost <...>\n",
      "Loss: 0.33742028354786335\n",
      "Percentual acertos totais: 0.013796627491057742\n",
      "Loss em salario 0.9902484327838402\n",
      "\t {'local': 0.9253960143076136, 'beneficios': -1, 'descricao': -1, 'empresa': -1}\n",
      "Loss em local 0.8253495983338293\n",
      "\t {'salario': -1, 'beneficios': 0.8931523022432113, 'descricao': 0.9049429657794676, 'empresa': -1}\n",
      "Loss em beneficios 0.9011249259917111\n",
      "\t {'salario': -1, 'local': -1, 'descricao': 0.9368358913813459, 'empresa': -1}\n",
      "Loss em descricao 0.3661765824115366\n",
      "\t {'salario': -1, 'local': -1, 'beneficios': -1, 'empresa': 0.20736589271417133}\n",
      "Loss em empresa 0.2069467449681273\n",
      "\t {'salario': -1, 'local': -1, 'beneficios': -1, 'descricao': -1}\n",
      "Loss em estado inicial\n",
      "\t {'salario': 1.0, 'local': -1, 'beneficios': -1, 'descricao': -1, 'empresa': -1}\n"
     ]
    }
   ],
   "source": [
    "x = model.fullCost(model.tests)"
   ]
  },
  {
   "cell_type": "code",
   "execution_count": 5,
   "metadata": {},
   "outputs": [],
   "source": [
    "savePath = os.path.abspath(os.getcwd()) + \"/ResultadosV1\"\n",
    "savePath = savePath.replace(\"\\\\\", \"/\")\n",
    "model.salvaTudo(savePath, True)"
   ]
  },
  {
   "cell_type": "code",
   "execution_count": 6,
   "metadata": {},
   "outputs": [
    {
     "ename": "NameError",
     "evalue": "name 'HMM_Vagas_V1' is not defined",
     "output_type": "error",
     "traceback": [
      "\u001b[1;31m---------------------------------------------------------------------------\u001b[0m",
      "\u001b[1;31mNameError\u001b[0m                                 Traceback (most recent call last)",
      "\u001b[1;32m<ipython-input-6-4489651ce9e2>\u001b[0m in \u001b[0;36m<module>\u001b[1;34m\u001b[0m\n\u001b[1;32m----> 1\u001b[1;33m \u001b[0mmodel\u001b[0m \u001b[1;33m=\u001b[0m \u001b[0mHMM_Vagas_V1\u001b[0m\u001b[1;33m(\u001b[0m\u001b[0mdata\u001b[0m \u001b[1;33m=\u001b[0m \u001b[1;33m[\u001b[0m\u001b[1;33m]\u001b[0m\u001b[1;33m,\u001b[0m \u001b[0mtrainPerc\u001b[0m\u001b[1;33m=\u001b[0m\u001b[1;36m0.7\u001b[0m\u001b[1;33m,\u001b[0m \u001b[0mcheckpoint\u001b[0m\u001b[1;33m=\u001b[0m\u001b[1;36m500\u001b[0m\u001b[1;33m,\u001b[0m \u001b[0mestados\u001b[0m\u001b[1;33m=\u001b[0m\u001b[0mestados\u001b[0m\u001b[1;33m)\u001b[0m\u001b[1;33m\u001b[0m\u001b[1;33m\u001b[0m\u001b[0m\n\u001b[0m\u001b[0;32m      2\u001b[0m \u001b[0mmodel\u001b[0m\u001b[1;33m.\u001b[0m\u001b[0mcarregaTudo\u001b[0m\u001b[1;33m(\u001b[0m\u001b[0msavePath\u001b[0m\u001b[1;33m)\u001b[0m\u001b[1;33m\u001b[0m\u001b[1;33m\u001b[0m\u001b[0m\n",
      "\u001b[1;31mNameError\u001b[0m: name 'HMM_Vagas_V1' is not defined"
     ]
    }
   ],
   "source": [
    "model = HMM_Vagas_V1(data = [], trainPerc=0.7, checkpoint=500, estados=estados)\n",
    "model.carregaTudo(savePath)"
   ]
  },
  {
   "cell_type": "code",
   "execution_count": null,
   "metadata": {
    "colab": {
     "base_uri": "https://localhost:8080/",
     "height": 255
    },
    "id": "cjEKHZyf-xm8",
    "outputId": "5ad58032-5b27-4a47-f275-757da0e6e89e"
   },
   "outputs": [],
   "source": [
    "data = TT.loadDataset(path, True)\n",
    "model = HMM_Vagas_V1(data = data, trainPerc=0.7, checkpoint=500, estados=estados)\n",
    "model.fit()"
   ]
  },
  {
   "cell_type": "code",
   "execution_count": null,
   "metadata": {
    "colab": {
     "base_uri": "https://localhost:8080/",
     "height": 290
    },
    "id": "kq5mcYl--1Cf",
    "outputId": "2eff6b8d-8477-4d44-a4f3-e2aef98c3302"
   },
   "outputs": [],
   "source": [
    "x = model.fullCost(model.tests)"
   ]
  },
  {
   "cell_type": "code",
   "execution_count": null,
   "metadata": {
    "colab": {
     "base_uri": "https://localhost:8080/",
     "height": 146
    },
    "id": "8rTOs1_5FAjv",
    "outputId": "4216a5e2-c92d-4cc4-9c32-76307d91549c"
   },
   "outputs": [],
   "source": [
    "observacoes, previsto, real = model.predictRandomTest()"
   ]
  },
  {
   "cell_type": "code",
   "execution_count": null,
   "metadata": {
    "colab": {
     "base_uri": "https://localhost:8080/",
     "height": 1000
    },
    "id": "QEaEz4Pu1AmO",
    "outputId": "5a787665-52a5-4d14-9d9e-77ea94633ec3"
   },
   "outputs": [],
   "source": [
    "model.ExibeMudancasEstadoIncorretas(observacoes, previsto, real)"
   ]
  }
 ],
 "metadata": {
  "accelerator": "GPU",
  "colab": {
   "collapsed_sections": [],
   "name": "HMMVagas_V1",
   "provenance": []
  },
  "kernelspec": {
   "display_name": "Python 3",
   "language": "python",
   "name": "python3"
  },
  "language_info": {
   "codemirror_mode": {
    "name": "ipython",
    "version": 3
   },
   "file_extension": ".py",
   "mimetype": "text/x-python",
   "name": "python",
   "nbconvert_exporter": "python",
   "pygments_lexer": "ipython3",
   "version": "3.8.3"
  }
 },
 "nbformat": 4,
 "nbformat_minor": 1
}
