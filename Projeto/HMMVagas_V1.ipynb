{
 "cells": [
  {
   "cell_type": "code",
   "execution_count": 2,
   "metadata": {
    "id": "P1H9UTBLvtKR"
   },
   "outputs": [],
   "source": [
    "import os\n",
    "\n",
    "import lib.tratamentoTexto as TT\n",
    "from lib.HMM.HMM_Vagas_V1 import HMM_Vagas_V1"
   ]
  },
  {
   "cell_type": "code",
   "execution_count": 3,
   "metadata": {},
   "outputs": [],
   "source": [
    "path = os.path.abspath(os.getcwd()) + \"/Dados/vagas.json\"\n",
    "path = path.replace(\"\\\\\", \"/\")\n",
    "estados = ['salario', 'local', 'beneficios', 'descricao', 'empresa']"
   ]
  },
  {
   "cell_type": "code",
   "execution_count": 4,
   "metadata": {
    "colab": {
     "base_uri": "https://localhost:8080/",
     "height": 255
    },
    "id": "fpbmCRpqg_mS",
    "outputId": "ec5fb19e-df3c-49a9-9381-5a1335ec7c81"
   },
   "outputs": [
    {
     "name": "stdout",
     "output_type": "stream",
     "text": [
      "Linha 500\n",
      "Linha 1000\n",
      "Linha 1500\n",
      "Linha 2000\n",
      "Linha 2500\n",
      "Linha 3000\n",
      "Linha 3500\n",
      "Linha 4000\n",
      "Linha 4500\n",
      "Fit duration: 0:03:41.682534\n"
     ]
    }
   ],
   "source": [
    "data = TT.loadDataset(path, False)\n",
    "model = HMM_Vagas_V1(data = data, trainPerc=0.7, checkpoint=500, estados=estados)\n",
    "model.fit()"
   ]
  },
  {
   "cell_type": "code",
   "execution_count": 19,
   "metadata": {
    "colab": {
     "base_uri": "https://localhost:8080/",
     "height": 310
    },
    "id": "Aqs6vX2e5V8z",
    "outputId": "7552b8c5-e019-49f7-87b7-37bde86e18d8"
   },
   "outputs": [
    {
     "name": "stdout",
     "output_type": "stream",
     "text": [
      "Calculating cost <...>\n",
      "Loss: 0.5631650011995827\n",
      "Percentual acertos totais: 0.1313234542667348\n",
      "Loss em salario 0.9987230090550268\n",
      "\t {'local': 0.9340827797649464, 'beneficios': -1, 'descricao': -1, 'empresa': -1}\n",
      "Loss em local 0.9384111871466825\n",
      "\t {'salario': -1, 'beneficios': 0.9728453364817001, 'descricao': 0.9923954372623575, 'empresa': -1}\n",
      "Loss em beneficios 0.9674363528715216\n",
      "\t {'salario': -1, 'local': -1, 'descricao': 0.9817001180637545, 'empresa': -1}\n",
      "Loss em descricao 0.6807534206747865\n",
      "\t {'salario': -1, 'local': -1, 'beneficios': -1, 'empresa': 0.13530824659727783}\n",
      "Loss em empresa 0.2898827151198782\n",
      "\t {'salario': -1, 'local': -1, 'beneficios': -1, 'descricao': -1}\n",
      "Loss em estado inicial\n",
      "\t {'salario': 1.0, 'local': -1, 'beneficios': -1, 'descricao': -1, 'empresa': -1}\n"
     ]
    }
   ],
   "source": [
    "x = model.fullCost(model.tests)"
   ]
  },
  {
   "cell_type": "code",
   "execution_count": 20,
   "metadata": {
    "colab": {
     "base_uri": "https://localhost:8080/",
     "height": 255
    },
    "id": "cjEKHZyf-xm8",
    "outputId": "5ad58032-5b27-4a47-f275-757da0e6e89e"
   },
   "outputs": [
    {
     "name": "stdout",
     "output_type": "stream",
     "text": [
      "Linha 500\n",
      "Linha 1000\n",
      "Linha 1500\n",
      "Linha 2000\n",
      "Linha 2500\n",
      "Linha 3000\n",
      "Linha 3500\n",
      "Linha 4000\n",
      "Linha 4500\n",
      "Fit duration: 0:01:52.058191\n"
     ]
    }
   ],
   "source": [
    "data = TT.loadDataset(path, True)\n",
    "model = HMM_Vagas_V1(data = data, trainPerc=0.7, checkpoint=500, estados=estados)\n",
    "model.fit()"
   ]
  },
  {
   "cell_type": "code",
   "execution_count": 21,
   "metadata": {
    "colab": {
     "base_uri": "https://localhost:8080/",
     "height": 290
    },
    "id": "kq5mcYl--1Cf",
    "outputId": "2eff6b8d-8477-4d44-a4f3-e2aef98c3302"
   },
   "outputs": [
    {
     "name": "stdout",
     "output_type": "stream",
     "text": [
      "Calculating cost <...>\n",
      "Loss: 0.5921809528591914\n",
      "Percentual acertos totais: 0.07102708226877874\n",
      "Loss em salario 0.7238216856280474\n",
      "\t {'local': 0.6901408450704225, 'beneficios': 0.717032967032967, 'descricao': 0.9084821428571429, 'empresa': 0.8}\n",
      "Loss em local 0.6120202320737875\n",
      "\t {'salario': 0.7717647058823529, 'beneficios': 0.6947368421052632, 'descricao': 0.9004329004329005, 'empresa': 0.752}\n",
      "Loss em beneficios 0.6465364120781527\n",
      "\t {'salario': 0.696969696969697, 'local': 0.6818181818181818, 'descricao': 0.9025787965616046, 'empresa': 0.8153153153153153}\n",
      "Loss em descricao 0.6123265061480451\n",
      "\t {'salario': 0.5689277899343544, 'local': 0.17761557177615572, 'beneficios': 0.1906005221932115, 'empresa': 0.15298507462686567}\n",
      "Loss em empresa 0.5429235891515669\n",
      "\t {'salario': 0.4423076923076923, 'local': 0.1890909090909091, 'beneficios': 0.15942028985507245, 'descricao': 0.6436781609195402}\n",
      "Loss em estado inicial\n",
      "\t {'salario': 1.0, 'local': 0.9844097995545658, 'beneficios': 0.9972222222222222, 'descricao': 1.0, 'empresa': 1.0}\n"
     ]
    }
   ],
   "source": [
    "x = model.fullCost(model.tests)"
   ]
  },
  {
   "cell_type": "code",
   "execution_count": 7,
   "metadata": {
    "colab": {
     "base_uri": "https://localhost:8080/",
     "height": 146
    },
    "id": "8rTOs1_5FAjv",
    "outputId": "4216a5e2-c92d-4cc4-9c32-76307d91549c"
   },
   "outputs": [
    {
     "name": "stdout",
     "output_type": "stream",
     "text": [
      "Observacoes\n",
      "\t ['faixa', 'salarial', 'r$', '<unk>', 'a', 'r$', '<unk>', 'jundiaí', 'assistência', 'médica', 'descrição', '•', 'ensino', 'superior', 'completo•', 'irá', 'trabalhar', 'aos', 'finais', 'de', 'semana', 'e', 'feriados', 'regime', 'de', '<unk>', 'desejável', 'pós-graduação', 'eou', '<unk>', 'pacote', 'office', '–', 'avançado•', 'inglês', '–', '<unk>', 'vivência', 'com', 'operação', 'de', '<unk>', 'via', 'marítimo', 'responsabilidades', 'do', 'cargo•', 'responsável', 'pelo', 'relacionamento', 'com', 'o', 'despachantes', 'agentes', 'marítimos', 'operadores', 'portuários', 'e', '<unk>', 'domínio', 'nas', 'operações', 'de', 'descarga', 'granel', 'e', 'transporte', 'marítimo•', 'responsável', 'por', 'coordenar', 'as', 'operações', 'de', 'descarga', 'a', 'granel', 'no', 'porto', 'orientando', 'o', 'agente', 'marítimo', 'operador', 'portuário', 'e', 'transportadoras', 'empresa', 'a', '<unk>', 'atua', 'no', 'segmento', 'de', 'fertilizantes', 'químicos', 'e', 'está', 'no', 'mercado', 'há', '40', 'anos', 'instalada', 'no', 'distrito', 'industrial', 'de', 'jundiaí', 'a', 'empresa', 'possui', 'um', 'moderno', 'escritório', 'administrativo', 'e', 'um', 'parque', 'industrial', 'totalmente', 'automatizado', 'missão', 'proporcionar', 'com', 'transparência', 'e', 'seriedade', 'a', 'excelência', 'no', 'agronegócio', 'através', 'de', 'atendimento', 'personalizado', 'e', 'qualidade', 'nos', 'fertilizantes', 'que', 'produzimos', 'garantindo', 'aos', 'nossos', 'clientes', 'alta', 'performance', 'e', 'produtividade', 'na', '<unk>', '“a', 'visão', 'da', '<unk>', '<unk>', 'nosso', '<unk>', 'ser', 'uma', 'empresa', 'de', 'atuação', 'e', 'reconhecimento', 'nacional', 'que', 'atenda', 'as', 'necessidades', 'de', 'todos', 'os', 'clientes', 'no', 'mercado', 'em', 'que', 'atuamos', 'com', 'eficiência', 'contribuindo', 'para', 'o', 'crescimento', 'do', 'agronegócio', 'do', '<unk>', 'a', 'fim', 'de', 'beneficiar', 'nossos', 'clientes', 'funcionários', 'e', 'fornecedores', 'trabalhamos', 'sempre', 'com', 'transparência', 'e', 'comprometimento', 'desenvolvendo', 'produtos', 'com', 'qualidade', 'e', 'respeitando', 'sempre', 'o', 'meio', 'ambiente', 'e', 'a', 'comunidade', 'onde', 'atuamos']\n",
      "Previsto\n",
      "\t ['salario', 'salario', 'salario', 'salario', 'salario', 'salario', 'salario', 'local', 'beneficios', 'beneficios', 'descricao', 'descricao', 'descricao', 'descricao', 'descricao', 'descricao', 'descricao', 'descricao', 'descricao', 'descricao', 'descricao', 'descricao', 'descricao', 'descricao', 'descricao', 'descricao', 'descricao', 'descricao', 'descricao', 'descricao', 'descricao', 'descricao', 'descricao', 'descricao', 'descricao', 'descricao', 'descricao', 'descricao', 'descricao', 'descricao', 'descricao', 'descricao', 'descricao', 'descricao', 'descricao', 'descricao', 'descricao', 'descricao', 'descricao', 'descricao', 'descricao', 'descricao', 'descricao', 'descricao', 'empresa', 'salario', 'local', 'beneficios', 'descricao', 'empresa', 'salario', 'local', 'beneficios', 'descricao', 'empresa', 'salario', 'local', 'beneficios', 'descricao', 'empresa', 'salario', 'local', 'beneficios', 'descricao', 'empresa', 'salario', 'local', 'beneficios', 'descricao', 'empresa', 'salario', 'local', 'beneficios', 'descricao', 'empresa', 'salario', 'local', 'beneficios', 'descricao', 'empresa', 'salario', 'local', 'beneficios', 'descricao', 'empresa', 'salario', 'local', 'beneficios', 'descricao', 'empresa', 'salario', 'local', 'beneficios', 'descricao', 'empresa', 'salario', 'local', 'beneficios', 'descricao', 'empresa', 'salario', 'local', 'beneficios', 'descricao', 'empresa', 'salario', 'local', 'beneficios', 'descricao', 'empresa', 'salario', 'local', 'beneficios', 'descricao', 'empresa', 'salario', 'local', 'beneficios', 'descricao', 'empresa', 'salario', 'local', 'beneficios', 'descricao', 'empresa', 'salario', 'local', 'beneficios', 'descricao', 'empresa', 'salario', 'local', 'beneficios', 'descricao', 'empresa', 'salario', 'local', 'beneficios', 'descricao', 'empresa', 'salario', 'local', 'beneficios', 'descricao', 'empresa', 'salario', 'local', 'beneficios', 'descricao', 'empresa', 'salario', 'local', 'beneficios', 'descricao', 'empresa', 'salario', 'local', 'beneficios', 'descricao', 'empresa', 'salario', 'local', 'beneficios', 'descricao', 'empresa', 'salario', 'local', 'beneficios', 'descricao', 'empresa', 'salario', 'local', 'beneficios', 'descricao', 'empresa', 'salario', 'local', 'beneficios', 'descricao', 'empresa', 'salario', 'local', 'beneficios', 'descricao', 'empresa', 'salario', 'local', 'beneficios', 'descricao', 'empresa', 'salario', 'local', 'beneficios', 'descricao', 'empresa', 'salario', 'local', 'beneficios', 'descricao', 'empresa', 'salario', 'local', 'beneficios', 'descricao', 'empresa', 'salario', 'local', 'beneficios', 'descricao', 'empresa', 'salario', 'local', 'beneficios', 'descricao', 'empresa', 'salario', 'local', 'beneficios', 'descricao', 'empresa', 'salario', 'local', 'beneficios', 'descricao', 'empresa', 'salario', 'local', 'beneficios', 'descricao', 'empresa', 'salario', 'local', 'beneficios', 'descricao', 'empresa', 'salario', 'local', 'beneficios', 'descricao', 'empresa', 'salario', 'local', 'beneficios', 'descricao', 'empresa', 'salario', 'local', 'beneficios', 'descricao', 'empresa', 'salario', 'local', 'beneficios', 'descricao', 'empresa', 'salario', 'local', 'beneficios', 'descricao', 'empresa', 'salario', 'local', 'beneficios', 'descricao', 'empresa', 'salario', 'local', 'beneficios', 'descricao', 'empresa', 'salario', 'local', 'beneficios', 'descricao', 'empresa', 'salario', 'local', 'beneficios', 'descricao', 'empresa', 'salario', 'local', 'beneficios', 'descricao', 'empresa', 'salario', 'local', 'beneficios', 'descricao', 'empresa', 'salario', 'local', 'beneficios', 'descricao', 'empresa', 'salario', 'local', 'beneficios', 'descricao', 'empresa', 'salario', 'local', 'beneficios', 'descricao', 'empresa', 'salario', 'local', 'beneficios', 'descricao', 'empresa', 'salario', 'local', 'beneficios', 'descricao', 'empresa', 'salario', 'local', 'beneficios', 'descricao', 'empresa', 'salario', 'local', 'beneficios', 'descricao', 'empresa', 'salario', 'local', 'beneficios', 'descricao', 'empresa', 'salario', 'local', 'beneficios', 'descricao', 'empresa', 'salario', 'local', 'beneficios', 'descricao', 'empresa', 'salario', 'local', 'beneficios', 'descricao', 'empresa', 'salario', 'local', 'beneficios', 'descricao', 'empresa', 'salario', 'local', 'beneficios', 'descricao', 'empresa', 'salario', 'local', 'beneficios', 'descricao', 'empresa', 'salario', 'local', 'beneficios', 'descricao', 'empresa', 'salario', 'local', 'beneficios', 'descricao', 'empresa', 'salario', 'local', 'beneficios', 'descricao', 'empresa', 'salario', 'local', 'beneficios', 'descricao', 'empresa', 'salario', 'local', 'beneficios', 'descricao', 'empresa', 'salario', 'local', 'beneficios', 'descricao', 'empresa', 'salario', 'local', 'beneficios', 'descricao', 'empresa', 'salario', 'local', 'beneficios', 'descricao', 'empresa', 'salario', 'local', 'beneficios', 'descricao', 'empresa', 'salario', 'local', 'beneficios', 'descricao', 'empresa', 'salario', 'local', 'beneficios', 'descricao', 'empresa', 'salario', 'local', 'beneficios', 'descricao', 'empresa', 'salario', 'local', 'beneficios', 'descricao', 'empresa', 'salario', 'local', 'beneficios', 'descricao', 'empresa', 'salario', 'local', 'beneficios', 'descricao', 'empresa', 'salario', 'local', 'beneficios', 'descricao', 'empresa', 'salario', 'local', 'beneficios', 'descricao', 'empresa', 'salario', 'local', 'beneficios', 'descricao', 'empresa', 'salario', 'local', 'beneficios', 'descricao', 'empresa', 'salario', 'local', 'beneficios', 'descricao', 'empresa', 'salario', 'local', 'beneficios', 'descricao', 'empresa', 'salario', 'local', 'beneficios', 'descricao', 'empresa', 'salario', 'local', 'beneficios', 'descricao', 'empresa', 'salario', 'local', 'beneficios', 'descricao', 'empresa', 'salario', 'local', 'beneficios', 'descricao', 'empresa', 'salario', 'local', 'beneficios', 'descricao', 'empresa', 'salario', 'local', 'beneficios', 'descricao', 'empresa', 'salario', 'local', 'beneficios', 'descricao', 'empresa', 'salario', 'local', 'beneficios', 'descricao', 'empresa', 'salario', 'local', 'beneficios', 'descricao', 'empresa', 'salario', 'local', 'beneficios', 'descricao', 'empresa', 'salario', 'local', 'beneficios', 'descricao', 'empresa', 'salario', 'local', 'beneficios', 'descricao', 'empresa', 'salario', 'local', 'beneficios', 'descricao', 'empresa', 'salario', 'local', 'beneficios', 'descricao', 'empresa', 'salario', 'local', 'beneficios', 'descricao', 'empresa', 'salario', 'local', 'beneficios', 'descricao', 'empresa', 'salario', 'local', 'beneficios', 'descricao', 'empresa', 'salario', 'local', 'beneficios', 'descricao', 'empresa', 'salario', 'local', 'beneficios', 'descricao', 'empresa', 'salario', 'local', 'beneficios', 'descricao', 'empresa', 'salario', 'local', 'beneficios', 'descricao', 'empresa', 'salario', 'local', 'beneficios', 'descricao', 'empresa', 'salario', 'local', 'beneficios', 'descricao', 'empresa', 'salario', 'local', 'beneficios', 'descricao', 'empresa', 'salario', 'local', 'beneficios', 'descricao', 'empresa', 'salario', 'local', 'beneficios', 'descricao', 'empresa', 'salario', 'local', 'beneficios', 'descricao', 'empresa', 'salario', 'local', 'beneficios', 'descricao', 'empresa', 'salario', 'local', 'beneficios', 'descricao', 'empresa', 'salario', 'local', 'beneficios', 'descricao', 'empresa', 'salario', 'local', 'beneficios', 'descricao', 'empresa', 'salario', 'local', 'beneficios', 'descricao', 'empresa', 'salario', 'local', 'beneficios', 'descricao', 'empresa', 'salario', 'local', 'beneficios', 'descricao', 'empresa', 'salario', 'local', 'beneficios', 'descricao', 'empresa', 'salario', 'local', 'beneficios', 'descricao', 'empresa', 'salario', 'local', 'beneficios', 'descricao', 'empresa', 'salario', 'local', 'beneficios', 'descricao', 'empresa', 'salario', 'local', 'beneficios', 'descricao', 'empresa', 'salario', 'local', 'beneficios', 'descricao', 'empresa', 'salario', 'local', 'beneficios', 'descricao', 'empresa', 'salario', 'local', 'beneficios', 'descricao', 'empresa', 'salario', 'local', 'beneficios', 'descricao', 'empresa', 'salario', 'local', 'beneficios', 'descricao', 'empresa', 'salario', 'local', 'beneficios', 'descricao', 'empresa', 'salario', 'local', 'beneficios', 'descricao', 'empresa', 'salario', 'local', 'beneficios', 'descricao', 'empresa', 'salario', 'local', 'beneficios', 'descricao', 'empresa', 'salario', 'local', 'beneficios', 'descricao', 'empresa', 'salario', 'local', 'beneficios', 'descricao', 'empresa', 'salario', 'local', 'beneficios', 'descricao', 'empresa', 'salario', 'local', 'beneficios', 'descricao', 'empresa', 'salario', 'local', 'beneficios', 'descricao', 'empresa', 'salario', 'local', 'beneficios', 'descricao', 'empresa', 'salario', 'local', 'beneficios', 'descricao', 'empresa', 'salario', 'local', 'beneficios', 'descricao', 'empresa', 'salario', 'local', 'beneficios', 'descricao', 'empresa', 'salario', 'local', 'beneficios', 'descricao', 'empresa', 'salario', 'local', 'beneficios', 'descricao', 'empresa', 'salario', 'local', 'beneficios', 'descricao', 'empresa', 'salario', 'local', 'beneficios', 'descricao', 'empresa', 'salario', 'local', 'beneficios', 'descricao', 'empresa', 'salario', 'local', 'beneficios', 'descricao', 'empresa', 'salario', 'local', 'beneficios', 'descricao', 'empresa', 'salario', 'local', 'beneficios', 'descricao', 'empresa', 'salario', 'local', 'beneficios', 'descricao', 'empresa', 'salario', 'local', 'beneficios', 'descricao', 'empresa', 'salario', 'local', 'beneficios', 'descricao', 'empresa', 'salario', 'local', 'beneficios', 'descricao', 'empresa', 'salario', 'local', 'beneficios', 'descricao', 'empresa', 'salario', 'local', 'beneficios', 'descricao', 'empresa', 'salario', 'local', 'beneficios', 'descricao', 'empresa', 'salario', 'local', 'beneficios', 'descricao', 'empresa', 'salario', 'local', 'beneficios', 'descricao', 'empresa', 'salario', 'local', 'beneficios', 'descricao', 'empresa', 'salario', 'local', 'beneficios', 'descricao', 'empresa', 'salario', 'local', 'beneficios', 'descricao', 'empresa', 'salario', 'local', 'beneficios', 'descricao', 'empresa', 'salario', 'local', 'beneficios', 'descricao', 'empresa', 'salario', 'local', 'beneficios', 'descricao', 'empresa', 'salario', 'local', 'beneficios', 'descricao', 'empresa']\n",
      "Real\n",
      "\t ['salario', 'salario', 'salario', 'salario', 'salario', 'salario', 'salario', 'local', 'beneficios', 'beneficios', 'descricao', 'descricao', 'descricao', 'descricao', 'descricao', 'descricao', 'descricao', 'descricao', 'descricao', 'descricao', 'descricao', 'descricao', 'descricao', 'descricao', 'descricao', 'descricao', 'descricao', 'descricao', 'descricao', 'descricao', 'descricao', 'descricao', 'descricao', 'descricao', 'descricao', 'descricao', 'descricao', 'descricao', 'descricao', 'descricao', 'descricao', 'descricao', 'descricao', 'descricao', 'descricao', 'descricao', 'descricao', 'descricao', 'descricao', 'descricao', 'descricao', 'descricao', 'descricao', 'descricao', 'descricao', 'descricao', 'descricao', 'descricao', 'descricao', 'descricao', 'descricao', 'descricao', 'descricao', 'descricao', 'descricao', 'descricao', 'descricao', 'descricao', 'descricao', 'descricao', 'descricao', 'descricao', 'descricao', 'descricao', 'descricao', 'descricao', 'descricao', 'descricao', 'descricao', 'descricao', 'descricao', 'descricao', 'descricao', 'descricao', 'descricao', 'descricao', 'descricao', 'empresa', 'empresa', 'empresa', 'empresa', 'empresa', 'empresa', 'empresa', 'empresa', 'empresa', 'empresa', 'empresa', 'empresa', 'empresa', 'empresa', 'empresa', 'empresa', 'empresa', 'empresa', 'empresa', 'empresa', 'empresa', 'empresa', 'empresa', 'empresa', 'empresa', 'empresa', 'empresa', 'empresa', 'empresa', 'empresa', 'empresa', 'empresa', 'empresa', 'empresa', 'empresa', 'empresa', 'empresa', 'empresa', 'empresa', 'empresa', 'empresa', 'empresa', 'empresa', 'empresa', 'empresa', 'empresa', 'empresa', 'empresa', 'empresa', 'empresa', 'empresa', 'empresa', 'empresa', 'empresa', 'empresa', 'empresa', 'empresa', 'empresa', 'empresa', 'empresa', 'empresa', 'empresa', 'empresa', 'empresa', 'empresa', 'empresa', 'empresa', 'empresa', 'empresa', 'empresa', 'empresa', 'empresa', 'empresa', 'empresa', 'empresa', 'empresa', 'empresa', 'empresa', 'empresa', 'empresa', 'empresa', 'empresa', 'empresa', 'empresa', 'empresa', 'empresa', 'empresa', 'empresa', 'empresa', 'empresa', 'empresa', 'empresa', 'empresa', 'empresa', 'empresa', 'empresa', 'empresa', 'empresa', 'empresa', 'empresa', 'empresa', 'empresa', 'empresa', 'empresa', 'empresa', 'empresa', 'empresa', 'empresa', 'empresa', 'empresa', 'empresa', 'empresa', 'empresa', 'empresa', 'empresa', 'empresa', 'empresa', 'empresa', 'empresa', 'empresa', 'empresa', 'empresa', 'empresa', 'empresa', 'empresa', 'empresa', 'empresa', 'empresa', 'empresa', 'empresa', 'empresa', 'empresa', 'empresa']\n"
     ]
    }
   ],
   "source": [
    "observacoes, previsto, real = model.predictRandomTest()"
   ]
  },
  {
   "cell_type": "code",
   "execution_count": 8,
   "metadata": {
    "colab": {
     "base_uri": "https://localhost:8080/",
     "height": 1000
    },
    "id": "QEaEz4Pu1AmO",
    "outputId": "5a787665-52a5-4d14-9d9e-77ea94633ec3"
   },
   "outputs": [
    {
     "name": "stdout",
     "output_type": "stream",
     "text": [
      "Obs: marítimos / Previsto: empresa / Real: descricao\n",
      "Obs: operadores / Previsto: salario / Real: descricao\n",
      "Obs: portuários / Previsto: local / Real: descricao\n",
      "Obs: e / Previsto: beneficios / Real: descricao\n",
      "Obs: domínio / Previsto: empresa / Real: descricao\n",
      "Obs: nas / Previsto: salario / Real: descricao\n",
      "Obs: operações / Previsto: local / Real: descricao\n",
      "Obs: de / Previsto: beneficios / Real: descricao\n",
      "Obs: granel / Previsto: empresa / Real: descricao\n",
      "Obs: e / Previsto: salario / Real: descricao\n",
      "Obs: transporte / Previsto: local / Real: descricao\n",
      "Obs: marítimo• / Previsto: beneficios / Real: descricao\n",
      "Obs: por / Previsto: empresa / Real: descricao\n",
      "Obs: coordenar / Previsto: salario / Real: descricao\n",
      "Obs: as / Previsto: local / Real: descricao\n",
      "Obs: operações / Previsto: beneficios / Real: descricao\n",
      "Obs: descarga / Previsto: empresa / Real: descricao\n",
      "Obs: a / Previsto: salario / Real: descricao\n",
      "Obs: granel / Previsto: local / Real: descricao\n",
      "Obs: no / Previsto: beneficios / Real: descricao\n",
      "Obs: orientando / Previsto: empresa / Real: descricao\n",
      "Obs: o / Previsto: salario / Real: descricao\n",
      "Obs: agente / Previsto: local / Real: descricao\n",
      "Obs: marítimo / Previsto: beneficios / Real: descricao\n",
      "Obs: portuário / Previsto: empresa / Real: descricao\n",
      "Obs: e / Previsto: salario / Real: descricao\n",
      "Obs: transportadoras / Previsto: local / Real: descricao\n",
      "Obs: empresa / Previsto: beneficios / Real: empresa\n",
      "Obs: a / Previsto: descricao / Real: empresa\n",
      "Obs: atua / Previsto: salario / Real: empresa\n",
      "Obs: no / Previsto: local / Real: empresa\n",
      "Obs: segmento / Previsto: beneficios / Real: empresa\n",
      "Obs: de / Previsto: descricao / Real: empresa\n",
      "Obs: químicos / Previsto: salario / Real: empresa\n",
      "Obs: e / Previsto: local / Real: empresa\n",
      "Obs: está / Previsto: beneficios / Real: empresa\n",
      "Obs: no / Previsto: descricao / Real: empresa\n",
      "Obs: há / Previsto: salario / Real: empresa\n",
      "Obs: 40 / Previsto: local / Real: empresa\n",
      "Obs: anos / Previsto: beneficios / Real: empresa\n",
      "Obs: instalada / Previsto: descricao / Real: empresa\n",
      "Obs: distrito / Previsto: salario / Real: empresa\n",
      "Obs: industrial / Previsto: local / Real: empresa\n",
      "Obs: de / Previsto: beneficios / Real: empresa\n",
      "Obs: jundiaí / Previsto: descricao / Real: empresa\n",
      "Obs: empresa / Previsto: salario / Real: empresa\n",
      "Obs: possui / Previsto: local / Real: empresa\n",
      "Obs: um / Previsto: beneficios / Real: empresa\n",
      "Obs: moderno / Previsto: descricao / Real: empresa\n",
      "Obs: administrativo / Previsto: salario / Real: empresa\n",
      "Obs: e / Previsto: local / Real: empresa\n",
      "Obs: um / Previsto: beneficios / Real: empresa\n",
      "Obs: parque / Previsto: descricao / Real: empresa\n",
      "Obs: totalmente / Previsto: salario / Real: empresa\n",
      "Obs: automatizado / Previsto: local / Real: empresa\n",
      "Obs: missão / Previsto: beneficios / Real: empresa\n",
      "Obs: proporcionar / Previsto: descricao / Real: empresa\n",
      "Obs: transparência / Previsto: salario / Real: empresa\n",
      "Obs: e / Previsto: local / Real: empresa\n",
      "Obs: seriedade / Previsto: beneficios / Real: empresa\n",
      "Obs: a / Previsto: descricao / Real: empresa\n",
      "Obs: no / Previsto: salario / Real: empresa\n",
      "Obs: agronegócio / Previsto: local / Real: empresa\n",
      "Obs: através / Previsto: beneficios / Real: empresa\n",
      "Obs: de / Previsto: descricao / Real: empresa\n",
      "Obs: personalizado / Previsto: salario / Real: empresa\n",
      "Obs: e / Previsto: local / Real: empresa\n",
      "Obs: qualidade / Previsto: beneficios / Real: empresa\n",
      "Obs: nos / Previsto: descricao / Real: empresa\n",
      "Obs: que / Previsto: salario / Real: empresa\n",
      "Obs: produzimos / Previsto: local / Real: empresa\n",
      "Obs: garantindo / Previsto: beneficios / Real: empresa\n",
      "Obs: aos / Previsto: descricao / Real: empresa\n",
      "Obs: clientes / Previsto: salario / Real: empresa\n",
      "Obs: alta / Previsto: local / Real: empresa\n",
      "Obs: performance / Previsto: beneficios / Real: empresa\n",
      "Obs: e / Previsto: descricao / Real: empresa\n",
      "Obs: na / Previsto: salario / Real: empresa\n",
      "Obs: <unk> / Previsto: local / Real: empresa\n",
      "Obs: “a / Previsto: beneficios / Real: empresa\n",
      "Obs: visão / Previsto: descricao / Real: empresa\n",
      "Obs: <unk> / Previsto: salario / Real: empresa\n",
      "Obs: <unk> / Previsto: local / Real: empresa\n",
      "Obs: nosso / Previsto: beneficios / Real: empresa\n",
      "Obs: <unk> / Previsto: descricao / Real: empresa\n",
      "Obs: uma / Previsto: salario / Real: empresa\n",
      "Obs: empresa / Previsto: local / Real: empresa\n",
      "Obs: de / Previsto: beneficios / Real: empresa\n",
      "Obs: atuação / Previsto: descricao / Real: empresa\n",
      "Obs: reconhecimento / Previsto: salario / Real: empresa\n",
      "Obs: nacional / Previsto: local / Real: empresa\n",
      "Obs: que / Previsto: beneficios / Real: empresa\n",
      "Obs: atenda / Previsto: descricao / Real: empresa\n",
      "Obs: necessidades / Previsto: salario / Real: empresa\n",
      "Obs: de / Previsto: local / Real: empresa\n",
      "Obs: todos / Previsto: beneficios / Real: empresa\n",
      "Obs: os / Previsto: descricao / Real: empresa\n",
      "Obs: no / Previsto: salario / Real: empresa\n",
      "Obs: mercado / Previsto: local / Real: empresa\n",
      "Obs: em / Previsto: beneficios / Real: empresa\n",
      "Obs: que / Previsto: descricao / Real: empresa\n",
      "Obs: com / Previsto: salario / Real: empresa\n",
      "Obs: eficiência / Previsto: local / Real: empresa\n",
      "Obs: contribuindo / Previsto: beneficios / Real: empresa\n",
      "Obs: para / Previsto: descricao / Real: empresa\n",
      "Obs: crescimento / Previsto: salario / Real: empresa\n",
      "Obs: do / Previsto: local / Real: empresa\n",
      "Obs: agronegócio / Previsto: beneficios / Real: empresa\n",
      "Obs: do / Previsto: descricao / Real: empresa\n",
      "Obs: a / Previsto: salario / Real: empresa\n",
      "Obs: fim / Previsto: local / Real: empresa\n",
      "Obs: de / Previsto: beneficios / Real: empresa\n",
      "Obs: beneficiar / Previsto: descricao / Real: empresa\n",
      "Obs: clientes / Previsto: salario / Real: empresa\n",
      "Obs: funcionários / Previsto: local / Real: empresa\n",
      "Obs: e / Previsto: beneficios / Real: empresa\n",
      "Obs: fornecedores / Previsto: descricao / Real: empresa\n",
      "Obs: sempre / Previsto: salario / Real: empresa\n",
      "Obs: com / Previsto: local / Real: empresa\n",
      "Obs: transparência / Previsto: beneficios / Real: empresa\n",
      "Obs: e / Previsto: descricao / Real: empresa\n",
      "Obs: desenvolvendo / Previsto: salario / Real: empresa\n",
      "Obs: produtos / Previsto: local / Real: empresa\n",
      "Obs: com / Previsto: beneficios / Real: empresa\n",
      "Obs: qualidade / Previsto: descricao / Real: empresa\n",
      "Obs: respeitando / Previsto: salario / Real: empresa\n",
      "Obs: sempre / Previsto: local / Real: empresa\n",
      "Obs: o / Previsto: beneficios / Real: empresa\n",
      "Obs: meio / Previsto: descricao / Real: empresa\n",
      "Obs: e / Previsto: salario / Real: empresa\n",
      "Obs: a / Previsto: local / Real: empresa\n",
      "Obs: comunidade / Previsto: beneficios / Real: empresa\n",
      "Obs: onde / Previsto: descricao / Real: empresa\n"
     ]
    }
   ],
   "source": [
    "model.ExibeMudancasEstadoIncorretas(observacoes, previsto, real)"
   ]
  }
 ],
 "metadata": {
  "accelerator": "GPU",
  "colab": {
   "collapsed_sections": [],
   "name": "HMMVagas_V1",
   "provenance": []
  },
  "kernelspec": {
   "display_name": "Python 3",
   "language": "python",
   "name": "python3"
  },
  "language_info": {
   "codemirror_mode": {
    "name": "ipython",
    "version": 3
   },
   "file_extension": ".py",
   "mimetype": "text/x-python",
   "name": "python",
   "nbconvert_exporter": "python",
   "pygments_lexer": "ipython3",
   "version": "3.7.6"
  }
 },
 "nbformat": 4,
 "nbformat_minor": 1
}
