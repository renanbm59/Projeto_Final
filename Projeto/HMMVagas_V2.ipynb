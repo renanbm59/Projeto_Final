{
 "cells": [
  {
   "cell_type": "code",
   "execution_count": 4,
   "metadata": {
    "id": "P1H9UTBLvtKR"
   },
   "outputs": [],
   "source": [
    "#Unknow vocabulary fixed size\n",
    "import os\n",
    "\n",
    "import lib.tratamentoTexto as TT\n",
    "from lib.HMM.HMM_Vagas_V2 import HMM_Vagas_V2"
   ]
  },
  {
   "cell_type": "code",
   "execution_count": 5,
   "metadata": {},
   "outputs": [],
   "source": [
    "path = os.path.abspath(os.getcwd()) + \"/Dados/vagas.json\"\n",
    "path = path.replace(\"\\\\\", \"/\")\n",
    "estados = ['salario', 'local', 'beneficios', 'descricao', 'empresa']"
   ]
  },
  {
   "cell_type": "code",
   "execution_count": 6,
   "metadata": {
    "colab": {
     "base_uri": "https://localhost:8080/",
     "height": 1000
    },
    "id": "CC2asZbjsY2l",
    "outputId": "1093731a-c71e-44ed-ed63-78a9c041dfe3"
   },
   "outputs": [
    {
     "name": "stdout",
     "output_type": "stream",
     "text": [
      "Linha 2000\n",
      "Linha 4000\n",
      "Fit duration: 0:02:17.999883\n",
      "Calculating cost <>\n",
      "val_loss: 0.6106322079574176 percent 2.0\n",
      "Linha 2000\n",
      "Linha 4000\n",
      "Fit duration: 0:02:02.583265\n",
      "Calculating cost <>\n",
      "val_loss: 0.6101133187151633 percent 2.1\n",
      "Linha 2000\n",
      "Linha 4000\n",
      "Fit duration: 0:02:27.915051\n",
      "Calculating cost <>\n",
      "val_loss: 0.6096641726506313 percent 2.2\n",
      "Linha 2000\n",
      "Linha 4000\n",
      "Fit duration: 0:01:52.462648\n",
      "Calculating cost <>\n",
      "val_loss: 0.6095023684783154 percent 2.3\n",
      "Linha 2000\n",
      "Linha 4000\n",
      "Fit duration: 0:01:47.137519\n",
      "Calculating cost <>\n",
      "val_loss: 0.6100910008982922 percent 2.4\n",
      "Linha 2000\n",
      "Linha 4000\n",
      "Fit duration: 0:01:54.721492\n",
      "Calculating cost <>\n",
      "val_loss: 0.6100826317169654 percent 2.5\n",
      "Linha 2000\n",
      "Linha 4000\n",
      "Fit duration: 0:03:30.280011\n",
      "Calculating cost <>\n",
      "val_loss: 0.609276400582495 percent 2.6\n",
      "Linha 2000\n",
      "Linha 4000\n",
      "Fit duration: 0:04:15.553367\n",
      "Calculating cost <>\n",
      "val_loss: 0.610939077939396 percent 2.7\n",
      "Linha 2000\n",
      "Linha 4000\n",
      "Fit duration: 0:02:58.486907\n",
      "Calculating cost <>\n",
      "val_loss: 0.6088914182414676 percent 2.8\n",
      "Linha 2000\n",
      "Linha 4000\n",
      "Fit duration: 0:04:02.547636\n",
      "Calculating cost <>\n",
      "val_loss: 0.6104285578784683 percent 2.9\n",
      "Linha 2000\n",
      "Linha 4000\n",
      "Fit duration: 0:04:05.125798\n",
      "Calculating cost <>\n",
      "val_loss: 0.6097952898247494 percent 3.0\n",
      "Linha 2000\n",
      "Linha 4000\n",
      "Fit duration: 0:02:55.307785\n",
      "Calculating cost <>\n",
      "val_loss: 0.610833068309258 percent 3.1\n",
      "Linha 2000\n",
      "Linha 4000\n",
      "Fit duration: 0:03:15.940692\n",
      "Calculating cost <>\n",
      "val_loss: 0.611304532190661 percent 3.2\n",
      "Linha 2000\n",
      "Linha 4000\n",
      "Fit duration: 0:02:05.688117\n",
      "Calculating cost <>\n",
      "val_loss: 0.6104118195158149 percent 3.3\n",
      "Linha 2000\n",
      "Linha 4000\n",
      "Fit duration: 0:02:57.414835\n",
      "Calculating cost <>\n",
      "val_loss: 0.6106768435911599 percent 3.4\n",
      "Linha 2000\n",
      "Linha 4000\n",
      "Fit duration: 0:02:14.563941\n",
      "Calculating cost <>\n",
      "val_loss: 0.6100017296308076 percent 3.5\n",
      "Linha 2000\n",
      "Linha 4000\n",
      "Fit duration: 0:02:44.022737\n",
      "Calculating cost <>\n",
      "val_loss: 0.6088774696059231 percent 3.6\n",
      "Linha 2000\n",
      "Linha 4000\n",
      "Fit duration: 0:03:45.525073\n",
      "Calculating cost <>\n",
      "val_loss: 0.6104731935122106 percent 3.7\n",
      "Linha 2000\n",
      "Linha 4000\n",
      "Fit duration: 0:02:33.142052\n",
      "Calculating cost <>\n",
      "val_loss: 0.610174692711559 percent 3.8\n",
      "Linha 2000\n",
      "Linha 4000\n",
      "Fit duration: 0:04:16.842929\n",
      "Calculating cost <>\n",
      "val_loss: 0.6108637553074558 percent 3.9\n",
      "Melhor valor 0.611304532190661 usando 3.2 %\n"
     ]
    }
   ],
   "source": [
    "def encontraMelhorPercentUnk():\n",
    "  lossList = []\n",
    "  for i in range(20):\n",
    "    perc = 2 + i / 10\n",
    "    data = TT.loadDataset(path, True)\n",
    "    model = HMM_Vagas_V2(data = data, trainPerc=0.7, checkpoint=2000, estados=estados, unkPercent = perc)\n",
    "    model.fit()\n",
    "    val_loss  = model.test()\n",
    "    lossList.append(val_loss)\n",
    "    print(\"val_loss:\", val_loss, \"percent\", perc)\n",
    "  melhor = max(lossList)\n",
    "  percent = 2 + lossList.index(melhor) / 10\n",
    "  print(\"Melhor valor\", melhor, \"usando\", percent, \"%\")\n",
    "  return lossList, percent\n",
    "\n",
    "lista, percent = encontraMelhorPercentUnk()"
   ]
  },
  {
   "cell_type": "code",
   "execution_count": 7,
   "metadata": {
    "colab": {
     "base_uri": "https://localhost:8080/",
     "height": 255
    },
    "id": "7iMwDpXHidAw",
    "outputId": "64ca6833-8257-430b-8fe9-a521983a14fe"
   },
   "outputs": [
    {
     "name": "stdout",
     "output_type": "stream",
     "text": [
      "Linha 2000\n",
      "Linha 4000\n",
      "Fit duration: 0:02:34.071840\n"
     ]
    }
   ],
   "source": [
    "data = TT.loadDataset(path, True)\n",
    "model = HMM_Vagas_V2(data = data, trainPerc=0.7, checkpoint=2000, estados=estados, unkPercent = percent)\n",
    "model.fit()"
   ]
  },
  {
   "cell_type": "code",
   "execution_count": 8,
   "metadata": {
    "colab": {
     "base_uri": "https://localhost:8080/",
     "height": 310
    },
    "id": "Aqs6vX2e5V8z",
    "outputId": "fce0eebe-2480-46d6-f20e-feae51bd6574"
   },
   "outputs": [
    {
     "name": "stdout",
     "output_type": "stream",
     "text": [
      "Calculating cost <>\n",
      "Loss: 0.6113184808262055\n",
      "Percentual acertos totais: 0.0975983648441492\n",
      "Loss em salario 0.7327606222428604\n",
      "\t {'local': 0.6879120879120879, 'beneficios': 0.7274939172749392, 'descricao': 0.8997668997668997, 'empresa': 0.776}\n",
      "Loss em local 0.6060696221362689\n",
      "\t {'salario': 0.7160751565762005, 'beneficios': 0.6763005780346821, 'descricao': 0.9178082191780822, 'empresa': 0.7290076335877863}\n",
      "Loss em beneficios 0.642687981053878\n",
      "\t {'salario': 0.7068493150684931, 'local': 0.7267605633802817, 'descricao': 0.9230769230769231, 'empresa': 0.8136363636363636}\n",
      "Loss em descricao 0.6399960638197945\n",
      "\t {'salario': 0.6072234762979684, 'local': 0.19047619047619047, 'beneficios': 0.12010443864229765, 'empresa': 0.14225941422594143}\n",
      "Loss em empresa 0.5481938797704495\n",
      "\t {'salario': 0.5590551181102362, 'local': 0.2, 'beneficios': 0.16847826086956522, 'descricao': 0.6758893280632411}\n",
      "Loss em estado inicial\n",
      "\t {'salario': 1.0, 'local': 0.9833333333333333, 'beneficios': 1.0, 'descricao': 1.0, 'empresa': 1.0}\n"
     ]
    }
   ],
   "source": [
    "x = model.fullCost(model.tests)"
   ]
  },
  {
   "cell_type": "code",
   "execution_count": 9,
   "metadata": {
    "colab": {
     "base_uri": "https://localhost:8080/",
     "height": 146
    },
    "id": "8rTOs1_5FAjv",
    "outputId": "f5ae9b02-a9f8-4e2f-9c1a-29d428801f37"
   },
   "outputs": [
    {
     "name": "stdout",
     "output_type": "stream",
     "text": [
      "Observacoes\n",
      "\t ['assistência', 'médica', 'descrição', 'principais', 'atividadesserá', 'responsável', 'pela', 'estratégia', 'de', 'crescimento', 'operacionalização', 'e', 'rentabilização', 'de', 'produtos', 'e', 'serviços', 'da', 'total', 'express', 'sendo', 'facilitador', '<unk>', 'e', '<unk>', 'dos', 'mesmos', 'com', 'as', 'demais', 'áreas', 'da', '<unk>', 'processos', 'operacionais', 'e', 'gestão', '<unk>', 'os', 'principais', 'indicadores', 'de', 'sucesso', 'do', 'produto', 'como', 'rentabilidade', 'sla', 'e', '<unk>', 'pelo', 'relacionamento', 'e', 'formação', 'de', 'parcerias', 'com', '<unk>', 'proativo', 'com', 'as', 'áreas', 'necessárias', 'para', 'atingimento', 'dos', 'desafios', 'propostos', 'requisitos-', 'superior', 'completo-', 'excel', 'avançado', 'faixa', 'salarial', 'a', 'combinar', 'barueri', 'empresa', 'a', 'total', 'express', 'foi', 'fundada', 'há', '25', 'anos', 'e', 'é', 'pioneira', 'na', 'entrega', 'de', 'encomendas', 'para', 'e-commerce', 'no', 'brasil', 'atualmente', 'com', 'a', 'capacidade', 'de', 'entregar', 'milhares', 'de', 'encomendas', 'por', 'dia', 'fruto', 'de', 'investimentos', 'e', 'dedicação', 'na', 'aplicação', 'de', 'tecnologia', 'infraestrutura', 'e', 'melhoria', 'contínua', 'dos', 'processos', 'para', 'otimização', 'da', 'operaçãopor', 'trás', 'desta', 'empresa', 'existe', 'toda', 'uma', 'cadeia', 'que', 'precisa', 'fazer', 'a', 'diferença', 'por', 'isso', 'a', 'total', 'tem', 'a', 'preocupação', 'em', 'proporcionar', 'um', 'ecossistema', 'motivador', 'que', 'permita', 'o', 'desenvolvimento', 'e', 'crescimento', 'de', 'cada', 'um', 'de', 'seus', 'funcionários', 'distribuidores', 'fornecedores', 'e', 'parceiros', 'de', 'maneira', 'geral', 'seguindo', 'este', 'propósito', 'e', 'com', 'a', 'constante', 'preocupação', 'de', 'concretizar', 'as', 'entregas', 'com', 'sucesso', 'a', 'total', 'trata', 'como', 'se', 'cada', 'encomenda', 'fosse', 'única', 'nossos', 'colaboradores', 'sabem', 'que', 'não', 'entregam', 'apenas', 'encomendas', 'eles', 'entregam', 'sentimentos', 'e', 'realizaçõesoferecendo', 'a', 'melhor', 'experiência', 'de', 'entrega', 'a', 'total', 'proporciona', 'um', 'ciclo', 'virtuoso', 'e', 'saudável', 'com', 'os', 'seus', 'clientes', 'pois', 'entregamos', 'com', 'agilidade', 'segurança', 'e', 'rastreabilidadea', 'empresa', 'e', 'as', 'decisões', 'tomadas', 'no', 'dia', 'a', 'dia', 'são', 'norteadas', 'pelos', 'seguintes', 'valoresfoco', 'no', 'clientetransparênciaeficiência', 'técnica', 'e', 'processualqualidade', 'da', 'informaçãoser', 'expresssenso', 'de', 'equipe', 'é', 'este', 'espírito', 'de', 'equipe', 'da', 'total', 'express', 'é', 'esta', 'dedicação', 'de', 'toda', 'a', 'cadeia', 'para', 'realizar', 'as', 'entregas', 'com', 'sucesso', 'que', 'nos', 'move', 'há', '25', 'anos', 'para', 'oferecer', 'ao', 'e-commerce', 'brasileiro', 'as', 'melhores', 'soluções', 'logísticas']\n",
      "Previsto\n",
      "\t ['beneficios', 'beneficios', 'descricao', 'descricao', 'descricao', 'descricao', 'descricao', 'descricao', 'descricao', 'descricao', 'descricao', 'descricao', 'descricao', 'descricao', 'descricao', 'descricao', 'descricao', 'descricao', 'descricao', 'descricao', 'descricao', 'descricao', 'descricao', 'descricao', 'descricao', 'descricao', 'descricao', 'descricao', 'descricao', 'descricao', 'descricao', 'descricao', 'descricao', 'descricao', 'descricao', 'descricao', 'descricao', 'descricao', 'descricao', 'descricao', 'descricao', 'descricao', 'descricao', 'descricao', 'descricao', 'descricao', 'descricao', 'descricao', 'descricao', 'descricao', 'descricao', 'descricao', 'descricao', 'descricao', 'descricao', 'descricao', 'descricao', 'descricao', 'descricao', 'descricao', 'descricao', 'descricao', 'descricao', 'descricao', 'descricao', 'descricao', 'descricao', 'descricao', 'descricao', 'descricao', 'descricao', 'descricao', 'descricao', 'salario', 'salario', 'salario', 'salario', 'local', 'empresa', 'empresa', 'empresa', 'empresa', 'empresa', 'empresa', 'empresa', 'empresa', 'empresa', 'empresa', 'empresa', 'empresa', 'empresa', 'empresa', 'empresa', 'empresa', 'empresa', 'empresa', 'empresa', 'empresa', 'empresa', 'empresa', 'empresa', 'empresa', 'empresa', 'empresa', 'empresa', 'empresa', 'empresa', 'empresa', 'empresa', 'empresa', 'empresa', 'empresa', 'empresa', 'empresa', 'empresa', 'empresa', 'empresa', 'empresa', 'empresa', 'empresa', 'salario', 'local', 'beneficios', 'descricao', 'empresa', 'salario', 'local', 'beneficios', 'descricao', 'empresa', 'salario', 'local', 'beneficios', 'descricao', 'empresa', 'salario', 'local', 'beneficios', 'descricao', 'empresa', 'salario', 'local', 'beneficios', 'descricao', 'empresa', 'salario', 'local', 'beneficios', 'descricao', 'empresa', 'salario', 'local', 'beneficios', 'descricao', 'empresa', 'salario', 'local', 'beneficios', 'descricao', 'empresa', 'salario', 'local', 'beneficios', 'descricao', 'empresa', 'salario', 'local', 'beneficios', 'descricao', 'empresa', 'salario', 'local', 'beneficios', 'descricao', 'empresa', 'salario', 'local', 'beneficios', 'descricao', 'empresa', 'salario', 'local', 'beneficios', 'descricao', 'empresa', 'salario', 'local', 'beneficios', 'descricao', 'empresa', 'salario', 'local', 'beneficios', 'descricao', 'empresa', 'salario', 'local', 'beneficios', 'descricao', 'empresa', 'salario', 'local', 'beneficios', 'descricao', 'empresa', 'salario', 'local', 'beneficios', 'descricao', 'empresa', 'salario', 'local', 'beneficios', 'descricao', 'empresa', 'salario', 'local', 'beneficios', 'descricao', 'empresa', 'salario', 'local', 'beneficios', 'descricao', 'empresa', 'salario', 'local', 'beneficios', 'descricao', 'empresa', 'salario', 'local', 'beneficios', 'descricao', 'empresa', 'salario', 'local', 'beneficios', 'descricao', 'empresa', 'salario', 'local', 'beneficios', 'descricao', 'empresa', 'salario', 'local', 'beneficios', 'descricao', 'empresa', 'salario', 'local', 'beneficios', 'descricao', 'empresa', 'salario', 'local', 'beneficios', 'descricao', 'empresa', 'salario', 'local', 'beneficios', 'descricao', 'empresa', 'salario', 'local', 'beneficios', 'descricao', 'empresa', 'salario', 'local', 'beneficios', 'descricao', 'empresa', 'salario', 'local', 'beneficios', 'descricao', 'empresa', 'salario', 'local', 'beneficios', 'descricao', 'empresa', 'salario', 'local', 'beneficios', 'descricao', 'empresa', 'salario', 'local', 'beneficios', 'descricao', 'empresa', 'salario', 'local', 'beneficios', 'descricao', 'empresa', 'salario', 'local', 'beneficios', 'descricao', 'empresa', 'salario', 'local', 'beneficios', 'descricao', 'empresa', 'salario', 'local', 'beneficios', 'descricao', 'empresa', 'salario', 'local', 'beneficios', 'descricao', 'empresa', 'salario', 'local', 'beneficios', 'descricao', 'empresa', 'salario', 'local', 'beneficios', 'descricao', 'empresa', 'salario', 'local', 'beneficios', 'descricao', 'empresa', 'salario', 'local', 'beneficios', 'descricao', 'empresa', 'salario', 'local', 'beneficios', 'descricao', 'empresa', 'salario', 'local', 'beneficios', 'descricao', 'empresa', 'salario', 'local', 'beneficios', 'descricao', 'empresa', 'salario', 'local', 'beneficios', 'descricao', 'empresa', 'salario', 'local', 'beneficios', 'descricao', 'empresa', 'salario', 'local', 'beneficios', 'descricao', 'empresa', 'salario', 'local', 'beneficios', 'descricao', 'empresa', 'salario', 'local', 'beneficios', 'descricao', 'empresa', 'salario', 'local', 'beneficios', 'descricao', 'empresa', 'salario', 'local', 'beneficios', 'descricao', 'empresa', 'salario', 'local', 'beneficios', 'descricao', 'empresa', 'salario', 'local', 'beneficios', 'descricao', 'empresa', 'salario', 'local', 'beneficios', 'descricao', 'empresa', 'salario', 'local', 'beneficios', 'descricao', 'empresa', 'salario', 'local', 'beneficios', 'descricao', 'empresa', 'salario', 'local', 'beneficios', 'descricao', 'empresa', 'salario', 'local', 'beneficios', 'descricao', 'empresa', 'salario', 'local', 'beneficios', 'descricao', 'empresa', 'salario', 'local', 'beneficios', 'descricao', 'empresa', 'salario', 'local', 'beneficios', 'descricao', 'empresa', 'salario', 'local', 'beneficios', 'descricao', 'empresa', 'salario', 'local', 'beneficios', 'descricao', 'empresa', 'salario', 'local', 'beneficios', 'descricao', 'empresa', 'salario', 'local', 'beneficios', 'descricao', 'empresa', 'salario', 'local', 'beneficios', 'descricao', 'empresa', 'salario', 'local', 'beneficios', 'descricao', 'empresa', 'salario', 'local', 'beneficios', 'descricao', 'empresa', 'salario', 'local', 'beneficios', 'descricao', 'empresa', 'salario', 'local', 'beneficios', 'descricao', 'empresa', 'salario', 'local', 'beneficios', 'descricao', 'empresa', 'salario', 'local', 'beneficios', 'descricao', 'empresa', 'salario', 'local', 'beneficios', 'descricao', 'empresa', 'salario', 'local', 'beneficios', 'descricao', 'empresa', 'salario', 'local', 'beneficios', 'descricao', 'empresa', 'salario', 'local', 'beneficios', 'descricao', 'empresa', 'salario', 'local', 'beneficios', 'descricao', 'empresa', 'salario', 'local', 'beneficios', 'descricao', 'empresa', 'salario', 'local', 'beneficios', 'descricao', 'empresa', 'salario', 'local', 'beneficios', 'descricao', 'empresa', 'salario', 'local', 'beneficios', 'descricao', 'empresa', 'salario', 'local', 'beneficios', 'descricao', 'empresa', 'salario', 'local', 'beneficios', 'descricao', 'empresa', 'salario', 'local', 'beneficios', 'descricao', 'empresa', 'salario', 'local', 'beneficios', 'descricao', 'empresa', 'salario', 'local', 'beneficios', 'descricao', 'empresa', 'salario', 'local', 'beneficios', 'descricao', 'empresa', 'salario', 'local', 'beneficios', 'descricao', 'empresa', 'salario', 'local', 'beneficios', 'descricao', 'empresa', 'salario', 'local', 'beneficios', 'descricao', 'empresa', 'salario', 'local', 'beneficios', 'descricao', 'empresa', 'salario', 'local', 'beneficios', 'descricao', 'empresa', 'salario', 'local', 'beneficios', 'descricao', 'empresa', 'salario', 'local', 'beneficios', 'descricao', 'empresa', 'salario', 'local', 'beneficios', 'descricao', 'empresa', 'salario', 'local', 'beneficios', 'descricao', 'empresa', 'salario', 'local', 'beneficios', 'descricao', 'empresa', 'salario', 'local', 'beneficios', 'descricao', 'empresa', 'salario', 'local', 'beneficios', 'descricao', 'empresa', 'salario', 'local', 'beneficios', 'descricao', 'empresa', 'salario', 'local', 'beneficios', 'descricao', 'empresa', 'salario', 'local', 'beneficios', 'descricao', 'empresa', 'salario', 'local', 'beneficios', 'descricao', 'empresa', 'salario', 'local', 'beneficios', 'descricao', 'empresa', 'salario', 'local', 'beneficios', 'descricao', 'empresa', 'salario', 'local', 'beneficios', 'descricao', 'empresa', 'salario', 'local', 'beneficios', 'descricao', 'empresa', 'salario', 'local', 'beneficios', 'descricao', 'empresa', 'salario', 'local', 'beneficios', 'descricao', 'empresa', 'salario', 'local', 'beneficios', 'descricao', 'empresa', 'salario', 'local', 'beneficios', 'descricao', 'empresa', 'salario', 'local', 'beneficios', 'descricao', 'empresa', 'salario', 'local', 'beneficios', 'descricao', 'empresa', 'salario', 'local', 'beneficios', 'descricao', 'empresa', 'salario', 'local', 'beneficios', 'descricao', 'empresa', 'salario', 'local', 'beneficios', 'descricao', 'empresa', 'salario', 'local', 'beneficios', 'descricao', 'empresa', 'salario', 'local', 'beneficios', 'descricao', 'empresa', 'salario', 'local', 'beneficios', 'descricao', 'empresa', 'salario', 'local', 'beneficios', 'descricao', 'empresa', 'salario', 'local', 'beneficios', 'descricao', 'empresa', 'salario', 'local', 'beneficios', 'descricao', 'empresa', 'salario', 'local', 'beneficios', 'descricao', 'empresa', 'salario', 'local', 'beneficios', 'descricao', 'empresa', 'salario', 'local', 'beneficios', 'descricao', 'empresa', 'salario', 'local', 'beneficios', 'descricao', 'empresa', 'salario', 'local', 'beneficios', 'descricao', 'empresa', 'salario', 'local', 'beneficios', 'descricao', 'empresa', 'salario', 'local', 'beneficios', 'descricao', 'empresa', 'salario', 'local', 'beneficios', 'descricao', 'empresa', 'salario', 'local', 'beneficios', 'descricao', 'empresa', 'salario', 'local', 'beneficios', 'descricao', 'empresa', 'salario', 'local', 'beneficios', 'descricao', 'empresa', 'salario', 'local', 'beneficios', 'descricao', 'empresa', 'salario', 'local', 'beneficios', 'descricao', 'empresa', 'salario', 'local', 'beneficios', 'descricao', 'empresa', 'salario', 'local', 'beneficios', 'descricao', 'empresa', 'salario', 'local', 'beneficios', 'descricao', 'empresa', 'salario', 'local', 'beneficios', 'descricao', 'empresa', 'salario', 'local', 'beneficios', 'descricao', 'empresa', 'salario', 'local', 'beneficios', 'descricao', 'empresa', 'salario', 'local', 'beneficios', 'descricao', 'empresa', 'salario', 'local', 'beneficios', 'descricao', 'empresa', 'salario', 'local', 'beneficios', 'descricao', 'empresa', 'salario', 'local', 'beneficios', 'descricao', 'empresa', 'salario', 'local', 'beneficios', 'descricao', 'empresa', 'salario', 'local', 'beneficios', 'descricao', 'empresa', 'salario', 'local', 'beneficios', 'descricao', 'empresa', 'salario', 'local', 'beneficios', 'descricao', 'empresa', 'salario', 'local', 'beneficios', 'descricao', 'empresa', 'salario', 'local', 'beneficios', 'descricao', 'empresa', 'salario', 'local', 'beneficios', 'descricao', 'empresa', 'salario', 'local', 'beneficios', 'descricao', 'empresa', 'salario', 'local', 'beneficios', 'descricao', 'empresa', 'salario', 'local', 'beneficios', 'descricao', 'empresa', 'salario', 'local', 'beneficios', 'descricao', 'empresa', 'salario', 'local', 'beneficios', 'descricao', 'empresa', 'salario', 'local', 'beneficios', 'descricao', 'empresa', 'salario', 'local', 'beneficios', 'descricao', 'empresa', 'salario', 'local', 'beneficios', 'descricao', 'empresa', 'salario', 'local', 'beneficios', 'descricao', 'empresa', 'salario', 'local', 'beneficios', 'descricao', 'empresa', 'salario', 'local', 'beneficios', 'descricao', 'empresa', 'salario', 'local', 'beneficios', 'descricao', 'empresa', 'salario', 'local', 'beneficios', 'descricao', 'empresa', 'salario', 'local', 'beneficios', 'descricao', 'empresa', 'salario', 'local', 'beneficios', 'descricao', 'empresa', 'salario', 'local', 'beneficios', 'descricao', 'empresa']\n",
      "Real\n",
      "\t ['beneficios', 'beneficios', 'descricao', 'descricao', 'descricao', 'descricao', 'descricao', 'descricao', 'descricao', 'descricao', 'descricao', 'descricao', 'descricao', 'descricao', 'descricao', 'descricao', 'descricao', 'descricao', 'descricao', 'descricao', 'descricao', 'descricao', 'descricao', 'descricao', 'descricao', 'descricao', 'descricao', 'descricao', 'descricao', 'descricao', 'descricao', 'descricao', 'descricao', 'descricao', 'descricao', 'descricao', 'descricao', 'descricao', 'descricao', 'descricao', 'descricao', 'descricao', 'descricao', 'descricao', 'descricao', 'descricao', 'descricao', 'descricao', 'descricao', 'descricao', 'descricao', 'descricao', 'descricao', 'descricao', 'descricao', 'descricao', 'descricao', 'descricao', 'descricao', 'descricao', 'descricao', 'descricao', 'descricao', 'descricao', 'descricao', 'descricao', 'descricao', 'descricao', 'descricao', 'descricao', 'descricao', 'descricao', 'descricao', 'salario', 'salario', 'salario', 'salario', 'local', 'empresa', 'empresa', 'empresa', 'empresa', 'empresa', 'empresa', 'empresa', 'empresa', 'empresa', 'empresa', 'empresa', 'empresa', 'empresa', 'empresa', 'empresa', 'empresa', 'empresa', 'empresa', 'empresa', 'empresa', 'empresa', 'empresa', 'empresa', 'empresa', 'empresa', 'empresa', 'empresa', 'empresa', 'empresa', 'empresa', 'empresa', 'empresa', 'empresa', 'empresa', 'empresa', 'empresa', 'empresa', 'empresa', 'empresa', 'empresa', 'empresa', 'empresa', 'empresa', 'empresa', 'empresa', 'empresa', 'empresa', 'empresa', 'empresa', 'empresa', 'empresa', 'empresa', 'empresa', 'empresa', 'empresa', 'empresa', 'empresa', 'empresa', 'empresa', 'empresa', 'empresa', 'empresa', 'empresa', 'empresa', 'empresa', 'empresa', 'empresa', 'empresa', 'empresa', 'empresa', 'empresa', 'empresa', 'empresa', 'empresa', 'empresa', 'empresa', 'empresa', 'empresa', 'empresa', 'empresa', 'empresa', 'empresa', 'empresa', 'empresa', 'empresa', 'empresa', 'empresa', 'empresa', 'empresa', 'empresa', 'empresa', 'empresa', 'empresa', 'empresa', 'empresa', 'empresa', 'empresa', 'empresa', 'empresa', 'empresa', 'empresa', 'empresa', 'empresa', 'empresa', 'empresa', 'empresa', 'empresa', 'empresa', 'empresa', 'empresa', 'empresa', 'empresa', 'empresa', 'empresa', 'empresa', 'empresa', 'empresa', 'empresa', 'empresa', 'empresa', 'empresa', 'empresa', 'empresa', 'empresa', 'empresa', 'empresa', 'empresa', 'empresa', 'empresa', 'empresa', 'empresa', 'empresa', 'empresa', 'empresa', 'empresa', 'empresa', 'empresa', 'empresa', 'empresa', 'empresa', 'empresa', 'empresa', 'empresa', 'empresa', 'empresa', 'empresa', 'empresa', 'empresa', 'empresa', 'empresa', 'empresa', 'empresa', 'empresa', 'empresa', 'empresa', 'empresa', 'empresa', 'empresa', 'empresa', 'empresa', 'empresa', 'empresa', 'empresa', 'empresa', 'empresa', 'empresa', 'empresa', 'empresa', 'empresa', 'empresa', 'empresa', 'empresa', 'empresa', 'empresa', 'empresa', 'empresa', 'empresa', 'empresa', 'empresa', 'empresa', 'empresa', 'empresa', 'empresa', 'empresa', 'empresa', 'empresa', 'empresa', 'empresa', 'empresa', 'empresa', 'empresa', 'empresa', 'empresa', 'empresa', 'empresa', 'empresa', 'empresa', 'empresa', 'empresa', 'empresa', 'empresa', 'empresa', 'empresa', 'empresa', 'empresa', 'empresa', 'empresa', 'empresa', 'empresa', 'empresa', 'empresa', 'empresa', 'empresa']\n"
     ]
    }
   ],
   "source": [
    "#Testes para verificar previsoes individualmente\n",
    "observacoes, previsto, real = model.predictRandomTest()"
   ]
  },
  {
   "cell_type": "code",
   "execution_count": 10,
   "metadata": {
    "id": "QEaEz4Pu1AmO"
   },
   "outputs": [
    {
     "name": "stdout",
     "output_type": "stream",
     "text": [
      "Obs: melhoria / Previsto: salario / Real: empresa\n",
      "Obs: contínua / Previsto: local / Real: empresa\n",
      "Obs: dos / Previsto: beneficios / Real: empresa\n",
      "Obs: processos / Previsto: descricao / Real: empresa\n",
      "Obs: otimização / Previsto: salario / Real: empresa\n",
      "Obs: da / Previsto: local / Real: empresa\n",
      "Obs: operaçãopor / Previsto: beneficios / Real: empresa\n",
      "Obs: trás / Previsto: descricao / Real: empresa\n",
      "Obs: empresa / Previsto: salario / Real: empresa\n",
      "Obs: existe / Previsto: local / Real: empresa\n",
      "Obs: toda / Previsto: beneficios / Real: empresa\n",
      "Obs: uma / Previsto: descricao / Real: empresa\n",
      "Obs: que / Previsto: salario / Real: empresa\n",
      "Obs: precisa / Previsto: local / Real: empresa\n",
      "Obs: fazer / Previsto: beneficios / Real: empresa\n",
      "Obs: a / Previsto: descricao / Real: empresa\n",
      "Obs: por / Previsto: salario / Real: empresa\n",
      "Obs: isso / Previsto: local / Real: empresa\n",
      "Obs: a / Previsto: beneficios / Real: empresa\n",
      "Obs: total / Previsto: descricao / Real: empresa\n",
      "Obs: a / Previsto: salario / Real: empresa\n",
      "Obs: preocupação / Previsto: local / Real: empresa\n",
      "Obs: em / Previsto: beneficios / Real: empresa\n",
      "Obs: proporcionar / Previsto: descricao / Real: empresa\n",
      "Obs: ecossistema / Previsto: salario / Real: empresa\n",
      "Obs: motivador / Previsto: local / Real: empresa\n",
      "Obs: que / Previsto: beneficios / Real: empresa\n",
      "Obs: permita / Previsto: descricao / Real: empresa\n",
      "Obs: desenvolvimento / Previsto: salario / Real: empresa\n",
      "Obs: e / Previsto: local / Real: empresa\n",
      "Obs: crescimento / Previsto: beneficios / Real: empresa\n",
      "Obs: de / Previsto: descricao / Real: empresa\n",
      "Obs: um / Previsto: salario / Real: empresa\n",
      "Obs: de / Previsto: local / Real: empresa\n",
      "Obs: seus / Previsto: beneficios / Real: empresa\n",
      "Obs: funcionários / Previsto: descricao / Real: empresa\n",
      "Obs: fornecedores / Previsto: salario / Real: empresa\n",
      "Obs: e / Previsto: local / Real: empresa\n",
      "Obs: parceiros / Previsto: beneficios / Real: empresa\n",
      "Obs: de / Previsto: descricao / Real: empresa\n",
      "Obs: geral / Previsto: salario / Real: empresa\n",
      "Obs: seguindo / Previsto: local / Real: empresa\n",
      "Obs: este / Previsto: beneficios / Real: empresa\n",
      "Obs: propósito / Previsto: descricao / Real: empresa\n",
      "Obs: com / Previsto: salario / Real: empresa\n",
      "Obs: a / Previsto: local / Real: empresa\n",
      "Obs: constante / Previsto: beneficios / Real: empresa\n",
      "Obs: preocupação / Previsto: descricao / Real: empresa\n",
      "Obs: concretizar / Previsto: salario / Real: empresa\n",
      "Obs: as / Previsto: local / Real: empresa\n",
      "Obs: entregas / Previsto: beneficios / Real: empresa\n",
      "Obs: com / Previsto: descricao / Real: empresa\n",
      "Obs: a / Previsto: salario / Real: empresa\n",
      "Obs: total / Previsto: local / Real: empresa\n",
      "Obs: trata / Previsto: beneficios / Real: empresa\n",
      "Obs: como / Previsto: descricao / Real: empresa\n",
      "Obs: cada / Previsto: salario / Real: empresa\n",
      "Obs: encomenda / Previsto: local / Real: empresa\n",
      "Obs: fosse / Previsto: beneficios / Real: empresa\n",
      "Obs: única / Previsto: descricao / Real: empresa\n",
      "Obs: colaboradores / Previsto: salario / Real: empresa\n",
      "Obs: sabem / Previsto: local / Real: empresa\n",
      "Obs: que / Previsto: beneficios / Real: empresa\n",
      "Obs: não / Previsto: descricao / Real: empresa\n",
      "Obs: apenas / Previsto: salario / Real: empresa\n",
      "Obs: encomendas / Previsto: local / Real: empresa\n",
      "Obs: eles / Previsto: beneficios / Real: empresa\n",
      "Obs: entregam / Previsto: descricao / Real: empresa\n",
      "Obs: e / Previsto: salario / Real: empresa\n",
      "Obs: realizaçõesoferecendo / Previsto: local / Real: empresa\n",
      "Obs: a / Previsto: beneficios / Real: empresa\n",
      "Obs: melhor / Previsto: descricao / Real: empresa\n",
      "Obs: de / Previsto: salario / Real: empresa\n",
      "Obs: entrega / Previsto: local / Real: empresa\n",
      "Obs: a / Previsto: beneficios / Real: empresa\n",
      "Obs: total / Previsto: descricao / Real: empresa\n",
      "Obs: um / Previsto: salario / Real: empresa\n",
      "Obs: ciclo / Previsto: local / Real: empresa\n",
      "Obs: virtuoso / Previsto: beneficios / Real: empresa\n",
      "Obs: e / Previsto: descricao / Real: empresa\n",
      "Obs: com / Previsto: salario / Real: empresa\n",
      "Obs: os / Previsto: local / Real: empresa\n",
      "Obs: seus / Previsto: beneficios / Real: empresa\n",
      "Obs: clientes / Previsto: descricao / Real: empresa\n",
      "Obs: entregamos / Previsto: salario / Real: empresa\n",
      "Obs: com / Previsto: local / Real: empresa\n",
      "Obs: agilidade / Previsto: beneficios / Real: empresa\n",
      "Obs: segurança / Previsto: descricao / Real: empresa\n",
      "Obs: rastreabilidadea / Previsto: salario / Real: empresa\n",
      "Obs: empresa / Previsto: local / Real: empresa\n",
      "Obs: e / Previsto: beneficios / Real: empresa\n",
      "Obs: as / Previsto: descricao / Real: empresa\n",
      "Obs: tomadas / Previsto: salario / Real: empresa\n",
      "Obs: no / Previsto: local / Real: empresa\n",
      "Obs: dia / Previsto: beneficios / Real: empresa\n",
      "Obs: a / Previsto: descricao / Real: empresa\n",
      "Obs: são / Previsto: salario / Real: empresa\n",
      "Obs: norteadas / Previsto: local / Real: empresa\n",
      "Obs: pelos / Previsto: beneficios / Real: empresa\n",
      "Obs: seguintes / Previsto: descricao / Real: empresa\n",
      "Obs: no / Previsto: salario / Real: empresa\n",
      "Obs: clientetransparênciaeficiência / Previsto: local / Real: empresa\n",
      "Obs: técnica / Previsto: beneficios / Real: empresa\n",
      "Obs: e / Previsto: descricao / Real: empresa\n",
      "Obs: da / Previsto: salario / Real: empresa\n",
      "Obs: informaçãoser / Previsto: local / Real: empresa\n",
      "Obs: expresssenso / Previsto: beneficios / Real: empresa\n",
      "Obs: de / Previsto: descricao / Real: empresa\n",
      "Obs: é / Previsto: salario / Real: empresa\n",
      "Obs: este / Previsto: local / Real: empresa\n",
      "Obs: espírito / Previsto: beneficios / Real: empresa\n",
      "Obs: de / Previsto: descricao / Real: empresa\n",
      "Obs: da / Previsto: salario / Real: empresa\n",
      "Obs: total / Previsto: local / Real: empresa\n",
      "Obs: express / Previsto: beneficios / Real: empresa\n",
      "Obs: é / Previsto: descricao / Real: empresa\n",
      "Obs: dedicação / Previsto: salario / Real: empresa\n",
      "Obs: de / Previsto: local / Real: empresa\n",
      "Obs: toda / Previsto: beneficios / Real: empresa\n",
      "Obs: a / Previsto: descricao / Real: empresa\n",
      "Obs: para / Previsto: salario / Real: empresa\n",
      "Obs: realizar / Previsto: local / Real: empresa\n",
      "Obs: as / Previsto: beneficios / Real: empresa\n",
      "Obs: entregas / Previsto: descricao / Real: empresa\n",
      "Obs: sucesso / Previsto: salario / Real: empresa\n",
      "Obs: que / Previsto: local / Real: empresa\n",
      "Obs: nos / Previsto: beneficios / Real: empresa\n",
      "Obs: move / Previsto: descricao / Real: empresa\n",
      "Obs: 25 / Previsto: salario / Real: empresa\n",
      "Obs: anos / Previsto: local / Real: empresa\n",
      "Obs: para / Previsto: beneficios / Real: empresa\n",
      "Obs: oferecer / Previsto: descricao / Real: empresa\n",
      "Obs: e-commerce / Previsto: salario / Real: empresa\n",
      "Obs: brasileiro / Previsto: local / Real: empresa\n",
      "Obs: as / Previsto: beneficios / Real: empresa\n",
      "Obs: melhores / Previsto: descricao / Real: empresa\n",
      "Obs: logísticas / Previsto: salario / Real: empresa\n"
     ]
    }
   ],
   "source": [
    "#Exibe as mudanças de estado incorretas\n",
    "model.ExibeMudancasEstadoIncorretas(observacoes, previsto, real)"
   ]
  }
 ],
 "metadata": {
  "accelerator": "GPU",
  "colab": {
   "collapsed_sections": [],
   "name": "HMMVagas_V2",
   "provenance": []
  },
  "kernelspec": {
   "display_name": "Python 3",
   "language": "python",
   "name": "python3"
  },
  "language_info": {
   "codemirror_mode": {
    "name": "ipython",
    "version": 3
   },
   "file_extension": ".py",
   "mimetype": "text/x-python",
   "name": "python",
   "nbconvert_exporter": "python",
   "pygments_lexer": "ipython3",
   "version": "3.7.6"
  }
 },
 "nbformat": 4,
 "nbformat_minor": 1
}
