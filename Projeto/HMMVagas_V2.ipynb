{
 "cells": [
  {
   "cell_type": "code",
   "execution_count": 4,
   "metadata": {
    "id": "P1H9UTBLvtKR"
   },
   "outputs": [],
   "source": [
    "#Unknow vocabulary fixed size\n",
    "import os\n",
    "\n",
    "import lib.tratamentoTexto as TT\n",
    "from lib.HMM.HMM_Vagas_V2 import HMM_Vagas_V2"
   ]
  },
  {
   "cell_type": "code",
   "execution_count": 5,
   "metadata": {},
   "outputs": [],
   "source": [
    "path = os.path.abspath(os.getcwd()) + \"/Dados/vagas.json\"\n",
    "path = path.replace(\"\\\\\", \"/\")\n",
    "estados = ['salario', 'local', 'beneficios', 'descricao', 'empresa']"
   ]
  },
  {
   "cell_type": "code",
   "execution_count": null,
   "metadata": {
    "colab": {
     "base_uri": "https://localhost:8080/",
     "height": 1000
    },
    "id": "CC2asZbjsY2l",
    "outputId": "1093731a-c71e-44ed-ed63-78a9c041dfe3"
   },
   "outputs": [
    {
     "name": "stdout",
     "output_type": "stream",
     "text": [
      "Linha 2000\n",
      "Linha 4000\n",
      "Fit duration: 0:02:17.999883\n",
      "Calculating cost <>\n",
      "val_loss: 0.6106322079574176 percent 2.0\n",
      "Linha 2000\n",
      "Linha 4000\n",
      "Fit duration: 0:02:02.583265\n",
      "Calculating cost <"
     ]
    }
   ],
   "source": [
    "def encontraMelhorPercentUnk():\n",
    "  lossList = []\n",
    "  for i in range(20):\n",
    "    perc = 2 + i / 10\n",
    "    data = TT.loadDataset(path, True)\n",
    "    model = HMM_Vagas_V2(data = data, trainPerc=0.7, checkpoint=2000, estados=estados, unkPercent = perc)\n",
    "    model.fit()\n",
    "    val_loss  = model.test()\n",
    "    lossList.append(val_loss)\n",
    "    print(\"val_loss:\", val_loss, \"percent\", perc)\n",
    "  melhor = max(lossList)\n",
    "  percent = 2 + lossList.index(melhor) / 10\n",
    "  print(\"Melhor valor\", melhor, \"usando\", percent, \"%\")\n",
    "  return lossList, percent\n",
    "\n",
    "lista, percent = encontraMelhorPercentUnk()"
   ]
  },
  {
   "cell_type": "code",
   "execution_count": null,
   "metadata": {
    "colab": {
     "base_uri": "https://localhost:8080/",
     "height": 255
    },
    "id": "7iMwDpXHidAw",
    "outputId": "64ca6833-8257-430b-8fe9-a521983a14fe"
   },
   "outputs": [],
   "source": [
    "data = TT.loadDataset(path, True)\n",
    "model = HMM_Vagas_V2(data = data, trainPerc=0.7, checkpoint=2000, estados=estados, unkPercent = percent)\n",
    "model.fit()"
   ]
  },
  {
   "cell_type": "code",
   "execution_count": null,
   "metadata": {
    "colab": {
     "base_uri": "https://localhost:8080/",
     "height": 310
    },
    "id": "Aqs6vX2e5V8z",
    "outputId": "fce0eebe-2480-46d6-f20e-feae51bd6574"
   },
   "outputs": [],
   "source": [
    "x = model.fullCost(model.tests)"
   ]
  },
  {
   "cell_type": "code",
   "execution_count": null,
   "metadata": {
    "colab": {
     "base_uri": "https://localhost:8080/",
     "height": 146
    },
    "id": "8rTOs1_5FAjv",
    "outputId": "f5ae9b02-a9f8-4e2f-9c1a-29d428801f37"
   },
   "outputs": [],
   "source": [
    "observacoes, predicted, actual = model.predictRandomTest()\n",
    "prevPredict = predicted[0]\n",
    "prevActual = actual[0]"
   ]
  },
  {
   "cell_type": "code",
   "execution_count": null,
   "metadata": {
    "id": "QEaEz4Pu1AmO"
   },
   "outputs": [],
   "source": [
    "#Exibe as mudanças de estado incorretas\n",
    "i = 0\n",
    "for obs in observacoes:\n",
    "  if (prevPredict != predicted[i] and actual[i] != predicted[i]) or (prevActual != actual[i] and actual[i] != predicted[i]):\n",
    "    print(\"Obs:\", obs, \"/ Previsto:\", predicted[i], \"/ Real:\", actual[i])\n",
    "  prevPredict = predicted[i]\n",
    "  prevActual = actual[i]\n",
    "  i+=1"
   ]
  }
 ],
 "metadata": {
  "accelerator": "GPU",
  "colab": {
   "collapsed_sections": [],
   "name": "HMMVagas_V2",
   "provenance": []
  },
  "kernelspec": {
   "display_name": "Python 3",
   "language": "python",
   "name": "python3"
  },
  "language_info": {
   "codemirror_mode": {
    "name": "ipython",
    "version": 3
   },
   "file_extension": ".py",
   "mimetype": "text/x-python",
   "name": "python",
   "nbconvert_exporter": "python",
   "pygments_lexer": "ipython3",
   "version": "3.7.6"
  }
 },
 "nbformat": 4,
 "nbformat_minor": 1
}
