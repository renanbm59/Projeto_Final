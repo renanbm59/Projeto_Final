{
 "cells": [
  {
   "cell_type": "markdown",
   "metadata": {
    "id": "Z-35jLtIe_-5"
   },
   "source": [
    "### Import packages"
   ]
  },
  {
   "cell_type": "code",
   "execution_count": 1,
   "metadata": {
    "colab": {
     "base_uri": "https://localhost:8080/"
    },
    "id": "PBts6bMte_-6",
    "outputId": "259865f3-08ff-4b7c-ad63-95ffdf958b55"
   },
   "outputs": [],
   "source": [
    "#!pip install sklearn-crfsuite"
   ]
  },
  {
   "cell_type": "code",
   "execution_count": 2,
   "metadata": {
    "colab": {
     "base_uri": "https://localhost:8080/"
    },
    "id": "46bFC5VFfTza",
    "outputId": "3f3a4e76-d8b1-4e5a-c909-29dd27e83b19"
   },
   "outputs": [],
   "source": [
    "import sklearn\n",
    "import sklearn_crfsuite\n",
    "import nltk\n",
    "import json\n",
    "import random\n",
    "import re\n",
    "from sklearn_crfsuite import metrics"
   ]
  },
  {
   "cell_type": "markdown",
   "metadata": {
    "id": "xBbcObR9e_-6"
   },
   "source": [
    "### Load dataset"
   ]
  },
  {
   "cell_type": "code",
   "execution_count": 3,
   "metadata": {
    "id": "dSQZN1g5e_-6"
   },
   "outputs": [],
   "source": [
    "def tratamentoStringEntrada(string):\n",
    "\n",
    "  if isinstance(string, list):\n",
    "    if len(string) == 0:\n",
    "      string = \"\"\n",
    "    else:\n",
    "      string = string[0]\n",
    "\n",
    "  d = '(\\.|\\!|\\?)'\n",
    "  string = re.split('\\s\\W+', string)\n",
    "  text = []\n",
    "  for frase in string:\n",
    "    subFrases = re.split(d, frase)\n",
    "    sub = \"\"\n",
    "    for i in range(len(subFrases)):\n",
    "      sub += subFrases[i]\n",
    "      if i + 1 < len(subFrases) and len(subFrases[i + 1]) > 0 and subFrases[i + 1][0].isdigit():\n",
    "        continue\n",
    "      if subFrases[i] in d:\n",
    "        text.append(sub)\n",
    "        sub = \"\"\n",
    "    if sub != \"\":\n",
    "      text.append(sub)\n",
    "  text = [re.split('(\\W+)', frase) for frase in text]\n",
    "  retorno = []\n",
    "  for frase in text:\n",
    "    while \"\" in frase:\n",
    "      frase.remove(\"\")\n",
    "    while \" \" in frase:\n",
    "      frase.remove(\" \")\n",
    "    if len(frase) > 0:\n",
    "      retorno.append(frase)\n",
    "  \n",
    "  return retorno\n",
    "\n",
    "def loadDataset(path, shuffleStateOrder = False):\n",
    "  with open(path) as json_file:\n",
    "    temp = json.load(json_file)\n",
    "  data = []\n",
    "  for vagaDic in temp:\n",
    "    vaga = []\n",
    "    keys = list(vagaDic.keys())\n",
    "    if shuffleStateOrder:\n",
    "      random.shuffle(keys)\n",
    "    for key in keys:\n",
    "      if key == 'vagaID':\n",
    "        continue\n",
    "      text = tratamentoStringEntrada(vagaDic[key])\n",
    "      for sentence in text:\n",
    "        frase = []\n",
    "        for word in sentence:\n",
    "          frase.append((key, word))\n",
    "        vaga.append(frase)\n",
    "      #vaga.append(frases)\n",
    "    data.append(vaga)  \n",
    "\n",
    "  return data"
   ]
  },
  {
   "cell_type": "markdown",
   "metadata": {
    "id": "3EKPzfvfe_-6"
   },
   "source": [
    "### Define methods"
   ]
  },
  {
   "cell_type": "code",
   "execution_count": 4,
   "metadata": {
    "id": "ThQph9yze_-6"
   },
   "outputs": [],
   "source": [
    "def word2features(sent, i):\n",
    "    word = sent[i][1]\n",
    "    sentence = \"\"\n",
    "    for j in range(len(sent)):\n",
    "        sentence += sent[j][1] + \" \"\n",
    "\n",
    "    features = {\n",
    "        'bias': 1.0,\n",
    "        'word.lower()': word.lower(),\n",
    "        'word[-3:]': word[-3:],\n",
    "        'word[-2:]': word[-2:],\n",
    "        'word[0].isupper()': word[0].isupper(),\n",
    "        'word.isupper()': word.isupper(),\n",
    "        'sentence.istitle()': sentence.istitle(),\n",
    "        'word.istitle()': word.istitle(),\n",
    "        'word.isdigit()': word.isdigit(),\n",
    "        'word.isalpha()': word.isalpha()\n",
    "    }\n",
    "    if i > 0:\n",
    "        word1 = sent[i - 1][1]\n",
    "        features.update({\n",
    "            '-1:word.lower()': word1.lower(),\n",
    "            '-1:word.istitle()': word1.istitle(),\n",
    "            '-1:word.isupper()': word1.isupper()\n",
    "        })\n",
    "    else:\n",
    "        features['BOS'] = True\n",
    "\n",
    "    if i < len(sent) - 1:\n",
    "        word1 = sent[i + 1][1]\n",
    "        features.update({\n",
    "            '+1:word.lower()': word1.lower(),\n",
    "            '+1:word.istitle()': word1.istitle(),\n",
    "            '+1:word.isupper()': word1.isupper()\n",
    "        })\n",
    "    else:\n",
    "        features['EOS'] = True\n",
    "\n",
    "    return features\n",
    "\n",
    "\n",
    "def frase2features(sent):\n",
    "  features = []\n",
    "  for i in range(len(sent)):\n",
    "    features.append(word2features(sent, i))\n",
    "\n",
    "  return features\n",
    "\n",
    "\n",
    "def frase2estados(sent):\n",
    "  estados = []\n",
    "  for estado, observacao in sent:\n",
    "    estados.append(estado)\n",
    "    \n",
    "  return estados\n",
    "\n",
    "\n",
    "def frase2observacao(sent):\n",
    "  observacoes = []\n",
    "  for estado, observacao in sent:\n",
    "    observacoes.append(observacao)\n",
    "    \n",
    "  return observacoes"
   ]
  },
  {
   "cell_type": "markdown",
   "metadata": {
    "id": "S21Kmgzne_-7"
   },
   "source": [
    "### Extract features"
   ]
  },
  {
   "cell_type": "code",
   "execution_count": 5,
   "metadata": {
    "colab": {
     "base_uri": "https://localhost:8080/"
    },
    "id": "wwHeR2AKKCRf",
    "outputId": "f2e0a772-5efa-4555-81b7-1560777baa01"
   },
   "outputs": [
    {
     "name": "stdout",
     "output_type": "stream",
     "text": [
      "Wall time: 19.4 s\n"
     ]
    }
   ],
   "source": [
    "%%time\n",
    "\n",
    "data = loadDataset('../Dados/vagas.json', False)"
   ]
  },
  {
   "cell_type": "code",
   "execution_count": 6,
   "metadata": {
    "colab": {
     "base_uri": "https://localhost:8080/"
    },
    "id": "nrz-Qxone_-7",
    "outputId": "bdeafef1-1399-491e-ac4d-65d6b10c74f7"
   },
   "outputs": [
    {
     "name": "stdout",
     "output_type": "stream",
     "text": [
      "Wall time: 1min 10s\n"
     ]
    }
   ],
   "source": [
    "%%time\n",
    "\n",
    "X = []\n",
    "y = []\n",
    "for vaga in data:\n",
    "  for frase in vaga:\n",
    "    X.append(frase2features(frase))\n",
    "    y.append(frase2estados(frase))\n",
    "\n",
    "trainPerc = 0.7\n",
    "trainSize = int(len(data) * trainPerc)\n",
    "\n",
    "X_train = X[:trainSize]\n",
    "y_train = y[:trainSize]\n",
    "\n",
    "X_test = X[trainSize:]\n",
    "y_test = y[trainSize:]"
   ]
  },
  {
   "cell_type": "markdown",
   "metadata": {
    "id": "OLoS4MZVe_-8"
   },
   "source": [
    "### Train CRF"
   ]
  },
  {
   "cell_type": "code",
   "execution_count": 7,
   "metadata": {
    "colab": {
     "base_uri": "https://localhost:8080/"
    },
    "id": "tCSyq1zQe_-8",
    "outputId": "a5db4225-6150-4728-e3de-1f700af03ec2"
   },
   "outputs": [
    {
     "name": "stdout",
     "output_type": "stream",
     "text": [
      "Wall time: 19.2 s\n"
     ]
    },
    {
     "name": "stderr",
     "output_type": "stream",
     "text": [
      "C:\\Users\\renanm\\Anaconda3\\lib\\site-packages\\sklearn\\base.py:197: FutureWarning: From version 0.24, get_params will raise an AttributeError if a parameter cannot be retrieved as an instance attribute. Previously it would return None.\n",
      "  FutureWarning)\n"
     ]
    },
    {
     "data": {
      "text/plain": [
       "CRF(algorithm='lbfgs', all_possible_states=None, all_possible_transitions=True,\n",
       "    averaging=None, c=None, c1=0.1, c2=0.1, calibration_candidates=None,\n",
       "    calibration_eta=None, calibration_max_trials=None, calibration_rate=None,\n",
       "    calibration_samples=None, delta=None, epsilon=None, error_sensitive=None,\n",
       "    gamma=None, keep_tempfiles=None, linesearch=None, max_iterations=100,\n",
       "    max_linesearch=None, min_freq=None, model_filename=None, num_memories=None,\n",
       "    pa_type=None, period=None, trainer_cls=None, variance=None, verbose=False)"
      ]
     },
     "execution_count": 7,
     "metadata": {},
     "output_type": "execute_result"
    }
   ],
   "source": [
    "%%time\n",
    "crf = sklearn_crfsuite.CRF(\n",
    "    algorithm='lbfgs',\n",
    "    c1=0.1, \n",
    "    c2=0.1, \n",
    "    max_iterations=100, \n",
    "    all_possible_transitions=True\n",
    ")\n",
    "crf.fit(X_train, y_train)"
   ]
  },
  {
   "cell_type": "markdown",
   "metadata": {
    "id": "BardRBB3e_-8"
   },
   "source": [
    "### Evaluate results"
   ]
  },
  {
   "cell_type": "code",
   "execution_count": 8,
   "metadata": {
    "colab": {
     "base_uri": "https://localhost:8080/"
    },
    "id": "Y0o4BCD-e_-8",
    "outputId": "784256a7-84ad-4182-b541-5097fee36308"
   },
   "outputs": [
    {
     "name": "stdout",
     "output_type": "stream",
     "text": [
      "['salario', 'local', 'descricao', 'empresa', 'beneficios']\n",
      "              precision    recall  f1-score   support\n",
      "\n",
      "     salario     0.9954    0.9995    0.9975    133067\n",
      "  beneficios     0.9620    0.9423    0.9521     39162\n",
      "   descricao     0.9036    0.9380    0.9205   4344176\n",
      "     empresa     0.8577    0.7907    0.8228   2022246\n",
      "       local     0.9402    0.7972    0.8628     46324\n",
      "\n",
      "    accuracy                         0.8930   6584975\n",
      "   macro avg     0.9318    0.8935    0.9111   6584975\n",
      "weighted avg     0.8920    0.8930    0.8918   6584975\n",
      "\n",
      "Wall time: 3min 45s\n"
     ]
    }
   ],
   "source": [
    "%%time\n",
    "\n",
    "labels = list(crf.classes_)\n",
    "print(labels)\n",
    "y_pred = crf.predict(X_test)\n",
    "metrics.flat_f1_score(y_test, y_pred,\n",
    "                      average='weighted', labels=labels)\n",
    "\n",
    "sorted_labels = sorted(\n",
    "    labels,\n",
    "    key=lambda name: (name[1:], name[0])\n",
    ")\n",
    "print(metrics.flat_classification_report(\n",
    "    y_test, y_pred, labels=sorted_labels, digits=4\n",
    "))"
   ]
  }
 ],
 "metadata": {
  "colab": {
   "collapsed_sections": [],
   "name": "CRF_Vagas.ipynb",
   "provenance": [],
   "toc_visible": true
  },
  "kernelspec": {
   "display_name": "Python 3",
   "language": "python",
   "name": "python3"
  },
  "language_info": {
   "codemirror_mode": {
    "name": "ipython",
    "version": 3
   },
   "file_extension": ".py",
   "mimetype": "text/x-python",
   "name": "python",
   "nbconvert_exporter": "python",
   "pygments_lexer": "ipython3",
   "version": "3.7.6"
  }
 },
 "nbformat": 4,
 "nbformat_minor": 1
}
