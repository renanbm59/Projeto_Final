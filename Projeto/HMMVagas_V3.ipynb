{
 "cells": [
  {
   "cell_type": "code",
   "execution_count": 1,
   "metadata": {
    "id": "P1H9UTBLvtKR"
   },
   "outputs": [],
   "source": [
    "#Fixed vocabulary, unknown probability based on training\n",
    "import os\n",
    "\n",
    "import lib.tratamentoTexto as TT\n",
    "from lib.HMM.HMM_Vagas_V3 import HMM_Vagas_V3"
   ]
  },
  {
   "cell_type": "code",
   "execution_count": 2,
   "metadata": {
    "id": "BgdoRfTjHSwi"
   },
   "outputs": [],
   "source": [
    "path = os.path.abspath(os.getcwd()) + \"/Dados/vagas.json\"\n",
    "path = path.replace(\"\\\\\", \"/\")\n",
    "estados = ['salario', 'local', 'beneficios', 'descricao', 'empresa']"
   ]
  },
  {
   "cell_type": "code",
   "execution_count": 5,
   "metadata": {
    "colab": {
     "base_uri": "https://localhost:8080/",
     "height": 35
    },
    "id": "Og9u46KVFbi8",
    "outputId": "d303694c-a013-4a53-c04c-99dc940b4d4c"
   },
   "outputs": [
    {
     "name": "stdout",
     "output_type": "stream",
     "text": [
      "Tamanho vocabulario: 61206\n"
     ]
    }
   ],
   "source": [
    "#Usando como vocabulario palavras de outro dataset de vagas, diferente do treinamento e teste\n",
    "pathVoc = os.path.abspath(os.getcwd()) + \"/Dados/vagas2.json\"\n",
    "pathVoc = path.replace(\"\\\\\", \"/\")\n",
    "data = TT.loadDataset(pathVoc, True)\n",
    "vocabulario = TT.getVocabularioFromDataSet(data)\n",
    "print(\"Tamanho vocabulario:\", len(vocabulario))"
   ]
  },
  {
   "cell_type": "code",
   "execution_count": 7,
   "metadata": {
    "colab": {
     "base_uri": "https://localhost:8080/",
     "height": 255
    },
    "id": "fpbmCRpqg_mS",
    "outputId": "12ddf8c1-6a46-406f-9920-7564ce38c617"
   },
   "outputs": [
    {
     "name": "stdout",
     "output_type": "stream",
     "text": [
      "Linha 500\n",
      "Linha 1000\n",
      "Linha 1500\n",
      "Linha 2000\n",
      "Linha 2500\n",
      "Linha 3000\n",
      "Linha 3500\n",
      "Linha 4000\n",
      "Linha 4500\n",
      "Fit duration: 0:02:22.108422\n"
     ]
    }
   ],
   "source": [
    "data = TT.loadDataset(path, True)\n",
    "model = HMM_Vagas_V3(data = data, trainPerc=0.7, checkpoint=500, estados=estados, vocabulario = vocabulario)\n",
    "model.fit()"
   ]
  },
  {
   "cell_type": "code",
   "execution_count": 8,
   "metadata": {
    "colab": {
     "base_uri": "https://localhost:8080/",
     "height": 310
    },
    "id": "7iMwDpXHidAw",
    "outputId": "b8072d22-1700-4b14-ce23-08f79a9e171e"
   },
   "outputs": [
    {
     "name": "stdout",
     "output_type": "stream",
     "text": [
      "Calculating cost <...>\n",
      "Loss: 0.38270592370654305\n",
      "Percentual acertos totais: 0.011752682677567705\n",
      "Loss em salario 0.5650104481077316\n",
      "\t {'local': 0.5276497695852534, 'beneficios': 0.5205128205128206, 'descricao': 0.8041958041958042, 'empresa': 0.6007751937984496}\n",
      "Loss em local 0.5272240404641476\n",
      "\t {'salario': 0.5486111111111112, 'beneficios': 0.5597826086956522, 'descricao': 0.8264462809917356, 'empresa': 0.5324675324675324}\n",
      "Loss em beneficios 0.5287152161042037\n",
      "\t {'salario': 0.5571030640668524, 'local': 0.6010928961748634, 'descricao': 0.8498727735368957, 'empresa': 0.5260663507109005}\n",
      "Loss em descricao 0.3502618901716264\n",
      "\t {'salario': 0.24056603773584906, 'local': 0.22494432071269488, 'beneficios': 0.1478494623655914, 'empresa': 0.19117647058823528}\n",
      "Loss em empresa 0.42205825762519034\n",
      "\t {'salario': 0.3741258741258741, 'local': 0.1796875, 'beneficios': 0.18048780487804877, 'descricao': 0.5210084033613446}\n",
      "Loss em estado inicial\n",
      "\t {'salario': 1.0, 'local': 0.9402654867256637, 'beneficios': 1.0, 'descricao': 1.0, 'empresa': 1.0}\n"
     ]
    }
   ],
   "source": [
    "x = model.fullCost(model.tests)"
   ]
  },
  {
   "cell_type": "code",
   "execution_count": 20,
   "metadata": {
    "colab": {
     "base_uri": "https://localhost:8080/",
     "height": 35
    },
    "id": "-tqXUJJef_7L",
    "outputId": "d7ac4b1d-efc9-42a8-e0f3-af45aba3dd55"
   },
   "outputs": [
    {
     "name": "stdout",
     "output_type": "stream",
     "text": [
      "Tamanho vocabulario: 318538\n",
      "['a', 'ª', 'à', 'á', 'ã', 'a-amilase', 'á-bê-cê', 'á-é-i-ó-u', 'a-histórico', 'à-propos', 'à-toa', 'aa', 'ac', 'am', 'aabora', 'aac', 'aaiún', 'aaleniano', 'aaleniense', 'aalênio', 'aalense', 'aaquenense', 'aaquênio', 'aarão', 'aardvark', 'aariano', 'aarônico', 'aarônida', 'aaronita', 'ab', 'absáber', 'ab-henry', 'ab-reação', 'ab-reagir', 'ab-reatividade', 'ab-reativo', 'ab-renunciar', 'ab-reptício', 'ab-repto', 'ab-reticiamente', 'ab-rogabilidade', 'ab-rogação', 'ab-rogar', 'ab-rogatário', 'ab-rogativo', 'ab-rogatório', 'ab-rogável', 'ab-rompido', 'ab-rupção', 'ab-ruptado', 'ab-ruptela', 'ab-ruptinérveo', 'ab-rupto', 'ab-ruptude', 'abã', 'ababa', 'ababadar', 'ababaia', 'ababalhar', 'ababalhos', 'ababalidade', 'ababangai', 'ababé', 'ababelação', 'ababelar', 'ababelável', 'ababil', 'ababocado', 'ababone', 'ababoni', 'ababosação', 'ababosar', 'ababosável', 'ababroar', 'ababuá', 'abacá', 'abacado', 'abaçai', 'abacaí', 'abaçaí', 'abacaíba', 'abacalhoar', 'abacamartado', 'abaçanar', 'abacanto', 'abacatada', 'abacataia', 'abacatal', 'abacate', 'abacate-do-mato', 'abacateiral', 'abacateiro', 'abacatense', 'abacaterana', 'abacates', 'abacates-do-mato', 'abacatiar', 'abacatina', 'abacatirana', 'abacatuaia']\n"
     ]
    }
   ],
   "source": [
    "#Usando como vocabulario um vocabulario de palavras da internet\n",
    "pathVoc = os.path.abspath(os.getcwd()).replace(\"\\\\\", \"/\")+ \"/Dados/vocabularioInternet.txt\"\n",
    "vocabulario = []\n",
    "with open(pathVoc, \"r\", encoding=\"utf-8\") as f:\n",
    "    for palavra in f:\n",
    "        palavra = TT.cleanText(palavra)\n",
    "        if palavra not in vocabulario:\n",
    "            vocabulario.append(palavra)\n",
    "print(\"Tamanho vocabulario:\", len(vocabulario))"
   ]
  },
  {
   "cell_type": "code",
   "execution_count": 22,
   "metadata": {
    "colab": {
     "base_uri": "https://localhost:8080/",
     "height": 255
    },
    "id": "cjEKHZyf-xm8",
    "outputId": "5b9af90b-d385-42c9-fbac-66f986b23229"
   },
   "outputs": [
    {
     "name": "stdout",
     "output_type": "stream",
     "text": [
      "Linha 500\n",
      "Linha 1000\n",
      "Linha 1500\n",
      "Linha 2000\n",
      "Linha 2500\n",
      "Linha 3000\n",
      "Linha 3500\n",
      "Linha 4000\n",
      "Linha 4500\n",
      "Fit duration: 1:29:53.738112\n"
     ]
    }
   ],
   "source": [
    "data = TT.loadDataset(path, True)\n",
    "model = HMM_Vagas_V3(data = data, trainPerc=0.7, checkpoint=500, estados=estados, vocabulario = vocabulario)\n",
    "model.fit()"
   ]
  },
  {
   "cell_type": "code",
   "execution_count": 23,
   "metadata": {
    "colab": {
     "base_uri": "https://localhost:8080/",
     "height": 310
    },
    "id": "KwNIVz7V-6SH",
    "outputId": "6a8f1b7c-3390-4228-bb95-4c2800d9e1e5"
   },
   "outputs": [
    {
     "name": "stdout",
     "output_type": "stream",
     "text": [
      "Calculating cost <...>\n",
      "Loss: 0.6573991932109201\n",
      "Percentual acertos totais: 0.09913132345426673\n",
      "Loss em salario 0.7531924773624332\n",
      "\t {'local': 0.7087378640776699, 'beneficios': 0.7614213197969543, 'descricao': 0.9285714285714286, 'empresa': 0.8062015503875969}\n",
      "Loss em local 0.6227313299613211\n",
      "\t {'salario': 0.7637969094922737, 'beneficios': 0.6986301369863014, 'descricao': 0.9111111111111111, 'empresa': 0.7747035573122529}\n",
      "Loss em beneficios 0.6731793960923623\n",
      "\t {'salario': 0.7840236686390533, 'local': 0.6972972972972973, 'descricao': 0.9326683291770573, 'empresa': 0.8018018018018018}\n",
      "Loss em descricao 0.6772019126257453\n",
      "\t {'salario': 0.6781115879828327, 'local': 0.16933638443935928, 'beneficios': 0.1239193083573487, 'empresa': 0.14068441064638784}\n",
      "Loss em empresa 0.6139888570998344\n",
      "\t {'salario': 0.6, 'local': 0.21428571428571427, 'beneficios': 0.12719298245614036, 'descricao': 0.7992125984251969}\n",
      "Loss em estado inicial\n",
      "\t {'salario': 1.0, 'local': 0.8909465020576132, 'beneficios': 1.0, 'descricao': 1.0, 'empresa': 0.9960474308300395}\n"
     ]
    }
   ],
   "source": [
    "x = model.fullCost(model.tests)"
   ]
  },
  {
   "cell_type": "code",
   "execution_count": 24,
   "metadata": {
    "colab": {
     "base_uri": "https://localhost:8080/",
     "height": 146
    },
    "id": "8rTOs1_5FAjv",
    "outputId": "c9846610-64b8-4b25-b4f8-b757007efd05"
   },
   "outputs": [
    {
     "name": "stdout",
     "output_type": "stream",
     "text": [
      "Observacoes\n",
      "\t ['são', 'paulo', 'empresa', 'a', '<unk>', 'é', 'uma', 'empresa', '<unk>', 'do', '<unk>', 'de', '<unk>', 'center', 'com', 'clientes', '<unk>', 'e', 'líderes', 'nas', 'áreas', 'que', '<unk>', '<unk>', '<unk>', '<unk>', 'em', '<unk>', 'países', 'com', '<unk>', '<unk>', '<unk>', '<unk>', '<unk>', 'na', 'maior', 'metrópole', 'do', 'brasil', 'são', '<unk>', '<unk>', 'no', '<unk>', 'profissional', 'dos', 'nossos', '<unk>', '<unk>', 'do', 'nosso', 'plano', 'de', 'carreira', 'que', '<unk>', 'cerca', 'de', '<unk>', '<unk>', '<unk>', 'brasil', 'e', 'ele', 'só', '<unk>', 'ter', '<unk>', 'meses', 'de', 'empresa', 'para', 'participar', 'do', 'nosso', 'programa', 'além', 'disso', 'nos', '<unk>', 'em', 'criar', 'um', 'ambiente', '<unk>', 'para', 'nossos', '<unk>', '<unk>', 'dias', '<unk>', 'e', 'até', '<unk>', 'para', 'os', 'mais', '<unk>', 'descrição', '<unk>', 'atendimento', 'a', 'clientes', '<unk>', 'suporte', 'via', 'telefone', 'a', 'clientes', 'com', '<unk>', 'dúvidas', 'em', '<unk>', 'hp', '<unk>', '<unk>', '<unk>', '<unk>', '<unk>', 'e', '<unk>', 'requisitos', 'necessário', 'ensino', 'médio', '<unk>', 'ensino', 'superior', 'em', '<unk>', 'ou', 'completo', 'em', 'áreas', 'de', '<unk>', '<unk>', 'em', 'tecnologia', '<unk>', 'configuração', 'de', '<unk>', 'hardware', 'de', '<unk>', 'e', '<unk>', '<unk>', 'e', 'etc', 'faixa', 'salarial', '<unk>', '<unk>', 'a', '<unk>', '<unk>', 'assistência', 'médica']\n",
      "Previsto\n",
      "\t ['local', 'local', 'empresa', 'empresa', 'empresa', 'empresa', 'empresa', 'empresa', 'empresa', 'empresa', 'empresa', 'empresa', 'empresa', 'empresa', 'empresa', 'empresa', 'empresa', 'empresa', 'empresa', 'empresa', 'empresa', 'empresa', 'empresa', 'empresa', 'empresa', 'empresa', 'empresa', 'empresa', 'empresa', 'empresa', 'empresa', 'empresa', 'empresa', 'empresa', 'empresa', 'empresa', 'empresa', 'salario', 'local', 'beneficios', 'descricao', 'empresa', 'salario', 'local', 'beneficios', 'descricao', 'empresa', 'salario', 'local', 'beneficios', 'descricao', 'empresa', 'salario', 'local', 'beneficios', 'descricao', 'empresa', 'salario', 'local', 'beneficios', 'descricao', 'empresa', 'salario', 'local', 'beneficios', 'descricao', 'empresa', 'salario', 'local', 'beneficios', 'descricao', 'empresa', 'salario', 'local', 'beneficios', 'descricao', 'empresa', 'salario', 'local', 'beneficios', 'descricao', 'empresa', 'salario', 'local', 'beneficios', 'descricao', 'empresa', 'salario', 'local', 'beneficios', 'descricao', 'empresa', 'salario', 'local', 'beneficios', 'descricao', 'empresa', 'salario', 'local', 'beneficios', 'descricao', 'empresa', 'salario', 'local', 'beneficios', 'descricao', 'empresa', 'salario', 'local', 'beneficios', 'descricao', 'empresa', 'salario', 'local', 'beneficios', 'descricao', 'empresa', 'salario', 'local', 'beneficios', 'descricao', 'empresa', 'salario', 'local', 'beneficios', 'descricao', 'empresa', 'salario', 'local', 'beneficios', 'descricao', 'empresa', 'salario', 'local', 'beneficios', 'descricao', 'empresa', 'salario', 'local', 'beneficios', 'descricao', 'empresa', 'salario', 'local', 'beneficios', 'descricao', 'empresa', 'salario', 'local', 'beneficios', 'descricao', 'empresa', 'salario', 'local', 'beneficios', 'descricao', 'empresa', 'salario', 'local', 'beneficios', 'descricao', 'empresa', 'salario', 'local', 'beneficios', 'descricao', 'empresa', 'salario', 'local', 'beneficios', 'descricao', 'empresa', 'salario', 'local', 'beneficios', 'descricao', 'empresa', 'salario', 'local', 'beneficios', 'descricao', 'empresa', 'salario', 'local', 'beneficios', 'descricao', 'empresa', 'salario', 'local', 'beneficios', 'descricao', 'empresa', 'salario', 'local', 'beneficios', 'descricao', 'empresa', 'salario', 'local', 'beneficios', 'descricao', 'empresa', 'salario', 'local', 'beneficios', 'descricao', 'empresa', 'salario', 'local', 'beneficios', 'descricao', 'empresa', 'salario', 'local', 'beneficios', 'descricao', 'empresa', 'salario', 'local', 'beneficios', 'descricao', 'empresa', 'salario', 'local', 'beneficios', 'descricao', 'empresa', 'salario', 'local', 'beneficios', 'descricao', 'empresa', 'salario', 'local', 'beneficios', 'descricao', 'empresa', 'salario', 'local', 'beneficios', 'descricao', 'empresa', 'salario', 'local', 'beneficios', 'descricao', 'empresa', 'salario', 'local', 'beneficios', 'descricao', 'empresa', 'salario', 'local', 'beneficios', 'descricao', 'empresa', 'salario', 'local', 'beneficios', 'descricao', 'empresa', 'salario', 'local', 'beneficios', 'descricao', 'empresa', 'salario', 'local', 'beneficios', 'descricao', 'empresa', 'salario', 'local', 'beneficios', 'descricao', 'empresa', 'salario', 'local', 'beneficios', 'descricao', 'empresa', 'salario', 'local', 'beneficios', 'descricao', 'empresa', 'salario', 'local', 'beneficios', 'descricao', 'empresa', 'salario', 'local', 'beneficios', 'descricao', 'empresa', 'salario', 'local', 'beneficios', 'descricao', 'empresa', 'salario', 'local', 'beneficios', 'descricao', 'empresa', 'salario', 'local', 'beneficios', 'descricao', 'empresa', 'salario', 'local', 'beneficios', 'descricao', 'empresa', 'salario', 'local', 'beneficios', 'descricao', 'empresa', 'salario', 'local', 'beneficios', 'descricao', 'empresa', 'salario', 'local', 'beneficios', 'descricao', 'empresa', 'salario', 'local', 'beneficios', 'descricao', 'empresa', 'salario', 'local', 'beneficios', 'descricao', 'empresa', 'salario', 'local', 'beneficios', 'descricao', 'empresa', 'salario', 'local', 'beneficios', 'descricao', 'empresa', 'salario', 'local', 'beneficios', 'descricao', 'empresa', 'salario', 'local', 'beneficios', 'descricao', 'empresa', 'salario', 'local', 'beneficios', 'descricao', 'empresa', 'salario', 'local', 'beneficios', 'descricao', 'empresa', 'salario', 'local', 'beneficios', 'descricao', 'empresa', 'salario', 'local', 'beneficios', 'descricao', 'empresa', 'salario', 'local', 'beneficios', 'descricao', 'empresa', 'salario', 'local', 'beneficios', 'descricao', 'empresa', 'salario', 'local', 'beneficios', 'descricao', 'empresa', 'salario', 'local', 'beneficios', 'descricao', 'empresa', 'salario', 'local', 'beneficios', 'descricao', 'empresa', 'salario', 'local', 'beneficios', 'descricao', 'empresa', 'salario', 'local', 'beneficios', 'descricao', 'empresa', 'salario', 'local', 'beneficios', 'descricao', 'empresa', 'salario', 'local', 'beneficios', 'descricao', 'empresa', 'salario', 'local', 'beneficios', 'descricao', 'empresa', 'salario', 'local', 'beneficios', 'descricao', 'empresa', 'salario', 'local', 'beneficios', 'descricao', 'empresa', 'salario', 'local', 'beneficios', 'descricao', 'empresa', 'salario', 'local', 'beneficios', 'descricao', 'empresa', 'salario', 'local', 'beneficios', 'descricao', 'empresa', 'salario', 'local', 'beneficios', 'descricao', 'empresa', 'salario', 'local', 'beneficios', 'descricao', 'empresa', 'salario', 'local', 'beneficios', 'descricao', 'empresa', 'salario', 'local', 'beneficios', 'descricao', 'empresa', 'salario', 'local', 'beneficios', 'descricao', 'empresa', 'salario', 'local', 'beneficios', 'descricao', 'empresa', 'salario', 'local', 'beneficios', 'descricao', 'empresa', 'salario', 'local', 'beneficios', 'descricao', 'empresa', 'salario', 'local', 'beneficios', 'descricao', 'empresa', 'salario', 'local', 'beneficios', 'descricao', 'empresa', 'salario', 'local', 'beneficios', 'descricao', 'empresa', 'salario', 'local', 'beneficios', 'descricao', 'empresa', 'salario', 'local', 'beneficios', 'descricao', 'empresa', 'salario', 'local', 'beneficios', 'descricao', 'empresa', 'salario', 'local', 'beneficios', 'descricao', 'empresa', 'salario', 'local', 'beneficios', 'descricao', 'empresa', 'salario', 'local', 'beneficios', 'descricao', 'empresa', 'salario', 'local', 'beneficios', 'descricao', 'empresa', 'salario', 'local', 'beneficios', 'descricao', 'empresa', 'salario', 'local', 'beneficios', 'descricao', 'empresa', 'salario', 'local', 'beneficios', 'descricao', 'empresa', 'salario', 'local', 'beneficios', 'descricao', 'empresa', 'salario', 'local', 'beneficios', 'descricao', 'empresa', 'salario', 'local', 'beneficios', 'descricao', 'empresa', 'salario', 'local', 'beneficios', 'descricao', 'empresa', 'salario', 'local', 'beneficios', 'descricao', 'empresa', 'salario', 'local', 'beneficios', 'descricao', 'empresa', 'salario', 'local', 'beneficios', 'descricao', 'empresa', 'salario', 'local', 'beneficios', 'descricao', 'empresa', 'salario', 'local', 'beneficios', 'descricao', 'empresa', 'salario', 'local', 'beneficios', 'descricao', 'empresa', 'salario', 'local', 'beneficios', 'descricao', 'empresa', 'salario', 'local', 'beneficios', 'descricao', 'empresa', 'salario', 'local', 'beneficios', 'descricao', 'empresa', 'salario', 'local', 'beneficios', 'descricao', 'empresa', 'salario', 'local', 'beneficios', 'descricao', 'empresa', 'salario', 'local', 'beneficios', 'descricao', 'empresa', 'salario', 'local', 'beneficios', 'descricao', 'empresa', 'salario', 'local', 'beneficios', 'descricao', 'empresa', 'salario', 'local', 'beneficios', 'descricao', 'empresa', 'salario', 'local', 'beneficios', 'descricao', 'empresa']\n",
      "Real\n",
      "\t ['local', 'local', 'empresa', 'empresa', 'empresa', 'empresa', 'empresa', 'empresa', 'empresa', 'empresa', 'empresa', 'empresa', 'empresa', 'empresa', 'empresa', 'empresa', 'empresa', 'empresa', 'empresa', 'empresa', 'empresa', 'empresa', 'empresa', 'empresa', 'empresa', 'empresa', 'empresa', 'empresa', 'empresa', 'empresa', 'empresa', 'empresa', 'empresa', 'empresa', 'empresa', 'empresa', 'empresa', 'empresa', 'empresa', 'empresa', 'empresa', 'empresa', 'empresa', 'empresa', 'empresa', 'empresa', 'empresa', 'empresa', 'empresa', 'empresa', 'empresa', 'empresa', 'empresa', 'empresa', 'empresa', 'empresa', 'empresa', 'empresa', 'empresa', 'empresa', 'empresa', 'empresa', 'empresa', 'empresa', 'empresa', 'empresa', 'empresa', 'empresa', 'empresa', 'empresa', 'empresa', 'empresa', 'empresa', 'empresa', 'empresa', 'empresa', 'empresa', 'empresa', 'empresa', 'empresa', 'empresa', 'empresa', 'empresa', 'empresa', 'empresa', 'empresa', 'empresa', 'empresa', 'empresa', 'empresa', 'empresa', 'empresa', 'empresa', 'empresa', 'empresa', 'empresa', 'empresa', 'empresa', 'empresa', 'descricao', 'descricao', 'descricao', 'descricao', 'descricao', 'descricao', 'descricao', 'descricao', 'descricao', 'descricao', 'descricao', 'descricao', 'descricao', 'descricao', 'descricao', 'descricao', 'descricao', 'descricao', 'descricao', 'descricao', 'descricao', 'descricao', 'descricao', 'descricao', 'descricao', 'descricao', 'descricao', 'descricao', 'descricao', 'descricao', 'descricao', 'descricao', 'descricao', 'descricao', 'descricao', 'descricao', 'descricao', 'descricao', 'descricao', 'descricao', 'descricao', 'descricao', 'descricao', 'descricao', 'descricao', 'descricao', 'descricao', 'descricao', 'descricao', 'descricao', 'descricao', 'descricao', 'descricao', 'descricao', 'salario', 'salario', 'salario', 'salario', 'salario', 'salario', 'salario', 'beneficios', 'beneficios']\n"
     ]
    }
   ],
   "source": [
    "#Testes para verificar previsoes individualmente\n",
    "observacoes, previsto, real = model.predictRandomTest()"
   ]
  },
  {
   "cell_type": "code",
   "execution_count": 25,
   "metadata": {
    "colab": {
     "base_uri": "https://localhost:8080/",
     "height": 53
    },
    "id": "QEaEz4Pu1AmO",
    "outputId": "77bc44c1-2b7b-44df-ba6e-9d600712807b"
   },
   "outputs": [
    {
     "name": "stdout",
     "output_type": "stream",
     "text": [
      "Obs: metrópole / Previsto: salario / Real: empresa\n",
      "Obs: do / Previsto: local / Real: empresa\n",
      "Obs: brasil / Previsto: beneficios / Real: empresa\n",
      "Obs: são / Previsto: descricao / Real: empresa\n",
      "Obs: <unk> / Previsto: salario / Real: empresa\n",
      "Obs: no / Previsto: local / Real: empresa\n",
      "Obs: <unk> / Previsto: beneficios / Real: empresa\n",
      "Obs: profissional / Previsto: descricao / Real: empresa\n",
      "Obs: nossos / Previsto: salario / Real: empresa\n",
      "Obs: <unk> / Previsto: local / Real: empresa\n",
      "Obs: <unk> / Previsto: beneficios / Real: empresa\n",
      "Obs: do / Previsto: descricao / Real: empresa\n",
      "Obs: plano / Previsto: salario / Real: empresa\n",
      "Obs: de / Previsto: local / Real: empresa\n",
      "Obs: carreira / Previsto: beneficios / Real: empresa\n",
      "Obs: que / Previsto: descricao / Real: empresa\n",
      "Obs: cerca / Previsto: salario / Real: empresa\n",
      "Obs: de / Previsto: local / Real: empresa\n",
      "Obs: <unk> / Previsto: beneficios / Real: empresa\n",
      "Obs: <unk> / Previsto: descricao / Real: empresa\n",
      "Obs: brasil / Previsto: salario / Real: empresa\n",
      "Obs: e / Previsto: local / Real: empresa\n",
      "Obs: ele / Previsto: beneficios / Real: empresa\n",
      "Obs: só / Previsto: descricao / Real: empresa\n",
      "Obs: ter / Previsto: salario / Real: empresa\n",
      "Obs: <unk> / Previsto: local / Real: empresa\n",
      "Obs: meses / Previsto: beneficios / Real: empresa\n",
      "Obs: de / Previsto: descricao / Real: empresa\n",
      "Obs: para / Previsto: salario / Real: empresa\n",
      "Obs: participar / Previsto: local / Real: empresa\n",
      "Obs: do / Previsto: beneficios / Real: empresa\n",
      "Obs: nosso / Previsto: descricao / Real: empresa\n",
      "Obs: além / Previsto: salario / Real: empresa\n",
      "Obs: disso / Previsto: local / Real: empresa\n",
      "Obs: nos / Previsto: beneficios / Real: empresa\n",
      "Obs: <unk> / Previsto: descricao / Real: empresa\n",
      "Obs: criar / Previsto: salario / Real: empresa\n",
      "Obs: um / Previsto: local / Real: empresa\n",
      "Obs: ambiente / Previsto: beneficios / Real: empresa\n",
      "Obs: <unk> / Previsto: descricao / Real: empresa\n",
      "Obs: nossos / Previsto: salario / Real: empresa\n",
      "Obs: <unk> / Previsto: local / Real: empresa\n",
      "Obs: <unk> / Previsto: beneficios / Real: empresa\n",
      "Obs: dias / Previsto: descricao / Real: empresa\n",
      "Obs: e / Previsto: salario / Real: empresa\n",
      "Obs: até / Previsto: local / Real: empresa\n",
      "Obs: <unk> / Previsto: beneficios / Real: empresa\n",
      "Obs: para / Previsto: descricao / Real: empresa\n",
      "Obs: mais / Previsto: salario / Real: empresa\n",
      "Obs: <unk> / Previsto: local / Real: empresa\n",
      "Obs: descrição / Previsto: beneficios / Real: descricao\n",
      "Obs: atendimento / Previsto: empresa / Real: descricao\n",
      "Obs: a / Previsto: salario / Real: descricao\n",
      "Obs: clientes / Previsto: local / Real: descricao\n",
      "Obs: <unk> / Previsto: beneficios / Real: descricao\n",
      "Obs: via / Previsto: empresa / Real: descricao\n",
      "Obs: telefone / Previsto: salario / Real: descricao\n",
      "Obs: a / Previsto: local / Real: descricao\n",
      "Obs: clientes / Previsto: beneficios / Real: descricao\n",
      "Obs: <unk> / Previsto: empresa / Real: descricao\n",
      "Obs: dúvidas / Previsto: salario / Real: descricao\n",
      "Obs: em / Previsto: local / Real: descricao\n",
      "Obs: <unk> / Previsto: beneficios / Real: descricao\n",
      "Obs: <unk> / Previsto: empresa / Real: descricao\n",
      "Obs: <unk> / Previsto: salario / Real: descricao\n",
      "Obs: <unk> / Previsto: local / Real: descricao\n",
      "Obs: <unk> / Previsto: beneficios / Real: descricao\n",
      "Obs: e / Previsto: empresa / Real: descricao\n",
      "Obs: <unk> / Previsto: salario / Real: descricao\n",
      "Obs: requisitos / Previsto: local / Real: descricao\n",
      "Obs: necessário / Previsto: beneficios / Real: descricao\n",
      "Obs: médio / Previsto: empresa / Real: descricao\n",
      "Obs: <unk> / Previsto: salario / Real: descricao\n",
      "Obs: ensino / Previsto: local / Real: descricao\n",
      "Obs: superior / Previsto: beneficios / Real: descricao\n",
      "Obs: <unk> / Previsto: empresa / Real: descricao\n",
      "Obs: ou / Previsto: salario / Real: descricao\n",
      "Obs: completo / Previsto: local / Real: descricao\n",
      "Obs: em / Previsto: beneficios / Real: descricao\n",
      "Obs: de / Previsto: empresa / Real: descricao\n",
      "Obs: <unk> / Previsto: salario / Real: descricao\n",
      "Obs: <unk> / Previsto: local / Real: descricao\n",
      "Obs: em / Previsto: beneficios / Real: descricao\n",
      "Obs: <unk> / Previsto: empresa / Real: descricao\n",
      "Obs: configuração / Previsto: salario / Real: descricao\n",
      "Obs: de / Previsto: local / Real: descricao\n",
      "Obs: <unk> / Previsto: beneficios / Real: descricao\n",
      "Obs: de / Previsto: empresa / Real: descricao\n",
      "Obs: <unk> / Previsto: salario / Real: descricao\n",
      "Obs: e / Previsto: local / Real: descricao\n",
      "Obs: <unk> / Previsto: beneficios / Real: descricao\n",
      "Obs: e / Previsto: empresa / Real: descricao\n",
      "Obs: etc / Previsto: salario / Real: descricao\n",
      "Obs: faixa / Previsto: local / Real: salario\n",
      "Obs: salarial / Previsto: beneficios / Real: salario\n",
      "Obs: <unk> / Previsto: descricao / Real: salario\n",
      "Obs: <unk> / Previsto: empresa / Real: salario\n",
      "Obs: <unk> / Previsto: local / Real: salario\n",
      "Obs: <unk> / Previsto: beneficios / Real: salario\n",
      "Obs: assistência / Previsto: descricao / Real: beneficios\n",
      "Obs: médica / Previsto: empresa / Real: beneficios\n"
     ]
    }
   ],
   "source": [
    "#Exibe as mudanças de estado incorretas\n",
    "model.ExibeMudancasEstadoIncorretas(observacoes, previsto, real)"
   ]
  }
 ],
 "metadata": {
  "accelerator": "GPU",
  "colab": {
   "collapsed_sections": [],
   "name": "HMMVagas_V3",
   "provenance": []
  },
  "kernelspec": {
   "display_name": "Python 3",
   "language": "python",
   "name": "python3"
  },
  "language_info": {
   "codemirror_mode": {
    "name": "ipython",
    "version": 3
   },
   "file_extension": ".py",
   "mimetype": "text/x-python",
   "name": "python",
   "nbconvert_exporter": "python",
   "pygments_lexer": "ipython3",
   "version": "3.7.6"
  }
 },
 "nbformat": 4,
 "nbformat_minor": 1
}
