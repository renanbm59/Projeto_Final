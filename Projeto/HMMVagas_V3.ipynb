{
 "cells": [
  {
   "cell_type": "code",
   "execution_count": 1,
   "metadata": {
    "id": "P1H9UTBLvtKR"
   },
   "outputs": [],
   "source": [
    "#Fixed vocabulary, unknown probability based on training\n",
    "import os\n",
    "\n",
    "import lib.tratamentoTexto as TT\n",
    "from lib.HMM.HMM_Vagas_V3 import HMM_Vagas_V3"
   ]
  },
  {
   "cell_type": "code",
   "execution_count": 2,
   "metadata": {
    "id": "BgdoRfTjHSwi"
   },
   "outputs": [],
   "source": [
    "path = os.path.abspath(os.getcwd()) + \"/Dados/vagas.json\"\n",
    "path = path.replace(\"\\\\\", \"/\")\n",
    "estados = ['salario', 'local', 'beneficios', 'descricao', 'empresa']"
   ]
  },
  {
   "cell_type": "code",
   "execution_count": 5,
   "metadata": {
    "colab": {
     "base_uri": "https://localhost:8080/",
     "height": 35
    },
    "id": "Og9u46KVFbi8",
    "outputId": "d303694c-a013-4a53-c04c-99dc940b4d4c"
   },
   "outputs": [
    {
     "name": "stdout",
     "output_type": "stream",
     "text": [
      "Tamanho vocabulario: 61206\n"
     ]
    }
   ],
   "source": [
    "#Usando como vocabulario palavras de outro dataset de vagas, diferente do treinamento e teste\n",
    "pathVoc = os.path.abspath(os.getcwd()) + \"/Dados/vagas2.json\"\n",
    "pathVoc = path.replace(\"\\\\\", \"/\")\n",
    "data = TT.loadDataset(pathVoc, True)\n",
    "vocabulario = TT.getVocabularioFromDataSet(data)\n",
    "print(\"Tamanho vocabulario:\", len(vocabulario))"
   ]
  },
  {
   "cell_type": "code",
   "execution_count": 7,
   "metadata": {
    "colab": {
     "base_uri": "https://localhost:8080/",
     "height": 255
    },
    "id": "fpbmCRpqg_mS",
    "outputId": "12ddf8c1-6a46-406f-9920-7564ce38c617"
   },
   "outputs": [
    {
     "name": "stdout",
     "output_type": "stream",
     "text": [
      "Linha 500\n",
      "Linha 1000\n",
      "Linha 1500\n",
      "Linha 2000\n",
      "Linha 2500\n",
      "Linha 3000\n",
      "Linha 3500\n",
      "Linha 4000\n",
      "Linha 4500\n",
      "Fit duration: 0:02:22.108422\n"
     ]
    }
   ],
   "source": [
    "data = TT.loadDataset(path, True)\n",
    "model = HMM_Vagas_V3(data = data, trainPerc=0.7, checkpoint=500, estados=estados, vocabulario = vocabulario)\n",
    "model.fit()"
   ]
  },
  {
   "cell_type": "code",
   "execution_count": null,
   "metadata": {
    "colab": {
     "base_uri": "https://localhost:8080/",
     "height": 310
    },
    "id": "7iMwDpXHidAw",
    "outputId": "b8072d22-1700-4b14-ce23-08f79a9e171e"
   },
   "outputs": [
    {
     "name": "stdout",
     "output_type": "stream",
     "text": [
      "Calculating cost <."
     ]
    }
   ],
   "source": [
    "x = model.fullCost(model.tests)"
   ]
  },
  {
   "cell_type": "code",
   "execution_count": null,
   "metadata": {
    "colab": {
     "base_uri": "https://localhost:8080/",
     "height": 35
    },
    "id": "-tqXUJJef_7L",
    "outputId": "d7ac4b1d-efc9-42a8-e0f3-af45aba3dd55"
   },
   "outputs": [],
   "source": [
    "#Usando como vocabulario um vocabulario de palavras da internet\n",
    "pathVoc = os.path.abspath(os.getcwd()) + \"/Dados/vocabularioInternet.txt\"\n",
    "pathVoc = path.replace(\"\\\\\", \"/\")\n",
    "f = open(pathVoc, \"r\")\n",
    "vocabulario = []\n",
    "for palavra in f:\n",
    "  palavra = cleanText(palavra)\n",
    "  if palavra not in vocabulario:\n",
    "    vocabulario.append(palavra)\n",
    "f.close()\n",
    "print(\"Tamanho vocabulario:\", len(vocabulario))"
   ]
  },
  {
   "cell_type": "code",
   "execution_count": null,
   "metadata": {
    "colab": {
     "base_uri": "https://localhost:8080/",
     "height": 255
    },
    "id": "cjEKHZyf-xm8",
    "outputId": "5b9af90b-d385-42c9-fbac-66f986b23229"
   },
   "outputs": [],
   "source": [
    "data = TT.loadDataset(path, True)\n",
    "model = MyModel(data = data, trainPerc=0.7, checkpoint=500, estados=estados, vocabulario = vocabulario)\n",
    "model.fit()"
   ]
  },
  {
   "cell_type": "code",
   "execution_count": null,
   "metadata": {
    "colab": {
     "base_uri": "https://localhost:8080/",
     "height": 310
    },
    "id": "KwNIVz7V-6SH",
    "outputId": "6a8f1b7c-3390-4228-bb95-4c2800d9e1e5"
   },
   "outputs": [],
   "source": [
    "x = model.fullCost(model.tests)"
   ]
  },
  {
   "cell_type": "code",
   "execution_count": null,
   "metadata": {
    "colab": {
     "base_uri": "https://localhost:8080/",
     "height": 146
    },
    "id": "8rTOs1_5FAjv",
    "outputId": "c9846610-64b8-4b25-b4f8-b757007efd05"
   },
   "outputs": [],
   "source": [
    "#Testes para verificar previsoes individualmente\n",
    "observacoes, predicted, actual = model.predictRandomTest()\n",
    "prevPredict = predicted[0]\n",
    "prevActual = actual[0]"
   ]
  },
  {
   "cell_type": "code",
   "execution_count": null,
   "metadata": {
    "colab": {
     "base_uri": "https://localhost:8080/",
     "height": 53
    },
    "id": "QEaEz4Pu1AmO",
    "outputId": "77bc44c1-2b7b-44df-ba6e-9d600712807b"
   },
   "outputs": [],
   "source": [
    "#Exibe as mudanças de estado incorretas\n",
    "i = 0\n",
    "for obs in observacoes:\n",
    "  if (prevPredict != predicted[i] and actual[i] != predicted[i]) or (prevActual != actual[i] and actual[i] != predicted[i]):\n",
    "    print(\"Obs:\", obs, \"/ Previsto:\", predicted[i], \"/ Real:\", actual[i])\n",
    "  prevPredict = predicted[i]\n",
    "  prevActual = actual[i]\n",
    "  i+=1"
   ]
  }
 ],
 "metadata": {
  "accelerator": "GPU",
  "colab": {
   "collapsed_sections": [],
   "name": "HMMVagas_V3",
   "provenance": []
  },
  "kernelspec": {
   "display_name": "Python 3",
   "language": "python",
   "name": "python3"
  },
  "language_info": {
   "codemirror_mode": {
    "name": "ipython",
    "version": 3
   },
   "file_extension": ".py",
   "mimetype": "text/x-python",
   "name": "python",
   "nbconvert_exporter": "python",
   "pygments_lexer": "ipython3",
   "version": "3.7.6"
  }
 },
 "nbformat": 4,
 "nbformat_minor": 1
}
