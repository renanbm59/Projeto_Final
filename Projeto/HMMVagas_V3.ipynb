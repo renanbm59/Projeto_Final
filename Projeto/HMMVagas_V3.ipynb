{
 "cells": [
  {
   "cell_type": "code",
   "execution_count": 1,
   "metadata": {
    "id": "P1H9UTBLvtKR"
   },
   "outputs": [],
   "source": [
    "#Fixed vocabulary, unknown probability based on training\n",
    "import os\n",
    "\n",
    "import lib.tratamentoTexto as TT\n",
    "from lib.HMM.HMM_Vagas_V3 import HMM_Vagas_V3"
   ]
  },
  {
   "cell_type": "code",
   "execution_count": 2,
   "metadata": {
    "id": "BgdoRfTjHSwi"
   },
   "outputs": [],
   "source": [
    "path = os.path.abspath(os.getcwd()) + \"/Dados/vagas.json\"\n",
    "path = path.replace(\"\\\\\", \"/\")\n",
    "estados = ['salario', 'local', 'beneficios', 'descricao', 'empresa']"
   ]
  },
  {
   "cell_type": "code",
   "execution_count": 5,
   "metadata": {
    "colab": {
     "base_uri": "https://localhost:8080/",
     "height": 35
    },
    "id": "Og9u46KVFbi8",
    "outputId": "d303694c-a013-4a53-c04c-99dc940b4d4c"
   },
   "outputs": [
    {
     "name": "stdout",
     "output_type": "stream",
     "text": [
      "Tamanho vocabulario: 61206\n"
     ]
    }
   ],
   "source": [
    "#Usando como vocabulario palavras de outro dataset de vagas, diferente do treinamento e teste\n",
    "pathVoc = os.path.abspath(os.getcwd()) + \"/Dados/vagas2.json\"\n",
    "pathVoc = path.replace(\"\\\\\", \"/\")\n",
    "data = TT.loadDataset(pathVoc, True)\n",
    "vocabulario = TT.getVocabularioFromDataSet(data)\n",
    "print(\"Tamanho vocabulario:\", len(vocabulario))"
   ]
  },
  {
   "cell_type": "code",
   "execution_count": 7,
   "metadata": {
    "colab": {
     "base_uri": "https://localhost:8080/",
     "height": 255
    },
    "id": "fpbmCRpqg_mS",
    "outputId": "12ddf8c1-6a46-406f-9920-7564ce38c617"
   },
   "outputs": [
    {
     "name": "stdout",
     "output_type": "stream",
     "text": [
      "Linha 500\n",
      "Linha 1000\n",
      "Linha 1500\n",
      "Linha 2000\n",
      "Linha 2500\n",
      "Linha 3000\n",
      "Linha 3500\n",
      "Linha 4000\n",
      "Linha 4500\n",
      "Fit duration: 0:02:22.108422\n"
     ]
    }
   ],
   "source": [
    "data = TT.loadDataset(path, True)\n",
    "model = HMM_Vagas_V3(data = data, trainPerc=0.7, checkpoint=500, estados=estados, vocabulario = vocabulario)\n",
    "model.fit()"
   ]
  },
  {
   "cell_type": "code",
   "execution_count": 8,
   "metadata": {
    "colab": {
     "base_uri": "https://localhost:8080/",
     "height": 310
    },
    "id": "7iMwDpXHidAw",
    "outputId": "b8072d22-1700-4b14-ce23-08f79a9e171e"
   },
   "outputs": [
    {
     "name": "stdout",
     "output_type": "stream",
     "text": [
      "Calculating cost <...>\n",
      "Loss: 0.38270592370654305\n",
      "Percentual acertos totais: 0.011752682677567705\n",
      "Loss em salario 0.5650104481077316\n",
      "\t {'local': 0.5276497695852534, 'beneficios': 0.5205128205128206, 'descricao': 0.8041958041958042, 'empresa': 0.6007751937984496}\n",
      "Loss em local 0.5272240404641476\n",
      "\t {'salario': 0.5486111111111112, 'beneficios': 0.5597826086956522, 'descricao': 0.8264462809917356, 'empresa': 0.5324675324675324}\n",
      "Loss em beneficios 0.5287152161042037\n",
      "\t {'salario': 0.5571030640668524, 'local': 0.6010928961748634, 'descricao': 0.8498727735368957, 'empresa': 0.5260663507109005}\n",
      "Loss em descricao 0.3502618901716264\n",
      "\t {'salario': 0.24056603773584906, 'local': 0.22494432071269488, 'beneficios': 0.1478494623655914, 'empresa': 0.19117647058823528}\n",
      "Loss em empresa 0.42205825762519034\n",
      "\t {'salario': 0.3741258741258741, 'local': 0.1796875, 'beneficios': 0.18048780487804877, 'descricao': 0.5210084033613446}\n",
      "Loss em estado inicial\n",
      "\t {'salario': 1.0, 'local': 0.9402654867256637, 'beneficios': 1.0, 'descricao': 1.0, 'empresa': 1.0}\n"
     ]
    }
   ],
   "source": [
    "x = model.fullCost(model.tests)"
   ]
  },
  {
   "cell_type": "code",
   "execution_count": 10,
   "metadata": {
    "colab": {
     "base_uri": "https://localhost:8080/",
     "height": 35
    },
    "id": "-tqXUJJef_7L",
    "outputId": "d7ac4b1d-efc9-42a8-e0f3-af45aba3dd55"
   },
   "outputs": [
    {
     "name": "stdout",
     "output_type": "stream",
     "text": [
      "Tamanho vocabulario: 318538\n"
     ]
    }
   ],
   "source": [
    "#Usando como vocabulario um vocabulario de palavras da internet\n",
    "pathVoc = os.path.abspath(os.getcwd()).replace(\"\\\\\", \"/\")+ \"/Dados/vocabularioInternetLimpo.txt\"\n",
    "vocabulario = []\n",
    "with open(pathVoc, \"r\", encoding=\"utf-8\") as f:\n",
    "    for palavra in f:\n",
    "        palavra = TT.cleanText(palavra)\n",
    "        if palavra not in vocabulario:\n",
    "            vocabulario.append(palavra)\n",
    "print(\"Tamanho vocabulario:\", len(vocabulario))"
   ]
  },
  {
   "cell_type": "code",
   "execution_count": 11,
   "metadata": {
    "colab": {
     "base_uri": "https://localhost:8080/",
     "height": 255
    },
    "id": "cjEKHZyf-xm8",
    "outputId": "5b9af90b-d385-42c9-fbac-66f986b23229"
   },
   "outputs": [
    {
     "name": "stdout",
     "output_type": "stream",
     "text": [
      "Linha 500\n",
      "Linha 1000\n",
      "Linha 1500\n",
      "Linha 2000\n",
      "Linha 2500\n",
      "Linha 3000\n",
      "Linha 3500\n",
      "Linha 4000\n",
      "Linha 4500\n",
      "Fit duration: 0:39:39.769928\n"
     ]
    }
   ],
   "source": [
    "data = TT.loadDataset(path, True)\n",
    "model = HMM_Vagas_V3(data = data, trainPerc=0.7, checkpoint=500, estados=estados, vocabulario = vocabulario)\n",
    "model.fit()"
   ]
  },
  {
   "cell_type": "code",
   "execution_count": 12,
   "metadata": {
    "colab": {
     "base_uri": "https://localhost:8080/",
     "height": 310
    },
    "id": "KwNIVz7V-6SH",
    "outputId": "6a8f1b7c-3390-4228-bb95-4c2800d9e1e5"
   },
   "outputs": [
    {
     "name": "stdout",
     "output_type": "stream",
     "text": [
      "Calculating cost <...>\n",
      "Loss: 0.6531811258222721\n",
      "Percentual acertos totais: 0.09453244762391415\n",
      "Loss em salario 0.759113071743673\n",
      "\t {'local': 0.7010526315789474, 'beneficios': 0.7845303867403315, 'descricao': 0.9084668192219679, 'empresa': 0.8403041825095057}\n",
      "Loss em local 0.6161856590300506\n",
      "\t {'salario': 0.736318407960199, 'beneficios': 0.7361809045226131, 'descricao': 0.8915929203539823, 'empresa': 0.6984732824427481}\n",
      "Loss em beneficios 0.6631142687981054\n",
      "\t {'salario': 0.779891304347826, 'local': 0.7237569060773481, 'descricao': 0.9155313351498637, 'empresa': 0.8168316831683168}\n",
      "Loss em descricao 0.6779041629578605\n",
      "\t {'salario': 0.643956043956044, 'local': 0.1784037558685446, 'beneficios': 0.12745098039215685, 'empresa': 0.16535433070866143}\n",
      "Loss em empresa 0.6000685974334521\n",
      "\t {'salario': 0.642023346303502, 'local': 0.20077220077220076, 'beneficios': 0.08333333333333333, 'descricao': 0.8073770491803278}\n",
      "Loss em estado inicial\n",
      "\t {'salario': 1.0, 'local': 0.8827586206896552, 'beneficios': 0.9937888198757764, 'descricao': 1.0, 'empresa': 0.996268656716418}\n"
     ]
    }
   ],
   "source": [
    "x = model.fullCost(model.tests)"
   ]
  },
  {
   "cell_type": "code",
   "execution_count": 13,
   "metadata": {},
   "outputs": [
    {
     "name": "stdout",
     "output_type": "stream",
     "text": [
      "Linha 500\n",
      "Linha 1000\n",
      "Linha 1500\n",
      "Linha 2000\n",
      "Linha 2500\n",
      "Linha 3000\n",
      "Linha 3500\n",
      "Linha 4000\n",
      "Linha 4500\n",
      "Fit duration: 0:09:54.518719\n"
     ]
    }
   ],
   "source": [
    "#Usando como vocabulario um vocabulario de palavras obtidas a partir da wikipedia\n",
    "pathVoc = os.path.abspath(os.getcwd()).replace(\"\\\\\", \"/\")+ \"/Dados/vocabularioWikipediaLimpo.txt\"\n",
    "vocabulario = []\n",
    "with open(pathVoc, \"r\", encoding=\"utf-8\") as f:\n",
    "    for palavra in f:\n",
    "        palavra = TT.cleanText(palavra)\n",
    "        if palavra not in vocabulario:\n",
    "            vocabulario.append(palavra)\n",
    "print(\"Tamanho vocabulario:\", len(vocabulario))\n",
    "data = TT.loadDataset(path, True)\n",
    "model = HMM_Vagas_V3(data = data, trainPerc=0.7, checkpoint=500, estados=estados, vocabulario = vocabulario)\n",
    "model.fit()"
   ]
  },
  {
   "cell_type": "code",
   "execution_count": 14,
   "metadata": {},
   "outputs": [
    {
     "name": "stdout",
     "output_type": "stream",
     "text": [
      "Calculating cost <...>\n",
      "Loss: 0.5181304364807034\n",
      "Percentual acertos totais: 0.06029637199795605\n",
      "Loss em salario 0.6710006965405154\n",
      "\t {'local': 0.6450116009280742, 'beneficios': 0.5965909090909091, 'descricao': 0.8463157894736842, 'empresa': 0.6816479400749064}\n",
      "Loss em local 0.5754239809580483\n",
      "\t {'salario': 0.6907894736842105, 'beneficios': 0.6091954022988506, 'descricao': 0.8159090909090909, 'empresa': 0.675}\n",
      "Loss em beneficios 0.5817051509769094\n",
      "\t {'salario': 0.6992084432717678, 'local': 0.6573816155988857, 'descricao': 0.8736842105263158, 'empresa': 0.6666666666666666}\n",
      "Loss em descricao 0.5328693411818382\n",
      "\t {'salario': 0.4720194647201946, 'local': 0.18930957683741648, 'beneficios': 0.12151898734177215, 'empresa': 0.16923076923076924}\n",
      "Loss em empresa 0.4761414780237247\n",
      "\t {'salario': 0.45126353790613716, 'local': 0.2, 'beneficios': 0.1552511415525114, 'descricao': 0.6336206896551724}\n",
      "Loss em estado inicial\n",
      "\t {'salario': 1.0, 'local': 0.9395248380129589, 'beneficios': 0.9921052631578947, 'descricao': 0.9976744186046511, 'empresa': 0.996}\n"
     ]
    }
   ],
   "source": [
    "x = model.fullCost(model.tests)"
   ]
  },
  {
   "cell_type": "code",
   "execution_count": 24,
   "metadata": {
    "colab": {
     "base_uri": "https://localhost:8080/",
     "height": 146
    },
    "id": "8rTOs1_5FAjv",
    "outputId": "c9846610-64b8-4b25-b4f8-b757007efd05"
   },
   "outputs": [
    {
     "name": "stdout",
     "output_type": "stream",
     "text": [
      "Observacoes\n",
      "\t ['são', 'paulo', 'empresa', 'a', '<unk>', 'é', 'uma', 'empresa', '<unk>', 'do', '<unk>', 'de', '<unk>', 'center', 'com', 'clientes', '<unk>', 'e', 'líderes', 'nas', 'áreas', 'que', '<unk>', '<unk>', '<unk>', '<unk>', 'em', '<unk>', 'países', 'com', '<unk>', '<unk>', '<unk>', '<unk>', '<unk>', 'na', 'maior', 'metrópole', 'do', 'brasil', 'são', '<unk>', '<unk>', 'no', '<unk>', 'profissional', 'dos', 'nossos', '<unk>', '<unk>', 'do', 'nosso', 'plano', 'de', 'carreira', 'que', '<unk>', 'cerca', 'de', '<unk>', '<unk>', '<unk>', 'brasil', 'e', 'ele', 'só', '<unk>', 'ter', '<unk>', 'meses', 'de', 'empresa', 'para', 'participar', 'do', 'nosso', 'programa', 'além', 'disso', 'nos', '<unk>', 'em', 'criar', 'um', 'ambiente', '<unk>', 'para', 'nossos', '<unk>', '<unk>', 'dias', '<unk>', 'e', 'até', '<unk>', 'para', 'os', 'mais', '<unk>', 'descrição', '<unk>', 'atendimento', 'a', 'clientes', '<unk>', 'suporte', 'via', 'telefone', 'a', 'clientes', 'com', '<unk>', 'dúvidas', 'em', '<unk>', 'hp', '<unk>', '<unk>', '<unk>', '<unk>', '<unk>', 'e', '<unk>', 'requisitos', 'necessário', 'ensino', 'médio', '<unk>', 'ensino', 'superior', 'em', '<unk>', 'ou', 'completo', 'em', 'áreas', 'de', '<unk>', '<unk>', 'em', 'tecnologia', '<unk>', 'configuração', 'de', '<unk>', 'hardware', 'de', '<unk>', 'e', '<unk>', '<unk>', 'e', 'etc', 'faixa', 'salarial', '<unk>', '<unk>', 'a', '<unk>', '<unk>', 'assistência', 'médica']\n",
      "Previsto\n",
      "\t ['local', 'local', 'empresa', 'empresa', 'empresa', 'empresa', 'empresa', 'empresa', 'empresa', 'empresa', 'empresa', 'empresa', 'empresa', 'empresa', 'empresa', 'empresa', 'empresa', 'empresa', 'empresa', 'empresa', 'empresa', 'empresa', 'empresa', 'empresa', 'empresa', 'empresa', 'empresa', 'empresa', 'empresa', 'empresa', 'empresa', 'empresa', 'empresa', 'empresa', 'empresa', 'empresa', 'empresa', 'salario', 'local', 'beneficios', 'descricao', 'empresa', 'salario', 'local', 'beneficios', 'descricao', 'empresa', 'salario', 'local', 'beneficios', 'descricao', 'empresa', 'salario', 'local', 'beneficios', 'descricao', 'empresa', 'salario', 'local', 'beneficios', 'descricao', 'empresa', 'salario', 'local', 'beneficios', 'descricao', 'empresa', 'salario', 'local', 'beneficios', 'descricao', 'empresa', 'salario', 'local', 'beneficios', 'descricao', 'empresa', 'salario', 'local', 'beneficios', 'descricao', 'empresa', 'salario', 'local', 'beneficios', 'descricao', 'empresa', 'salario', 'local', 'beneficios', 'descricao', 'empresa', 'salario', 'local', 'beneficios', 'descricao', 'empresa', 'salario', 'local', 'beneficios', 'descricao', 'empresa', 'salario', 'local', 'beneficios', 'descricao', 'empresa', 'salario', 'local', 'beneficios', 'descricao', 'empresa', 'salario', 'local', 'beneficios', 'descricao', 'empresa', 'salario', 'local', 'beneficios', 'descricao', 'empresa', 'salario', 'local', 'beneficios', 'descricao', 'empresa', 'salario', 'local', 'beneficios', 'descricao', 'empresa', 'salario', 'local', 'beneficios', 'descricao', 'empresa', 'salario', 'local', 'beneficios', 'descricao', 'empresa', 'salario', 'local', 'beneficios', 'descricao', 'empresa', 'salario', 'local', 'beneficios', 'descricao', 'empresa', 'salario', 'local', 'beneficios', 'descricao', 'empresa', 'salario', 'local', 'beneficios', 'descricao', 'empresa', 'salario', 'local', 'beneficios', 'descricao', 'empresa', 'salario', 'local', 'beneficios', 'descricao', 'empresa', 'salario', 'local', 'beneficios', 'descricao', 'empresa', 'salario', 'local', 'beneficios', 'descricao', 'empresa', 'salario', 'local', 'beneficios', 'descricao', 'empresa', 'salario', 'local', 'beneficios', 'descricao', 'empresa', 'salario', 'local', 'beneficios', 'descricao', 'empresa', 'salario', 'local', 'beneficios', 'descricao', 'empresa', 'salario', 'local', 'beneficios', 'descricao', 'empresa', 'salario', 'local', 'beneficios', 'descricao', 'empresa', 'salario', 'local', 'beneficios', 'descricao', 'empresa', 'salario', 'local', 'beneficios', 'descricao', 'empresa', 'salario', 'local', 'beneficios', 'descricao', 'empresa', 'salario', 'local', 'beneficios', 'descricao', 'empresa', 'salario', 'local', 'beneficios', 'descricao', 'empresa', 'salario', 'local', 'beneficios', 'descricao', 'empresa', 'salario', 'local', 'beneficios', 'descricao', 'empresa', 'salario', 'local', 'beneficios', 'descricao', 'empresa', 'salario', 'local', 'beneficios', 'descricao', 'empresa', 'salario', 'local', 'beneficios', 'descricao', 'empresa', 'salario', 'local', 'beneficios', 'descricao', 'empresa', 'salario', 'local', 'beneficios', 'descricao', 'empresa', 'salario', 'local', 'beneficios', 'descricao', 'empresa', 'salario', 'local', 'beneficios', 'descricao', 'empresa', 'salario', 'local', 'beneficios', 'descricao', 'empresa', 'salario', 'local', 'beneficios', 'descricao', 'empresa', 'salario', 'local', 'beneficios', 'descricao', 'empresa', 'salario', 'local', 'beneficios', 'descricao', 'empresa', 'salario', 'local', 'beneficios', 'descricao', 'empresa', 'salario', 'local', 'beneficios', 'descricao', 'empresa', 'salario', 'local', 'beneficios', 'descricao', 'empresa', 'salario', 'local', 'beneficios', 'descricao', 'empresa', 'salario', 'local', 'beneficios', 'descricao', 'empresa', 'salario', 'local', 'beneficios', 'descricao', 'empresa', 'salario', 'local', 'beneficios', 'descricao', 'empresa', 'salario', 'local', 'beneficios', 'descricao', 'empresa', 'salario', 'local', 'beneficios', 'descricao', 'empresa', 'salario', 'local', 'beneficios', 'descricao', 'empresa', 'salario', 'local', 'beneficios', 'descricao', 'empresa', 'salario', 'local', 'beneficios', 'descricao', 'empresa', 'salario', 'local', 'beneficios', 'descricao', 'empresa', 'salario', 'local', 'beneficios', 'descricao', 'empresa', 'salario', 'local', 'beneficios', 'descricao', 'empresa', 'salario', 'local', 'beneficios', 'descricao', 'empresa', 'salario', 'local', 'beneficios', 'descricao', 'empresa', 'salario', 'local', 'beneficios', 'descricao', 'empresa', 'salario', 'local', 'beneficios', 'descricao', 'empresa', 'salario', 'local', 'beneficios', 'descricao', 'empresa', 'salario', 'local', 'beneficios', 'descricao', 'empresa', 'salario', 'local', 'beneficios', 'descricao', 'empresa', 'salario', 'local', 'beneficios', 'descricao', 'empresa', 'salario', 'local', 'beneficios', 'descricao', 'empresa', 'salario', 'local', 'beneficios', 'descricao', 'empresa', 'salario', 'local', 'beneficios', 'descricao', 'empresa', 'salario', 'local', 'beneficios', 'descricao', 'empresa', 'salario', 'local', 'beneficios', 'descricao', 'empresa', 'salario', 'local', 'beneficios', 'descricao', 'empresa', 'salario', 'local', 'beneficios', 'descricao', 'empresa', 'salario', 'local', 'beneficios', 'descricao', 'empresa', 'salario', 'local', 'beneficios', 'descricao', 'empresa', 'salario', 'local', 'beneficios', 'descricao', 'empresa', 'salario', 'local', 'beneficios', 'descricao', 'empresa', 'salario', 'local', 'beneficios', 'descricao', 'empresa', 'salario', 'local', 'beneficios', 'descricao', 'empresa', 'salario', 'local', 'beneficios', 'descricao', 'empresa', 'salario', 'local', 'beneficios', 'descricao', 'empresa', 'salario', 'local', 'beneficios', 'descricao', 'empresa', 'salario', 'local', 'beneficios', 'descricao', 'empresa', 'salario', 'local', 'beneficios', 'descricao', 'empresa', 'salario', 'local', 'beneficios', 'descricao', 'empresa', 'salario', 'local', 'beneficios', 'descricao', 'empresa', 'salario', 'local', 'beneficios', 'descricao', 'empresa', 'salario', 'local', 'beneficios', 'descricao', 'empresa', 'salario', 'local', 'beneficios', 'descricao', 'empresa', 'salario', 'local', 'beneficios', 'descricao', 'empresa', 'salario', 'local', 'beneficios', 'descricao', 'empresa', 'salario', 'local', 'beneficios', 'descricao', 'empresa', 'salario', 'local', 'beneficios', 'descricao', 'empresa', 'salario', 'local', 'beneficios', 'descricao', 'empresa', 'salario', 'local', 'beneficios', 'descricao', 'empresa', 'salario', 'local', 'beneficios', 'descricao', 'empresa', 'salario', 'local', 'beneficios', 'descricao', 'empresa', 'salario', 'local', 'beneficios', 'descricao', 'empresa', 'salario', 'local', 'beneficios', 'descricao', 'empresa', 'salario', 'local', 'beneficios', 'descricao', 'empresa', 'salario', 'local', 'beneficios', 'descricao', 'empresa', 'salario', 'local', 'beneficios', 'descricao', 'empresa', 'salario', 'local', 'beneficios', 'descricao', 'empresa', 'salario', 'local', 'beneficios', 'descricao', 'empresa', 'salario', 'local', 'beneficios', 'descricao', 'empresa', 'salario', 'local', 'beneficios', 'descricao', 'empresa', 'salario', 'local', 'beneficios', 'descricao', 'empresa', 'salario', 'local', 'beneficios', 'descricao', 'empresa', 'salario', 'local', 'beneficios', 'descricao', 'empresa', 'salario', 'local', 'beneficios', 'descricao', 'empresa', 'salario', 'local', 'beneficios', 'descricao', 'empresa', 'salario', 'local', 'beneficios', 'descricao', 'empresa', 'salario', 'local', 'beneficios', 'descricao', 'empresa', 'salario', 'local', 'beneficios', 'descricao', 'empresa', 'salario', 'local', 'beneficios', 'descricao', 'empresa']\n",
      "Real\n",
      "\t ['local', 'local', 'empresa', 'empresa', 'empresa', 'empresa', 'empresa', 'empresa', 'empresa', 'empresa', 'empresa', 'empresa', 'empresa', 'empresa', 'empresa', 'empresa', 'empresa', 'empresa', 'empresa', 'empresa', 'empresa', 'empresa', 'empresa', 'empresa', 'empresa', 'empresa', 'empresa', 'empresa', 'empresa', 'empresa', 'empresa', 'empresa', 'empresa', 'empresa', 'empresa', 'empresa', 'empresa', 'empresa', 'empresa', 'empresa', 'empresa', 'empresa', 'empresa', 'empresa', 'empresa', 'empresa', 'empresa', 'empresa', 'empresa', 'empresa', 'empresa', 'empresa', 'empresa', 'empresa', 'empresa', 'empresa', 'empresa', 'empresa', 'empresa', 'empresa', 'empresa', 'empresa', 'empresa', 'empresa', 'empresa', 'empresa', 'empresa', 'empresa', 'empresa', 'empresa', 'empresa', 'empresa', 'empresa', 'empresa', 'empresa', 'empresa', 'empresa', 'empresa', 'empresa', 'empresa', 'empresa', 'empresa', 'empresa', 'empresa', 'empresa', 'empresa', 'empresa', 'empresa', 'empresa', 'empresa', 'empresa', 'empresa', 'empresa', 'empresa', 'empresa', 'empresa', 'empresa', 'empresa', 'empresa', 'descricao', 'descricao', 'descricao', 'descricao', 'descricao', 'descricao', 'descricao', 'descricao', 'descricao', 'descricao', 'descricao', 'descricao', 'descricao', 'descricao', 'descricao', 'descricao', 'descricao', 'descricao', 'descricao', 'descricao', 'descricao', 'descricao', 'descricao', 'descricao', 'descricao', 'descricao', 'descricao', 'descricao', 'descricao', 'descricao', 'descricao', 'descricao', 'descricao', 'descricao', 'descricao', 'descricao', 'descricao', 'descricao', 'descricao', 'descricao', 'descricao', 'descricao', 'descricao', 'descricao', 'descricao', 'descricao', 'descricao', 'descricao', 'descricao', 'descricao', 'descricao', 'descricao', 'descricao', 'descricao', 'salario', 'salario', 'salario', 'salario', 'salario', 'salario', 'salario', 'beneficios', 'beneficios']\n"
     ]
    }
   ],
   "source": [
    "#Testes para verificar previsoes individualmente\n",
    "observacoes, previsto, real = model.predictRandomTest()"
   ]
  },
  {
   "cell_type": "code",
   "execution_count": 25,
   "metadata": {
    "colab": {
     "base_uri": "https://localhost:8080/",
     "height": 53
    },
    "id": "QEaEz4Pu1AmO",
    "outputId": "77bc44c1-2b7b-44df-ba6e-9d600712807b"
   },
   "outputs": [
    {
     "name": "stdout",
     "output_type": "stream",
     "text": [
      "Obs: metrópole / Previsto: salario / Real: empresa\n",
      "Obs: do / Previsto: local / Real: empresa\n",
      "Obs: brasil / Previsto: beneficios / Real: empresa\n",
      "Obs: são / Previsto: descricao / Real: empresa\n",
      "Obs: <unk> / Previsto: salario / Real: empresa\n",
      "Obs: no / Previsto: local / Real: empresa\n",
      "Obs: <unk> / Previsto: beneficios / Real: empresa\n",
      "Obs: profissional / Previsto: descricao / Real: empresa\n",
      "Obs: nossos / Previsto: salario / Real: empresa\n",
      "Obs: <unk> / Previsto: local / Real: empresa\n",
      "Obs: <unk> / Previsto: beneficios / Real: empresa\n",
      "Obs: do / Previsto: descricao / Real: empresa\n",
      "Obs: plano / Previsto: salario / Real: empresa\n",
      "Obs: de / Previsto: local / Real: empresa\n",
      "Obs: carreira / Previsto: beneficios / Real: empresa\n",
      "Obs: que / Previsto: descricao / Real: empresa\n",
      "Obs: cerca / Previsto: salario / Real: empresa\n",
      "Obs: de / Previsto: local / Real: empresa\n",
      "Obs: <unk> / Previsto: beneficios / Real: empresa\n",
      "Obs: <unk> / Previsto: descricao / Real: empresa\n",
      "Obs: brasil / Previsto: salario / Real: empresa\n",
      "Obs: e / Previsto: local / Real: empresa\n",
      "Obs: ele / Previsto: beneficios / Real: empresa\n",
      "Obs: só / Previsto: descricao / Real: empresa\n",
      "Obs: ter / Previsto: salario / Real: empresa\n",
      "Obs: <unk> / Previsto: local / Real: empresa\n",
      "Obs: meses / Previsto: beneficios / Real: empresa\n",
      "Obs: de / Previsto: descricao / Real: empresa\n",
      "Obs: para / Previsto: salario / Real: empresa\n",
      "Obs: participar / Previsto: local / Real: empresa\n",
      "Obs: do / Previsto: beneficios / Real: empresa\n",
      "Obs: nosso / Previsto: descricao / Real: empresa\n",
      "Obs: além / Previsto: salario / Real: empresa\n",
      "Obs: disso / Previsto: local / Real: empresa\n",
      "Obs: nos / Previsto: beneficios / Real: empresa\n",
      "Obs: <unk> / Previsto: descricao / Real: empresa\n",
      "Obs: criar / Previsto: salario / Real: empresa\n",
      "Obs: um / Previsto: local / Real: empresa\n",
      "Obs: ambiente / Previsto: beneficios / Real: empresa\n",
      "Obs: <unk> / Previsto: descricao / Real: empresa\n",
      "Obs: nossos / Previsto: salario / Real: empresa\n",
      "Obs: <unk> / Previsto: local / Real: empresa\n",
      "Obs: <unk> / Previsto: beneficios / Real: empresa\n",
      "Obs: dias / Previsto: descricao / Real: empresa\n",
      "Obs: e / Previsto: salario / Real: empresa\n",
      "Obs: até / Previsto: local / Real: empresa\n",
      "Obs: <unk> / Previsto: beneficios / Real: empresa\n",
      "Obs: para / Previsto: descricao / Real: empresa\n",
      "Obs: mais / Previsto: salario / Real: empresa\n",
      "Obs: <unk> / Previsto: local / Real: empresa\n",
      "Obs: descrição / Previsto: beneficios / Real: descricao\n",
      "Obs: atendimento / Previsto: empresa / Real: descricao\n",
      "Obs: a / Previsto: salario / Real: descricao\n",
      "Obs: clientes / Previsto: local / Real: descricao\n",
      "Obs: <unk> / Previsto: beneficios / Real: descricao\n",
      "Obs: via / Previsto: empresa / Real: descricao\n",
      "Obs: telefone / Previsto: salario / Real: descricao\n",
      "Obs: a / Previsto: local / Real: descricao\n",
      "Obs: clientes / Previsto: beneficios / Real: descricao\n",
      "Obs: <unk> / Previsto: empresa / Real: descricao\n",
      "Obs: dúvidas / Previsto: salario / Real: descricao\n",
      "Obs: em / Previsto: local / Real: descricao\n",
      "Obs: <unk> / Previsto: beneficios / Real: descricao\n",
      "Obs: <unk> / Previsto: empresa / Real: descricao\n",
      "Obs: <unk> / Previsto: salario / Real: descricao\n",
      "Obs: <unk> / Previsto: local / Real: descricao\n",
      "Obs: <unk> / Previsto: beneficios / Real: descricao\n",
      "Obs: e / Previsto: empresa / Real: descricao\n",
      "Obs: <unk> / Previsto: salario / Real: descricao\n",
      "Obs: requisitos / Previsto: local / Real: descricao\n",
      "Obs: necessário / Previsto: beneficios / Real: descricao\n",
      "Obs: médio / Previsto: empresa / Real: descricao\n",
      "Obs: <unk> / Previsto: salario / Real: descricao\n",
      "Obs: ensino / Previsto: local / Real: descricao\n",
      "Obs: superior / Previsto: beneficios / Real: descricao\n",
      "Obs: <unk> / Previsto: empresa / Real: descricao\n",
      "Obs: ou / Previsto: salario / Real: descricao\n",
      "Obs: completo / Previsto: local / Real: descricao\n",
      "Obs: em / Previsto: beneficios / Real: descricao\n",
      "Obs: de / Previsto: empresa / Real: descricao\n",
      "Obs: <unk> / Previsto: salario / Real: descricao\n",
      "Obs: <unk> / Previsto: local / Real: descricao\n",
      "Obs: em / Previsto: beneficios / Real: descricao\n",
      "Obs: <unk> / Previsto: empresa / Real: descricao\n",
      "Obs: configuração / Previsto: salario / Real: descricao\n",
      "Obs: de / Previsto: local / Real: descricao\n",
      "Obs: <unk> / Previsto: beneficios / Real: descricao\n",
      "Obs: de / Previsto: empresa / Real: descricao\n",
      "Obs: <unk> / Previsto: salario / Real: descricao\n",
      "Obs: e / Previsto: local / Real: descricao\n",
      "Obs: <unk> / Previsto: beneficios / Real: descricao\n",
      "Obs: e / Previsto: empresa / Real: descricao\n",
      "Obs: etc / Previsto: salario / Real: descricao\n",
      "Obs: faixa / Previsto: local / Real: salario\n",
      "Obs: salarial / Previsto: beneficios / Real: salario\n",
      "Obs: <unk> / Previsto: descricao / Real: salario\n",
      "Obs: <unk> / Previsto: empresa / Real: salario\n",
      "Obs: <unk> / Previsto: local / Real: salario\n",
      "Obs: <unk> / Previsto: beneficios / Real: salario\n",
      "Obs: assistência / Previsto: descricao / Real: beneficios\n",
      "Obs: médica / Previsto: empresa / Real: beneficios\n"
     ]
    }
   ],
   "source": [
    "#Exibe as mudanças de estado incorretas\n",
    "model.ExibeMudancasEstadoIncorretas(observacoes, previsto, real)"
   ]
  }
 ],
 "metadata": {
  "accelerator": "GPU",
  "colab": {
   "collapsed_sections": [],
   "name": "HMMVagas_V3",
   "provenance": []
  },
  "kernelspec": {
   "display_name": "Python 3",
   "language": "python",
   "name": "python3"
  },
  "language_info": {
   "codemirror_mode": {
    "name": "ipython",
    "version": 3
   },
   "file_extension": ".py",
   "mimetype": "text/x-python",
   "name": "python",
   "nbconvert_exporter": "python",
   "pygments_lexer": "ipython3",
   "version": "3.8.3"
  }
 },
 "nbformat": 4,
 "nbformat_minor": 1
}
