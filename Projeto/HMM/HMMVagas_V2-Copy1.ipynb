{
 "cells": [
  {
   "cell_type": "code",
   "execution_count": 1,
   "metadata": {
    "id": "P1H9UTBLvtKR"
   },
   "outputs": [],
   "source": [
    "#Unknow vocabulary fixed size\n",
    "import os\n",
    "\n",
    "import lib.tratamentoTexto as TT\n",
    "from lib.HMM_Vagas_V2 import HMM_Vagas_V2"
   ]
  },
  {
   "cell_type": "code",
   "execution_count": 2,
   "metadata": {},
   "outputs": [],
   "source": [
    "path = \"../Dados/vagas.json\"\n",
    "estados = ['salario', 'local', 'beneficios', 'descricao', 'empresa']\n",
    "data = TT.loadDataset(path, True)"
   ]
  },
  {
   "cell_type": "code",
   "execution_count": null,
   "metadata": {
    "colab": {
     "base_uri": "https://localhost:8080/",
     "height": 1000
    },
    "id": "CC2asZbjsY2l",
    "outputId": "1093731a-c71e-44ed-ed63-78a9c041dfe3"
   },
   "outputs": [
    {
     "name": "stdout",
     "output_type": "stream",
     "text": [
      "Calculating fit<....................................................................................................>\n",
      "Fit duration: 0:14:23.825564\n",
      "Calculating cost <............................................................................................>\n",
      "Cost: 0.5526300664797058 percent 2.6\n",
      "Calculating fit<....................................................................................................>\n",
      "Fit duration: 0:14:47.669005\n",
      "Calculating cost <............................................................................................>\n",
      "Cost: 0.5525882440480009 percent 2.7\n",
      "Calculating fit<....................................................................................................>\n",
      "Fit duration: 0:20:04.062887\n",
      "Calculating cost <............................."
     ]
    }
   ],
   "source": [
    "#Cost: 0.553309745139746 percent 2.0\n",
    "def encontraMelhorPercentUnk():\n",
    "  costList = []\n",
    "  for i in range(6, 20):\n",
    "    perc = 2 + i / 10\n",
    "    model = HMM_Vagas_V2(data = data, trainPerc=0.7, estados=estados, unkPercent = perc)\n",
    "    model.fit()\n",
    "    cost  = model.cost(model.train)\n",
    "    costList.append(cost)\n",
    "    print(\"Cost:\", cost, \"percent\", perc)\n",
    "  melhor = max(costList)\n",
    "  percent = 2 + costList.index(melhor) / 10\n",
    "  print(\"Melhor valor\", melhor, \"usando\", percent, \"%\")\n",
    "  return costList, percent\n",
    "\n",
    "lista, percent = encontraMelhorPercentUnk()"
   ]
  },
  {
   "cell_type": "code",
   "execution_count": 3,
   "metadata": {
    "colab": {
     "base_uri": "https://localhost:8080/",
     "height": 255
    },
    "id": "7iMwDpXHidAw",
    "outputId": "64ca6833-8257-430b-8fe9-a521983a14fe"
   },
   "outputs": [
    {
     "name": "stdout",
     "output_type": "stream",
     "text": [
      "Calculating fit<....................................................................................................>\n",
      "Fit duration: 0:12:53.081536\n"
     ]
    }
   ],
   "source": [
    "data = TT.loadDataset(path, True)\n",
    "model = HMM_Vagas_V2(data = data, trainPerc=0.7, estados=estados, unkPercent = 3.2)\n",
    "model.fit()"
   ]
  },
  {
   "cell_type": "code",
   "execution_count": 4,
   "metadata": {
    "colab": {
     "base_uri": "https://localhost:8080/",
     "height": 310
    },
    "id": "Aqs6vX2e5V8z",
    "outputId": "fce0eebe-2480-46d6-f20e-feae51bd6574"
   },
   "outputs": [
    {
     "name": "stdout",
     "output_type": "stream",
     "text": [
      "Calculating cost <.....................................................................................................>\n",
      "Acuracia: 0.5694460666164088\n",
      "Percentual acertos totais: 0.06646138054914036\n",
      "Precision em salario 0.1268290859376669\n",
      "Recall em salario 0.7009326486039785\n",
      "F1 Score em salario 0.21479284054012499\n",
      "Precisão de acerto de transição de estado em salario\n",
      "\t {'salario': 0.7014336093222938, 'local': 0.6032110091743119, 'beneficios': 0.7020497803806734, 'descricao': 0.8774373259052924, 'empresa': 0.7876895628902766}\n",
      "\n",
      "Precision em local 0.04107042648709315\n",
      "Recall em local 0.5035837155963303\n",
      "F1 Score em local 0.07594690418540297\n",
      "Precisão de acerto de transição de estado em local\n",
      "\t {'salario': 0.7020822210357714, 'local': 0.47223124391036053, 'beneficios': 0.6274809160305344, 'descricao': 0.9058891454965358, 'empresa': 0.6925925925925925}\n",
      "\n",
      "Precision em beneficios 0.044081004207705506\n",
      "Recall em beneficios 0.6083042737815262\n",
      "F1 Score em beneficios 0.08220499191758678\n",
      "Precisão de acerto de transição de estado em beneficios\n",
      "\t {'salario': 0.7157816005983545, 'local': 0.6270310192023634, 'beneficios': 0.6679712981082844, 'descricao': 0.8863976083707026, 'empresa': 0.726044226044226}\n",
      "\n",
      "Precision em descricao 0.8932967134012972\n",
      "Recall em descricao 0.5760090278884772\n",
      "F1 Score em descricao 0.7003946925989376\n",
      "Precisão de acerto de transição de estado em descricao\n",
      "\t {'salario': 0.5089855072463768, 'local': 0.17827298050139276, 'beneficios': 0.14357864357864358, 'descricao': 0.5736421884824753, 'empresa': 0.12626728110599078}\n",
      "\n",
      "Precision em empresa 0.6863327777750624\n",
      "Recall em empresa 0.5484202304237453\n",
      "F1 Score em empresa 0.6096746112549901\n",
      "Precisão de acerto de transição de estado em empresa\n",
      "\t {'salario': 0.5126416739319966, 'local': 0.12047101449275362, 'beneficios': 0.1376720901126408, 'descricao': 0.6896551724137931, 'empresa': 0.5471785593793836}\n",
      "\n",
      "Precisão de acerto de transição de estado no estado inicial\n",
      "\t {'salario': 1.0, 'local': 0.9816360601001669, 'beneficios': 0.9828101644245142, 'descricao': 0.9988876529477196, 'empresa': 1.0}\n",
      "\n"
     ]
    }
   ],
   "source": [
    "x = model.fullCost(model.tests)"
   ]
  },
  {
   "cell_type": "code",
   "execution_count": null,
   "metadata": {},
   "outputs": [],
   "source": [
    "savePath = \"Resultados/ResultadosV2\"\n",
    "model.salvaTudo(savePath)"
   ]
  },
  {
   "cell_type": "code",
   "execution_count": null,
   "metadata": {
    "colab": {
     "base_uri": "https://localhost:8080/",
     "height": 146
    },
    "id": "8rTOs1_5FAjv",
    "outputId": "f5ae9b02-a9f8-4e2f-9c1a-29d428801f37"
   },
   "outputs": [],
   "source": [
    "#Testes para verificar previsoes individualmente\n",
    "observacoes, previsto, real = model.predictRandomTest()"
   ]
  },
  {
   "cell_type": "code",
   "execution_count": null,
   "metadata": {
    "id": "QEaEz4Pu1AmO"
   },
   "outputs": [],
   "source": [
    "#Exibe as mudanças de estado incorretas\n",
    "model.ExibeMudancasEstadoIncorretas(observacoes, previsto, real)"
   ]
  }
 ],
 "metadata": {
  "accelerator": "GPU",
  "colab": {
   "collapsed_sections": [],
   "name": "HMMVagas_V2",
   "provenance": []
  },
  "kernelspec": {
   "display_name": "Python 3",
   "language": "python",
   "name": "python3"
  },
  "language_info": {
   "codemirror_mode": {
    "name": "ipython",
    "version": 3
   },
   "file_extension": ".py",
   "mimetype": "text/x-python",
   "name": "python",
   "nbconvert_exporter": "python",
   "pygments_lexer": "ipython3",
   "version": "3.7.6"
  }
 },
 "nbformat": 4,
 "nbformat_minor": 1
}
