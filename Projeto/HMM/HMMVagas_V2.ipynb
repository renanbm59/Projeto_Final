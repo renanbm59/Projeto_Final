{
 "cells": [
  {
   "cell_type": "code",
   "execution_count": 1,
   "metadata": {
    "id": "P1H9UTBLvtKR"
   },
   "outputs": [],
   "source": [
    "#Unknow vocabulary fixed size\n",
    "import os\n",
    "\n",
    "import lib.tratamentoTexto as TT\n",
    "from lib.HMM_Vagas_V2 import HMM_Vagas_V2"
   ]
  },
  {
   "cell_type": "code",
   "execution_count": 2,
   "metadata": {},
   "outputs": [],
   "source": [
    "path = \"../Dados/vagas.json\"\n",
    "estados = ['salario', 'local', 'beneficios', 'descricao', 'empresa']"
   ]
  },
  {
   "cell_type": "code",
   "execution_count": 3,
   "metadata": {
    "colab": {
     "base_uri": "https://localhost:8080/",
     "height": 1000
    },
    "id": "CC2asZbjsY2l",
    "outputId": "1093731a-c71e-44ed-ed63-78a9c041dfe3"
   },
   "outputs": [
    {
     "name": "stdout",
     "output_type": "stream",
     "text": [
      "Calculating fit<....................................................................................................>\n",
      "Fit duration: 0:16:14.200858\n",
      "Calculating cost <...............................................................................................................>\n",
      "val_loss: 0.569830183058029 percent 2.0\n",
      "Calculating fit<....................................................................................................>\n",
      "Fit duration: 0:16:10.335289\n",
      "Calculating cost <...............................................................................................................>\n",
      "val_loss: 0.5702536480131811 percent 2.1\n",
      "Calculating fit<....................................................................................................>\n",
      "Fit duration: 0:22:10.367541\n",
      "Calculating cost <...............................................................................................................>\n",
      "val_loss: 0.569411714739516 percent 2.2\n",
      "Calculating fit<....................................................................................................>\n",
      "Fit duration: 0:18:43.477217\n",
      "Calculating cost <...............................................................................................................>\n",
      "val_loss: 0.5697127620970135 percent 2.3\n",
      "Calculating fit<....................................................................................................>\n",
      "Fit duration: 0:16:01.250828\n",
      "Calculating cost <...............................................................................................................>\n",
      "val_loss: 0.5692799284481633 percent 2.4\n",
      "Calculating fit<....................................................................................................>\n",
      "Fit duration: 0:11:59.762294\n",
      "Calculating cost <...............................................................................................................>\n",
      "val_loss: 0.5696078327275952 percent 2.5\n",
      "Calculating fit<....................................................................................................>\n",
      "Fit duration: 0:12:59.664803\n",
      "Calculating cost <...............................................................................................................>\n",
      "val_loss: 0.5692892971418614 percent 2.6\n",
      "Calculating fit<....................................................................................................>\n",
      "Fit duration: 0:11:03.199541\n",
      "Calculating cost <...............................................................................................................>\n",
      "val_loss: 0.5696577990939848 percent 2.7\n",
      "Calculating fit<....................................................................................................>\n",
      "Fit duration: 0:13:22.027845\n",
      "Calculating cost <...............................................................................................................>\n",
      "val_loss: 0.5695934673972582 percent 2.8\n",
      "Calculating fit<....................................................................................................>\n",
      "Fit duration: 0:12:45.261563\n",
      "Calculating cost <...............................................................................................................>\n",
      "val_loss: 0.5695791020669212 percent 2.9\n",
      "Calculating fit<....................................................................................................>\n",
      "Fit duration: 0:10:51.640952\n",
      "Calculating cost <...............................................................................................................>\n",
      "val_loss: 0.569787087067018 percent 3.0\n",
      "Calculating fit<....................................................................................................>\n",
      "Fit duration: 0:11:37.224214\n",
      "Calculating cost <...............................................................................................................>\n",
      "val_loss: 0.569863910355342 percent 3.1\n",
      "Calculating fit<....................................................................................................>\n",
      "Fit duration: 0:11:47.080436\n",
      "Calculating cost <...............................................................................................................>\n",
      "val_loss: 0.5696983967666764 percent 3.2\n",
      "Calculating fit<....................................................................................................>\n",
      "Fit duration: 0:11:57.930883\n",
      "Calculating cost <...............................................................................................................>\n",
      "val_loss: 0.5695004050398575 percent 3.3\n",
      "Calculating fit<....................................................................................................>\n",
      "Fit duration: 0:11:40.259898\n",
      "Calculating cost <...............................................................................................................>\n",
      "val_loss: 0.5695103983131354 percent 3.4\n",
      "Calculating fit<....................................................................................................>\n",
      "Fit duration: 0:11:06.314244\n",
      "Calculating cost <...............................................................................................................>\n",
      "val_loss: 0.5685853959553475 percent 3.5\n",
      "Calculating fit<....................................................................................................>\n",
      "Fit duration: 0:11:20.088350\n",
      "Calculating cost <...............................................................................................................>\n",
      "val_loss: 0.5700725199350187 percent 3.6\n",
      "Calculating fit<....................................................................................................>\n",
      "Fit duration: 0:11:41.444669\n",
      "Calculating cost <...............................................................................................................>\n",
      "val_loss: 0.5692262146042945 percent 3.7\n",
      "Calculating fit<....................................................................................................>\n",
      "Fit duration: 0:11:41.032072\n",
      "Calculating cost <...............................................................................................................>\n",
      "val_loss: 0.5696809085384401 percent 3.8\n",
      "Calculating fit<....................................................................................................>\n",
      "Fit duration: 0:12:03.510141\n",
      "Calculating cost <...............................................................................................................>\n",
      "val_loss: 0.569989450850896 percent 3.9\n",
      "Melhor valor 0.5702536480131811 usando 2.1 %\n"
     ]
    }
   ],
   "source": [
    "def encontraMelhorPercentUnk():\n",
    "  lossList = []\n",
    "  for i in range(20):\n",
    "    perc = 2 + i / 10\n",
    "    data = TT.loadDataset(path, True)\n",
    "    model = HMM_Vagas_V2(data = data, trainPerc=0.7, estados=estados, unkPercent = perc)\n",
    "    model.fit()\n",
    "    val_loss  = model.test()\n",
    "    lossList.append(val_loss)\n",
    "    print(\"val_loss:\", val_loss, \"percent\", perc)\n",
    "  melhor = max(lossList)\n",
    "  percent = 2 + lossList.index(melhor) / 10\n",
    "  print(\"Melhor valor\", melhor, \"usando\", percent, \"%\")\n",
    "  return lossList, percent\n",
    "\n",
    "lista, percent = encontraMelhorPercentUnk()"
   ]
  },
  {
   "cell_type": "code",
   "execution_count": 4,
   "metadata": {
    "colab": {
     "base_uri": "https://localhost:8080/",
     "height": 255
    },
    "id": "7iMwDpXHidAw",
    "outputId": "64ca6833-8257-430b-8fe9-a521983a14fe"
   },
   "outputs": [
    {
     "name": "stdout",
     "output_type": "stream",
     "text": [
      "Calculating fit<....................................................................................................>\n",
      "Fit duration: 0:11:28.675287\n"
     ]
    }
   ],
   "source": [
    "data = TT.loadDataset(path, True)\n",
    "model = HMM_Vagas_V2(data = data, trainPerc=0.7, estados=estados, unkPercent = percent)\n",
    "model.fit()"
   ]
  },
  {
   "cell_type": "code",
   "execution_count": 5,
   "metadata": {
    "colab": {
     "base_uri": "https://localhost:8080/",
     "height": 310
    },
    "id": "Aqs6vX2e5V8z",
    "outputId": "fce0eebe-2480-46d6-f20e-feae51bd6574"
   },
   "outputs": [
    {
     "name": "stdout",
     "output_type": "stream",
     "text": [
      "Calculating cost <.....................................................................................................>\n",
      "Loss: 0.5690863087784035\n",
      "Percentual acertos totais: 0.06543494996150885\n",
      "Loss em salario 0.696889203706983\n",
      "\t {'local': 0.6070414537194776, 'beneficios': 0.695906432748538, 'descricao': 0.8941041785918717, 'empresa': 0.768624014022787}\n",
      "Loss em local 0.5016485091743119\n",
      "\t {'salario': 0.7075208913649025, 'beneficios': 0.6432350718065004, 'descricao': 0.8959025470653378, 'empresa': 0.6884057971014492}\n",
      "Loss em beneficios 0.6163328197226502\n",
      "\t {'salario': 0.7231343283582089, 'local': 0.6269662921348315, 'descricao': 0.8916728076639646, 'empresa': 0.772782503037667}\n",
      "Loss em descricao 0.5779617656092658\n",
      "\t {'salario': 0.4825136612021858, 'local': 0.1433389544688027, 'beneficios': 0.1578137028483449, 'empresa': 0.13783533765032377}\n",
      "Loss em empresa 0.5434993165397384\n",
      "\t {'salario': 0.503957783641161, 'local': 0.12829845313921748, 'beneficios': 0.178743961352657, 'descricao': 0.6869806094182825}\n",
      "Loss em estado inicial\n",
      "\t {'salario': 1.0, 'local': 0.9945054945054945, 'beneficios': 0.9884141926140478, 'descricao': 1.0, 'empresa': 1.0}\n"
     ]
    }
   ],
   "source": [
    "x = model.fullCost(model.tests)"
   ]
  },
  {
   "cell_type": "code",
   "execution_count": 6,
   "metadata": {},
   "outputs": [],
   "source": [
    "savePath = \"Resultados/ResultadosV2\"\n",
    "model.salvaTudo(savePath)"
   ]
  },
  {
   "cell_type": "code",
   "execution_count": 7,
   "metadata": {
    "colab": {
     "base_uri": "https://localhost:8080/",
     "height": 146
    },
    "id": "8rTOs1_5FAjv",
    "outputId": "f5ae9b02-a9f8-4e2f-9c1a-29d428801f37"
   },
   "outputs": [
    {
     "name": "stdout",
     "output_type": "stream",
     "text": [
      "Observacoes\n",
      "\t ['faixa', 'salarial', 'a', 'combinar', 'amparo', 'empresa', 'fundada', 'em', '1950', 'a', 'ypê', 'é', 'uma', 'empresa', '100%', 'brasileira', 'líder', 'no', 'segmento', 'de', 'higiene', 'e', 'limpeza', 'que', 'há', '70', 'anos', 'preza', 'pelo', 'bem-estar', 'qualidade', 'de', 'vida', 'e', 'saúde', 'das', 'pessoas', 'nossa', 'cultura', 'visa', 'garantir', 'a', 'qualidade', 'em', 'tudo', 'o', 'que', 'fazemos', 'com', 'simplicidade', 'humildade', 'comprometimento', 'honestidade', 'senso', 'de', 'dono', 'e', 'responsabilidadecom', 'matriz', 'localizada', 'em', 'amparo', 'interior', 'de', 'são', 'paulo', 'conta', 'com', 'mais', 'quatro', 'unidades', 'fabris', 'salto', 'sp', 'simões', 'filho', 'ba', 'anápolis', 'go', 'e', 'goiânia', 'goatuamos', 'com', 'mais', 'de', '6000', 'colaboradores', 'e', 'oferecemos', 'um', 'portfólio', 'com', 'diversas', 'linhas', 'de', 'produtos', 'divididas', 'em', 'três', 'categorias', 'limpeza', 'da', 'casa', 'cuidado', 'com', 'a', 'roupa', 'e', 'higiene', 'corporalbuscamos', 'pessoas', 'que', 'transformam', 'os', 'ambientes', 'que', 'vivem', 'com', 'otimismo', 'e', 'fazem', 'sempre', 'o', 'melhor', 'para', 'os', 'consumidores', 'e', 'para', 'o', 'negócio', 'pessoas', 'movidas', 'pela', 'inovação', 'que', 'se', 'adaptam', 'agem', 'como', 'donos', 'cumprem', 'o', 'que', 'prometem', 'e', 'praticam', 'ações', 'que', 'contribuem', 'com', 'o', 'futuro', 'da', 'nossa', 'gente', 'e', 'do', 'planeta', 'descrição', 'quais', 'serão', 'suas', 'atividades-', 'operar', 'as', 'caldeiras', 'por', 'meio', 'de', 'equipamentos', 'checando', 'os', 'sistemas', 'de', 'operações', 'necessários', 'ajustando', 'os', 'equipamentos', 'dentro', 'dos', 'padrões', 'estabelecidos-', 'visando', 'à', 'geração', 'de', 'vapor', 'e', 'o', 'tratamento', 'das', 'torres', 'de', 'resfriamento', 'suprir', 'as', 'necessidades', 'da', 'empresa', 'e', 'preservar', 'o', 'meio', 'ambiente', 'você', 'precisa', 'dessas', 'habilidades', 'e', 'experiências', '-', 'ensino', 'médio', 'completo-', 'necessário', 'ter', 'o', 'curso', 'de', 'operador', 'de', 'caldeira', 'atualizado-', 'conhecimento', 'do', 'processo', 'de', 'análise', 'de', 'águas', 'caldeiras', '<unk>', 'ete', '<unk>', 'vivência', 'com', 'tpm', 'vale', 'a', 'pena', 'mencionar', '2º', 'turno', '13h20', 'às', '21h40', '-', '6x2', 'se', 'você', 'tem', 'as', 'experiências', 'e', 'competências', 'acima', 'estamos', 'em', 'busca', 'de', 'um', 'profissional', 'como', 'você', 'mas', 'se', 'você', 'não', 'se', 'identificou', 'com', 'a', 'vaga', 'compartilhe', 'e', 'faça', 'a', 'diferença', 'assistência', 'médica']\n",
      "Previsto\n",
      "\t ['salario', 'salario', 'salario', 'salario', 'local', 'empresa', 'empresa', 'empresa', 'empresa', 'empresa', 'empresa', 'empresa', 'empresa', 'empresa', 'empresa', 'empresa', 'empresa', 'empresa', 'empresa', 'empresa', 'empresa', 'empresa', 'empresa', 'empresa', 'empresa', 'empresa', 'empresa', 'empresa', 'empresa', 'empresa', 'empresa', 'empresa', 'empresa', 'empresa', 'empresa', 'empresa', 'empresa', 'empresa', 'empresa', 'empresa', 'empresa', 'empresa', 'empresa', 'empresa', 'empresa', 'empresa', 'empresa', 'empresa', 'empresa', 'empresa', 'empresa', 'empresa', 'empresa', 'empresa', 'empresa', 'empresa', 'empresa', 'empresa', 'empresa', 'empresa', 'empresa', 'empresa', 'empresa', 'empresa', 'empresa', 'empresa', 'empresa', 'empresa', 'empresa', 'empresa', 'empresa', 'empresa', 'empresa', 'empresa', 'empresa', 'empresa', 'empresa', 'empresa', 'empresa', 'empresa', 'empresa', 'empresa', 'empresa', 'empresa', 'empresa', 'empresa', 'empresa', 'empresa', 'empresa', 'empresa', 'empresa', 'empresa', 'empresa', 'empresa', 'empresa', 'empresa', 'empresa', 'empresa', 'empresa', 'empresa', 'empresa', 'empresa', 'empresa', 'empresa', 'empresa', 'empresa', 'empresa', 'empresa', 'empresa', 'empresa', 'empresa', 'empresa', 'empresa', 'salario', 'local', 'beneficios', 'descricao', 'empresa', 'salario', 'local', 'beneficios', 'descricao', 'empresa', 'salario', 'local', 'beneficios', 'descricao', 'empresa', 'salario', 'local', 'beneficios', 'descricao', 'empresa', 'salario', 'local', 'beneficios', 'descricao', 'empresa', 'salario', 'local', 'beneficios', 'descricao', 'empresa', 'salario', 'local', 'beneficios', 'descricao', 'empresa', 'salario', 'local', 'beneficios', 'descricao', 'empresa', 'salario', 'local', 'beneficios', 'descricao', 'empresa', 'salario', 'local', 'beneficios', 'descricao', 'empresa', 'salario', 'local', 'beneficios', 'descricao', 'empresa', 'salario', 'local', 'beneficios', 'descricao', 'empresa', 'salario', 'local', 'beneficios', 'descricao', 'empresa', 'salario', 'local', 'beneficios', 'descricao', 'empresa', 'salario', 'local', 'beneficios', 'descricao', 'empresa', 'salario', 'local', 'beneficios', 'descricao', 'empresa', 'salario', 'local', 'beneficios', 'descricao', 'empresa', 'salario', 'local', 'beneficios', 'descricao', 'empresa', 'salario', 'local', 'beneficios', 'descricao', 'empresa', 'salario', 'local', 'beneficios', 'descricao', 'empresa', 'salario', 'local', 'beneficios', 'descricao', 'empresa', 'salario', 'local', 'beneficios', 'descricao', 'empresa', 'salario', 'local', 'beneficios', 'descricao', 'empresa', 'salario', 'local', 'beneficios', 'descricao', 'empresa', 'salario', 'local', 'beneficios', 'descricao', 'empresa', 'salario', 'local', 'beneficios', 'descricao', 'empresa', 'salario', 'local', 'beneficios', 'descricao', 'empresa', 'salario', 'local', 'beneficios', 'descricao', 'empresa', 'salario', 'local', 'beneficios', 'descricao', 'empresa', 'salario', 'local', 'beneficios', 'descricao', 'empresa', 'salario', 'local', 'beneficios', 'descricao', 'empresa', 'salario', 'local', 'beneficios', 'descricao', 'empresa', 'salario', 'local', 'beneficios', 'descricao', 'empresa', 'salario', 'local', 'beneficios', 'descricao', 'empresa', 'salario', 'local', 'beneficios', 'descricao', 'empresa', 'salario', 'local', 'beneficios', 'descricao', 'empresa', 'salario', 'local', 'beneficios', 'descricao', 'empresa', 'salario', 'local', 'beneficios', 'descricao', 'empresa', 'salario', 'local', 'beneficios', 'descricao', 'empresa', 'salario', 'local', 'beneficios', 'descricao', 'empresa', 'salario', 'local', 'beneficios', 'descricao', 'empresa', 'salario', 'local', 'beneficios', 'descricao', 'empresa', 'salario', 'local', 'beneficios', 'descricao', 'empresa', 'salario', 'local', 'beneficios', 'descricao', 'empresa', 'salario', 'local', 'beneficios', 'descricao', 'empresa', 'salario', 'local', 'beneficios', 'descricao', 'empresa', 'salario', 'local', 'beneficios', 'descricao', 'empresa', 'salario', 'local', 'beneficios', 'descricao', 'empresa', 'salario', 'local', 'beneficios', 'descricao', 'empresa', 'salario', 'local', 'beneficios', 'descricao', 'empresa', 'salario', 'local', 'beneficios', 'descricao', 'empresa', 'salario', 'local', 'beneficios', 'descricao', 'empresa', 'salario', 'local', 'beneficios', 'descricao', 'empresa', 'salario', 'local', 'beneficios', 'descricao', 'empresa', 'salario', 'local', 'beneficios', 'descricao', 'empresa', 'salario', 'local', 'beneficios', 'descricao', 'empresa', 'salario', 'local', 'beneficios', 'descricao', 'empresa', 'salario', 'local', 'beneficios', 'descricao', 'empresa', 'salario', 'local', 'beneficios', 'descricao', 'empresa', 'salario', 'local', 'beneficios', 'descricao', 'empresa', 'salario', 'local', 'beneficios', 'descricao', 'empresa', 'salario', 'local', 'beneficios', 'descricao', 'empresa', 'salario', 'local', 'beneficios', 'descricao', 'empresa', 'salario', 'local', 'beneficios', 'descricao', 'empresa', 'salario', 'local', 'beneficios', 'descricao', 'empresa', 'salario', 'local', 'beneficios', 'descricao', 'empresa', 'salario', 'local', 'beneficios', 'descricao', 'empresa', 'salario', 'local', 'beneficios', 'descricao', 'empresa', 'salario', 'local', 'beneficios', 'descricao', 'empresa', 'salario', 'local', 'beneficios', 'descricao', 'empresa', 'salario', 'local', 'beneficios', 'descricao', 'empresa', 'salario', 'local', 'beneficios', 'descricao', 'empresa', 'salario', 'local', 'beneficios', 'descricao', 'empresa', 'salario', 'local', 'beneficios', 'descricao', 'empresa', 'salario', 'local', 'beneficios', 'descricao', 'empresa', 'salario', 'local', 'beneficios', 'descricao', 'empresa', 'salario', 'local', 'beneficios', 'descricao', 'empresa', 'salario', 'local', 'beneficios', 'descricao', 'empresa', 'salario', 'local', 'beneficios', 'descricao', 'empresa', 'salario', 'local', 'beneficios', 'descricao', 'empresa', 'salario', 'local', 'beneficios', 'descricao', 'empresa', 'salario', 'local', 'beneficios', 'descricao', 'empresa', 'salario', 'local', 'beneficios', 'descricao', 'empresa', 'salario', 'local', 'beneficios', 'descricao', 'empresa', 'salario', 'local', 'beneficios', 'descricao', 'empresa', 'salario', 'local', 'beneficios', 'descricao', 'empresa', 'salario', 'local', 'beneficios', 'descricao', 'empresa', 'salario', 'local', 'beneficios', 'descricao', 'empresa', 'salario', 'local', 'beneficios', 'descricao', 'empresa', 'salario', 'local', 'beneficios', 'descricao', 'empresa', 'salario', 'local', 'beneficios', 'descricao', 'empresa', 'salario', 'local', 'beneficios', 'descricao', 'empresa', 'salario', 'local', 'beneficios', 'descricao', 'empresa', 'salario', 'local', 'beneficios', 'descricao', 'empresa', 'salario', 'local', 'beneficios', 'descricao', 'empresa', 'salario', 'local', 'beneficios', 'descricao', 'empresa', 'salario', 'local', 'beneficios', 'descricao', 'empresa', 'salario', 'local', 'beneficios', 'descricao', 'empresa', 'salario', 'local', 'beneficios', 'descricao', 'empresa', 'salario', 'local', 'beneficios', 'descricao', 'empresa', 'salario', 'local', 'beneficios', 'descricao', 'empresa', 'salario', 'local', 'beneficios', 'descricao', 'empresa', 'salario', 'local', 'beneficios', 'descricao', 'empresa', 'salario', 'local', 'beneficios', 'descricao', 'empresa', 'salario', 'local', 'beneficios', 'descricao', 'empresa', 'salario', 'local', 'beneficios', 'descricao', 'empresa', 'salario', 'local', 'beneficios', 'descricao', 'empresa', 'salario', 'local', 'beneficios', 'descricao', 'empresa', 'salario', 'local', 'beneficios', 'descricao', 'empresa', 'salario', 'local', 'beneficios', 'descricao', 'empresa', 'salario', 'local', 'beneficios', 'descricao', 'empresa', 'salario', 'local', 'beneficios', 'descricao', 'empresa', 'salario', 'local', 'beneficios', 'descricao', 'empresa', 'salario', 'local', 'beneficios', 'descricao', 'empresa', 'salario', 'local', 'beneficios', 'descricao', 'empresa', 'salario', 'local', 'beneficios', 'descricao', 'empresa', 'salario', 'local', 'beneficios', 'descricao', 'empresa', 'salario', 'local', 'beneficios', 'descricao', 'empresa', 'salario', 'local', 'beneficios', 'descricao', 'empresa', 'salario', 'local', 'beneficios', 'descricao', 'empresa', 'salario', 'local', 'beneficios', 'descricao', 'empresa', 'salario', 'local', 'beneficios', 'descricao', 'empresa', 'salario', 'local', 'beneficios', 'descricao', 'empresa', 'salario', 'local', 'beneficios', 'descricao', 'empresa', 'salario', 'local', 'beneficios', 'descricao', 'empresa', 'salario', 'local', 'beneficios', 'descricao', 'empresa', 'salario', 'local', 'beneficios', 'descricao', 'empresa', 'salario', 'local', 'beneficios', 'descricao', 'empresa', 'salario', 'local', 'beneficios', 'descricao', 'empresa', 'salario', 'local', 'beneficios', 'descricao', 'empresa', 'salario', 'local', 'beneficios', 'descricao', 'empresa', 'salario', 'local', 'beneficios', 'descricao', 'empresa', 'salario', 'local', 'beneficios', 'descricao', 'empresa', 'salario', 'local', 'beneficios', 'descricao', 'empresa', 'salario', 'local', 'beneficios', 'descricao', 'empresa', 'salario', 'local', 'beneficios', 'descricao', 'empresa', 'salario', 'local', 'beneficios', 'descricao', 'empresa', 'salario', 'local', 'beneficios', 'descricao', 'empresa', 'salario', 'local', 'beneficios', 'descricao', 'empresa', 'salario', 'local', 'beneficios', 'descricao', 'empresa', 'salario', 'local', 'beneficios', 'descricao', 'empresa', 'salario', 'local', 'beneficios', 'descricao', 'empresa', 'salario', 'local', 'beneficios', 'descricao', 'empresa', 'salario', 'local', 'beneficios', 'descricao', 'empresa', 'salario', 'local', 'beneficios', 'descricao', 'empresa', 'salario', 'local', 'beneficios', 'descricao', 'empresa', 'salario', 'local', 'beneficios', 'descricao', 'empresa', 'salario', 'local', 'beneficios', 'descricao', 'empresa', 'salario', 'local', 'beneficios', 'descricao', 'empresa', 'salario', 'local', 'beneficios', 'descricao', 'empresa', 'salario', 'local', 'beneficios', 'descricao', 'empresa', 'salario', 'local', 'beneficios', 'descricao', 'empresa', 'salario', 'local', 'beneficios', 'descricao', 'empresa', 'salario', 'local', 'beneficios', 'descricao', 'empresa', 'salario', 'local', 'beneficios', 'descricao', 'empresa', 'salario', 'local', 'beneficios', 'descricao', 'empresa', 'salario', 'local', 'beneficios', 'descricao', 'empresa', 'salario', 'local', 'beneficios', 'descricao', 'empresa', 'salario', 'local', 'beneficios', 'descricao', 'empresa', 'salario', 'local', 'beneficios', 'descricao', 'empresa', 'salario', 'local', 'beneficios', 'descricao', 'empresa', 'salario', 'local', 'beneficios', 'descricao', 'empresa', 'salario', 'local', 'beneficios', 'descricao', 'empresa', 'salario', 'local', 'beneficios', 'descricao', 'empresa', 'salario', 'local', 'beneficios', 'descricao', 'empresa', 'salario', 'local', 'beneficios', 'descricao', 'empresa', 'salario', 'local', 'beneficios', 'descricao', 'empresa', 'salario', 'local', 'beneficios', 'descricao', 'empresa', 'salario', 'local', 'beneficios', 'descricao', 'empresa']\n",
      "Real\n",
      "\t ['salario', 'salario', 'salario', 'salario', 'local', 'empresa', 'empresa', 'empresa', 'empresa', 'empresa', 'empresa', 'empresa', 'empresa', 'empresa', 'empresa', 'empresa', 'empresa', 'empresa', 'empresa', 'empresa', 'empresa', 'empresa', 'empresa', 'empresa', 'empresa', 'empresa', 'empresa', 'empresa', 'empresa', 'empresa', 'empresa', 'empresa', 'empresa', 'empresa', 'empresa', 'empresa', 'empresa', 'empresa', 'empresa', 'empresa', 'empresa', 'empresa', 'empresa', 'empresa', 'empresa', 'empresa', 'empresa', 'empresa', 'empresa', 'empresa', 'empresa', 'empresa', 'empresa', 'empresa', 'empresa', 'empresa', 'empresa', 'empresa', 'empresa', 'empresa', 'empresa', 'empresa', 'empresa', 'empresa', 'empresa', 'empresa', 'empresa', 'empresa', 'empresa', 'empresa', 'empresa', 'empresa', 'empresa', 'empresa', 'empresa', 'empresa', 'empresa', 'empresa', 'empresa', 'empresa', 'empresa', 'empresa', 'empresa', 'empresa', 'empresa', 'empresa', 'empresa', 'empresa', 'empresa', 'empresa', 'empresa', 'empresa', 'empresa', 'empresa', 'empresa', 'empresa', 'empresa', 'empresa', 'empresa', 'empresa', 'empresa', 'empresa', 'empresa', 'empresa', 'empresa', 'empresa', 'empresa', 'empresa', 'empresa', 'empresa', 'empresa', 'empresa', 'empresa', 'empresa', 'empresa', 'empresa', 'empresa', 'empresa', 'empresa', 'empresa', 'empresa', 'empresa', 'empresa', 'empresa', 'empresa', 'empresa', 'empresa', 'empresa', 'empresa', 'empresa', 'empresa', 'empresa', 'empresa', 'empresa', 'empresa', 'empresa', 'empresa', 'empresa', 'empresa', 'empresa', 'empresa', 'empresa', 'empresa', 'empresa', 'empresa', 'empresa', 'empresa', 'empresa', 'empresa', 'empresa', 'empresa', 'empresa', 'empresa', 'empresa', 'empresa', 'empresa', 'empresa', 'empresa', 'empresa', 'descricao', 'descricao', 'descricao', 'descricao', 'descricao', 'descricao', 'descricao', 'descricao', 'descricao', 'descricao', 'descricao', 'descricao', 'descricao', 'descricao', 'descricao', 'descricao', 'descricao', 'descricao', 'descricao', 'descricao', 'descricao', 'descricao', 'descricao', 'descricao', 'descricao', 'descricao', 'descricao', 'descricao', 'descricao', 'descricao', 'descricao', 'descricao', 'descricao', 'descricao', 'descricao', 'descricao', 'descricao', 'descricao', 'descricao', 'descricao', 'descricao', 'descricao', 'descricao', 'descricao', 'descricao', 'descricao', 'descricao', 'descricao', 'descricao', 'descricao', 'descricao', 'descricao', 'descricao', 'descricao', 'descricao', 'descricao', 'descricao', 'descricao', 'descricao', 'descricao', 'descricao', 'descricao', 'descricao', 'descricao', 'descricao', 'descricao', 'descricao', 'descricao', 'descricao', 'descricao', 'descricao', 'descricao', 'descricao', 'descricao', 'descricao', 'descricao', 'descricao', 'descricao', 'descricao', 'descricao', 'descricao', 'descricao', 'descricao', 'descricao', 'descricao', 'descricao', 'descricao', 'descricao', 'descricao', 'descricao', 'descricao', 'descricao', 'descricao', 'descricao', 'descricao', 'descricao', 'descricao', 'descricao', 'descricao', 'descricao', 'descricao', 'descricao', 'descricao', 'descricao', 'descricao', 'descricao', 'descricao', 'descricao', 'descricao', 'descricao', 'descricao', 'descricao', 'descricao', 'descricao', 'descricao', 'descricao', 'descricao', 'descricao', 'descricao', 'descricao', 'descricao', 'beneficios', 'beneficios']\n"
     ]
    }
   ],
   "source": [
    "#Testes para verificar previsoes individualmente\n",
    "observacoes, previsto, real = model.predictRandomTest()"
   ]
  },
  {
   "cell_type": "code",
   "execution_count": 8,
   "metadata": {
    "id": "QEaEz4Pu1AmO"
   },
   "outputs": [
    {
     "name": "stdout",
     "output_type": "stream",
     "text": [
      "Obs: os / Previsto: salario / Real: empresa\n",
      "Obs: ambientes / Previsto: local / Real: empresa\n",
      "Obs: que / Previsto: beneficios / Real: empresa\n",
      "Obs: vivem / Previsto: descricao / Real: empresa\n",
      "Obs: otimismo / Previsto: salario / Real: empresa\n",
      "Obs: e / Previsto: local / Real: empresa\n",
      "Obs: fazem / Previsto: beneficios / Real: empresa\n",
      "Obs: sempre / Previsto: descricao / Real: empresa\n",
      "Obs: melhor / Previsto: salario / Real: empresa\n",
      "Obs: para / Previsto: local / Real: empresa\n",
      "Obs: os / Previsto: beneficios / Real: empresa\n",
      "Obs: consumidores / Previsto: descricao / Real: empresa\n",
      "Obs: para / Previsto: salario / Real: empresa\n",
      "Obs: o / Previsto: local / Real: empresa\n",
      "Obs: negócio / Previsto: beneficios / Real: empresa\n",
      "Obs: pessoas / Previsto: descricao / Real: empresa\n",
      "Obs: pela / Previsto: salario / Real: empresa\n",
      "Obs: inovação / Previsto: local / Real: empresa\n",
      "Obs: que / Previsto: beneficios / Real: empresa\n",
      "Obs: se / Previsto: descricao / Real: empresa\n",
      "Obs: agem / Previsto: salario / Real: empresa\n",
      "Obs: como / Previsto: local / Real: empresa\n",
      "Obs: donos / Previsto: beneficios / Real: empresa\n",
      "Obs: cumprem / Previsto: descricao / Real: empresa\n",
      "Obs: que / Previsto: salario / Real: empresa\n",
      "Obs: prometem / Previsto: local / Real: empresa\n",
      "Obs: e / Previsto: beneficios / Real: empresa\n",
      "Obs: praticam / Previsto: descricao / Real: empresa\n",
      "Obs: que / Previsto: salario / Real: empresa\n",
      "Obs: contribuem / Previsto: local / Real: empresa\n",
      "Obs: com / Previsto: beneficios / Real: empresa\n",
      "Obs: o / Previsto: descricao / Real: empresa\n",
      "Obs: da / Previsto: salario / Real: empresa\n",
      "Obs: nossa / Previsto: local / Real: empresa\n",
      "Obs: gente / Previsto: beneficios / Real: empresa\n",
      "Obs: e / Previsto: descricao / Real: empresa\n",
      "Obs: planeta / Previsto: salario / Real: empresa\n",
      "Obs: descrição / Previsto: local / Real: descricao\n",
      "Obs: quais / Previsto: beneficios / Real: descricao\n",
      "Obs: suas / Previsto: empresa / Real: descricao\n",
      "Obs: atividades- / Previsto: salario / Real: descricao\n",
      "Obs: operar / Previsto: local / Real: descricao\n",
      "Obs: as / Previsto: beneficios / Real: descricao\n",
      "Obs: por / Previsto: empresa / Real: descricao\n",
      "Obs: meio / Previsto: salario / Real: descricao\n",
      "Obs: de / Previsto: local / Real: descricao\n",
      "Obs: equipamentos / Previsto: beneficios / Real: descricao\n",
      "Obs: os / Previsto: empresa / Real: descricao\n",
      "Obs: sistemas / Previsto: salario / Real: descricao\n",
      "Obs: de / Previsto: local / Real: descricao\n",
      "Obs: operações / Previsto: beneficios / Real: descricao\n",
      "Obs: ajustando / Previsto: empresa / Real: descricao\n",
      "Obs: os / Previsto: salario / Real: descricao\n",
      "Obs: equipamentos / Previsto: local / Real: descricao\n",
      "Obs: dentro / Previsto: beneficios / Real: descricao\n",
      "Obs: padrões / Previsto: empresa / Real: descricao\n",
      "Obs: estabelecidos- / Previsto: salario / Real: descricao\n",
      "Obs: visando / Previsto: local / Real: descricao\n",
      "Obs: à / Previsto: beneficios / Real: descricao\n",
      "Obs: de / Previsto: empresa / Real: descricao\n",
      "Obs: vapor / Previsto: salario / Real: descricao\n",
      "Obs: e / Previsto: local / Real: descricao\n",
      "Obs: o / Previsto: beneficios / Real: descricao\n",
      "Obs: das / Previsto: empresa / Real: descricao\n",
      "Obs: torres / Previsto: salario / Real: descricao\n",
      "Obs: de / Previsto: local / Real: descricao\n",
      "Obs: resfriamento / Previsto: beneficios / Real: descricao\n",
      "Obs: as / Previsto: empresa / Real: descricao\n",
      "Obs: necessidades / Previsto: salario / Real: descricao\n",
      "Obs: da / Previsto: local / Real: descricao\n",
      "Obs: empresa / Previsto: beneficios / Real: descricao\n",
      "Obs: preservar / Previsto: empresa / Real: descricao\n",
      "Obs: o / Previsto: salario / Real: descricao\n",
      "Obs: meio / Previsto: local / Real: descricao\n",
      "Obs: ambiente / Previsto: beneficios / Real: descricao\n",
      "Obs: precisa / Previsto: empresa / Real: descricao\n",
      "Obs: dessas / Previsto: salario / Real: descricao\n",
      "Obs: habilidades / Previsto: local / Real: descricao\n",
      "Obs: e / Previsto: beneficios / Real: descricao\n",
      "Obs: - / Previsto: empresa / Real: descricao\n",
      "Obs: ensino / Previsto: salario / Real: descricao\n",
      "Obs: médio / Previsto: local / Real: descricao\n",
      "Obs: completo- / Previsto: beneficios / Real: descricao\n",
      "Obs: ter / Previsto: empresa / Real: descricao\n",
      "Obs: o / Previsto: salario / Real: descricao\n",
      "Obs: curso / Previsto: local / Real: descricao\n",
      "Obs: de / Previsto: beneficios / Real: descricao\n",
      "Obs: de / Previsto: empresa / Real: descricao\n",
      "Obs: caldeira / Previsto: salario / Real: descricao\n",
      "Obs: atualizado- / Previsto: local / Real: descricao\n",
      "Obs: conhecimento / Previsto: beneficios / Real: descricao\n",
      "Obs: processo / Previsto: empresa / Real: descricao\n",
      "Obs: de / Previsto: salario / Real: descricao\n",
      "Obs: análise / Previsto: local / Real: descricao\n",
      "Obs: de / Previsto: beneficios / Real: descricao\n",
      "Obs: caldeiras / Previsto: empresa / Real: descricao\n",
      "Obs: <unk> / Previsto: salario / Real: descricao\n",
      "Obs: ete / Previsto: local / Real: descricao\n",
      "Obs: <unk> / Previsto: beneficios / Real: descricao\n",
      "Obs: com / Previsto: empresa / Real: descricao\n",
      "Obs: tpm / Previsto: salario / Real: descricao\n",
      "Obs: vale / Previsto: local / Real: descricao\n",
      "Obs: a / Previsto: beneficios / Real: descricao\n",
      "Obs: mencionar / Previsto: empresa / Real: descricao\n",
      "Obs: 2º / Previsto: salario / Real: descricao\n",
      "Obs: turno / Previsto: local / Real: descricao\n",
      "Obs: 13h20 / Previsto: beneficios / Real: descricao\n",
      "Obs: 21h40 / Previsto: empresa / Real: descricao\n",
      "Obs: - / Previsto: salario / Real: descricao\n",
      "Obs: 6x2 / Previsto: local / Real: descricao\n",
      "Obs: se / Previsto: beneficios / Real: descricao\n",
      "Obs: tem / Previsto: empresa / Real: descricao\n",
      "Obs: as / Previsto: salario / Real: descricao\n",
      "Obs: experiências / Previsto: local / Real: descricao\n",
      "Obs: e / Previsto: beneficios / Real: descricao\n",
      "Obs: acima / Previsto: empresa / Real: descricao\n",
      "Obs: estamos / Previsto: salario / Real: descricao\n",
      "Obs: em / Previsto: local / Real: descricao\n",
      "Obs: busca / Previsto: beneficios / Real: descricao\n",
      "Obs: um / Previsto: empresa / Real: descricao\n",
      "Obs: profissional / Previsto: salario / Real: descricao\n",
      "Obs: como / Previsto: local / Real: descricao\n",
      "Obs: você / Previsto: beneficios / Real: descricao\n",
      "Obs: se / Previsto: empresa / Real: descricao\n",
      "Obs: você / Previsto: salario / Real: descricao\n",
      "Obs: não / Previsto: local / Real: descricao\n",
      "Obs: se / Previsto: beneficios / Real: descricao\n",
      "Obs: com / Previsto: empresa / Real: descricao\n",
      "Obs: a / Previsto: salario / Real: descricao\n",
      "Obs: vaga / Previsto: local / Real: descricao\n",
      "Obs: compartilhe / Previsto: beneficios / Real: descricao\n",
      "Obs: faça / Previsto: empresa / Real: descricao\n",
      "Obs: a / Previsto: salario / Real: descricao\n",
      "Obs: diferença / Previsto: local / Real: descricao\n",
      "Obs: médica / Previsto: descricao / Real: beneficios\n"
     ]
    }
   ],
   "source": [
    "#Exibe as mudanças de estado incorretas\n",
    "model.ExibeMudancasEstadoIncorretas(observacoes, previsto, real)"
   ]
  }
 ],
 "metadata": {
  "accelerator": "GPU",
  "colab": {
   "collapsed_sections": [],
   "name": "HMMVagas_V2",
   "provenance": []
  },
  "kernelspec": {
   "display_name": "Python 3",
   "language": "python",
   "name": "python3"
  },
  "language_info": {
   "codemirror_mode": {
    "name": "ipython",
    "version": 3
   },
   "file_extension": ".py",
   "mimetype": "text/x-python",
   "name": "python",
   "nbconvert_exporter": "python",
   "pygments_lexer": "ipython3",
   "version": "3.8.3"
  }
 },
 "nbformat": 4,
 "nbformat_minor": 1
}
