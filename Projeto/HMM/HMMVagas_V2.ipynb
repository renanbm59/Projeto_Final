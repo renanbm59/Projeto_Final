{
 "cells": [
  {
   "cell_type": "code",
   "execution_count": 1,
   "metadata": {
    "id": "P1H9UTBLvtKR"
   },
   "outputs": [],
   "source": [
    "#Unknow vocabulary fixed size\n",
    "import os\n",
    "\n",
    "import lib.tratamentoTexto as TT\n",
    "from lib.HMM_Vagas_V2 import HMM_Vagas_V2"
   ]
  },
  {
   "cell_type": "code",
   "execution_count": 2,
   "metadata": {},
   "outputs": [],
   "source": [
    "path = \"../Dados/vagas.json\"\n",
    "estados = ['salario', 'local', 'beneficios', 'descricao', 'empresa']"
   ]
  },
  {
   "cell_type": "code",
   "execution_count": 3,
   "metadata": {
    "colab": {
     "base_uri": "https://localhost:8080/",
     "height": 1000
    },
    "id": "CC2asZbjsY2l",
    "outputId": "1093731a-c71e-44ed-ed63-78a9c041dfe3"
   },
   "outputs": [
    {
     "name": "stdout",
     "output_type": "stream",
     "text": [
      "Calculating fit<....................................................................................................>\n",
      "Fit duration: 0:17:09.916337\n",
      "Calculating cost <...............................................................................................................>\n",
      "val_loss: 0.5693898544542205 percent 2.0\n",
      "Calculating fit<....................................................................................................>\n",
      "Fit duration: 0:15:48.068274\n",
      "Calculating cost <...............................................................................................................>\n",
      "val_loss: 0.5697814658507991 percent 2.1\n",
      "Calculating fit<....................................................................................................>\n",
      "Fit duration: 0:13:15.822020\n",
      "Calculating cost <...............................................................................................................>\n",
      "val_loss: 0.5695116474722952 percent 2.2\n",
      "Calculating fit<....................................................................................................>\n",
      "Fit duration: 0:12:58.553880\n",
      "Calculating cost <...............................................................................................................>\n",
      "val_loss: 0.5696602974123044 percent 2.3\n",
      "Calculating fit<....................................................................................................>\n",
      "Fit duration: 0:12:55.810098\n",
      "Calculating cost <...............................................................................................................>\n",
      "val_loss: 0.5697202570519719 percent 2.4\n",
      "Calculating fit<....................................................................................................>\n",
      "Fit duration: 0:13:00.276947\n",
      "Calculating cost <...............................................................................................................>\n",
      "val_loss: 0.5699569727127427 percent 2.5\n",
      "Calculating fit<....................................................................................................>\n",
      "Fit duration: 0:13:05.142089\n",
      "Calculating cost <...............................................................................................................>\n",
      "val_loss: 0.5694654285833848 percent 2.6\n",
      "Calculating fit<....................................................................................................>\n",
      "Fit duration: 0:13:07.695431\n",
      "Calculating cost <...............................................................................................................>\n",
      "val_loss: 0.5697458648147465 percent 2.7\n",
      "Calculating fit<....................................................................................................>\n",
      "Fit duration: 0:13:10.390644\n",
      "Calculating cost <...............................................................................................................>\n",
      "val_loss: 0.569878900265259 percent 2.8\n",
      "Calculating fit<....................................................................................................>\n",
      "Fit duration: 0:12:27.474961\n",
      "Calculating cost <...............................................................................................................>\n",
      "val_loss: 0.5697552335084446 percent 2.9\n",
      "Calculating fit<....................................................................................................>\n",
      "Fit duration: 0:12:10.370693\n",
      "Calculating cost <...............................................................................................................>\n",
      "val_loss: 0.569733997802729 percent 3.0\n",
      "Calculating fit<....................................................................................................>\n",
      "Fit duration: 0:09:42.802548\n",
      "Calculating cost <...............................................................................................................>\n",
      "val_loss: 0.5696228226375121 percent 3.1\n",
      "Calculating fit<....................................................................................................>\n",
      "Fit duration: 0:09:37.666813\n",
      "Calculating cost <...............................................................................................................>\n",
      "val_loss: 0.5701206125626688 percent 3.2\n",
      "Calculating fit<....................................................................................................>\n",
      "Fit duration: 0:09:36.938834\n",
      "Calculating cost <...............................................................................................................>\n",
      "val_loss: 0.569912002982992 percent 3.3\n",
      "Calculating fit<....................................................................................................>\n",
      "Fit duration: 0:09:37.773433\n",
      "Calculating cost <...............................................................................................................>\n",
      "val_loss: 0.5695990886134771 percent 3.4\n",
      "Calculating fit<....................................................................................................>\n",
      "Fit duration: 0:09:38.204134\n",
      "Calculating cost <...............................................................................................................>\n",
      "val_loss: 0.569806449033994 percent 3.5\n",
      "Calculating fit<....................................................................................................>\n",
      "Fit duration: 0:10:34.039731\n",
      "Calculating cost <...............................................................................................................>\n",
      "val_loss: 0.5695634875774245 percent 3.6\n",
      "Calculating fit<....................................................................................................>\n",
      "Fit duration: 0:09:36.641614\n",
      "Calculating cost <...............................................................................................................>\n",
      "val_loss: 0.5694991558806978 percent 3.7\n",
      "Calculating fit<....................................................................................................>\n",
      "Fit duration: 0:10:24.876515\n",
      "Calculating cost <...............................................................................................................>\n",
      "val_loss: 0.5688127429224203 percent 3.8\n",
      "Calculating fit<....................................................................................................>\n",
      "Fit duration: 0:09:36.963805\n",
      "Calculating cost <...............................................................................................................>\n",
      "val_loss: 0.5696715398447421 percent 3.9\n",
      "Melhor valor 0.5701206125626688 usando 3.2 %\n"
     ]
    }
   ],
   "source": [
    "def encontraMelhorPercentUnk():\n",
    "  lossList = []\n",
    "  for i in range(20):\n",
    "    perc = 2 + i / 10\n",
    "    data = TT.loadDataset(path, True)\n",
    "    model = HMM_Vagas_V2(data = data, trainPerc=0.7, estados=estados, unkPercent = perc)\n",
    "    model.fit()\n",
    "    val_loss  = model.test()\n",
    "    lossList.append(val_loss)\n",
    "    print(\"val_loss:\", val_loss, \"percent\", perc)\n",
    "  melhor = max(lossList)\n",
    "  percent = 2 + lossList.index(melhor) / 10\n",
    "  print(\"Melhor valor\", melhor, \"usando\", percent, \"%\")\n",
    "  return lossList, percent\n",
    "\n",
    "lista, percent = encontraMelhorPercentUnk()"
   ]
  },
  {
   "cell_type": "code",
   "execution_count": 4,
   "metadata": {
    "colab": {
     "base_uri": "https://localhost:8080/",
     "height": 255
    },
    "id": "7iMwDpXHidAw",
    "outputId": "64ca6833-8257-430b-8fe9-a521983a14fe"
   },
   "outputs": [
    {
     "name": "stdout",
     "output_type": "stream",
     "text": [
      "Calculating fit<....................................................................................................>\n",
      "Fit duration: 0:09:39.616985\n"
     ]
    }
   ],
   "source": [
    "data = TT.loadDataset(path, True)\n",
    "model = HMM_Vagas_V2(data = data, trainPerc=0.7, estados=estados, unkPercent = percent)\n",
    "model.fit()"
   ]
  },
  {
   "cell_type": "code",
   "execution_count": 5,
   "metadata": {
    "colab": {
     "base_uri": "https://localhost:8080/",
     "height": 310
    },
    "id": "Aqs6vX2e5V8z",
    "outputId": "fce0eebe-2480-46d6-f20e-feae51bd6574"
   },
   "outputs": [
    {
     "name": "stdout",
     "output_type": "stream",
     "text": [
      "Calculating cost <.....................................................................................................>\n",
      "Loss: 0.5697421173372673\n",
      "Percentual acertos totais: 0.06915576084167308\n",
      "Loss em salario 0.6923735316687326\n",
      "\t {'salario': 0.6936905857099049, 'local': 0.6099249855741489, 'beneficios': 0.7029992684711046, 'descricao': 0.8838745184369841, 'empresa': 0.7677053824362606}\n",
      "Loss em local 0.5039420871559633\n",
      "\t {'salario': 0.6856659142212189, 'local': 0.4777525170509906, 'beneficios': 0.6264450867052023, 'descricao': 0.8900343642611683, 'empresa': 0.7309782608695652}\n",
      "Loss em beneficios 0.6066823453085719\n",
      "\t {'salario': 0.7038690476190477, 'local': 0.6409295352323838, 'beneficios': 0.6665035877364645, 'descricao': 0.892675852066715, 'empresa': 0.7738814993954051}\n",
      "Loss em descricao 0.5744013483513023\n",
      "\t {'salario': 0.49632975719932243, 'local': 0.13516609392898052, 'beneficios': 0.1334841628959276, 'descricao': 0.5720388866797647, 'empresa': 0.12075134168157424}\n",
      "Loss em empresa 0.5531712556141378\n",
      "\t {'salario': 0.49130434782608695, 'local': 0.13581314878892733, 'beneficios': 0.13059250302297462, 'descricao': 0.6719330855018587, 'empresa': 0.5519235436055172}\n",
      "Loss em estado inicial\n",
      "\t {'salario': 1.0, 'local': 0.9775342465753425, 'beneficios': 0.9891891891891892, 'descricao': 0.9994369369369369, 'empresa': 1.0}\n"
     ]
    }
   ],
   "source": [
    "x = model.fullCost(model.tests)"
   ]
  },
  {
   "cell_type": "code",
   "execution_count": 6,
   "metadata": {},
   "outputs": [],
   "source": [
    "savePath = \"Resultados/ResultadosV2\"\n",
    "model.salvaTudo(savePath)"
   ]
  },
  {
   "cell_type": "code",
   "execution_count": 7,
   "metadata": {
    "colab": {
     "base_uri": "https://localhost:8080/",
     "height": 146
    },
    "id": "8rTOs1_5FAjv",
    "outputId": "f5ae9b02-a9f8-4e2f-9c1a-29d428801f37"
   },
   "outputs": [
    {
     "name": "stdout",
     "output_type": "stream",
     "text": [
      "Observacoes\n",
      "\t ['jarinu', 'assistência', 'médica', 'descrição', 'principais', 'atribuiçõesresponsável', 'pela', 'conferência', 'entradas', 'e', 'saídas', 'de', 'matérias-primas', 'e', 'produtos', 'acabados', 'visando', 'garantir', 'os', 'níveis', 'de', 'qualidade', 'estabelecidos', 'pelas', 'normas', 'de', 'qualidadesuporte', 'no', 'processo', 'de', 'recebimento', 'e', 'armazenamento', 'de', 'materiaisconferência', 'de', 'lotes', 'de', 'mercadorias', 'estoque', 'físico', 'auxilio', 'aos', 'conferente', 'recebimento', 'e', 'controle', 'contábiltreinar', 'a', 'equipe', 'conforme', 'procedimentos', 'internosrequisitosensino', 'superior', 'completo', 'em', 'logística', 'administração', 'eou', 'áreas', 'correlatadasconhecimento', 'no', 'pacote', 'officeconhecimento', 'em', 'wms', 'e', 'inventario', 'cíclicolocal', 'jarinu', '-', 'sptodas', 'as', 'contratações', 'contemplam', 'candidaturas', 'de', 'profissionais', 'com', 'deficiência', 'empresa', 'se', 'você', 'busca', 'um', 'ambiente', 'inovador', 'e', 'tem', 'atitude', 'de', 'dono', 'espirito', 'de', 'time', 'e', 'está', 'em', 'busca', 'de', 'novos', 'desafios', 'a', 'mcassab', 'é', 'a', 'empresa', 'certa', 'para', 'vocêestamos', 'no', 'mercado', 'há', 'mais', 'de', '90', 'anos', 'atuando', 'em', 'cinco', 'grandes', 'áreas', 'distribuição', 'nutrição', 'e', 'saúde', 'animal', 'consumo', 'pescados', 'e', 'investimentos', 'imobiliários', '-', 'que', 'juntas', 'englobam', '14', 'unidades', 'de', 'negócio', 'faixa', 'salarial', 'a', 'combinar']\n",
      "Previsto\n",
      "\t ['local', 'beneficios', 'beneficios', 'descricao', 'descricao', 'descricao', 'descricao', 'descricao', 'descricao', 'descricao', 'descricao', 'descricao', 'descricao', 'descricao', 'descricao', 'descricao', 'descricao', 'descricao', 'descricao', 'descricao', 'descricao', 'descricao', 'descricao', 'descricao', 'descricao', 'descricao', 'descricao', 'descricao', 'descricao', 'descricao', 'descricao', 'descricao', 'descricao', 'descricao', 'descricao', 'descricao', 'descricao', 'descricao', 'descricao', 'descricao', 'descricao', 'descricao', 'descricao', 'descricao', 'descricao', 'descricao', 'descricao', 'descricao', 'descricao', 'descricao', 'descricao', 'descricao', 'descricao', 'descricao', 'descricao', 'descricao', 'descricao', 'descricao', 'descricao', 'descricao', 'descricao', 'descricao', 'descricao', 'descricao', 'descricao', 'descricao', 'descricao', 'descricao', 'descricao', 'descricao', 'descricao', 'descricao', 'descricao', 'descricao', 'descricao', 'descricao', 'descricao', 'descricao', 'descricao', 'descricao', 'descricao', 'descricao', 'descricao', 'descricao', 'descricao', 'descricao', 'descricao', 'descricao', 'empresa', 'empresa', 'empresa', 'empresa', 'empresa', 'empresa', 'empresa', 'empresa', 'empresa', 'empresa', 'empresa', 'empresa', 'empresa', 'empresa', 'empresa', 'empresa', 'empresa', 'empresa', 'empresa', 'empresa', 'empresa', 'salario', 'local', 'beneficios', 'descricao', 'empresa', 'salario', 'local', 'beneficios', 'descricao', 'empresa', 'salario', 'local', 'beneficios', 'descricao', 'empresa', 'salario', 'local', 'beneficios', 'descricao', 'empresa', 'salario', 'local', 'beneficios', 'descricao', 'empresa', 'salario', 'local', 'beneficios', 'descricao', 'empresa', 'salario', 'local', 'beneficios', 'descricao', 'empresa', 'salario', 'local', 'beneficios', 'descricao', 'empresa', 'salario', 'local', 'beneficios', 'descricao', 'empresa', 'salario', 'local', 'beneficios', 'descricao', 'empresa', 'salario', 'local', 'beneficios', 'descricao', 'empresa', 'salario', 'local', 'beneficios', 'descricao', 'empresa', 'salario', 'local', 'beneficios', 'descricao', 'empresa', 'salario', 'local', 'beneficios', 'descricao', 'empresa', 'salario', 'local', 'beneficios', 'descricao', 'empresa', 'salario', 'local', 'beneficios', 'descricao', 'empresa', 'salario', 'local', 'beneficios', 'descricao', 'empresa', 'salario', 'local', 'beneficios', 'descricao', 'empresa', 'salario', 'local', 'beneficios', 'descricao', 'empresa', 'salario', 'local', 'beneficios', 'descricao', 'empresa', 'salario', 'local', 'beneficios', 'descricao', 'empresa', 'salario', 'local', 'beneficios', 'descricao', 'empresa', 'salario', 'local', 'beneficios', 'descricao', 'empresa', 'salario', 'local', 'beneficios', 'descricao', 'empresa', 'salario', 'local', 'beneficios', 'descricao', 'empresa', 'salario', 'local', 'beneficios', 'descricao', 'empresa', 'salario', 'local', 'beneficios', 'descricao', 'empresa', 'salario', 'local', 'beneficios', 'descricao', 'empresa', 'salario', 'local', 'beneficios', 'descricao', 'empresa', 'salario', 'local', 'beneficios', 'descricao', 'empresa', 'salario', 'local', 'beneficios', 'descricao', 'empresa', 'salario', 'local', 'beneficios', 'descricao', 'empresa', 'salario', 'local', 'beneficios', 'descricao', 'empresa', 'salario', 'local', 'beneficios', 'descricao', 'empresa', 'salario', 'local', 'beneficios', 'descricao', 'empresa']\n",
      "\n",
      "Real\n",
      "\t ['local', 'beneficios', 'beneficios', 'descricao', 'descricao', 'descricao', 'descricao', 'descricao', 'descricao', 'descricao', 'descricao', 'descricao', 'descricao', 'descricao', 'descricao', 'descricao', 'descricao', 'descricao', 'descricao', 'descricao', 'descricao', 'descricao', 'descricao', 'descricao', 'descricao', 'descricao', 'descricao', 'descricao', 'descricao', 'descricao', 'descricao', 'descricao', 'descricao', 'descricao', 'descricao', 'descricao', 'descricao', 'descricao', 'descricao', 'descricao', 'descricao', 'descricao', 'descricao', 'descricao', 'descricao', 'descricao', 'descricao', 'descricao', 'descricao', 'descricao', 'descricao', 'descricao', 'descricao', 'descricao', 'descricao', 'descricao', 'descricao', 'descricao', 'descricao', 'descricao', 'descricao', 'descricao', 'descricao', 'descricao', 'descricao', 'descricao', 'descricao', 'descricao', 'descricao', 'descricao', 'descricao', 'descricao', 'descricao', 'descricao', 'descricao', 'descricao', 'descricao', 'descricao', 'descricao', 'descricao', 'empresa', 'empresa', 'empresa', 'empresa', 'empresa', 'empresa', 'empresa', 'empresa', 'empresa', 'empresa', 'empresa', 'empresa', 'empresa', 'empresa', 'empresa', 'empresa', 'empresa', 'empresa', 'empresa', 'empresa', 'empresa', 'empresa', 'empresa', 'empresa', 'empresa', 'empresa', 'empresa', 'empresa', 'empresa', 'empresa', 'empresa', 'empresa', 'empresa', 'empresa', 'empresa', 'empresa', 'empresa', 'empresa', 'empresa', 'empresa', 'empresa', 'empresa', 'empresa', 'empresa', 'empresa', 'empresa', 'empresa', 'empresa', 'empresa', 'empresa', 'empresa', 'empresa', 'empresa', 'empresa', 'empresa', 'empresa', 'empresa', 'empresa', 'empresa', 'empresa', 'salario', 'salario', 'salario', 'salario']\n"
     ]
    }
   ],
   "source": [
    "#Testes para verificar previsoes individualmente\n",
    "observacoes, previsto, real = model.predictRandomTest()"
   ]
  },
  {
   "cell_type": "code",
   "execution_count": 8,
   "metadata": {
    "id": "QEaEz4Pu1AmO"
   },
   "outputs": [
    {
     "name": "stdout",
     "output_type": "stream",
     "text": [
      "Obs: empresa / Previsto: descricao / Real: empresa\n",
      "Obs: vocêestamos / Previsto: salario / Real: empresa\n",
      "Obs: no / Previsto: local / Real: empresa\n",
      "Obs: mercado / Previsto: beneficios / Real: empresa\n",
      "Obs: há / Previsto: descricao / Real: empresa\n",
      "Obs: de / Previsto: salario / Real: empresa\n",
      "Obs: 90 / Previsto: local / Real: empresa\n",
      "Obs: anos / Previsto: beneficios / Real: empresa\n",
      "Obs: atuando / Previsto: descricao / Real: empresa\n",
      "Obs: cinco / Previsto: salario / Real: empresa\n",
      "Obs: grandes / Previsto: local / Real: empresa\n",
      "Obs: áreas / Previsto: beneficios / Real: empresa\n",
      "Obs: distribuição / Previsto: descricao / Real: empresa\n",
      "Obs: e / Previsto: salario / Real: empresa\n",
      "Obs: saúde / Previsto: local / Real: empresa\n",
      "Obs: animal / Previsto: beneficios / Real: empresa\n",
      "Obs: consumo / Previsto: descricao / Real: empresa\n",
      "Obs: e / Previsto: salario / Real: empresa\n",
      "Obs: investimentos / Previsto: local / Real: empresa\n",
      "Obs: imobiliários / Previsto: beneficios / Real: empresa\n",
      "Obs: - / Previsto: descricao / Real: empresa\n",
      "Obs: juntas / Previsto: salario / Real: empresa\n",
      "Obs: englobam / Previsto: local / Real: empresa\n",
      "Obs: 14 / Previsto: beneficios / Real: empresa\n",
      "Obs: unidades / Previsto: descricao / Real: empresa\n",
      "Obs: negócio / Previsto: salario / Real: empresa\n",
      "Obs: faixa / Previsto: local / Real: salario\n",
      "Obs: salarial / Previsto: beneficios / Real: salario\n",
      "Obs: a / Previsto: descricao / Real: salario\n",
      "Obs: combinar / Previsto: empresa / Real: salario\n"
     ]
    }
   ],
   "source": [
    "#Exibe as mudanças de estado incorretas\n",
    "model.ExibeMudancasEstadoIncorretas(observacoes, previsto, real)"
   ]
  }
 ],
 "metadata": {
  "accelerator": "GPU",
  "colab": {
   "collapsed_sections": [],
   "name": "HMMVagas_V2",
   "provenance": []
  },
  "kernelspec": {
   "display_name": "Python 3",
   "language": "python",
   "name": "python3"
  },
  "language_info": {
   "codemirror_mode": {
    "name": "ipython",
    "version": 3
   },
   "file_extension": ".py",
   "mimetype": "text/x-python",
   "name": "python",
   "nbconvert_exporter": "python",
   "pygments_lexer": "ipython3",
   "version": "3.7.6"
  }
 },
 "nbformat": 4,
 "nbformat_minor": 1
}
