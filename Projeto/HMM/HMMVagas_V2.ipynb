{
 "cells": [
  {
   "cell_type": "code",
   "execution_count": 1,
   "metadata": {
    "id": "P1H9UTBLvtKR"
   },
   "outputs": [],
   "source": [
    "#Unknow vocabulary fixed size\n",
    "import os\n",
    "\n",
    "import lib.tratamentoTexto as TT\n",
    "from lib.HMM_Vagas_V2 import HMM_Vagas_V2"
   ]
  },
  {
   "cell_type": "code",
   "execution_count": 2,
   "metadata": {},
   "outputs": [],
   "source": [
    "path = \"../Dados/vagas.json\"\n",
    "estados = ['salario', 'local', 'beneficios', 'descricao', 'empresa']\n",
    "data = TT.loadDataset(path, True)"
   ]
  },
  {
   "cell_type": "code",
   "execution_count": 3,
   "metadata": {
    "colab": {
     "base_uri": "https://localhost:8080/",
     "height": 1000
    },
    "id": "CC2asZbjsY2l",
    "outputId": "1093731a-c71e-44ed-ed63-78a9c041dfe3"
   },
   "outputs": [
    {
     "name": "stdout",
     "output_type": "stream",
     "text": [
      "Calculating fit<....................................................................................................>\n",
      "Fit duration: 0:14:23.825564\n",
      "Calculating cost <............................................................................................>\n",
      "Cost: 0.5526300664797058 percent 2.6\n",
      "Calculating fit<....................................................................................................>\n",
      "Fit duration: 0:14:47.669005\n",
      "Calculating cost <............................................................................................>\n",
      "Cost: 0.5525882440480009 percent 2.7\n",
      "Calculating fit<....................................................................................................>\n",
      "Fit duration: 0:20:04.062887\n",
      "Calculating cost <............................................................................................>\n",
      "Cost: 0.5525530926790219 percent 2.8\n",
      "Calculating fit<....................................................................................................>\n",
      "Fit duration: 0:13:06.373422\n",
      "Calculating cost <............................................................................................>\n",
      "Cost: 0.5525035728672484 percent 2.9\n",
      "Calculating fit<....................................................................................................>\n",
      "Fit duration: 0:09:57.625986\n",
      "Calculating cost <............................................................................................>\n",
      "Cost: 0.5524661122842488 percent 3.0\n",
      "Calculating fit<....................................................................................................>\n",
      "Fit duration: 0:09:57.364071\n",
      "Calculating cost <............................................................................................>\n",
      "Cost: 0.552431474073941 percent 3.1\n",
      "Calculating fit<....................................................................................................>\n",
      "Fit duration: 0:09:56.257566\n",
      "Calculating cost <............................................................................................>\n",
      "Cost: 0.5523965792842976 percent 3.2\n",
      "Calculating fit<....................................................................................................>\n",
      "Fit duration: 0:09:57.481739\n",
      "Calculating cost <............................................................................................>\n",
      "Cost: 0.55235783580462 percent 3.3\n",
      "Calculating fit<....................................................................................................>\n",
      "Fit duration: 0:10:39.541120\n",
      "Calculating cost <............................................................................................>\n",
      "Cost: 0.5523124212622164 percent 3.4\n",
      "Calculating fit<....................................................................................................>\n",
      "Fit duration: 0:09:58.037565\n",
      "Calculating cost <............................................................................................>\n",
      "Cost: 0.5522611053950937 percent 3.5\n",
      "Calculating fit<....................................................................................................>\n",
      "Fit duration: 0:09:58.530347\n",
      "Calculating cost <............................................................................................>\n",
      "Cost: 0.5522187698047175 percent 3.6\n",
      "Calculating fit<....................................................................................................>\n",
      "Fit duration: 0:10:44.103345\n",
      "Calculating cost <............................................................................................>\n",
      "Cost: 0.5521856710704234 percent 3.7\n",
      "Calculating fit<....................................................................................................>\n",
      "Fit duration: 0:09:57.747957\n",
      "Calculating cost <............................................................................................>\n",
      "Cost: 0.5521405131073553 percent 3.8\n",
      "Calculating fit<....................................................................................................>\n",
      "Fit duration: 0:09:58.456821\n",
      "Calculating cost <............................................................................................>\n",
      "Cost: 0.5521027959450202 percent 3.9\n",
      "Melhor valor 0.5526300664797058 usando 2.0 %\n"
     ]
    }
   ],
   "source": [
    "def encontraMelhorPercentUnk():\n",
    "  costList = []\n",
    "  for i in range(20):\n",
    "    perc = 2 + i / 10\n",
    "    model = HMM_Vagas_V2(data = data, trainPerc=0.7, estados=estados, unkPercent = perc)\n",
    "    model.fit()\n",
    "    cost  = model.cost(model.train)\n",
    "    costList.append(cost)\n",
    "    print(\"Cost:\", cost, \"percent\", perc)\n",
    "  melhor = max(costList)\n",
    "  percent = 2 + costList.index(melhor) / 10\n",
    "  print(\"Melhor valor\", melhor, \"usando\", percent, \"%\")\n",
    "  return costList, percent\n",
    "\n",
    "lista, percent = encontraMelhorPercentUnk()"
   ]
  },
  {
   "cell_type": "code",
   "execution_count": 4,
   "metadata": {
    "colab": {
     "base_uri": "https://localhost:8080/",
     "height": 255
    },
    "id": "7iMwDpXHidAw",
    "outputId": "64ca6833-8257-430b-8fe9-a521983a14fe"
   },
   "outputs": [
    {
     "name": "stdout",
     "output_type": "stream",
     "text": [
      "Calculating fit<....................................................................................................>\n",
      "Fit duration: 0:10:06.768512\n"
     ]
    }
   ],
   "source": [
    "data = TT.loadDataset(path, True)\n",
    "model = HMM_Vagas_V2(data = data, trainPerc=0.7, estados=estados, unkPercent = percent)\n",
    "model.fit()"
   ]
  },
  {
   "cell_type": "code",
   "execution_count": 5,
   "metadata": {
    "colab": {
     "base_uri": "https://localhost:8080/",
     "height": 310
    },
    "id": "Aqs6vX2e5V8z",
    "outputId": "fce0eebe-2480-46d6-f20e-feae51bd6574"
   },
   "outputs": [
    {
     "name": "stdout",
     "output_type": "stream",
     "text": [
      "Calculating cost <.....................................................................................................>\n",
      "Acuracia: 0.5701524661212422\n",
      "Percentual acertos totais: 0.06774441878367975\n",
      "Precision em salario 0.1275236896021854\n",
      "Recall em salario 0.7054188064459005\n",
      "F1 Score em salario 0.21599956621148994\n",
      "Precisão de acerto de transição de estado em salario\n",
      "\t {'salario': 0.7075666973321068, 'local': 0.6387133831131534, 'beneficios': 0.6887755102040817, 'descricao': 0.8911268372346217, 'empresa': 0.7853211009174312}\n",
      "\n",
      "Precision em local 0.042177538008827856\n",
      "Recall em local 0.5177752293577982\n",
      "F1 Score em local 0.07800116613039065\n",
      "Precisão de acerto de transição de estado em local\n",
      "\t {'salario': 0.7046101309049516, 'local': 0.48457291328353364, 'beneficios': 0.6439393939393939, 'descricao': 0.9023849140321686, 'empresa': 0.7115732368896925}\n",
      "\n",
      "Precision em beneficios 0.04436609372704569\n",
      "Recall em beneficios 0.6122779985402643\n",
      "F1 Score em beneficios 0.08273700590665513\n",
      "Precisão de acerto de transição de estado em beneficios\n",
      "\t {'salario': 0.7193645990922845, 'local': 0.6452775775054074, 'beneficios': 0.6696020874103066, 'descricao': 0.8889739663093414, 'empresa': 0.7573891625615764}\n",
      "\n",
      "Precision em descricao 0.8936458672650717\n",
      "Recall em descricao 0.5759779240522078\n",
      "F1 Score em descricao 0.7004789858550228\n",
      "Precisão de acerto de transição de estado em descricao\n",
      "\t {'salario': 0.503804347826087, 'local': 0.16493656286043828, 'beneficios': 0.15860014892032762, 'descricao': 0.5735961559933321, 'empresa': 0.1252302025782689}\n",
      "\n",
      "Precision em empresa 0.6883546073633728\n",
      "Recall em empresa 0.5499121265377855\n",
      "F1 Score em empresa 0.6113941941324741\n",
      "Precisão de acerto de transição de estado em empresa\n",
      "\t {'salario': 0.4926062846580407, 'local': 0.12912087912087913, 'beneficios': 0.14439140811455847, 'descricao': 0.6986301369863014, 'empresa': 0.548605014096845}\n",
      "\n",
      "Precisão de acerto de transição de estado no estado inicial\n",
      "\t {'salario': 1.0, 'local': 0.9815217391304348, 'beneficios': 0.9917043740573153, 'descricao': 1.0, 'empresa': 1.0}\n",
      "\n"
     ]
    }
   ],
   "source": [
    "x = model.fullCost(model.tests)"
   ]
  },
  {
   "cell_type": "code",
   "execution_count": 6,
   "metadata": {},
   "outputs": [],
   "source": [
    "savePath = \"Resultados/ResultadosV2\"\n",
    "model.salvaTudo(savePath)"
   ]
  },
  {
   "cell_type": "code",
   "execution_count": 7,
   "metadata": {
    "colab": {
     "base_uri": "https://localhost:8080/",
     "height": 146
    },
    "id": "8rTOs1_5FAjv",
    "outputId": "f5ae9b02-a9f8-4e2f-9c1a-29d428801f37"
   },
   "outputs": [
    {
     "name": "stdout",
     "output_type": "stream",
     "text": [
      "Observacoes\n",
      "\t ['são', 'paulo', 'descrição', 'formaçãoensino', 'superior', 'completoinglês', 'e', 'espanhol', 'em', 'nível', 'intermediário', 'é', 'considerado', 'diferencial', 'experiênciaexperiência', 'em', 'resseguradoras', 'ou', 'seguradoras', 'bem', 'como', 'em', 'técnicas', 'de', 'análise', 'e', 'regulação', 'de', 'sinistros', 'atividadesefetuar', 'a', 'abertura', 'acompanhar', 'a', 'regulação', 'e', 'liquidação', 'de', 'sinistros', 'individuaisacompanhar', 'e', 'controlar', 'o', 'pagamento', 'de', 'indenização', 'e', 'os', 'processos', 'de', 'recuperação', 'de', 'sinistros', 'individuaisavaliar', 'junto', 'ao', 'departamento', 'jurídico', 'a', 'contratação', 'de', 'escritórios', 'terceirizados', 'para', 'auxílio', 'na', 'regulação', 'de', 'sinistros', 'e', 'dar', 'suporte', 'no', 'processo', 'de', 'regulação', 'e', 'na', 'tomada', 'de', 'decisão', 'sobre', 'pagamentos', 'de', 'sinistros', 'individuaisacompanhar', 'os', 'sinistros', 'judiciais', 'e', 'as', 'respectivas', 'regulações', 'e', 'constituições', 'de', 'psl', 'bem', 'como', 'dar', 'suporte', 'na', 'tomada', 'de', 'decisão', 'sobre', 'andamentos', 'dos', 'processosauxiliar', 'a', 'contínua', 'troca', 'de', 'informações', 'interface', 'e', 'negociação', 'com', 'as', 'partes', 'interessadas', 'no', 'sinistro', 'sejam', 'internos', 'ou', 'externos', 'a', 'companhiaanalisar', 'atividades', 'e', 'recursos', 'sob', 'sua', 'responsabilidade', 'propondo', 'alterações', 'e', 'atualizações', 'nos', 'processos', 'realizados', 'a', 'fim', 'de', 'cumprir', 'metas', 'e', 'objetivos', 'estabelecidos', 'faixa', 'salarial', 'a', 'combinar', 'assistência', 'médica']\n",
      "Previsto\n",
      "\t ['local', 'local', 'descricao', 'descricao', 'descricao', 'descricao', 'descricao', 'descricao', 'descricao', 'descricao', 'descricao', 'descricao', 'descricao', 'descricao', 'descricao', 'descricao', 'descricao', 'descricao', 'descricao', 'descricao', 'descricao', 'descricao', 'descricao', 'descricao', 'descricao', 'descricao', 'descricao', 'descricao', 'descricao', 'descricao', 'descricao', 'descricao', 'descricao', 'descricao', 'descricao', 'descricao', 'descricao', 'descricao', 'descricao', 'descricao', 'descricao', 'descricao', 'descricao', 'descricao', 'descricao', 'descricao', 'descricao', 'descricao', 'descricao', 'descricao', 'descricao', 'descricao', 'descricao', 'descricao', 'descricao', 'descricao', 'descricao', 'descricao', 'descricao', 'descricao', 'descricao', 'descricao', 'descricao', 'descricao', 'descricao', 'descricao', 'descricao', 'descricao', 'descricao', 'descricao', 'descricao', 'descricao', 'descricao', 'descricao', 'descricao', 'descricao', 'descricao', 'descricao', 'descricao', 'descricao', 'descricao', 'descricao', 'descricao', 'descricao', 'descricao', 'descricao', 'descricao', 'descricao', 'descricao', 'descricao', 'descricao', 'descricao', 'descricao', 'descricao', 'descricao', 'descricao', 'descricao', 'descricao', 'descricao', 'descricao', 'descricao', 'descricao', 'descricao', 'descricao', 'descricao', 'descricao', 'descricao', 'descricao', 'salario', 'local', 'beneficios', 'descricao', 'empresa', 'salario', 'local', 'beneficios', 'descricao', 'empresa', 'salario', 'local', 'beneficios', 'descricao', 'empresa', 'salario', 'local', 'beneficios', 'descricao', 'empresa', 'salario', 'local', 'beneficios', 'descricao', 'empresa', 'salario', 'local', 'beneficios', 'descricao', 'empresa', 'salario', 'local', 'beneficios', 'descricao', 'empresa', 'salario', 'local', 'beneficios', 'descricao', 'empresa', 'salario', 'local', 'beneficios', 'descricao', 'empresa', 'salario', 'local', 'beneficios', 'descricao', 'empresa', 'salario', 'local', 'beneficios', 'descricao', 'empresa', 'salario', 'local', 'beneficios', 'descricao', 'empresa', 'salario', 'local', 'beneficios', 'descricao', 'empresa', 'salario', 'local', 'beneficios', 'descricao', 'empresa', 'salario', 'local', 'beneficios', 'descricao', 'empresa', 'salario', 'local', 'beneficios', 'descricao', 'empresa', 'salario', 'local', 'beneficios', 'descricao', 'empresa', 'salario', 'local', 'beneficios', 'descricao', 'empresa', 'salario', 'local', 'beneficios', 'descricao', 'empresa', 'salario', 'local', 'beneficios', 'descricao', 'empresa', 'salario', 'local', 'beneficios', 'descricao', 'empresa', 'salario', 'local', 'beneficios', 'descricao', 'empresa', 'salario', 'local', 'beneficios', 'descricao', 'empresa', 'salario', 'local', 'beneficios', 'descricao', 'empresa', 'salario', 'local', 'beneficios', 'descricao', 'empresa', 'salario', 'local', 'beneficios', 'descricao', 'empresa', 'salario', 'local', 'beneficios', 'descricao', 'empresa', 'salario', 'local', 'beneficios', 'descricao', 'empresa', 'salario', 'local', 'beneficios', 'descricao', 'empresa', 'salario', 'local', 'beneficios', 'descricao', 'empresa', 'salario', 'local', 'beneficios', 'descricao', 'empresa', 'salario', 'local', 'beneficios', 'descricao', 'empresa', 'salario', 'local', 'beneficios', 'descricao', 'empresa', 'salario', 'local', 'beneficios', 'descricao', 'empresa', 'salario', 'local', 'beneficios', 'descricao', 'empresa', 'salario', 'local', 'beneficios', 'descricao', 'empresa', 'salario', 'local', 'beneficios', 'descricao', 'empresa', 'salario', 'local', 'beneficios', 'descricao', 'empresa', 'salario', 'local', 'beneficios', 'descricao', 'empresa', 'salario', 'local', 'beneficios', 'descricao', 'empresa', 'salario', 'local', 'beneficios', 'descricao', 'empresa', 'salario', 'local', 'beneficios', 'descricao', 'empresa', 'salario', 'local', 'beneficios', 'descricao', 'empresa', 'salario', 'local', 'beneficios', 'descricao', 'empresa', 'salario', 'local', 'beneficios', 'descricao', 'empresa', 'salario', 'local', 'beneficios', 'descricao', 'empresa', 'salario', 'local', 'beneficios', 'descricao', 'empresa', 'salario', 'local', 'beneficios', 'descricao', 'empresa']\n",
      "\n",
      "Real\n",
      "\t ['local', 'local', 'descricao', 'descricao', 'descricao', 'descricao', 'descricao', 'descricao', 'descricao', 'descricao', 'descricao', 'descricao', 'descricao', 'descricao', 'descricao', 'descricao', 'descricao', 'descricao', 'descricao', 'descricao', 'descricao', 'descricao', 'descricao', 'descricao', 'descricao', 'descricao', 'descricao', 'descricao', 'descricao', 'descricao', 'descricao', 'descricao', 'descricao', 'descricao', 'descricao', 'descricao', 'descricao', 'descricao', 'descricao', 'descricao', 'descricao', 'descricao', 'descricao', 'descricao', 'descricao', 'descricao', 'descricao', 'descricao', 'descricao', 'descricao', 'descricao', 'descricao', 'descricao', 'descricao', 'descricao', 'descricao', 'descricao', 'descricao', 'descricao', 'descricao', 'descricao', 'descricao', 'descricao', 'descricao', 'descricao', 'descricao', 'descricao', 'descricao', 'descricao', 'descricao', 'descricao', 'descricao', 'descricao', 'descricao', 'descricao', 'descricao', 'descricao', 'descricao', 'descricao', 'descricao', 'descricao', 'descricao', 'descricao', 'descricao', 'descricao', 'descricao', 'descricao', 'descricao', 'descricao', 'descricao', 'descricao', 'descricao', 'descricao', 'descricao', 'descricao', 'descricao', 'descricao', 'descricao', 'descricao', 'descricao', 'descricao', 'descricao', 'descricao', 'descricao', 'descricao', 'descricao', 'descricao', 'descricao', 'descricao', 'descricao', 'descricao', 'descricao', 'descricao', 'descricao', 'descricao', 'descricao', 'descricao', 'descricao', 'descricao', 'descricao', 'descricao', 'descricao', 'descricao', 'descricao', 'descricao', 'descricao', 'descricao', 'descricao', 'descricao', 'descricao', 'descricao', 'descricao', 'descricao', 'descricao', 'descricao', 'descricao', 'descricao', 'descricao', 'descricao', 'descricao', 'descricao', 'descricao', 'descricao', 'descricao', 'descricao', 'descricao', 'descricao', 'descricao', 'descricao', 'descricao', 'salario', 'salario', 'salario', 'salario', 'beneficios', 'beneficios']\n"
     ]
    }
   ],
   "source": [
    "#Testes para verificar previsoes individualmente\n",
    "observacoes, previsto, real = model.predictRandomTest()"
   ]
  },
  {
   "cell_type": "code",
   "execution_count": 8,
   "metadata": {
    "id": "QEaEz4Pu1AmO"
   },
   "outputs": [
    {
     "name": "stdout",
     "output_type": "stream",
     "text": [
      "Obs: processosauxiliar / Previsto: salario / Real: descricao\n",
      "Obs: a / Previsto: local / Real: descricao\n",
      "Obs: contínua / Previsto: beneficios / Real: descricao\n",
      "Obs: de / Previsto: empresa / Real: descricao\n",
      "Obs: informações / Previsto: salario / Real: descricao\n",
      "Obs: interface / Previsto: local / Real: descricao\n",
      "Obs: e / Previsto: beneficios / Real: descricao\n",
      "Obs: com / Previsto: empresa / Real: descricao\n",
      "Obs: as / Previsto: salario / Real: descricao\n",
      "Obs: partes / Previsto: local / Real: descricao\n",
      "Obs: interessadas / Previsto: beneficios / Real: descricao\n",
      "Obs: sinistro / Previsto: empresa / Real: descricao\n",
      "Obs: sejam / Previsto: salario / Real: descricao\n",
      "Obs: internos / Previsto: local / Real: descricao\n",
      "Obs: ou / Previsto: beneficios / Real: descricao\n",
      "Obs: a / Previsto: empresa / Real: descricao\n",
      "Obs: companhiaanalisar / Previsto: salario / Real: descricao\n",
      "Obs: atividades / Previsto: local / Real: descricao\n",
      "Obs: e / Previsto: beneficios / Real: descricao\n",
      "Obs: sob / Previsto: empresa / Real: descricao\n",
      "Obs: sua / Previsto: salario / Real: descricao\n",
      "Obs: responsabilidade / Previsto: local / Real: descricao\n",
      "Obs: propondo / Previsto: beneficios / Real: descricao\n",
      "Obs: e / Previsto: empresa / Real: descricao\n",
      "Obs: atualizações / Previsto: salario / Real: descricao\n",
      "Obs: nos / Previsto: local / Real: descricao\n",
      "Obs: processos / Previsto: beneficios / Real: descricao\n",
      "Obs: a / Previsto: empresa / Real: descricao\n",
      "Obs: fim / Previsto: salario / Real: descricao\n",
      "Obs: de / Previsto: local / Real: descricao\n",
      "Obs: cumprir / Previsto: beneficios / Real: descricao\n",
      "Obs: e / Previsto: empresa / Real: descricao\n",
      "Obs: objetivos / Previsto: salario / Real: descricao\n",
      "Obs: estabelecidos / Previsto: local / Real: descricao\n",
      "Obs: faixa / Previsto: beneficios / Real: salario\n",
      "Obs: salarial / Previsto: descricao / Real: salario\n",
      "Obs: a / Previsto: empresa / Real: salario\n",
      "Obs: assistência / Previsto: local / Real: beneficios\n"
     ]
    }
   ],
   "source": [
    "#Exibe as mudanças de estado incorretas\n",
    "model.ExibeMudancasEstadoIncorretas(observacoes, previsto, real)"
   ]
  }
 ],
 "metadata": {
  "accelerator": "GPU",
  "colab": {
   "collapsed_sections": [],
   "name": "HMMVagas_V2",
   "provenance": []
  },
  "kernelspec": {
   "display_name": "Python 3",
   "language": "python",
   "name": "python3"
  },
  "language_info": {
   "codemirror_mode": {
    "name": "ipython",
    "version": 3
   },
   "file_extension": ".py",
   "mimetype": "text/x-python",
   "name": "python",
   "nbconvert_exporter": "python",
   "pygments_lexer": "ipython3",
   "version": "3.7.6"
  }
 },
 "nbformat": 4,
 "nbformat_minor": 1
}
