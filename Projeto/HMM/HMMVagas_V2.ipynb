{
 "cells": [
  {
   "cell_type": "code",
   "execution_count": 1,
   "metadata": {
    "id": "P1H9UTBLvtKR"
   },
   "outputs": [],
   "source": [
    "#Unknow vocabulary fixed size\n",
    "import os\n",
    "\n",
    "import lib.tratamentoTexto as TT\n",
    "from lib.HMM_Vagas_V2 import HMM_Vagas_V2"
   ]
  },
  {
   "cell_type": "code",
   "execution_count": 2,
   "metadata": {},
   "outputs": [],
   "source": [
    "path = \"../Dados/vagas.json\"\n",
    "estados = ['salario', 'local', 'beneficios', 'descricao', 'empresa']"
   ]
  },
  {
   "cell_type": "code",
   "execution_count": null,
   "metadata": {
    "colab": {
     "base_uri": "https://localhost:8080/",
     "height": 1000
    },
    "id": "CC2asZbjsY2l",
    "outputId": "1093731a-c71e-44ed-ed63-78a9c041dfe3"
   },
   "outputs": [
    {
     "name": "stdout",
     "output_type": "stream",
     "text": [
      "Calculating fit<....................................................................................................>\n",
      "Fit duration: 0:16:50.455874\n",
      "Calculating cost <............................................................................................>\n",
      "Cost: 0.5525269215867893 percent 2.0\n",
      "Calculating fit<....................................................................................................>\n",
      "Fit duration: 0:21:23.244160\n",
      "Calculating cost <............................................................................................>\n",
      "Cost: 0.5524853557344198 percent 2.1\n",
      "Calculating fit<....................................................................................................>\n",
      "Fit duration: 0:17:17.845644\n",
      "Calculating cost <............................................................................................>\n",
      "Cost: 0.5532101923575279 percent 2.2\n",
      "Calculating fit<....................................................................................................>\n",
      "Fit duration: 0:19:39.849038\n",
      "Calculating cost <............................................................................................>\n",
      "Cost: 0.5529464288005173 percent 2.3\n",
      "Calculating fit<....................................................................................................>\n",
      "Fit duration: 0:21:32.066393\n",
      "Calculating cost <............................................................................................>\n",
      "Cost: 0.5527914548818067 percent 2.4\n",
      "Calculating fit<....................................................................................................>\n",
      "Fit duration: 0:16:04.587995\n",
      "Calculating cost <............................................................................................>\n",
      "Cost: 0.5527678495829302 percent 2.5\n",
      "Calculating fit<....................................................................................................>\n",
      "Fit duration: 0:15:05.572675\n",
      "Calculating cost <............................................................................................>\n",
      "Cost: 0.5526947244722804 percent 2.6\n",
      "Calculating fit<....................................................................................................>\n",
      "Fit duration: 0:17:29.756920\n",
      "Calculating cost <............................................................................................>\n",
      "Cost: 0.5529410406344694 percent 2.7\n",
      "Calculating fit<....................................................................................................>\n",
      "Fit duration: 0:15:16.766354\n",
      "Calculating cost <........................................................................................"
     ]
    }
   ],
   "source": [
    "def encontraMelhorPercentUnk():\n",
    "  costList = []\n",
    "  for i in range(20):\n",
    "    perc = 2 + i / 10\n",
    "    data = TT.loadDataset(path, True)\n",
    "    model = HMM_Vagas_V2(data = data, trainPerc=0.7, estados=estados, unkPercent = perc)\n",
    "    model.fit()\n",
    "    cost  = model.cost(model.train)\n",
    "    costList.append(cost)\n",
    "    print(\"Cost:\", cost, \"percent\", perc)\n",
    "  melhor = max(costList)\n",
    "  percent = 2 + costList.index(melhor) / 10\n",
    "  print(\"Melhor valor\", melhor, \"usando\", percent, \"%\")\n",
    "  return costList, percent\n",
    "\n",
    "lista, percent = encontraMelhorPercentUnk()"
   ]
  },
  {
   "cell_type": "code",
   "execution_count": null,
   "metadata": {
    "colab": {
     "base_uri": "https://localhost:8080/",
     "height": 255
    },
    "id": "7iMwDpXHidAw",
    "outputId": "64ca6833-8257-430b-8fe9-a521983a14fe"
   },
   "outputs": [],
   "source": [
    "data = TT.loadDataset(path, True)\n",
    "model = HMM_Vagas_V2(data = data, trainPerc=0.7, estados=estados, unkPercent = percent)\n",
    "model.fit()"
   ]
  },
  {
   "cell_type": "code",
   "execution_count": null,
   "metadata": {
    "colab": {
     "base_uri": "https://localhost:8080/",
     "height": 310
    },
    "id": "Aqs6vX2e5V8z",
    "outputId": "fce0eebe-2480-46d6-f20e-feae51bd6574"
   },
   "outputs": [],
   "source": [
    "x = model.fullCost(model.tests)"
   ]
  },
  {
   "cell_type": "code",
   "execution_count": null,
   "metadata": {},
   "outputs": [],
   "source": [
    "savePath = \"Resultados/ResultadosV2\"\n",
    "model.salvaTudo(savePath)"
   ]
  },
  {
   "cell_type": "code",
   "execution_count": null,
   "metadata": {
    "colab": {
     "base_uri": "https://localhost:8080/",
     "height": 146
    },
    "id": "8rTOs1_5FAjv",
    "outputId": "f5ae9b02-a9f8-4e2f-9c1a-29d428801f37"
   },
   "outputs": [],
   "source": [
    "#Testes para verificar previsoes individualmente\n",
    "observacoes, previsto, real = model.predictRandomTest()"
   ]
  },
  {
   "cell_type": "code",
   "execution_count": null,
   "metadata": {
    "id": "QEaEz4Pu1AmO"
   },
   "outputs": [],
   "source": [
    "#Exibe as mudanças de estado incorretas\n",
    "model.ExibeMudancasEstadoIncorretas(observacoes, previsto, real)"
   ]
  }
 ],
 "metadata": {
  "accelerator": "GPU",
  "colab": {
   "collapsed_sections": [],
   "name": "HMMVagas_V2",
   "provenance": []
  },
  "kernelspec": {
   "display_name": "Python 3",
   "language": "python",
   "name": "python3"
  },
  "language_info": {
   "codemirror_mode": {
    "name": "ipython",
    "version": 3
   },
   "file_extension": ".py",
   "mimetype": "text/x-python",
   "name": "python",
   "nbconvert_exporter": "python",
   "pygments_lexer": "ipython3",
   "version": "3.7.6"
  }
 },
 "nbformat": 4,
 "nbformat_minor": 1
}
