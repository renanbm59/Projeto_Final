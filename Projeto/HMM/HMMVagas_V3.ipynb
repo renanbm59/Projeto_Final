{
 "cells": [
  {
   "cell_type": "code",
   "execution_count": 1,
   "metadata": {
    "id": "P1H9UTBLvtKR"
   },
   "outputs": [],
   "source": [
    "#Fixed vocabulary, unknown probability based on training\n",
    "import os\n",
    "\n",
    "import lib.tratamentoTexto as TT\n",
    "from lib.HMM_Vagas_V3 import HMM_Vagas_V3"
   ]
  },
  {
   "cell_type": "code",
   "execution_count": 2,
   "metadata": {
    "id": "BgdoRfTjHSwi"
   },
   "outputs": [],
   "source": [
    "path = \"../Dados/vagas.json\"\n",
    "estados = ['salario', 'local', 'beneficios', 'descricao', 'empresa']"
   ]
  },
  {
   "cell_type": "code",
   "execution_count": 3,
   "metadata": {
    "colab": {
     "base_uri": "https://localhost:8080/",
     "height": 35
    },
    "id": "Og9u46KVFbi8",
    "outputId": "d303694c-a013-4a53-c04c-99dc940b4d4c"
   },
   "outputs": [
    {
     "name": "stdout",
     "output_type": "stream",
     "text": [
      "Quantidade vagas: 25979\n",
      "Tamanho vocabulario: 151742\n"
     ]
    }
   ],
   "source": [
    "#Usando como vocabulario palavras de outro dataset de vagas, diferente do treinamento e teste\n",
    "pathVoc = os.path.abspath(os.getcwd()) + \"/Dados/vagasVocabulario.json\"\n",
    "pathVoc = path.replace(\"\\\\\", \"/\")\n",
    "data = TT.loadDataset(pathVoc, True)\n",
    "vocabulario = TT.getVocabularioFromDataSet(data)\n",
    "print(\"Quantidade vagas:\", len(data))\n",
    "print(\"Tamanho vocabulario:\", len(vocabulario))"
   ]
  },
  {
   "cell_type": "code",
   "execution_count": 4,
   "metadata": {
    "colab": {
     "base_uri": "https://localhost:8080/",
     "height": 255
    },
    "id": "fpbmCRpqg_mS",
    "outputId": "12ddf8c1-6a46-406f-9920-7564ce38c617"
   },
   "outputs": [
    {
     "name": "stdout",
     "output_type": "stream",
     "text": [
      "Calculating fit<....................................................................................................>\n",
      "Fit duration: 0:14:41.458123\n"
     ]
    }
   ],
   "source": [
    "data = TT.loadDataset(path, True)\n",
    "model = HMM_Vagas_V3(data = data, trainPerc=0.7, estados=estados, vocabulario = vocabulario)\n",
    "model.fit()"
   ]
  },
  {
   "cell_type": "code",
   "execution_count": 5,
   "metadata": {
    "colab": {
     "base_uri": "https://localhost:8080/",
     "height": 310
    },
    "id": "7iMwDpXHidAw",
    "outputId": "b8072d22-1700-4b14-ce23-08f79a9e171e",
    "scrolled": true
   },
   "outputs": [
    {
     "name": "stdout",
     "output_type": "stream",
     "text": [
      "Calculating cost <.....................................................................................................>\n",
      "Acuracia: 0.5591748554254418\n",
      "Percentual acertos totais: 0.06286887349243007\n",
      "Precision em salario 0.12226166858097526\n",
      "Recall em salario 0.6911634496192669\n",
      "F1 Score em salario 0.20777031523098902\n",
      "Precisão de acerto de transição de estado em salario\n",
      "\t {'salario': 0.6917356639067771, 'local': 0.6092020966802563, 'beneficios': 0.6989247311827957, 'descricao': 0.8915198237885462, 'empresa': 0.7542808219178082}\n",
      "\n",
      "Precision em local 0.039496579777614234\n",
      "Recall em local 0.4962012614678899\n",
      "F1 Score em local 0.0731690561371431\n",
      "Precisão de acerto de transição de estado em local\n",
      "\t {'salario': 0.6852567642186638, 'local': 0.4671971419291978, 'beneficios': 0.6078014184397164, 'descricao': 0.8976744186046511, 'empresa': 0.648868778280543}\n",
      "\n",
      "Precision em beneficios 0.04293535903683532\n",
      "Recall em beneficios 0.6073311166977536\n",
      "F1 Score em beneficios 0.080200903853156\n",
      "Precisão de acerto de transição de estado em beneficios\n",
      "\t {'salario': 0.6946386946386947, 'local': 0.6180904522613065, 'beneficios': 0.6653620352250489, 'descricao': 0.8932461873638344, 'empresa': 0.7694204685573366}\n",
      "\n",
      "Precision em descricao 0.889938083322679\n",
      "Recall em descricao 0.5683254083350505\n",
      "F1 Score em descricao 0.6936667172848411\n",
      "Precisão de acerto de transição de estado em descricao\n",
      "\t {'salario': 0.47386559448592763, 'local': 0.15092290988056462, 'beneficios': 0.14468726450640543, 'descricao': 0.565902853818444, 'empresa': 0.13656783468104222}\n",
      "\n",
      "Precision em empresa 0.6771080808005581\n",
      "Recall em empresa 0.53261472368678\n",
      "F1 Score em empresa 0.5962320161675515\n",
      "Precisão de acerto de transição de estado em empresa\n",
      "\t {'salario': 0.5009191176470589, 'local': 0.14954954954954955, 'beneficios': 0.14123581336696092, 'descricao': 0.6642533936651583, 'empresa': 0.5313711524688716}\n",
      "\n",
      "Precisão de acerto de transição de estado no estado inicial\n",
      "\t {'salario': 1.0, 'local': 0.9786374133949192, 'beneficios': 0.9787856620336504, 'descricao': 1.0, 'empresa': 1.0}\n",
      "\n"
     ]
    }
   ],
   "source": [
    "x = model.fullCost(model.tests)"
   ]
  },
  {
   "cell_type": "code",
   "execution_count": 6,
   "metadata": {},
   "outputs": [],
   "source": [
    "savePath = \"Resultados/ResultadosV3/Resultados vocabulario dataset\"\n",
    "model.salvaTudo(savePath)"
   ]
  },
  {
   "cell_type": "code",
   "execution_count": 7,
   "metadata": {
    "colab": {
     "base_uri": "https://localhost:8080/",
     "height": 35
    },
    "id": "-tqXUJJef_7L",
    "outputId": "d7ac4b1d-efc9-42a8-e0f3-af45aba3dd55"
   },
   "outputs": [
    {
     "name": "stdout",
     "output_type": "stream",
     "text": [
      "Tamanho vocabulario: 318538\n"
     ]
    }
   ],
   "source": [
    "#Usando como vocabulario um vocabulario de palavras da internet\n",
    "pathVoc = \"../Dados/vocabularioInternet.txt\"\n",
    "vocabulario = TT.GetVocFromArqList(pathVoc)\n",
    "print(\"Tamanho vocabulario:\", len(vocabulario))"
   ]
  },
  {
   "cell_type": "code",
   "execution_count": 8,
   "metadata": {
    "colab": {
     "base_uri": "https://localhost:8080/",
     "height": 255
    },
    "id": "cjEKHZyf-xm8",
    "outputId": "5b9af90b-d385-42c9-fbac-66f986b23229"
   },
   "outputs": [
    {
     "name": "stdout",
     "output_type": "stream",
     "text": [
      "Calculating fit<....................................................................................................>\n",
      "Fit duration: 3:16:35.476750\n"
     ]
    }
   ],
   "source": [
    "data = TT.loadDataset(path, True)\n",
    "model = HMM_Vagas_V3(data = data, trainPerc=0.7, estados=estados, vocabulario = vocabulario)\n",
    "model.fit()"
   ]
  },
  {
   "cell_type": "code",
   "execution_count": 9,
   "metadata": {
    "colab": {
     "base_uri": "https://localhost:8080/",
     "height": 310
    },
    "id": "KwNIVz7V-6SH",
    "outputId": "6a8f1b7c-3390-4228-bb95-4c2800d9e1e5"
   },
   "outputs": [
    {
     "name": "stdout",
     "output_type": "stream",
     "text": [
      "Calculating cost <.....................................................................................................>\n",
      "Acuracia: 0.6863773572414069\n",
      "Percentual acertos totais: 0.07685399024890942\n",
      "Precision em salario 0.17549929697219543\n",
      "Recall em salario 0.703618440469866\n",
      "F1 Score em salario 0.28092833617129087\n",
      "Precisão de acerto de transição de estado em salario\n",
      "\t {'salario': 0.6767479300827967, 'local': 0.5470683162990855, 'beneficios': 0.6449438202247191, 'descricao': 0.9498861047835991, 'empresa': 0.8640595903165735}\n",
      "\n",
      "Precision em local 0.05274556082870171\n",
      "Recall em local 0.4468893348623853\n",
      "F1 Score em local 0.09435461293422417\n",
      "Precisão de acerto de transição de estado em local\n",
      "\t {'salario': 0.7845366685616828, 'local': 0.40435206235790844, 'beneficios': 0.5626373626373626, 'descricao': 0.9423728813559322, 'empresa': 0.6914600550964187}\n",
      "\n",
      "Precision em beneficios 0.0650880613068029\n",
      "Recall em beneficios 0.6281728975752169\n",
      "F1 Score em beneficios 0.11795430146415002\n",
      "Precisão de acerto de transição de estado em beneficios\n",
      "\t {'salario': 0.804860088365243, 'local': 0.6528803545051699, 'beneficios': 0.7493476842791911, 'descricao': 0.9474463360473723, 'empresa': 0.7971188475390156}\n",
      "\n",
      "Precision em descricao 0.9036583957319126\n",
      "Recall em descricao 0.7148497490309211\n",
      "F1 Score em descricao 0.7982412439367742\n",
      "Precisão de acerto de transição de estado em descricao\n",
      "\t {'salario': 0.6761363636363636, 'local': 0.09442548350398179, 'beneficios': 0.101878612716763, 'descricao': 0.7131451159529019, 'empresa': 0.07768744354110207}\n",
      "\n",
      "Precision em empresa 0.7863436070165273\n",
      "Recall em empresa 0.6359617262253466\n",
      "F1 Score em empresa 0.7032026471905989\n",
      "Precisão de acerto de transição de estado em empresa\n",
      "\t {'salario': 0.6415607985480943, 'local': 0.09836065573770492, 'beneficios': 0.09974424552429667, 'descricao': 0.8064798598949212, 'empresa': 0.6354905090450645}\n",
      "\n",
      "Precisão de acerto de transição de estado no estado inicial\n",
      "\t {'salario': 1.0, 'local': 0.9101449275362319, 'beneficios': 0.9774943735933983, 'descricao': 1.0, 'empresa': 1.0}\n",
      "\n"
     ]
    }
   ],
   "source": [
    "x = model.fullCost(model.tests)"
   ]
  },
  {
   "cell_type": "code",
   "execution_count": 10,
   "metadata": {},
   "outputs": [],
   "source": [
    "savePath = \"Resultados/ResultadosV3/Resultados vocabulario internet\"\n",
    "model.salvaTudo(savePath)"
   ]
  },
  {
   "cell_type": "code",
   "execution_count": 11,
   "metadata": {},
   "outputs": [
    {
     "name": "stdout",
     "output_type": "stream",
     "text": [
      "Tamanho vocabulario: 533696\n",
      "Calculating fit<....................................................................................................>\n",
      "Fit duration: 1:19:10.292860\n"
     ]
    }
   ],
   "source": [
    "#Usando como vocabulario um vocabulario de palavras obtidas a partir da wikipedia\n",
    "pathVoc = \"../Dados/vocabularioWikipedia.txt\"\n",
    "vocabulario = TT.GetVocFromArqList(pathVoc)\n",
    "print(\"Tamanho vocabulario:\", len(vocabulario))\n",
    "data = TT.loadDataset(path, True)\n",
    "model = HMM_Vagas_V3(data = data, trainPerc=0.7, estados=estados, vocabulario = vocabulario)\n",
    "model.fit()"
   ]
  },
  {
   "cell_type": "code",
   "execution_count": 12,
   "metadata": {},
   "outputs": [
    {
     "name": "stdout",
     "output_type": "stream",
     "text": [
      "Calculating cost <.....................................................................................................>\n",
      "Acuracia: 0.5362059413757114\n",
      "Percentual acertos totais: 0.05978958172953554\n",
      "Precision em salario 0.113525390625\n",
      "Recall em salario 0.6724809633433682\n",
      "F1 Score em salario 0.1942571167929885\n",
      "Precisão de acerto de transição de estado em salario\n",
      "\t {'salario': 0.6734897270775836, 'local': 0.6128101557991922, 'beneficios': 0.6555232558139535, 'descricao': 0.8613916947250281, 'empresa': 0.7326732673267327}\n",
      "\n",
      "Precision em local 0.03700705821407758\n",
      "Recall em local 0.49154243119266056\n",
      "F1 Score em local 0.06883192484493246\n",
      "Precisão de acerto de transição de estado em local\n",
      "\t {'salario': 0.6685267857142857, 'local': 0.4597271841506983, 'beneficios': 0.6188271604938271, 'descricao': 0.8727272727272727, 'empresa': 0.6639492753623188}\n",
      "\n",
      "Precision em beneficios 0.039675441877103694\n",
      "Recall em beneficios 0.5936258211012895\n",
      "F1 Score em beneficios 0.07437966143028431\n",
      "Precisão de acerto de transição de estado em beneficios\n",
      "\t {'salario': 0.6902255639097744, 'local': 0.6001446131597975, 'beneficios': 0.6526418786692759, 'descricao': 0.8787202380952381, 'empresa': 0.7238095238095238}\n",
      "\n",
      "Precision em descricao 0.8768037096482119\n",
      "Recall em descricao 0.5506370454465928\n",
      "F1 Score em descricao 0.6764562415555214\n",
      "Precisão de acerto de transição de estado em descricao\n",
      "\t {'salario': 0.4735327963176064, 'local': 0.1438888888888889, 'beneficios': 0.12678169542385595, 'descricao': 0.5482518427686878, 'empresa': 0.13143382352941177}\n",
      "\n",
      "Precision em empresa 0.6633754789172374\n",
      "Recall em empresa 0.4980316344463972\n",
      "F1 Score em empresa 0.568933959875569\n",
      "Precisão de acerto de transição de estado em empresa\n",
      "\t {'salario': 0.43079584775086505, 'local': 0.14454545454545453, 'beneficios': 0.15467625899280577, 'descricao': 0.6059204440333025, 'empresa': 0.4964733225346305}\n",
      "\n",
      "Precisão de acerto de transição de estado no estado inicial\n",
      "\t {'salario': 1.0, 'local': 0.9656917885264342, 'beneficios': 0.9676470588235294, 'descricao': 1.0, 'empresa': 1.0}\n",
      "\n"
     ]
    }
   ],
   "source": [
    "x = model.fullCost(model.tests)"
   ]
  },
  {
   "cell_type": "code",
   "execution_count": 13,
   "metadata": {},
   "outputs": [],
   "source": [
    "savePath = \"Resultados/ResultadosV3/Resultados vocabulario wikipedia\"\n",
    "model.salvaTudo(savePath)"
   ]
  },
  {
   "cell_type": "code",
   "execution_count": 18,
   "metadata": {
    "colab": {
     "base_uri": "https://localhost:8080/",
     "height": 146
    },
    "id": "8rTOs1_5FAjv",
    "outputId": "c9846610-64b8-4b25-b4f8-b757007efd05"
   },
   "outputs": [
    {
     "name": "stdout",
     "output_type": "stream",
     "text": [
      "Observacoes\n",
      "\t ['assistência', 'médica', 'empresa', '#thegerdauwearecreatingsomos', '30', 'mil', 'colaboradores', 'com', 'presença', 'industrial', 'em', '12', 'paísesproduzimos', 'aços', 'longos', 'especiais', 'planos', 'e', 'minério', 'de', 'ferro', 'para', 'atender', 'aos', 'setores', 'da', 'construção', 'civil', 'indústria', 'agropecuário', 'automotivo', 'energia', 'eólica', 'óleo', 'e', 'gás', 'açúcar', 'e', 'álcool', 'rodoviário', 'e', 'navaltemos', 'mais', 'de', '120', 'mil', 'acionistas', 'e', 'nossas', 'ações', 'são', 'comercializadas', 'na', 'bolsa', 'de', 'valores', 'de', 'sp', 'nyc', 'e', 'madridtemos', 'cerca', 'de', '100', 'mil', 'clientes', 'somos', 'a', 'maior', 'recicladora', 'de', 'sucata', 'ferrosa', 'da', 'américa', 'latinamas', 'somos', 'mais', 'do', 'que', 'issosomos', 'carros', 'aviões', 'e', 'pontes', 'que', 'conectam', 'pessoassomos', 'casas', 'que', 'registram', 'histórias', 'começos', 'e', 'recomeçossomos', 'grandes', 'obras', 'que', 'transformam', 'lugares', 'em', 'grandes', 'lugarese', 'nunca', 'paramos', 'de', 'nos', 'transformar', 'e', 'evoluirhoje', 'estamos', 'criando', 'uma', 'nova', 'gerdau', 'mais', 'aberta', 'mais', 'digital', 'com', 'processos', 'mais', 'simples', 'e', 'fluidos', 'mais', 'ágil', 'para', 'inovar', 'e', 'ir', 'alémreinventar', 'quem', 'somos', 'é', 'abrir', 'espaço', 'não', 'só', 'para', 'o', 'desconhecido', 'mas', 'também', 'para', 'uma', 'gerdau', 'mais', 'preparada', 'para', 'abraçar', 'o', 'futuro', 'para', 'construir', 'o', 'futuroessa', 'é', 'a', 'gerdau', 'que', 'estamos', 'criandopara', 'mais', 'informações', 'acesse', 'nosso', 'site', 'wwwgerdaucombrnos', 'acompanhe', 'também', 'em', 'nossas', 'redes', 'sociais', 'facebook', 'facebookcomgerdausatwitter', 'twittercomgerdaulinkedin', 'linkedincomcompany267101youtube', 'youtubecomusergerdausa', 'descrição', 'atividades', 'desenvolvidasrealizar', 'apuração', 'de', 'icms', 'e', 'ipi', 'entregar', 'obrigações', 'acessórias', 'vivência', 'prática', 'em', 'spedpreparar', 'pagamentos', 'fazer', 'conciliações', 'contábeis', 'e', 'fiscaisatender', 'auditorias', 'apoiar', 'no', 'atendimento', 'de', 'fiscalizações', 'requisitossuperior', 'completo', 'em', 'ciências', 'contábeisexperiência', 'em', 'na', 'área', 'tributária', 'em', 'empresa', 'industrialcomercial', 'de', 'médiogrande', 'porteexcel', 'intermediário', 'conhecimentos', 'emna', 'área', 'tributária', 'em', 'empresa', 'industrialcomercial', 'de', 'médiogrande', 'porteexcel', 'intermediário', 'benefícioscompatíveis', 'com', 'o', 'mercado', '*vale', 'lembrar', 'que', 'o', 'processo', 'será', 'totalmente', 'conduzido', 'aqui', 'pela', 'plataforma', 'vagas', 'acompanhe', 'seu', 'e-mail', 'e', 'fique', 'de', 'olho', 'nas', 'fases', 'sapucaia', 'do', 'sul', 'faixa', 'salarial', 'a', 'combinar']\n",
      "Previsto\n",
      "\t ['beneficios', 'beneficios', 'empresa', 'empresa', 'empresa', 'empresa', 'empresa', 'empresa', 'empresa', 'empresa', 'empresa', 'empresa', 'empresa', 'empresa', 'empresa', 'empresa', 'empresa', 'empresa', 'empresa', 'empresa', 'empresa', 'empresa', 'empresa', 'empresa', 'empresa', 'empresa', 'empresa', 'empresa', 'empresa', 'empresa', 'empresa', 'empresa', 'empresa', 'empresa', 'empresa', 'empresa', 'empresa', 'empresa', 'empresa', 'empresa', 'empresa', 'empresa', 'empresa', 'empresa', 'empresa', 'empresa', 'empresa', 'empresa', 'empresa', 'empresa', 'empresa', 'empresa', 'empresa', 'empresa', 'empresa', 'empresa', 'empresa', 'empresa', 'empresa', 'empresa', 'empresa', 'empresa', 'empresa', 'empresa', 'empresa', 'empresa', 'empresa', 'empresa', 'empresa', 'empresa', 'empresa', 'empresa', 'empresa', 'empresa', 'empresa', 'empresa', 'empresa', 'empresa', 'empresa', 'empresa', 'empresa', 'empresa', 'empresa', 'empresa', 'empresa', 'empresa', 'empresa', 'empresa', 'empresa', 'empresa', 'empresa', 'empresa', 'empresa', 'empresa', 'empresa', 'empresa', 'salario', 'local', 'beneficios', 'descricao', 'empresa', 'salario', 'local', 'beneficios', 'descricao', 'empresa', 'salario', 'local', 'beneficios', 'descricao', 'empresa', 'salario', 'local', 'beneficios', 'descricao', 'empresa', 'salario', 'local', 'beneficios', 'descricao', 'empresa', 'salario', 'local', 'beneficios', 'descricao', 'empresa', 'salario', 'local', 'beneficios', 'descricao', 'empresa', 'salario', 'local', 'beneficios', 'descricao', 'empresa', 'salario', 'local', 'beneficios', 'descricao', 'empresa', 'salario', 'local', 'beneficios', 'descricao', 'empresa', 'salario', 'local', 'beneficios', 'descricao', 'empresa', 'salario', 'local', 'beneficios', 'descricao', 'empresa', 'salario', 'local', 'beneficios', 'descricao', 'empresa', 'salario', 'local', 'beneficios', 'descricao', 'empresa', 'salario', 'local', 'beneficios', 'descricao', 'empresa', 'salario', 'local', 'beneficios', 'descricao', 'empresa', 'salario', 'local', 'beneficios', 'descricao', 'empresa', 'salario', 'local', 'beneficios', 'descricao', 'empresa', 'salario', 'local', 'beneficios', 'descricao', 'empresa', 'salario', 'local', 'beneficios', 'descricao', 'empresa', 'salario', 'local', 'beneficios', 'descricao', 'empresa', 'salario', 'local', 'beneficios', 'descricao', 'empresa', 'salario', 'local', 'beneficios', 'descricao', 'empresa', 'salario', 'local', 'beneficios', 'descricao', 'empresa', 'salario', 'local', 'beneficios', 'descricao', 'empresa', 'salario', 'local', 'beneficios', 'descricao', 'empresa', 'salario', 'local', 'beneficios', 'descricao', 'empresa', 'salario', 'local', 'beneficios', 'descricao', 'empresa', 'salario', 'local', 'beneficios', 'descricao', 'empresa', 'salario', 'local', 'beneficios', 'descricao', 'empresa', 'salario', 'local', 'beneficios', 'descricao', 'empresa', 'salario', 'local', 'beneficios', 'descricao', 'empresa', 'salario', 'local', 'beneficios', 'descricao', 'empresa', 'salario', 'local', 'beneficios', 'descricao', 'empresa', 'salario', 'local', 'beneficios', 'descricao', 'empresa', 'salario', 'local', 'beneficios', 'descricao', 'empresa', 'salario', 'local', 'beneficios', 'descricao', 'empresa', 'salario', 'local', 'beneficios', 'descricao', 'empresa', 'salario', 'local', 'beneficios', 'descricao', 'empresa', 'salario', 'local', 'beneficios', 'descricao', 'empresa', 'salario', 'local', 'beneficios', 'descricao', 'empresa', 'salario', 'local', 'beneficios', 'descricao', 'empresa', 'salario', 'local', 'beneficios', 'descricao', 'empresa', 'salario', 'local', 'beneficios', 'descricao', 'empresa', 'salario', 'local', 'beneficios', 'descricao', 'empresa', 'salario', 'local', 'beneficios', 'descricao', 'empresa', 'salario', 'local', 'beneficios', 'descricao', 'empresa', 'salario', 'local', 'beneficios', 'descricao', 'empresa', 'salario', 'local', 'beneficios', 'descricao', 'empresa', 'salario', 'local', 'beneficios', 'descricao', 'empresa', 'salario', 'local', 'beneficios', 'descricao', 'empresa', 'salario', 'local', 'beneficios', 'descricao', 'empresa', 'salario', 'local', 'beneficios', 'descricao', 'empresa', 'salario', 'local', 'beneficios', 'descricao', 'empresa', 'salario', 'local', 'beneficios', 'descricao', 'empresa', 'salario', 'local', 'beneficios', 'descricao', 'empresa', 'salario', 'local', 'beneficios', 'descricao', 'empresa', 'salario', 'local', 'beneficios', 'descricao', 'empresa', 'salario', 'local', 'beneficios', 'descricao', 'empresa', 'salario', 'local', 'beneficios', 'descricao', 'empresa', 'salario', 'local', 'beneficios', 'descricao', 'empresa', 'salario', 'local', 'beneficios', 'descricao', 'empresa', 'salario', 'local', 'beneficios', 'descricao', 'empresa', 'salario', 'local', 'beneficios', 'descricao', 'empresa', 'salario', 'local', 'beneficios', 'descricao', 'empresa', 'salario', 'local', 'beneficios', 'descricao', 'empresa', 'salario', 'local', 'beneficios', 'descricao', 'empresa', 'salario', 'local', 'beneficios', 'descricao', 'empresa', 'salario', 'local', 'beneficios', 'descricao', 'empresa', 'salario', 'local', 'beneficios', 'descricao', 'empresa', 'salario', 'local', 'beneficios', 'descricao', 'empresa', 'salario', 'local', 'beneficios', 'descricao', 'empresa', 'salario', 'local', 'beneficios', 'descricao', 'empresa', 'salario', 'local', 'beneficios', 'descricao', 'empresa', 'salario', 'local', 'beneficios', 'descricao', 'empresa', 'salario', 'local', 'beneficios', 'descricao', 'empresa', 'salario', 'local', 'beneficios', 'descricao', 'empresa', 'salario', 'local', 'beneficios', 'descricao', 'empresa', 'salario', 'local', 'beneficios', 'descricao', 'empresa', 'salario', 'local', 'beneficios', 'descricao', 'empresa', 'salario', 'local', 'beneficios', 'descricao', 'empresa', 'salario', 'local', 'beneficios', 'descricao', 'empresa', 'salario', 'local', 'beneficios', 'descricao', 'empresa', 'salario', 'local', 'beneficios', 'descricao', 'empresa', 'salario', 'local', 'beneficios', 'descricao', 'empresa', 'salario', 'local', 'beneficios', 'descricao', 'empresa', 'salario', 'local', 'beneficios', 'descricao', 'empresa', 'salario', 'local', 'beneficios', 'descricao', 'empresa', 'salario', 'local', 'beneficios', 'descricao', 'empresa', 'salario', 'local', 'beneficios', 'descricao', 'empresa', 'salario', 'local', 'beneficios', 'descricao', 'empresa', 'salario', 'local', 'beneficios', 'descricao', 'empresa', 'salario', 'local', 'beneficios', 'descricao', 'empresa', 'salario', 'local', 'beneficios', 'descricao', 'empresa', 'salario', 'local', 'beneficios', 'descricao', 'empresa', 'salario', 'local', 'beneficios', 'descricao', 'empresa', 'salario', 'local', 'beneficios', 'descricao', 'empresa', 'salario', 'local', 'beneficios', 'descricao', 'empresa', 'salario', 'local', 'beneficios', 'descricao', 'empresa', 'salario', 'local', 'beneficios', 'descricao', 'empresa', 'salario', 'local', 'beneficios', 'descricao', 'empresa', 'salario', 'local', 'beneficios', 'descricao', 'empresa', 'salario', 'local', 'beneficios', 'descricao', 'empresa', 'salario', 'local', 'beneficios', 'descricao', 'empresa', 'salario', 'local', 'beneficios', 'descricao', 'empresa', 'salario', 'local', 'beneficios', 'descricao', 'empresa', 'salario', 'local', 'beneficios', 'descricao', 'empresa', 'salario', 'local', 'beneficios', 'descricao', 'empresa', 'salario', 'local', 'beneficios', 'descricao', 'empresa', 'salario', 'local', 'beneficios', 'descricao', 'empresa', 'salario', 'local', 'beneficios', 'descricao', 'empresa', 'salario', 'local', 'beneficios', 'descricao', 'empresa', 'salario', 'local', 'beneficios', 'descricao', 'empresa', 'salario', 'local', 'beneficios', 'descricao', 'empresa', 'salario', 'local', 'beneficios', 'descricao', 'empresa', 'salario', 'local', 'beneficios', 'descricao', 'empresa', 'salario', 'local', 'beneficios', 'descricao', 'empresa', 'salario', 'local', 'beneficios', 'descricao', 'empresa', 'salario', 'local', 'beneficios', 'descricao', 'empresa', 'salario', 'local', 'beneficios', 'descricao', 'empresa', 'salario', 'local', 'beneficios', 'descricao', 'empresa', 'salario', 'local', 'beneficios', 'descricao', 'empresa', 'salario', 'local', 'beneficios', 'descricao', 'empresa', 'salario', 'local', 'beneficios', 'descricao', 'empresa', 'salario', 'local', 'beneficios', 'descricao', 'empresa', 'salario', 'local', 'beneficios', 'descricao', 'empresa', 'salario', 'local', 'beneficios', 'descricao', 'empresa', 'salario', 'local', 'beneficios', 'descricao', 'empresa', 'salario', 'local', 'beneficios', 'descricao', 'empresa', 'salario', 'local', 'beneficios', 'descricao', 'empresa', 'salario', 'local', 'beneficios', 'descricao', 'empresa', 'salario', 'local', 'beneficios', 'descricao', 'empresa', 'salario', 'local', 'beneficios', 'descricao', 'empresa', 'salario', 'local', 'beneficios', 'descricao', 'empresa', 'salario', 'local', 'beneficios', 'descricao', 'empresa', 'salario', 'local', 'beneficios', 'descricao', 'empresa', 'salario', 'local', 'beneficios', 'descricao', 'empresa', 'salario', 'local', 'beneficios', 'descricao', 'empresa', 'salario', 'local', 'beneficios', 'descricao', 'empresa', 'salario', 'local', 'beneficios', 'descricao', 'empresa', 'salario', 'local', 'beneficios', 'descricao', 'empresa', 'salario', 'local', 'beneficios', 'descricao', 'empresa', 'salario', 'local', 'beneficios', 'descricao', 'empresa', 'salario', 'local', 'beneficios', 'descricao', 'empresa', 'salario', 'local', 'beneficios', 'descricao', 'empresa', 'salario', 'local', 'beneficios', 'descricao', 'empresa', 'salario', 'local', 'beneficios', 'descricao', 'empresa', 'salario', 'local', 'beneficios', 'descricao', 'empresa', 'salario', 'local', 'beneficios', 'descricao', 'empresa', 'salario', 'local', 'beneficios', 'descricao', 'empresa', 'salario', 'local', 'beneficios', 'descricao', 'empresa', 'salario', 'local', 'beneficios', 'descricao', 'empresa', 'salario', 'local', 'beneficios', 'descricao', 'empresa', 'salario', 'local', 'beneficios', 'descricao', 'empresa', 'salario', 'local', 'beneficios', 'descricao', 'empresa', 'salario', 'local', 'beneficios', 'descricao', 'empresa', 'salario', 'local', 'beneficios', 'descricao', 'empresa', 'salario', 'local', 'beneficios', 'descricao', 'empresa', 'salario', 'local', 'beneficios', 'descricao', 'empresa', 'salario', 'local', 'beneficios', 'descricao', 'empresa', 'salario', 'local', 'beneficios', 'descricao', 'empresa', 'salario', 'local', 'beneficios', 'descricao', 'empresa', 'salario', 'local', 'beneficios', 'descricao', 'empresa', 'salario', 'local', 'beneficios', 'descricao', 'empresa', 'salario', 'local', 'beneficios', 'descricao', 'empresa', 'salario', 'local', 'beneficios', 'descricao', 'empresa', 'salario', 'local', 'beneficios', 'descricao', 'empresa', 'salario', 'local', 'beneficios', 'descricao', 'empresa', 'salario', 'local', 'beneficios', 'descricao', 'empresa', 'salario', 'local', 'beneficios', 'descricao', 'empresa']\n",
      "\n",
      "Real\n",
      "\t ['beneficios', 'beneficios', 'empresa', 'empresa', 'empresa', 'empresa', 'empresa', 'empresa', 'empresa', 'empresa', 'empresa', 'empresa', 'empresa', 'empresa', 'empresa', 'empresa', 'empresa', 'empresa', 'empresa', 'empresa', 'empresa', 'empresa', 'empresa', 'empresa', 'empresa', 'empresa', 'empresa', 'empresa', 'empresa', 'empresa', 'empresa', 'empresa', 'empresa', 'empresa', 'empresa', 'empresa', 'empresa', 'empresa', 'empresa', 'empresa', 'empresa', 'empresa', 'empresa', 'empresa', 'empresa', 'empresa', 'empresa', 'empresa', 'empresa', 'empresa', 'empresa', 'empresa', 'empresa', 'empresa', 'empresa', 'empresa', 'empresa', 'empresa', 'empresa', 'empresa', 'empresa', 'empresa', 'empresa', 'empresa', 'empresa', 'empresa', 'empresa', 'empresa', 'empresa', 'empresa', 'empresa', 'empresa', 'empresa', 'empresa', 'empresa', 'empresa', 'empresa', 'empresa', 'empresa', 'empresa', 'empresa', 'empresa', 'empresa', 'empresa', 'empresa', 'empresa', 'empresa', 'empresa', 'empresa', 'empresa', 'empresa', 'empresa', 'empresa', 'empresa', 'empresa', 'empresa', 'empresa', 'empresa', 'empresa', 'empresa', 'empresa', 'empresa', 'empresa', 'empresa', 'empresa', 'empresa', 'empresa', 'empresa', 'empresa', 'empresa', 'empresa', 'empresa', 'empresa', 'empresa', 'empresa', 'empresa', 'empresa', 'empresa', 'empresa', 'empresa', 'empresa', 'empresa', 'empresa', 'empresa', 'empresa', 'empresa', 'empresa', 'empresa', 'empresa', 'empresa', 'empresa', 'empresa', 'empresa', 'empresa', 'empresa', 'empresa', 'empresa', 'empresa', 'empresa', 'empresa', 'empresa', 'empresa', 'empresa', 'empresa', 'empresa', 'empresa', 'empresa', 'empresa', 'empresa', 'empresa', 'empresa', 'empresa', 'empresa', 'empresa', 'empresa', 'empresa', 'empresa', 'empresa', 'empresa', 'empresa', 'empresa', 'empresa', 'empresa', 'empresa', 'empresa', 'empresa', 'empresa', 'empresa', 'empresa', 'empresa', 'empresa', 'empresa', 'empresa', 'empresa', 'empresa', 'empresa', 'empresa', 'empresa', 'empresa', 'empresa', 'descricao', 'descricao', 'descricao', 'descricao', 'descricao', 'descricao', 'descricao', 'descricao', 'descricao', 'descricao', 'descricao', 'descricao', 'descricao', 'descricao', 'descricao', 'descricao', 'descricao', 'descricao', 'descricao', 'descricao', 'descricao', 'descricao', 'descricao', 'descricao', 'descricao', 'descricao', 'descricao', 'descricao', 'descricao', 'descricao', 'descricao', 'descricao', 'descricao', 'descricao', 'descricao', 'descricao', 'descricao', 'descricao', 'descricao', 'descricao', 'descricao', 'descricao', 'descricao', 'descricao', 'descricao', 'descricao', 'descricao', 'descricao', 'descricao', 'descricao', 'descricao', 'descricao', 'descricao', 'descricao', 'descricao', 'descricao', 'descricao', 'descricao', 'descricao', 'descricao', 'descricao', 'descricao', 'descricao', 'descricao', 'descricao', 'descricao', 'descricao', 'descricao', 'descricao', 'descricao', 'descricao', 'descricao', 'descricao', 'descricao', 'descricao', 'descricao', 'descricao', 'descricao', 'descricao', 'local', 'local', 'local', 'salario', 'salario', 'salario', 'salario']\n"
     ]
    }
   ],
   "source": [
    "#Testes para verificar previsoes individualmente\n",
    "observacoes, previsto, real = model.predictRandomTest()"
   ]
  },
  {
   "cell_type": "code",
   "execution_count": 15,
   "metadata": {
    "colab": {
     "base_uri": "https://localhost:8080/",
     "height": 53
    },
    "id": "QEaEz4Pu1AmO",
    "outputId": "77bc44c1-2b7b-44df-ba6e-9d600712807b"
   },
   "outputs": [
    {
     "name": "stdout",
     "output_type": "stream",
     "text": [
      "Obs: reclamações / Previsto: salario / Real: descricao\n",
      "Obs: de / Previsto: local / Real: descricao\n",
      "Obs: mercado / Previsto: beneficios / Real: descricao\n",
      "Obs: a / Previsto: empresa / Real: descricao\n",
      "Obs: fim / Previsto: salario / Real: descricao\n",
      "Obs: de / Previsto: local / Real: descricao\n",
      "Obs: detectar / Previsto: beneficios / Real: descricao\n",
      "Obs: raiz / Previsto: empresa / Real: descricao\n",
      "Obs: e / Previsto: salario / Real: descricao\n",
      "Obs: elaborar / Previsto: local / Real: descricao\n",
      "Obs: plano / Previsto: beneficios / Real: descricao\n",
      "Obs: ação / Previsto: empresa / Real: descricao\n",
      "Obs: para / Previsto: salario / Real: descricao\n",
      "Obs: correção / Previsto: local / Real: descricao\n",
      "Obs: e / Previsto: beneficios / Real: descricao\n",
      "Obs: do / Previsto: empresa / Real: descricao\n",
      "Obs: problema- / Previsto: salario / Real: descricao\n",
      "Obs: avaliar / Previsto: local / Real: descricao\n",
      "Obs: a / Previsto: beneficios / Real: descricao\n",
      "Obs: de / Previsto: empresa / Real: descricao\n",
      "Obs: implementação / Previsto: salario / Real: descricao\n",
      "Obs: de / Previsto: local / Real: descricao\n",
      "Obs: novas / Previsto: beneficios / Real: descricao\n",
      "Obs: e / Previsto: empresa / Real: descricao\n",
      "Obs: aquisição / Previsto: salario / Real: descricao\n",
      "Obs: de / Previsto: local / Real: descricao\n",
      "Obs: novos / Previsto: beneficios / Real: descricao\n",
      "Obs: se / Previsto: empresa / Real: descricao\n",
      "Obs: atualizando / Previsto: salario / Real: descricao\n",
      "Obs: com / Previsto: local / Real: descricao\n",
      "Obs: relação / Previsto: beneficios / Real: descricao\n",
      "Obs: novas / Previsto: empresa / Real: descricao\n",
      "Obs: legislaçõesnormas / Previsto: salario / Real: descricao\n",
      "Obs: - / Previsto: local / Real: descricao\n",
      "Obs: coordenar / Previsto: beneficios / Real: descricao\n",
      "Obs: cronograma / Previsto: empresa / Real: descricao\n",
      "Obs: de / Previsto: salario / Real: descricao\n",
      "Obs: validação / Previsto: local / Real: descricao\n",
      "Obs: de / Previsto: beneficios / Real: descricao\n",
      "Obs: e / Previsto: empresa / Real: descricao\n",
      "Obs: transferência / Previsto: salario / Real: descricao\n",
      "Obs: analítica / Previsto: local / Real: descricao\n",
      "Obs: de / Previsto: beneficios / Real: descricao\n",
      "Obs: enviados / Previsto: empresa / Real: descricao\n",
      "Obs: pelo / Previsto: salario / Real: descricao\n",
      "Obs: corporativo / Previsto: local / Real: descricao\n",
      "Obs: para / Previsto: beneficios / Real: descricao\n",
      "Obs: laboratório / Previsto: empresa / Real: descricao\n",
      "Obs: assim / Previsto: salario / Real: descricao\n",
      "Obs: como / Previsto: local / Real: descricao\n",
      "Obs: de / Previsto: beneficios / Real: descricao\n",
      "Obs: do / Previsto: empresa / Real: descricao\n",
      "Obs: laboratório / Previsto: salario / Real: descricao\n",
      "Obs: para / Previsto: local / Real: descricao\n",
      "Obs: terceiros- / Previsto: beneficios / Real: descricao\n",
      "Obs: o / Previsto: empresa / Real: descricao\n",
      "Obs: controle / Previsto: salario / Real: descricao\n",
      "Obs: administrativo / Previsto: local / Real: descricao\n",
      "Obs: bem / Previsto: beneficios / Real: descricao\n",
      "Obs: planejamento / Previsto: empresa / Real: descricao\n",
      "Obs: do / Previsto: salario / Real: descricao\n",
      "Obs: budget / Previsto: local / Real: descricao\n",
      "Obs: controle / Previsto: beneficios / Real: descricao\n",
      "Obs: orçamento / Previsto: empresa / Real: descricao\n",
      "Obs: e / Previsto: salario / Real: descricao\n",
      "Obs: custos / Previsto: local / Real: descricao\n",
      "Obs: propondo / Previsto: beneficios / Real: descricao\n",
      "Obs: de / Previsto: empresa / Real: descricao\n",
      "Obs: processo- / Previsto: salario / Real: descricao\n",
      "Obs: coordenar / Previsto: local / Real: descricao\n",
      "Obs: a / Previsto: beneficios / Real: descricao\n",
      "Obs: e / Previsto: empresa / Real: descricao\n",
      "Obs: revisão / Previsto: salario / Real: descricao\n",
      "Obs: de / Previsto: local / Real: descricao\n",
      "Obs: procedimentos / Previsto: beneficios / Real: descricao\n",
      "Obs: padrão / Previsto: empresa / Real: descricao\n",
      "Obs: especificações / Previsto: salario / Real: descricao\n",
      "Obs: e / Previsto: local / Real: descricao\n",
      "Obs: métodos / Previsto: beneficios / Real: descricao\n",
      "Obs: de / Previsto: empresa / Real: descricao\n",
      "Obs: acordo / Previsto: salario / Real: descricao\n",
      "Obs: com / Previsto: local / Real: descricao\n",
      "Obs: compêndios / Previsto: beneficios / Real: descricao\n",
      "Obs: requerimentos / Previsto: empresa / Real: descricao\n",
      "Obs: legais / Previsto: salario / Real: descricao\n",
      "Obs: e / Previsto: local / Real: descricao\n",
      "Obs: políticas / Previsto: beneficios / Real: descricao\n",
      "Obs: referentes / Previsto: empresa / Real: descricao\n",
      "Obs: à / Previsto: salario / Real: descricao\n",
      "Obs: amostragem / Previsto: local / Real: descricao\n",
      "Obs: métodos / Previsto: beneficios / Real: descricao\n",
      "Obs: preparo / Previsto: empresa / Real: descricao\n",
      "Obs: de / Previsto: salario / Real: descricao\n",
      "Obs: soluções / Previsto: local / Real: descricao\n",
      "Obs: e / Previsto: beneficios / Real: descricao\n",
      "Obs: de / Previsto: empresa / Real: descricao\n",
      "Obs: cultura / Previsto: salario / Real: descricao\n",
      "Obs: métodos / Previsto: local / Real: descricao\n",
      "Obs: operacionais / Previsto: beneficios / Real: descricao\n",
      "Obs: equipamentos / Previsto: empresa / Real: descricao\n",
      "Obs: de / Previsto: salario / Real: descricao\n",
      "Obs: controle / Previsto: local / Real: descricao\n",
      "Obs: de / Previsto: beneficios / Real: descricao\n",
      "Obs: de / Previsto: empresa / Real: descricao\n",
      "Obs: amostragens / Previsto: salario / Real: descricao\n",
      "Obs: produtos / Previsto: local / Real: descricao\n",
      "Obs: intermediários / Previsto: beneficios / Real: descricao\n",
      "Obs: acabadosrequisitos / Previsto: empresa / Real: descricao\n",
      "Obs: necessáriosformação / Previsto: salario / Real: descricao\n",
      "Obs: em / Previsto: local / Real: descricao\n",
      "Obs: farmáciainglês / Previsto: beneficios / Real: descricao\n",
      "Obs: das / Previsto: empresa / Real: descricao\n",
      "Obs: ferramentas / Previsto: salario / Real: descricao\n",
      "Obs: pacote / Previsto: local / Real: descricao\n",
      "Obs: officehabilidade / Previsto: beneficios / Real: descricao\n",
      "Obs: gestão / Previsto: empresa / Real: descricao\n",
      "Obs: de / Previsto: salario / Real: descricao\n",
      "Obs: pessoas / Previsto: local / Real: descricao\n",
      "Obs: foco / Previsto: beneficios / Real: descricao\n",
      "Obs: cumprimento / Previsto: empresa / Real: descricao\n",
      "Obs: de / Previsto: salario / Real: descricao\n",
      "Obs: prazos / Previsto: local / Real: descricao\n",
      "Obs: e / Previsto: beneficios / Real: descricao\n",
      "Obs: de / Previsto: empresa / Real: descricao\n",
      "Obs: processosbons / Previsto: salario / Real: descricao\n",
      "Obs: conhecimentos / Previsto: local / Real: descricao\n",
      "Obs: em / Previsto: beneficios / Real: descricao\n",
      "Obs: de / Previsto: empresa / Real: descricao\n",
      "Obs: validação / Previsto: salario / Real: descricao\n",
      "Obs: de / Previsto: local / Real: descricao\n",
      "Obs: metodologia / Previsto: beneficios / Real: descricao\n",
      "Obs: e / Previsto: empresa / Real: descricao\n",
      "Obs: estatística / Previsto: salario / Real: descricao\n",
      "Obs: assim / Previsto: local / Real: descricao\n",
      "Obs: como / Previsto: beneficios / Real: descricao\n",
      "Obs: de / Previsto: empresa / Real: descricao\n",
      "Obs: estabilidade / Previsto: salario / Real: descricao\n",
      "Obs: conhecimento / Previsto: local / Real: descricao\n",
      "Obs: da / Previsto: beneficios / Real: descricao\n",
      "Obs: de / Previsto: empresa / Real: descricao\n",
      "Obs: laboratório / Previsto: salario / Real: descricao\n",
      "Obs: de / Previsto: local / Real: descricao\n",
      "Obs: controle / Previsto: beneficios / Real: descricao\n",
      "Obs: qualidade / Previsto: empresa / Real: descricao\n",
      "Obs: físico-químico / Previsto: salario / Real: descricao\n",
      "Obs: e / Previsto: local / Real: descricao\n",
      "Obs: microbiológico / Previsto: beneficios / Real: descricao\n",
      "Obs: em / Previsto: empresa / Real: descricao\n",
      "Obs: técnicas / Previsto: salario / Real: descricao\n",
      "Obs: analíticas / Previsto: local / Real: descricao\n",
      "Obs: instrumentais / Previsto: beneficios / Real: descricao\n",
      "Obs: como / Previsto: empresa / Real: descricao\n",
      "Obs: espectrofotometria / Previsto: salario / Real: descricao\n",
      "Obs: uvir / Previsto: local / Real: descricao\n",
      "Obs: e / Previsto: beneficios / Real: descricao\n",
      "Obs: etécnicas / Previsto: empresa / Real: descricao\n",
      "Obs: analíticas / Previsto: salario / Real: descricao\n",
      "Obs: de / Previsto: local / Real: descricao\n",
      "Obs: controle / Previsto: beneficios / Real: descricao\n",
      "Obs: são / Previsto: empresa / Real: local\n",
      "Obs: paulo / Previsto: salario / Real: local\n",
      "Obs: faixa / Previsto: local / Real: salario\n",
      "Obs: salarial / Previsto: beneficios / Real: salario\n",
      "Obs: a / Previsto: descricao / Real: salario\n",
      "Obs: combinar / Previsto: empresa / Real: salario\n"
     ]
    }
   ],
   "source": [
    "#Exibe as mudanças de estado incorretas\n",
    "model.ExibeMudancasEstadoIncorretas(observacoes, previsto, real)"
   ]
  }
 ],
 "metadata": {
  "accelerator": "GPU",
  "colab": {
   "collapsed_sections": [],
   "name": "HMMVagas_V3",
   "provenance": []
  },
  "kernelspec": {
   "display_name": "Python 3",
   "language": "python",
   "name": "python3"
  },
  "language_info": {
   "codemirror_mode": {
    "name": "ipython",
    "version": 3
   },
   "file_extension": ".py",
   "mimetype": "text/x-python",
   "name": "python",
   "nbconvert_exporter": "python",
   "pygments_lexer": "ipython3",
   "version": "3.7.6"
  }
 },
 "nbformat": 4,
 "nbformat_minor": 1
}
