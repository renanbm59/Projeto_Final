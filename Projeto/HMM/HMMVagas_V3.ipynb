{
 "cells": [
  {
   "cell_type": "code",
   "execution_count": 1,
   "metadata": {
    "id": "P1H9UTBLvtKR"
   },
   "outputs": [],
   "source": [
    "#Fixed vocabulary, unknown probability based on training\n",
    "import os\n",
    "\n",
    "import lib.tratamentoTexto as TT\n",
    "from lib.HMM_Vagas_V3 import HMM_Vagas_V3"
   ]
  },
  {
   "cell_type": "code",
   "execution_count": 2,
   "metadata": {
    "id": "BgdoRfTjHSwi"
   },
   "outputs": [],
   "source": [
    "path = \"../Dados/vagas.json\"\n",
    "estados = ['salario', 'local', 'beneficios', 'descricao', 'empresa']"
   ]
  },
  {
   "cell_type": "code",
   "execution_count": 3,
   "metadata": {
    "colab": {
     "base_uri": "https://localhost:8080/",
     "height": 35
    },
    "id": "Og9u46KVFbi8",
    "outputId": "d303694c-a013-4a53-c04c-99dc940b4d4c"
   },
   "outputs": [
    {
     "name": "stdout",
     "output_type": "stream",
     "text": [
      "Quantidade vagas: 25979\n",
      "Tamanho vocabulario: 151742\n"
     ]
    }
   ],
   "source": [
    "#Usando como vocabulario palavras de outro dataset de vagas, diferente do treinamento e teste\n",
    "pathVoc = os.path.abspath(os.getcwd()) + \"/Dados/vagasVocabulario.json\"\n",
    "pathVoc = path.replace(\"\\\\\", \"/\")\n",
    "data = TT.loadDataset(pathVoc, True)\n",
    "vocabulario = TT.getVocabularioFromDataSet(data)\n",
    "print(\"Quantidade vagas:\", len(data))\n",
    "print(\"Tamanho vocabulario:\", len(vocabulario))"
   ]
  },
  {
   "cell_type": "code",
   "execution_count": 4,
   "metadata": {
    "colab": {
     "base_uri": "https://localhost:8080/",
     "height": 255
    },
    "id": "fpbmCRpqg_mS",
    "outputId": "12ddf8c1-6a46-406f-9920-7564ce38c617"
   },
   "outputs": [
    {
     "name": "stdout",
     "output_type": "stream",
     "text": [
      "Calculating fit<....................................................................................................>\n",
      "Fit duration: 0:17:06.904405\n"
     ]
    }
   ],
   "source": [
    "data = TT.loadDataset(path, True)\n",
    "model = HMM_Vagas_V3(data = data, trainPerc=0.7, estados=estados, vocabulario = vocabulario)\n",
    "model.fit()"
   ]
  },
  {
   "cell_type": "code",
   "execution_count": 5,
   "metadata": {
    "colab": {
     "base_uri": "https://localhost:8080/",
     "height": 310
    },
    "id": "7iMwDpXHidAw",
    "outputId": "b8072d22-1700-4b14-ce23-08f79a9e171e",
    "scrolled": true
   },
   "outputs": [
    {
     "name": "stdout",
     "output_type": "stream",
     "text": [
      "Calculating cost <.....................................................................................................>\n",
      "Loss: 0.5593678505156217\n",
      "Percentual acertos totais: 0.06081601231716705\n",
      "Loss em salario 0.6871495189185999\n",
      "\t {'salario': 0.6864842072983748, 'local': 0.5950226244343891, 'beneficios': 0.6628787878787878, 'descricao': 0.8958566629339306, 'empresa': 0.7433862433862434}\n",
      "Loss em local 0.49684633027522934\n",
      "\t {'salario': 0.6903153153153153, 'local': 0.4691458265670672, 'beneficios': 0.6140221402214022, 'descricao': 0.8874856486796785, 'empresa': 0.6597472924187726}\n",
      "Loss em beneficios 0.6057091882247992\n",
      "\t {'salario': 0.690744920993228, 'local': 0.625560538116592, 'beneficios': 0.6710697977821265, 'descricao': 0.8943506969919296, 'empresa': 0.7509025270758123}\n",
      "Loss em descricao 0.56987185219457\n",
      "\t {'salario': 0.49617903930131, 'local': 0.14552661381653453, 'beneficios': 0.13103953147877012, 'descricao': 0.5674493495707226, 'empresa': 0.13452914798206278}\n",
      "Loss em empresa 0.530398359695372\n",
      "\t {'salario': 0.5166516651665166, 'local': 0.13508771929824562, 'beneficios': 0.13766233766233765, 'descricao': 0.6749539594843462, 'empresa': 0.529165376017804}\n",
      "Loss em estado inicial\n",
      "\t {'salario': 1.0, 'local': 0.9781144781144782, 'beneficios': 0.9812680115273775, 'descricao': 1.0, 'empresa': 1.0}\n"
     ]
    }
   ],
   "source": [
    "x = model.fullCost(model.tests)"
   ]
  },
  {
   "cell_type": "code",
   "execution_count": 6,
   "metadata": {},
   "outputs": [],
   "source": [
    "savePath = \"Resultados/ResultadosV3/Resultados vocabulario dataset\"\n",
    "model.salvaTudo(savePath)"
   ]
  },
  {
   "cell_type": "code",
   "execution_count": 8,
   "metadata": {
    "colab": {
     "base_uri": "https://localhost:8080/",
     "height": 35
    },
    "id": "-tqXUJJef_7L",
    "outputId": "d7ac4b1d-efc9-42a8-e0f3-af45aba3dd55"
   },
   "outputs": [
    {
     "name": "stdout",
     "output_type": "stream",
     "text": [
      "Tamanho vocabulario: 318538\n"
     ]
    }
   ],
   "source": [
    "#Usando como vocabulario um vocabulario de palavras da internet\n",
    "pathVoc = \"../Dados/vocabularioInternet.txt\"\n",
    "vocabulario = TT.GetVocFromArqList(pathVoc)\n",
    "print(\"Tamanho vocabulario:\", len(vocabulario))"
   ]
  },
  {
   "cell_type": "code",
   "execution_count": 9,
   "metadata": {
    "colab": {
     "base_uri": "https://localhost:8080/",
     "height": 255
    },
    "id": "cjEKHZyf-xm8",
    "outputId": "5b9af90b-d385-42c9-fbac-66f986b23229"
   },
   "outputs": [
    {
     "name": "stdout",
     "output_type": "stream",
     "text": [
      "Calculating fit<....................................................................................................>\n",
      "Fit duration: 3:24:16.365989\n"
     ]
    }
   ],
   "source": [
    "data = TT.loadDataset(path, True)\n",
    "model = HMM_Vagas_V3(data = data, trainPerc=0.7, estados=estados, vocabulario = vocabulario)\n",
    "model.fit()"
   ]
  },
  {
   "cell_type": "code",
   "execution_count": 10,
   "metadata": {
    "colab": {
     "base_uri": "https://localhost:8080/",
     "height": 310
    },
    "id": "KwNIVz7V-6SH",
    "outputId": "6a8f1b7c-3390-4228-bb95-4c2800d9e1e5"
   },
   "outputs": [
    {
     "name": "stdout",
     "output_type": "stream",
     "text": [
      "Calculating cost <.....................................................................................................>\n",
      "Loss: 0.6857840066405301\n",
      "Percentual acertos totais: 0.07775211701308699\n",
      "Loss em salario 0.701168762174606\n",
      "\t {'salario': 0.6736047224777676, 'local': 0.5631174533479693, 'beneficios': 0.6243798724309001, 'descricao': 0.9491137793024585, 'empresa': 0.8698884758364313}\n",
      "Loss em local 0.45004300458715596\n",
      "\t {'salario': 0.8043357420789328, 'local': 0.40354011042546284, 'beneficios': 0.5854383358098069, 'descricao': 0.9438576987215119, 'empresa': 0.6628318584070797}\n",
      "Loss em beneficios 0.6319844294866597\n",
      "\t {'salario': 0.824468085106383, 'local': 0.6380368098159509, 'beneficios': 0.7442922374429224, 'descricao': 0.9432314410480349, 'empresa': 0.7917705735660848}\n",
      "Loss em descricao 0.7199274503019016\n",
      "\t {'salario': 0.6650137741046832, 'local': 0.09345271404588697, 'beneficios': 0.10530421216848673, 'descricao': 0.7182459075158323, 'empresa': 0.07117750439367311}\n",
      "Loss em empresa 0.6238898652606912\n",
      "\t {'salario': 0.6262265834076717, 'local': 0.10707635009310987, 'beneficios': 0.09871794871794871, 'descricao': 0.8217821782178217, 'empresa': 0.6234396301871753}\n",
      "Loss em estado inicial\n",
      "\t {'salario': 1.0, 'local': 0.9153292750415053, 'beneficios': 0.9768115942028985, 'descricao': 1.0, 'empresa': 0.99909338168631}\n"
     ]
    }
   ],
   "source": [
    "x = model.fullCost(model.tests)"
   ]
  },
  {
   "cell_type": "code",
   "execution_count": 11,
   "metadata": {},
   "outputs": [],
   "source": [
    "savePath = \"Resultados/ResultadosV3/Resultados vocabulario internet\"\n",
    "model.salvaTudo(savePath)"
   ]
  },
  {
   "cell_type": "code",
   "execution_count": 12,
   "metadata": {},
   "outputs": [
    {
     "name": "stdout",
     "output_type": "stream",
     "text": [
      "Tamanho vocabulario: 533696\n",
      "Calculating fit<....................................................................................................>\n",
      "Fit duration: 1:32:51.654873\n"
     ]
    }
   ],
   "source": [
    "#Usando como vocabulario um vocabulario de palavras obtidas a partir da wikipedia\n",
    "pathVoc = \"../Dados/vocabularioWikipedia.txt\"\n",
    "vocabulario = TT.GetVocFromArqList(pathVoc)\n",
    "print(\"Tamanho vocabulario:\", len(vocabulario))\n",
    "data = TT.loadDataset(path, True)\n",
    "model = HMM_Vagas_V3(data = data, trainPerc=0.7, estados=estados, vocabulario = vocabulario)\n",
    "model.fit()"
   ]
  },
  {
   "cell_type": "code",
   "execution_count": 13,
   "metadata": {},
   "outputs": [
    {
     "name": "stdout",
     "output_type": "stream",
     "text": [
      "Calculating cost <.....................................................................................................>\n",
      "Loss: 0.5361609716459608\n",
      "Percentual acertos totais: 0.0573518090839107\n",
      "Loss em salario 0.6780886606457707\n",
      "\t {'salario': 0.6787411836859859, 'local': 0.6166204986149585, 'beneficios': 0.6518126888217523, 'descricao': 0.8813465783664459, 'empresa': 0.7634508348794063}\n",
      "Loss em local 0.4992115825688073\n",
      "\t {'salario': 0.7023203169213356, 'local': 0.4663851899967522, 'beneficios': 0.602919708029197, 'descricao': 0.8836565096952909, 'empresa': 0.6806187443130118}\n",
      "Loss em beneficios 0.5899764820371421\n",
      "\t {'salario': 0.6868840030326004, 'local': 0.592619926199262, 'beneficios': 0.6475864318330071, 'descricao': 0.872084273890143, 'empresa': 0.7301204819277108}\n",
      "Loss em descricao 0.5485103206416722\n",
      "\t {'salario': 0.462408140192199, 'local': 0.14997137950772754, 'beneficios': 0.13576642335766423, 'descricao': 0.5461157393895113, 'empresa': 0.12433392539964476}\n",
      "Loss em empresa 0.5016715485256785\n",
      "\t {'salario': 0.43416370106761565, 'local': 0.14675446848541862, 'beneficios': 0.15335868187579213, 'descricao': 0.5852813852813853, 'empresa': 0.5000937159046741}\n",
      "Loss em estado inicial\n",
      "\t {'salario': 1.0, 'local': 0.9643640350877193, 'beneficios': 0.9717682020802377, 'descricao': 1.0, 'empresa': 1.0}\n"
     ]
    }
   ],
   "source": [
    "x = model.fullCost(model.tests)"
   ]
  },
  {
   "cell_type": "code",
   "execution_count": 14,
   "metadata": {},
   "outputs": [],
   "source": [
    "savePath = \"Resultados/ResultadosV3/Resultados vocabulario wikipedia\"\n",
    "model.salvaTudo(savePath)"
   ]
  },
  {
   "cell_type": "code",
   "execution_count": 15,
   "metadata": {
    "colab": {
     "base_uri": "https://localhost:8080/",
     "height": 146
    },
    "id": "8rTOs1_5FAjv",
    "outputId": "c9846610-64b8-4b25-b4f8-b757007efd05"
   },
   "outputs": [
    {
     "name": "stdout",
     "output_type": "stream",
     "text": [
      "Observacoes\n",
      "\t ['assistência', 'médica', 'descrição', 'você', 'é', 'apaixonadoa', 'pelo', 'universo', 'da', 'saúde', 'beleza', 'e', 'bem-estar', 'ama', 'desafios', 'e', 'adora', 'enfrentá-los', 'em', 'equipe', 'você', 'quer', 'proporcionar', 'uma', 'experiência', 'incrível', 'aos', 'clientes', 'e', 'fazê-los', 'se', 'sentirem', 'únicos', 'essa', 'oportunidade', 'é', 'para', 'vocêcomo', 'é', 'o', 'ambiente', 'de', 'trabalhooferecemos', 'um', 'ambiente', 'de', 'muito', 'trabalho', 'e', 'aprendizado', 'onde', 'a', 'inovação', 'e', 'a', 'paixão', 'estão', 'sempre', 'presentes', 'tudo', 'isso', 'faz', 'com', 'que', 'a', 'rd', 'seja', 'mais', 'que', 'uma', 'empresa', 'e', 'sim', 'um', 'local', 'de', 'vida', 'como', 'é', 'a', 'sua', 'casa', 'além', 'disso', 'oferecemos', 'um', 'plano', 'de', 'carreira', 'que', 'possibilitará', 'a', 'realização', 'dos', 'seus', 'sonhos', 'o', 'que', 'esperamos', 'de', 'vocêvocê', 'trabalhará', 'na', 'loja', 'e', 'terá', 'contato', 'direto', 'com', 'os', 'nossos', 'clientes', 'prestando', 'consultoria', 'farmacêutica', 'aplicando', 'medicamentos', 'injetáveis', 'treinando', 'a', 'equipe', 'e', 'organizando', 'os', 'medicamentos', 'psicotrópicos', 'e', 'termolábeis', 'buscamos', 'pessoas', 'comunicativas', 'resilientes', 'empáticas', 'e', 'que', 'gostem', 'de', 'gentesomos', 'uma', 'empresa', 'inclusiva', 'se', 'você', 'é', 'uma', 'pessoa', 'com', 'deficiência', 'não', 'deixe', 'de', 'participar', 'requisitosmaior', 'de', '18', 'anosensino', 'superior', 'completo', 'em', 'farmácia', 'escala', 'de', 'trabalho', 'disponibilidade', 'para', 'trabalhar', 'por', 'escala', 'podendo', 'trabalhar', 'sábados', 'domingos', 'e', 'feriados', 'além', 'dos', 'benefícios', 'listados', 'nós', 'também', 'oferecemossalário', 'compatível', 'com', 'mercadoauxílio', 'refeição', 'ou', 'alimentaçãoplano', 'de', 'carreira', 'são', 'leopoldo', 'faixa', 'salarial', 'a', 'combinar', 'empresa', 'a', 'rd', '-', 'gente', 'saúde', 'e', 'bem-estar', 'presente', 'em', '23', 'estados', 'brasileiros', 'com', 'mais', 'de', '2000', 'lojas', 'foi', 'criada', 'em', 'novembro', 'de', '2011', 'a', 'partir', 'da', 'união', 'entre', 'raia', 'e', 'drogasilsomos', 'a', 'maior', 'empresa', 'do', 'varejo', 'farmacêutico', 'em', 'receita', 'e', 'número', 'de', 'lojasvenha', 'fazer', 'parte', 'do', 'nosso', 'time', 'de', 'sucesso']\n",
      "Previsto\n",
      "\t ['beneficios', 'beneficios', 'descricao', 'descricao', 'descricao', 'descricao', 'descricao', 'descricao', 'descricao', 'descricao', 'descricao', 'descricao', 'descricao', 'descricao', 'descricao', 'descricao', 'descricao', 'descricao', 'descricao', 'descricao', 'descricao', 'descricao', 'descricao', 'descricao', 'descricao', 'descricao', 'descricao', 'descricao', 'descricao', 'descricao', 'descricao', 'descricao', 'descricao', 'descricao', 'descricao', 'descricao', 'descricao', 'descricao', 'descricao', 'descricao', 'descricao', 'descricao', 'descricao', 'descricao', 'descricao', 'descricao', 'descricao', 'descricao', 'descricao', 'descricao', 'descricao', 'descricao', 'descricao', 'descricao', 'descricao', 'descricao', 'descricao', 'descricao', 'descricao', 'descricao', 'descricao', 'descricao', 'descricao', 'descricao', 'descricao', 'descricao', 'descricao', 'empresa', 'empresa', 'empresa', 'empresa', 'empresa', 'empresa', 'empresa', 'empresa', 'descricao', 'empresa', 'descricao', 'empresa', 'empresa', 'empresa', 'empresa', 'empresa', 'empresa', 'empresa', 'empresa', 'empresa', 'descricao', 'descricao', 'descricao', 'descricao', 'descricao', 'descricao', 'descricao', 'descricao', 'descricao', 'descricao', 'descricao', 'descricao', 'descricao', 'descricao', 'salario', 'local', 'beneficios', 'descricao', 'empresa', 'salario', 'local', 'beneficios', 'descricao', 'empresa', 'salario', 'local', 'beneficios', 'descricao', 'empresa', 'salario', 'local', 'beneficios', 'descricao', 'empresa', 'salario', 'local', 'beneficios', 'descricao', 'empresa', 'salario', 'local', 'beneficios', 'descricao', 'empresa', 'salario', 'local', 'beneficios', 'descricao', 'empresa', 'salario', 'local', 'beneficios', 'descricao', 'empresa', 'salario', 'local', 'beneficios', 'descricao', 'empresa', 'salario', 'local', 'beneficios', 'descricao', 'empresa', 'salario', 'local', 'beneficios', 'descricao', 'empresa', 'salario', 'local', 'beneficios', 'descricao', 'empresa', 'salario', 'local', 'beneficios', 'descricao', 'empresa', 'salario', 'local', 'beneficios', 'descricao', 'empresa', 'salario', 'local', 'beneficios', 'descricao', 'empresa', 'salario', 'local', 'beneficios', 'descricao', 'empresa', 'salario', 'local', 'beneficios', 'descricao', 'empresa', 'salario', 'local', 'beneficios', 'descricao', 'empresa', 'salario', 'local', 'beneficios', 'descricao', 'empresa', 'salario', 'local', 'beneficios', 'descricao', 'empresa', 'salario', 'local', 'beneficios', 'descricao', 'empresa', 'salario', 'local', 'beneficios', 'descricao', 'empresa', 'salario', 'local', 'beneficios', 'descricao', 'empresa', 'salario', 'local', 'beneficios', 'descricao', 'empresa', 'salario', 'local', 'beneficios', 'descricao', 'empresa', 'salario', 'local', 'beneficios', 'descricao', 'empresa', 'salario', 'local', 'beneficios', 'descricao', 'empresa', 'salario', 'local', 'beneficios', 'descricao', 'empresa', 'salario', 'local', 'beneficios', 'descricao', 'empresa', 'salario', 'local', 'beneficios', 'descricao', 'empresa', 'salario', 'local', 'beneficios', 'descricao', 'empresa', 'salario', 'local', 'beneficios', 'descricao', 'empresa', 'salario', 'local', 'beneficios', 'descricao', 'empresa', 'salario', 'local', 'beneficios', 'descricao', 'empresa', 'salario', 'local', 'beneficios', 'descricao', 'empresa', 'salario', 'local', 'beneficios', 'descricao', 'empresa', 'salario', 'local', 'beneficios', 'descricao', 'empresa', 'salario', 'local', 'beneficios', 'descricao', 'empresa', 'salario', 'local', 'beneficios', 'descricao', 'empresa', 'salario', 'local', 'beneficios', 'descricao', 'empresa', 'salario', 'local', 'beneficios', 'descricao', 'empresa', 'salario', 'local', 'beneficios', 'descricao', 'empresa', 'salario', 'local', 'beneficios', 'descricao', 'empresa', 'salario', 'local', 'beneficios', 'descricao', 'empresa', 'salario', 'local', 'beneficios', 'descricao', 'empresa', 'salario', 'local', 'beneficios', 'descricao', 'empresa', 'salario', 'local', 'beneficios', 'descricao', 'empresa', 'salario', 'local', 'beneficios', 'descricao', 'empresa', 'salario', 'local', 'beneficios', 'descricao', 'empresa', 'salario', 'local', 'beneficios', 'descricao', 'empresa', 'salario', 'local', 'beneficios', 'descricao', 'empresa', 'salario', 'local', 'beneficios', 'descricao', 'empresa', 'salario', 'local', 'beneficios', 'descricao', 'empresa', 'salario', 'local', 'beneficios', 'descricao', 'empresa', 'salario', 'local', 'beneficios', 'descricao', 'empresa', 'salario', 'local', 'beneficios', 'descricao', 'empresa', 'salario', 'local', 'beneficios', 'descricao', 'empresa', 'salario', 'local', 'beneficios', 'descricao', 'empresa', 'salario', 'local', 'beneficios', 'descricao', 'empresa', 'salario', 'local', 'beneficios', 'descricao', 'empresa', 'salario', 'local', 'beneficios', 'descricao', 'empresa', 'salario', 'local', 'beneficios', 'descricao', 'empresa', 'salario', 'local', 'beneficios', 'descricao', 'empresa', 'salario', 'local', 'beneficios', 'descricao', 'empresa', 'salario', 'local', 'beneficios', 'descricao', 'empresa', 'salario', 'local', 'beneficios', 'descricao', 'empresa', 'salario', 'local', 'beneficios', 'descricao', 'empresa', 'salario', 'local', 'beneficios', 'descricao', 'empresa', 'salario', 'local', 'beneficios', 'descricao', 'empresa', 'salario', 'local', 'beneficios', 'descricao', 'empresa', 'salario', 'local', 'beneficios', 'descricao', 'empresa', 'salario', 'local', 'beneficios', 'descricao', 'empresa', 'salario', 'local', 'beneficios', 'descricao', 'empresa', 'salario', 'local', 'beneficios', 'descricao', 'empresa', 'salario', 'local', 'beneficios', 'descricao', 'empresa', 'salario', 'local', 'beneficios', 'descricao', 'empresa', 'salario', 'local', 'beneficios', 'descricao', 'empresa', 'salario', 'local', 'beneficios', 'descricao', 'empresa', 'salario', 'local', 'beneficios', 'descricao', 'empresa', 'salario', 'local', 'beneficios', 'descricao', 'empresa', 'salario', 'local', 'beneficios', 'descricao', 'empresa', 'salario', 'local', 'beneficios', 'descricao', 'empresa', 'salario', 'local', 'beneficios', 'descricao', 'empresa', 'salario', 'local', 'beneficios', 'descricao', 'empresa', 'salario', 'local', 'beneficios', 'descricao', 'empresa', 'salario', 'local', 'beneficios', 'descricao', 'empresa', 'salario', 'local', 'beneficios', 'descricao', 'empresa', 'salario', 'local', 'beneficios', 'descricao', 'empresa', 'salario', 'local', 'beneficios', 'descricao', 'empresa', 'salario', 'local', 'beneficios', 'descricao', 'empresa', 'salario', 'local', 'beneficios', 'descricao', 'empresa', 'salario', 'local', 'beneficios', 'descricao', 'empresa', 'salario', 'local', 'beneficios', 'descricao', 'empresa', 'salario', 'local', 'beneficios', 'descricao', 'empresa', 'salario', 'local', 'beneficios', 'descricao', 'empresa', 'salario', 'local', 'beneficios', 'descricao', 'empresa', 'salario', 'local', 'beneficios', 'descricao', 'empresa', 'salario', 'local', 'beneficios', 'descricao', 'empresa', 'salario', 'local', 'beneficios', 'descricao', 'empresa', 'salario', 'local', 'beneficios', 'descricao', 'empresa', 'salario', 'local', 'beneficios', 'descricao', 'empresa', 'salario', 'local', 'beneficios', 'descricao', 'empresa', 'salario', 'local', 'beneficios', 'descricao', 'empresa', 'salario', 'local', 'beneficios', 'descricao', 'empresa', 'salario', 'local', 'beneficios', 'descricao', 'empresa', 'salario', 'local', 'beneficios', 'descricao', 'empresa', 'salario', 'local', 'beneficios', 'descricao', 'empresa', 'salario', 'local', 'beneficios', 'descricao', 'empresa', 'salario', 'local', 'beneficios', 'descricao', 'empresa', 'salario', 'local', 'beneficios', 'descricao', 'empresa', 'salario', 'local', 'beneficios', 'descricao', 'empresa', 'salario', 'local', 'beneficios', 'descricao', 'empresa', 'salario', 'local', 'beneficios', 'descricao', 'empresa', 'salario', 'local', 'beneficios', 'descricao', 'empresa', 'salario', 'local', 'beneficios', 'descricao', 'empresa', 'salario', 'local', 'beneficios', 'descricao', 'empresa', 'salario', 'local', 'beneficios', 'descricao', 'empresa', 'salario', 'local', 'beneficios', 'descricao', 'empresa', 'salario', 'local', 'beneficios', 'descricao', 'empresa', 'salario', 'local', 'beneficios', 'descricao', 'empresa', 'salario', 'local', 'beneficios', 'descricao', 'empresa', 'salario', 'local', 'beneficios', 'descricao', 'empresa', 'salario', 'local', 'beneficios', 'descricao', 'empresa', 'salario', 'local', 'beneficios', 'descricao', 'empresa', 'salario', 'local', 'beneficios', 'descricao', 'empresa', 'salario', 'local', 'beneficios', 'descricao', 'empresa', 'salario', 'local', 'beneficios', 'descricao', 'empresa', 'salario', 'local', 'beneficios', 'descricao', 'empresa', 'salario', 'local', 'beneficios', 'descricao', 'empresa', 'salario', 'local', 'beneficios', 'descricao', 'empresa', 'salario', 'local', 'beneficios', 'descricao', 'empresa', 'salario', 'local', 'beneficios', 'descricao', 'empresa', 'salario', 'local', 'beneficios', 'descricao', 'empresa', 'salario', 'local', 'beneficios', 'descricao', 'empresa', 'salario', 'local', 'beneficios', 'descricao', 'empresa', 'salario', 'local', 'beneficios', 'descricao', 'empresa', 'salario', 'local', 'beneficios', 'descricao', 'empresa', 'salario', 'local', 'beneficios', 'descricao', 'empresa', 'salario', 'local', 'beneficios', 'descricao', 'empresa', 'salario', 'local', 'beneficios', 'descricao', 'empresa', 'salario', 'local', 'beneficios', 'descricao', 'empresa', 'salario', 'local', 'beneficios', 'descricao', 'empresa', 'salario', 'local', 'beneficios', 'descricao', 'empresa', 'salario', 'local', 'beneficios', 'descricao', 'empresa', 'salario', 'local', 'beneficios', 'descricao', 'empresa']\n",
      "\n",
      "Real\n",
      "\t ['beneficios', 'beneficios', 'descricao', 'descricao', 'descricao', 'descricao', 'descricao', 'descricao', 'descricao', 'descricao', 'descricao', 'descricao', 'descricao', 'descricao', 'descricao', 'descricao', 'descricao', 'descricao', 'descricao', 'descricao', 'descricao', 'descricao', 'descricao', 'descricao', 'descricao', 'descricao', 'descricao', 'descricao', 'descricao', 'descricao', 'descricao', 'descricao', 'descricao', 'descricao', 'descricao', 'descricao', 'descricao', 'descricao', 'descricao', 'descricao', 'descricao', 'descricao', 'descricao', 'descricao', 'descricao', 'descricao', 'descricao', 'descricao', 'descricao', 'descricao', 'descricao', 'descricao', 'descricao', 'descricao', 'descricao', 'descricao', 'descricao', 'descricao', 'descricao', 'descricao', 'descricao', 'descricao', 'descricao', 'descricao', 'descricao', 'descricao', 'descricao', 'descricao', 'descricao', 'descricao', 'descricao', 'descricao', 'descricao', 'descricao', 'descricao', 'descricao', 'descricao', 'descricao', 'descricao', 'descricao', 'descricao', 'descricao', 'descricao', 'descricao', 'descricao', 'descricao', 'descricao', 'descricao', 'descricao', 'descricao', 'descricao', 'descricao', 'descricao', 'descricao', 'descricao', 'descricao', 'descricao', 'descricao', 'descricao', 'descricao', 'descricao', 'descricao', 'descricao', 'descricao', 'descricao', 'descricao', 'descricao', 'descricao', 'descricao', 'descricao', 'descricao', 'descricao', 'descricao', 'descricao', 'descricao', 'descricao', 'descricao', 'descricao', 'descricao', 'descricao', 'descricao', 'descricao', 'descricao', 'descricao', 'descricao', 'descricao', 'descricao', 'descricao', 'descricao', 'descricao', 'descricao', 'descricao', 'descricao', 'descricao', 'descricao', 'descricao', 'descricao', 'descricao', 'descricao', 'descricao', 'descricao', 'descricao', 'descricao', 'descricao', 'descricao', 'descricao', 'descricao', 'descricao', 'descricao', 'descricao', 'descricao', 'descricao', 'descricao', 'descricao', 'descricao', 'descricao', 'descricao', 'descricao', 'descricao', 'descricao', 'descricao', 'descricao', 'descricao', 'descricao', 'descricao', 'descricao', 'descricao', 'descricao', 'descricao', 'descricao', 'descricao', 'descricao', 'descricao', 'descricao', 'descricao', 'descricao', 'descricao', 'descricao', 'descricao', 'descricao', 'descricao', 'descricao', 'descricao', 'descricao', 'descricao', 'descricao', 'descricao', 'descricao', 'descricao', 'local', 'local', 'salario', 'salario', 'salario', 'salario', 'empresa', 'empresa', 'empresa', 'empresa', 'empresa', 'empresa', 'empresa', 'empresa', 'empresa', 'empresa', 'empresa', 'empresa', 'empresa', 'empresa', 'empresa', 'empresa', 'empresa', 'empresa', 'empresa', 'empresa', 'empresa', 'empresa', 'empresa', 'empresa', 'empresa', 'empresa', 'empresa', 'empresa', 'empresa', 'empresa', 'empresa', 'empresa', 'empresa', 'empresa', 'empresa', 'empresa', 'empresa', 'empresa', 'empresa', 'empresa', 'empresa', 'empresa', 'empresa', 'empresa', 'empresa', 'empresa', 'empresa', 'empresa', 'empresa', 'empresa', 'empresa']\n"
     ]
    }
   ],
   "source": [
    "#Testes para verificar previsoes individualmente\n",
    "observacoes, previsto, real = model.predictRandomTest()"
   ]
  },
  {
   "cell_type": "code",
   "execution_count": 16,
   "metadata": {
    "colab": {
     "base_uri": "https://localhost:8080/",
     "height": 53
    },
    "id": "QEaEz4Pu1AmO",
    "outputId": "77bc44c1-2b7b-44df-ba6e-9d600712807b"
   },
   "outputs": [
    {
     "name": "stdout",
     "output_type": "stream",
     "text": [
      "Obs: mais / Previsto: empresa / Real: descricao\n",
      "Obs: vida / Previsto: empresa / Real: descricao\n",
      "Obs: é / Previsto: empresa / Real: descricao\n",
      "Obs: trabalhará / Previsto: salario / Real: descricao\n",
      "Obs: na / Previsto: local / Real: descricao\n",
      "Obs: loja / Previsto: beneficios / Real: descricao\n",
      "Obs: terá / Previsto: empresa / Real: descricao\n",
      "Obs: contato / Previsto: salario / Real: descricao\n",
      "Obs: direto / Previsto: local / Real: descricao\n",
      "Obs: com / Previsto: beneficios / Real: descricao\n",
      "Obs: nossos / Previsto: empresa / Real: descricao\n",
      "Obs: clientes / Previsto: salario / Real: descricao\n",
      "Obs: prestando / Previsto: local / Real: descricao\n",
      "Obs: consultoria / Previsto: beneficios / Real: descricao\n",
      "Obs: aplicando / Previsto: empresa / Real: descricao\n",
      "Obs: medicamentos / Previsto: salario / Real: descricao\n",
      "Obs: injetáveis / Previsto: local / Real: descricao\n",
      "Obs: treinando / Previsto: beneficios / Real: descricao\n",
      "Obs: equipe / Previsto: empresa / Real: descricao\n",
      "Obs: e / Previsto: salario / Real: descricao\n",
      "Obs: organizando / Previsto: local / Real: descricao\n",
      "Obs: os / Previsto: beneficios / Real: descricao\n",
      "Obs: psicotrópicos / Previsto: empresa / Real: descricao\n",
      "Obs: e / Previsto: salario / Real: descricao\n",
      "Obs: termolábeis / Previsto: local / Real: descricao\n",
      "Obs: buscamos / Previsto: beneficios / Real: descricao\n",
      "Obs: comunicativas / Previsto: empresa / Real: descricao\n",
      "Obs: resilientes / Previsto: salario / Real: descricao\n",
      "Obs: empáticas / Previsto: local / Real: descricao\n",
      "Obs: e / Previsto: beneficios / Real: descricao\n",
      "Obs: gostem / Previsto: empresa / Real: descricao\n",
      "Obs: de / Previsto: salario / Real: descricao\n",
      "Obs: gentesomos / Previsto: local / Real: descricao\n",
      "Obs: uma / Previsto: beneficios / Real: descricao\n",
      "Obs: inclusiva / Previsto: empresa / Real: descricao\n",
      "Obs: se / Previsto: salario / Real: descricao\n",
      "Obs: você / Previsto: local / Real: descricao\n",
      "Obs: é / Previsto: beneficios / Real: descricao\n",
      "Obs: pessoa / Previsto: empresa / Real: descricao\n",
      "Obs: com / Previsto: salario / Real: descricao\n",
      "Obs: deficiência / Previsto: local / Real: descricao\n",
      "Obs: não / Previsto: beneficios / Real: descricao\n",
      "Obs: de / Previsto: empresa / Real: descricao\n",
      "Obs: participar / Previsto: salario / Real: descricao\n",
      "Obs: requisitosmaior / Previsto: local / Real: descricao\n",
      "Obs: de / Previsto: beneficios / Real: descricao\n",
      "Obs: anosensino / Previsto: empresa / Real: descricao\n",
      "Obs: superior / Previsto: salario / Real: descricao\n",
      "Obs: completo / Previsto: local / Real: descricao\n",
      "Obs: em / Previsto: beneficios / Real: descricao\n",
      "Obs: escala / Previsto: empresa / Real: descricao\n",
      "Obs: de / Previsto: salario / Real: descricao\n",
      "Obs: trabalho / Previsto: local / Real: descricao\n",
      "Obs: disponibilidade / Previsto: beneficios / Real: descricao\n",
      "Obs: trabalhar / Previsto: empresa / Real: descricao\n",
      "Obs: por / Previsto: salario / Real: descricao\n",
      "Obs: escala / Previsto: local / Real: descricao\n",
      "Obs: podendo / Previsto: beneficios / Real: descricao\n",
      "Obs: sábados / Previsto: empresa / Real: descricao\n",
      "Obs: domingos / Previsto: salario / Real: descricao\n",
      "Obs: e / Previsto: local / Real: descricao\n",
      "Obs: feriados / Previsto: beneficios / Real: descricao\n",
      "Obs: dos / Previsto: empresa / Real: descricao\n",
      "Obs: benefícios / Previsto: salario / Real: descricao\n",
      "Obs: listados / Previsto: local / Real: descricao\n",
      "Obs: nós / Previsto: beneficios / Real: descricao\n",
      "Obs: oferecemossalário / Previsto: empresa / Real: descricao\n",
      "Obs: compatível / Previsto: salario / Real: descricao\n",
      "Obs: com / Previsto: local / Real: descricao\n",
      "Obs: mercadoauxílio / Previsto: beneficios / Real: descricao\n",
      "Obs: ou / Previsto: empresa / Real: descricao\n",
      "Obs: alimentaçãoplano / Previsto: salario / Real: descricao\n",
      "Obs: de / Previsto: local / Real: descricao\n",
      "Obs: carreira / Previsto: beneficios / Real: descricao\n",
      "Obs: são / Previsto: descricao / Real: local\n",
      "Obs: leopoldo / Previsto: empresa / Real: local\n",
      "Obs: salarial / Previsto: local / Real: salario\n",
      "Obs: a / Previsto: beneficios / Real: salario\n",
      "Obs: combinar / Previsto: descricao / Real: salario\n",
      "Obs: a / Previsto: salario / Real: empresa\n",
      "Obs: rd / Previsto: local / Real: empresa\n",
      "Obs: - / Previsto: beneficios / Real: empresa\n",
      "Obs: gente / Previsto: descricao / Real: empresa\n",
      "Obs: e / Previsto: salario / Real: empresa\n",
      "Obs: bem-estar / Previsto: local / Real: empresa\n",
      "Obs: presente / Previsto: beneficios / Real: empresa\n",
      "Obs: em / Previsto: descricao / Real: empresa\n",
      "Obs: estados / Previsto: salario / Real: empresa\n",
      "Obs: brasileiros / Previsto: local / Real: empresa\n",
      "Obs: com / Previsto: beneficios / Real: empresa\n",
      "Obs: mais / Previsto: descricao / Real: empresa\n",
      "Obs: 2000 / Previsto: salario / Real: empresa\n",
      "Obs: lojas / Previsto: local / Real: empresa\n",
      "Obs: foi / Previsto: beneficios / Real: empresa\n",
      "Obs: criada / Previsto: descricao / Real: empresa\n",
      "Obs: novembro / Previsto: salario / Real: empresa\n",
      "Obs: de / Previsto: local / Real: empresa\n",
      "Obs: 2011 / Previsto: beneficios / Real: empresa\n",
      "Obs: a / Previsto: descricao / Real: empresa\n",
      "Obs: da / Previsto: salario / Real: empresa\n",
      "Obs: união / Previsto: local / Real: empresa\n",
      "Obs: entre / Previsto: beneficios / Real: empresa\n",
      "Obs: raia / Previsto: descricao / Real: empresa\n",
      "Obs: drogasilsomos / Previsto: salario / Real: empresa\n",
      "Obs: a / Previsto: local / Real: empresa\n",
      "Obs: maior / Previsto: beneficios / Real: empresa\n",
      "Obs: empresa / Previsto: descricao / Real: empresa\n",
      "Obs: varejo / Previsto: salario / Real: empresa\n",
      "Obs: farmacêutico / Previsto: local / Real: empresa\n",
      "Obs: em / Previsto: beneficios / Real: empresa\n",
      "Obs: receita / Previsto: descricao / Real: empresa\n",
      "Obs: número / Previsto: salario / Real: empresa\n",
      "Obs: de / Previsto: local / Real: empresa\n",
      "Obs: lojasvenha / Previsto: beneficios / Real: empresa\n",
      "Obs: fazer / Previsto: descricao / Real: empresa\n",
      "Obs: do / Previsto: salario / Real: empresa\n",
      "Obs: nosso / Previsto: local / Real: empresa\n",
      "Obs: time / Previsto: beneficios / Real: empresa\n",
      "Obs: de / Previsto: descricao / Real: empresa\n"
     ]
    }
   ],
   "source": [
    "#Exibe as mudanças de estado incorretas\n",
    "model.ExibeMudancasEstadoIncorretas(observacoes, previsto, real)"
   ]
  }
 ],
 "metadata": {
  "accelerator": "GPU",
  "colab": {
   "collapsed_sections": [],
   "name": "HMMVagas_V3",
   "provenance": []
  },
  "kernelspec": {
   "display_name": "Python 3",
   "language": "python",
   "name": "python3"
  },
  "language_info": {
   "codemirror_mode": {
    "name": "ipython",
    "version": 3
   },
   "file_extension": ".py",
   "mimetype": "text/x-python",
   "name": "python",
   "nbconvert_exporter": "python",
   "pygments_lexer": "ipython3",
   "version": "3.7.6"
  }
 },
 "nbformat": 4,
 "nbformat_minor": 1
}
