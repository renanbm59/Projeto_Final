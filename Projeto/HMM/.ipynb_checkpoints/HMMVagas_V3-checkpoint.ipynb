{
 "cells": [
  {
   "cell_type": "code",
   "execution_count": 3,
   "metadata": {
    "id": "P1H9UTBLvtKR"
   },
   "outputs": [],
   "source": [
    "#Fixed vocabulary, unknown probability based on training\n",
    "import os\n",
    "\n",
    "import lib.tratamentoTexto as TT\n",
    "from lib.HMM_Vagas_V3 import HMM_Vagas_V3"
   ]
  },
  {
   "cell_type": "code",
   "execution_count": 4,
   "metadata": {
    "id": "BgdoRfTjHSwi"
   },
   "outputs": [],
   "source": [
    "path = \"../Dados/vagas.json\"\n",
    "estados = ['salario', 'local', 'beneficios', 'descricao', 'empresa']"
   ]
  },
  {
   "cell_type": "code",
   "execution_count": null,
   "metadata": {
    "colab": {
     "base_uri": "https://localhost:8080/",
     "height": 35
    },
    "id": "Og9u46KVFbi8",
    "outputId": "d303694c-a013-4a53-c04c-99dc940b4d4c"
   },
   "outputs": [],
   "source": [
    "#Usando como vocabulario palavras de outro dataset de vagas, diferente do treinamento e teste\n",
    "pathVoc = os.path.abspath(os.getcwd()) + \"/Dados/vagasVocabulario.json\"\n",
    "pathVoc = path.replace(\"\\\\\", \"/\")\n",
    "data = TT.loadDataset(pathVoc, True)\n",
    "vocabulario = TT.getVocabularioFromDataSet(data)\n",
    "print(\"Quantidade vagas:\", len(data))\n",
    "print(\"Tamanho vocabulario:\", len(vocabulario))"
   ]
  },
  {
   "cell_type": "code",
   "execution_count": 4,
   "metadata": {
    "colab": {
     "base_uri": "https://localhost:8080/",
     "height": 255
    },
    "id": "fpbmCRpqg_mS",
    "outputId": "12ddf8c1-6a46-406f-9920-7564ce38c617"
   },
   "outputs": [
    {
     "name": "stdout",
     "output_type": "stream",
     "text": [
      "Calculating fit<.....................................................................................................>\n",
      "Fit duration: 0:00:52.223809\n"
     ]
    }
   ],
   "source": [
    "data = TT.loadDataset(path, True)\n",
    "model = HMM_Vagas_V3(data = data, trainPerc=0.7, estados=estados, vocabulario = vocabulario)\n",
    "model.fit()"
   ]
  },
  {
   "cell_type": "code",
   "execution_count": 5,
   "metadata": {
    "colab": {
     "base_uri": "https://localhost:8080/",
     "height": 310
    },
    "id": "7iMwDpXHidAw",
    "outputId": "b8072d22-1700-4b14-ce23-08f79a9e171e"
   },
   "outputs": [
    {
     "name": "stdout",
     "output_type": "stream",
     "text": [
      "Calculating cost <.......................................................................................................>\n",
      "Loss: 0.5939691679359925\n",
      "Percentual acertos totais: 0.058763413387838526\n",
      "Loss em salario 0.7166241003018342\n",
      "\t {'local': 0.47357293868921774, 'beneficios': 0.7235772357723578, 'descricao': 0.8997722095671982, 'empresa': 0.8054474708171206}\n",
      "Loss em local 0.4843796489140137\n",
      "\t {'salario': 0.7430555555555556, 'beneficios': 0.6027027027027027, 'descricao': 0.8867521367521367, 'empresa': 0.7169811320754716}\n",
      "Loss em beneficios 0.6287744227353463\n",
      "\t {'salario': 0.7378378378378379, 'local': 0.5710306406685237, 'descricao': 0.9052924791086351, 'empresa': 0.7389162561576355}\n",
      "Loss em descricao 0.6157706638278458\n",
      "\t {'salario': 0.5223880597014925, 'local': 0.11989795918367346, 'beneficios': 0.1455026455026455, 'empresa': 0.1323529411764706}\n",
      "Loss em empresa 0.5464538473121517\n",
      "\t {'salario': 0.4826254826254826, 'local': 0.14901960784313725, 'beneficios': 0.18660287081339713, 'descricao': 0.6563706563706564}\n",
      "Loss em estado inicial\n",
      "\t {'salario': 1.0, 'local': 0.9665271966527197, 'beneficios': 0.9945652173913043, 'descricao': 1.0, 'empresa': 0.996031746031746}\n"
     ]
    }
   ],
   "source": [
    "x = model.fullCost(model.tests)"
   ]
  },
  {
   "cell_type": "code",
   "execution_count": 6,
   "metadata": {},
   "outputs": [],
   "source": [
    "savePath = \"Resultados/ResultadosV3/Resultados vocabulario dataset\"\n",
    "model.salvaTudo(savePath)"
   ]
  },
  {
   "cell_type": "code",
   "execution_count": 7,
   "metadata": {
    "colab": {
     "base_uri": "https://localhost:8080/",
     "height": 35
    },
    "id": "-tqXUJJef_7L",
    "outputId": "d7ac4b1d-efc9-42a8-e0f3-af45aba3dd55"
   },
   "outputs": [
    {
     "name": "stdout",
     "output_type": "stream",
     "text": [
      "Tamanho vocabulario: 318538\n"
     ]
    }
   ],
   "source": [
    "#Usando como vocabulario um vocabulario de palavras da internet\n",
    "pathVoc = \"../Dados/vocabularioInternetLimpo.txt\"\n",
    "vocabulario = TT.GetVocFromArqList(pathVoc)\n",
    "print(\"Tamanho vocabulario:\", len(vocabulario))"
   ]
  },
  {
   "cell_type": "code",
   "execution_count": 8,
   "metadata": {
    "colab": {
     "base_uri": "https://localhost:8080/",
     "height": 255
    },
    "id": "cjEKHZyf-xm8",
    "outputId": "5b9af90b-d385-42c9-fbac-66f986b23229"
   },
   "outputs": [
    {
     "name": "stdout",
     "output_type": "stream",
     "text": [
      "Calculating fit<.....................................................................................................>\n",
      "Fit duration: 0:41:36.821013\n"
     ]
    }
   ],
   "source": [
    "#path = \"../Dados/vagas.json\"\n",
    "data = TT.loadDataset(path, True)\n",
    "model = HMM_Vagas_V3(data = data, trainPerc=0.7, estados=estados, vocabulario = vocabulario)\n",
    "model.fit()"
   ]
  },
  {
   "cell_type": "code",
   "execution_count": 9,
   "metadata": {
    "colab": {
     "base_uri": "https://localhost:8080/",
     "height": 310
    },
    "id": "KwNIVz7V-6SH",
    "outputId": "6a8f1b7c-3390-4228-bb95-4c2800d9e1e5"
   },
   "outputs": [
    {
     "name": "stdout",
     "output_type": "stream",
     "text": [
      "Calculating cost <.......................................................................................................>\n",
      "Loss: 0.649515424401185\n",
      "Percentual acertos totais: 0.07153806847215124\n",
      "Loss em salario 0.6665892732760622\n",
      "\t {'local': 0.43953488372093025, 'beneficios': 0.6454081632653061, 'descricao': 0.9280742459396751, 'empresa': 0.746938775510204}\n",
      "Loss em local 0.36001190121987503\n",
      "\t {'salario': 0.814498933901919, 'beneficios': 0.4022038567493113, 'descricao': 0.9285714285714286, 'empresa': 0.5725190839694656}\n",
      "Loss em beneficios 0.49496743635287155\n",
      "\t {'salario': 0.8214285714285714, 'local': 0.3389830508474576, 'descricao': 0.9352331606217616, 'empresa': 0.5652173913043478}\n",
      "Loss em descricao 0.7467157496410473\n",
      "\t {'salario': 0.7200956937799043, 'local': 0.0853932584269663, 'beneficios': 0.06788511749347259, 'empresa': 0.0364963503649635}\n",
      "Loss em empresa 0.47900249293111813\n",
      "\t {'salario': 0.5984555984555985, 'local': 0.11913357400722022, 'beneficios': 0.08095238095238096, 'descricao': 0.7958333333333333}\n",
      "Loss em estado inicial\n",
      "\t {'salario': 1.0, 'local': 0.8691796008869179, 'beneficios': 0.9566473988439307, 'descricao': 1.0, 'empresa': 0.9961685823754789}\n"
     ]
    }
   ],
   "source": [
    "x = model.fullCost(model.tests)"
   ]
  },
  {
   "cell_type": "code",
   "execution_count": 10,
   "metadata": {},
   "outputs": [],
   "source": [
    "savePath = \"Resultados/ResultadosV3/Resultados vocabulario internet\"\n",
    "model.salvaTudo(savePath)"
   ]
  },
  {
   "cell_type": "code",
   "execution_count": 11,
   "metadata": {},
   "outputs": [
    {
     "name": "stdout",
     "output_type": "stream",
     "text": [
      "Tamanho vocabulario: 533696\n",
      "Calculating fit<.....................................................................................................>\n",
      "Fit duration: 0:15:07.623657\n"
     ]
    }
   ],
   "source": [
    "#Usando como vocabulario um vocabulario de palavras obtidas a partir da wikipedia\n",
    "pathVoc = \"../Dados/vocabularioWikipediaLimpo.txt\"\n",
    "vocabulario = TT.GetVocFromArqList(pathVoc)\n",
    "print(\"Tamanho vocabulario:\", len(vocabulario))\n",
    "data = TT.loadDataset(path, True)\n",
    "model = HMM_Vagas_V3(data = data, trainPerc=0.7, estados=estados, vocabulario = vocabulario)\n",
    "model.fit()"
   ]
  },
  {
   "cell_type": "code",
   "execution_count": null,
   "metadata": {},
   "outputs": [
    {
     "name": "stdout",
     "output_type": "stream",
     "text": [
      "Calculating cost <................................................................................................"
     ]
    }
   ],
   "source": [
    "x = model.fullCost(model.tests)"
   ]
  },
  {
   "cell_type": "code",
   "execution_count": null,
   "metadata": {},
   "outputs": [],
   "source": [
    "savePath = \"Resultados/ResultadosV3/Resultados vocabulario wikipedia\"\n",
    "model.salvaTudo(savePath)"
   ]
  },
  {
   "cell_type": "code",
   "execution_count": null,
   "metadata": {
    "colab": {
     "base_uri": "https://localhost:8080/",
     "height": 146
    },
    "id": "8rTOs1_5FAjv",
    "outputId": "c9846610-64b8-4b25-b4f8-b757007efd05"
   },
   "outputs": [],
   "source": [
    "#Testes para verificar previsoes individualmente\n",
    "observacoes, previsto, real = model.predictRandomTest()"
   ]
  },
  {
   "cell_type": "code",
   "execution_count": null,
   "metadata": {
    "colab": {
     "base_uri": "https://localhost:8080/",
     "height": 53
    },
    "id": "QEaEz4Pu1AmO",
    "outputId": "77bc44c1-2b7b-44df-ba6e-9d600712807b"
   },
   "outputs": [],
   "source": [
    "#Exibe as mudanças de estado incorretas\n",
    "model.ExibeMudancasEstadoIncorretas(observacoes, previsto, real)"
   ]
  }
 ],
 "metadata": {
  "accelerator": "GPU",
  "colab": {
   "collapsed_sections": [],
   "name": "HMMVagas_V3",
   "provenance": []
  },
  "kernelspec": {
   "display_name": "Python 3",
   "language": "python",
   "name": "python3"
  },
  "language_info": {
   "codemirror_mode": {
    "name": "ipython",
    "version": 3
   },
   "file_extension": ".py",
   "mimetype": "text/x-python",
   "name": "python",
   "nbconvert_exporter": "python",
   "pygments_lexer": "ipython3",
   "version": "3.7.6"
  }
 },
 "nbformat": 4,
 "nbformat_minor": 1
}
