{
 "cells": [
  {
   "cell_type": "code",
   "execution_count": null,
   "metadata": {
    "id": "P1H9UTBLvtKR"
   },
   "outputs": [],
   "source": [
    "#Fixed vocabulary, unknown probability based on training\n",
    "import os\n",
    "\n",
    "import lib.tratamentoTexto as TT\n",
    "from lib.HMM_Vagas_V3 import HMM_Vagas_V3"
   ]
  },
  {
   "cell_type": "code",
   "execution_count": null,
   "metadata": {
    "id": "BgdoRfTjHSwi"
   },
   "outputs": [],
   "source": [
    "path = \"../Dados/vagas1.json\"\n",
    "estados = ['salario', 'local', 'beneficios', 'descricao', 'empresa']"
   ]
  },
  {
   "cell_type": "code",
   "execution_count": null,
   "metadata": {
    "colab": {
     "base_uri": "https://localhost:8080/",
     "height": 35
    },
    "id": "Og9u46KVFbi8",
    "outputId": "d303694c-a013-4a53-c04c-99dc940b4d4c"
   },
   "outputs": [],
   "source": [
    "#Usando como vocabulario palavras de outro dataset de vagas, diferente do treinamento e teste\n",
    "pathVoc = os.path.abspath(os.getcwd()) + \"/Dados/vagas2.json\"\n",
    "pathVoc = path.replace(\"\\\\\", \"/\")\n",
    "data = TT.loadDataset(pathVoc, True)\n",
    "vocabulario = TT.getVocabularioFromDataSet(data)\n",
    "print(\"Tamanho vocabulario:\", len(vocabulario))"
   ]
  },
  {
   "cell_type": "code",
   "execution_count": null,
   "metadata": {
    "colab": {
     "base_uri": "https://localhost:8080/",
     "height": 255
    },
    "id": "fpbmCRpqg_mS",
    "outputId": "12ddf8c1-6a46-406f-9920-7564ce38c617"
   },
   "outputs": [],
   "source": [
    "data = TT.loadDataset(path, True)\n",
    "model = HMM_Vagas_V3(data = data, trainPerc=0.7, estados=estados, vocabulario = vocabulario)\n",
    "model.fit()"
   ]
  },
  {
   "cell_type": "code",
   "execution_count": null,
   "metadata": {
    "colab": {
     "base_uri": "https://localhost:8080/",
     "height": 310
    },
    "id": "7iMwDpXHidAw",
    "outputId": "b8072d22-1700-4b14-ce23-08f79a9e171e"
   },
   "outputs": [],
   "source": [
    "x = model.fullCost(model.tests)"
   ]
  },
  {
   "cell_type": "code",
   "execution_count": null,
   "metadata": {},
   "outputs": [],
   "source": [
    "savePath = \"Resultados/ResultadosV3/Resultados vocabulario dataset\"\n",
    "model.salvaTudo(savePath)"
   ]
  },
  {
   "cell_type": "code",
   "execution_count": null,
   "metadata": {
    "colab": {
     "base_uri": "https://localhost:8080/",
     "height": 35
    },
    "id": "-tqXUJJef_7L",
    "outputId": "d7ac4b1d-efc9-42a8-e0f3-af45aba3dd55"
   },
   "outputs": [],
   "source": [
    "#Usando como vocabulario um vocabulario de palavras da internet\n",
    "pathVoc = \"../Dados/vocabularioInternetLimpo.txt\"\n",
    "vocabulario = TT.GetVocFromArqList(pathVoc)\n",
    "print(\"Tamanho vocabulario:\", len(vocabulario))"
   ]
  },
  {
   "cell_type": "code",
   "execution_count": null,
   "metadata": {
    "colab": {
     "base_uri": "https://localhost:8080/",
     "height": 255
    },
    "id": "cjEKHZyf-xm8",
    "outputId": "5b9af90b-d385-42c9-fbac-66f986b23229"
   },
   "outputs": [],
   "source": [
    "path = \"../Dados/vagas1.json\"\n",
    "data = TT.loadDataset(path, True)\n",
    "model = HMM_Vagas_V3(data = data, trainPerc=0.7, estados=estados, vocabulario = vocabulario)\n",
    "model.fit()"
   ]
  },
  {
   "cell_type": "code",
   "execution_count": null,
   "metadata": {
    "colab": {
     "base_uri": "https://localhost:8080/",
     "height": 310
    },
    "id": "KwNIVz7V-6SH",
    "outputId": "6a8f1b7c-3390-4228-bb95-4c2800d9e1e5"
   },
   "outputs": [],
   "source": [
    "x = model.fullCost(model.tests)"
   ]
  },
  {
   "cell_type": "code",
   "execution_count": null,
   "metadata": {},
   "outputs": [],
   "source": [
    "savePath = \"Resultados/ResultadosV3/Resultados vocabulario internet\"\n",
    "model.salvaTudo(savePath)"
   ]
  },
  {
   "cell_type": "code",
   "execution_count": null,
   "metadata": {},
   "outputs": [],
   "source": [
    "#Usando como vocabulario um vocabulario de palavras obtidas a partir da wikipedia\n",
    "pathVoc = \"../Dados/vocabularioWikipediaLimpo.txt\"\n",
    "vocabulario = TT.GetVocFromArqList(pathVoc)\n",
    "print(\"Tamanho vocabulario:\", len(vocabulario))\n",
    "data = TT.loadDataset(path, True)\n",
    "model = HMM_Vagas_V3(data = data, trainPerc=0.7, estados=estados, vocabulario = vocabulario)\n",
    "model.fit()"
   ]
  },
  {
   "cell_type": "code",
   "execution_count": null,
   "metadata": {},
   "outputs": [],
   "source": [
    "x = model.fullCost(model.tests)"
   ]
  },
  {
   "cell_type": "code",
   "execution_count": null,
   "metadata": {},
   "outputs": [],
   "source": [
    "savePath = \"Resultados/ResultadosV3/Resultados vocabulario wikipedia\"\n",
    "model.salvaTudo(savePath)"
   ]
  },
  {
   "cell_type": "code",
   "execution_count": null,
   "metadata": {
    "colab": {
     "base_uri": "https://localhost:8080/",
     "height": 146
    },
    "id": "8rTOs1_5FAjv",
    "outputId": "c9846610-64b8-4b25-b4f8-b757007efd05"
   },
   "outputs": [],
   "source": [
    "#Testes para verificar previsoes individualmente\n",
    "observacoes, previsto, real = model.predictRandomTest()"
   ]
  },
  {
   "cell_type": "code",
   "execution_count": null,
   "metadata": {
    "colab": {
     "base_uri": "https://localhost:8080/",
     "height": 53
    },
    "id": "QEaEz4Pu1AmO",
    "outputId": "77bc44c1-2b7b-44df-ba6e-9d600712807b"
   },
   "outputs": [],
   "source": [
    "#Exibe as mudanças de estado incorretas\n",
    "model.ExibeMudancasEstadoIncorretas(observacoes, previsto, real)"
   ]
  }
 ],
 "metadata": {
  "accelerator": "GPU",
  "colab": {
   "collapsed_sections": [],
   "name": "HMMVagas_V3",
   "provenance": []
  },
  "kernelspec": {
   "display_name": "Python 3",
   "language": "python",
   "name": "python3"
  },
  "language_info": {
   "codemirror_mode": {
    "name": "ipython",
    "version": 3
   },
   "file_extension": ".py",
   "mimetype": "text/x-python",
   "name": "python",
   "nbconvert_exporter": "python",
   "pygments_lexer": "ipython3",
   "version": "3.8.3"
  }
 },
 "nbformat": 4,
 "nbformat_minor": 1
}
