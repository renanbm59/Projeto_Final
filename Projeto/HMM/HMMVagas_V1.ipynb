{
 "cells": [
  {
   "cell_type": "code",
   "execution_count": 1,
   "metadata": {
    "id": "P1H9UTBLvtKR"
   },
   "outputs": [],
   "source": [
    "import os\n",
    "\n",
    "import lib.tratamentoTexto as TT\n",
    "from lib.HMM_Vagas import HMM"
   ]
  },
  {
   "cell_type": "code",
   "execution_count": 2,
   "metadata": {},
   "outputs": [],
   "source": [
    "path = \"../Dados/vagas.json\"\n",
    "path = path.replace(\"\\\\\", \"/\")\n",
    "estados = ['salario', 'local', 'beneficios', 'descricao', 'empresa']"
   ]
  },
  {
   "cell_type": "code",
   "execution_count": 3,
   "metadata": {
    "colab": {
     "base_uri": "https://localhost:8080/",
     "height": 255
    },
    "id": "fpbmCRpqg_mS",
    "outputId": "ec5fb19e-df3c-49a9-9381-5a1335ec7c81"
   },
   "outputs": [
    {
     "name": "stdout",
     "output_type": "stream",
     "text": [
      "Calculating fit<....................................................................................................>\n",
      "Fit duration: 0:15:44.099461\n"
     ]
    }
   ],
   "source": [
    "data = TT.loadDataset(path, False)\n",
    "model = HMM(data = data, trainPerc=0.7, estados=estados)\n",
    "model.fit()"
   ]
  },
  {
   "cell_type": "code",
   "execution_count": 4,
   "metadata": {
    "colab": {
     "base_uri": "https://localhost:8080/",
     "height": 310
    },
    "id": "Aqs6vX2e5V8z",
    "outputId": "7552b8c5-e019-49f7-87b7-37bde86e18d8"
   },
   "outputs": [
    {
     "name": "stdout",
     "output_type": "stream",
     "text": [
      "Calculating cost <.....................................................................................................>\n",
      "Loss: 0.5518547827493618\n",
      "Percentual acertos totais: 0.10700538876058506\n",
      "Loss em salario 0.9998819432146863\n",
      "\t {'local': 0.9544521426738517, 'beneficios': -1, 'descricao': -1, 'empresa': -1}\n",
      "Loss em local 0.8720613532110092\n",
      "\t {'salario': -1, 'beneficios': 0.9903210195192773, 'descricao': 0.9981191222570532, 'empresa': -1}\n",
      "Loss em beneficios 0.9766442299894574\n",
      "\t {'salario': -1, 'local': -1, 'descricao': 0.9998386836586546, 'empresa': -1}\n",
      "Loss em descricao 0.6642156195689786\n",
      "\t {'salario': -1, 'local': -1, 'beneficios': -1, 'empresa': 0.13507334730424841}\n",
      "Loss em empresa 0.2775258738527631\n",
      "\t {'salario': -1, 'local': -1, 'beneficios': -1, 'descricao': -1}\n",
      "Loss em estado inicial\n",
      "\t {'salario': 1.0, 'local': -1, 'beneficios': -1, 'descricao': -1, 'empresa': -1}\n"
     ]
    }
   ],
   "source": [
    "x = model.fullCost(model.tests)"
   ]
  },
  {
   "cell_type": "code",
   "execution_count": 5,
   "metadata": {},
   "outputs": [],
   "source": [
    "savePath = \"Resultados/ResultadosV1/Resultados sem ordenacao\"\n",
    "model.salvaTudo(savePath)"
   ]
  },
  {
   "cell_type": "code",
   "execution_count": 6,
   "metadata": {
    "colab": {
     "base_uri": "https://localhost:8080/",
     "height": 255
    },
    "id": "cjEKHZyf-xm8",
    "outputId": "5ad58032-5b27-4a47-f275-757da0e6e89e"
   },
   "outputs": [
    {
     "name": "stdout",
     "output_type": "stream",
     "text": [
      "Calculating fit<....................................................................................................>\n",
      "Fit duration: 0:15:38.695522\n"
     ]
    }
   ],
   "source": [
    "data = TT.loadDataset(path, True)\n",
    "model = HMM(data = data, trainPerc=0.7, estados=estados)\n",
    "model.fit()"
   ]
  },
  {
   "cell_type": "code",
   "execution_count": 7,
   "metadata": {
    "colab": {
     "base_uri": "https://localhost:8080/",
     "height": 290
    },
    "id": "kq5mcYl--1Cf",
    "outputId": "2eff6b8d-8477-4d44-a4f3-e2aef98c3302"
   },
   "outputs": [
    {
     "name": "stdout",
     "output_type": "stream",
     "text": [
      "Calculating cost <.....................................................................................................>\n",
      "Loss: 0.559799435005312\n",
      "Percentual acertos totais: 0.06107261996407493\n",
      "Loss em salario 0.6930228439879582\n",
      "\t {'local': 0.6230425055928411, 'beneficios': 0.698821796759941, 'descricao': 0.8931870669745958, 'empresa': 0.7478336221837089}\n",
      "Loss em local 0.5036553899082569\n",
      "\t {'salario': 0.7008928571428571, 'beneficios': 0.6631892697466468, 'descricao': 0.8905109489051095, 'empresa': 0.6816059757236228}\n",
      "Loss em beneficios 0.6157651447571162\n",
      "\t {'salario': 0.7040971168437026, 'local': 0.6222385861561119, 'descricao': 0.8921348314606742, 'empresa': 0.7497116493656286}\n",
      "Loss em descricao 0.5685139753424338\n",
      "\t {'salario': 0.49890350877192985, 'local': 0.16796008869179602, 'beneficios': 0.16403310759969902, 'empresa': 0.12980769230769232}\n",
      "Loss em empresa 0.5336594415153291\n",
      "\t {'salario': 0.4756756756756757, 'local': 0.14390467461044912, 'beneficios': 0.15474794841735054, 'descricao': 0.6795224977043158}\n",
      "Loss em estado inicial\n",
      "\t {'salario': 1.0, 'local': 0.9931545921277809, 'beneficios': 0.9901290812452543, 'descricao': 1.0, 'empresa': 1.0}\n"
     ]
    }
   ],
   "source": [
    "x = model.fullCost(model.tests)"
   ]
  },
  {
   "cell_type": "code",
   "execution_count": 8,
   "metadata": {},
   "outputs": [],
   "source": [
    "savePath = \"Resultados/ResultadosV1/Resultados com ordenacao\"\n",
    "model.salvaTudo(savePath)"
   ]
  },
  {
   "cell_type": "code",
   "execution_count": 16,
   "metadata": {
    "colab": {
     "base_uri": "https://localhost:8080/",
     "height": 146
    },
    "id": "8rTOs1_5FAjv",
    "outputId": "4216a5e2-c92d-4cc4-9c32-76307d91549c"
   },
   "outputs": [
    {
     "name": "stdout",
     "output_type": "stream",
     "text": [
      "Observacoes\n",
      "\t ['descrição', 'principais', 'atividadestreinar', 'e', 'direcionar', 'atividades', 'da', 'equipe', 'de', '<unk>', 'auditorias', 'de', 'processopropor', 'melhorias', 'nos', 'planos', 'de', 'inspeção', 'e', 'documentos', 'relacionados', 'ao', 'processo', '<unk>', 'produção', 'em', 'conformidade', 'com', 'especificações', 'técnicas', 'e', 'requisitos', 'de', 'clientesprestar', 'suporte', 'técnico', 'ao', 'time', 'de', 'gestãorealizar', 'inspeção', 'de', 'peças', 'e', '<unk>', 'disposição', 'para', 'itens', '<unk>', 'processo', 'produtivo', 'na', 'solução', 'de', '<unk>', 'utilização', 'dos', 'dispositivos', 'de', 'controles', '<unk>', 'requisitos', 'para', '<unk>', 'completo', 'nas', 'áreas', 'de', 'plástico', 'materiais', 'mecânica', 'qualidade', 'ou', 'áreas', 'afins•experiência', 'no', 'ramo', 'de', '<unk>', 'em', 'equipamentos', 'de', '<unk>', 'experiência', 'com', 'liderança', 'de', 'equipe', 'faixa', 'salarial', 'a', 'combinar', 'joinville', 'assistência', 'médica']\n",
      "Previsto\n",
      "\t ['descricao', 'descricao', 'descricao', 'descricao', 'descricao', 'descricao', 'descricao', 'descricao', 'descricao', 'descricao', 'descricao', 'descricao', 'descricao', 'descricao', 'descricao', 'descricao', 'descricao', 'descricao', 'descricao', 'descricao', 'descricao', 'descricao', 'descricao', 'descricao', 'descricao', 'descricao', 'descricao', 'descricao', 'descricao', 'descricao', 'descricao', 'descricao', 'descricao', 'descricao', 'descricao', 'descricao', 'descricao', 'descricao', 'descricao', 'descricao', 'descricao', 'descricao', 'descricao', 'descricao', 'descricao', 'descricao', 'descricao', 'descricao', 'descricao', 'descricao', 'descricao', 'descricao', 'descricao', 'descricao', 'descricao', 'descricao', 'descricao', 'descricao', 'descricao', 'descricao', 'descricao', 'descricao', 'descricao', 'descricao', 'descricao', 'descricao', 'descricao', 'descricao', 'descricao', 'descricao', 'descricao', 'descricao', 'descricao', 'descricao', 'descricao', 'descricao', 'descricao', 'descricao', 'descricao', 'descricao', 'descricao', 'descricao', 'descricao', 'descricao', 'descricao', 'descricao', 'descricao', 'descricao', 'salario', 'salario', 'salario', 'salario', 'local', 'beneficios', 'beneficios']\n",
      "Real\n",
      "\t ['descricao', 'descricao', 'descricao', 'descricao', 'descricao', 'descricao', 'descricao', 'descricao', 'descricao', 'descricao', 'descricao', 'descricao', 'descricao', 'descricao', 'descricao', 'descricao', 'descricao', 'descricao', 'descricao', 'descricao', 'descricao', 'descricao', 'descricao', 'descricao', 'descricao', 'descricao', 'descricao', 'descricao', 'descricao', 'descricao', 'descricao', 'descricao', 'descricao', 'descricao', 'descricao', 'descricao', 'descricao', 'descricao', 'descricao', 'descricao', 'descricao', 'descricao', 'descricao', 'descricao', 'descricao', 'descricao', 'descricao', 'descricao', 'descricao', 'descricao', 'descricao', 'descricao', 'descricao', 'descricao', 'descricao', 'descricao', 'descricao', 'descricao', 'descricao', 'descricao', 'descricao', 'descricao', 'descricao', 'descricao', 'descricao', 'descricao', 'descricao', 'descricao', 'descricao', 'descricao', 'descricao', 'descricao', 'descricao', 'descricao', 'descricao', 'descricao', 'descricao', 'descricao', 'descricao', 'descricao', 'descricao', 'descricao', 'descricao', 'descricao', 'descricao', 'descricao', 'descricao', 'descricao', 'salario', 'salario', 'salario', 'salario', 'local', 'beneficios', 'beneficios']\n"
     ]
    }
   ],
   "source": [
    "observacoes, previsto, real = model.predictRandomTest()"
   ]
  },
  {
   "cell_type": "code",
   "execution_count": 17,
   "metadata": {
    "colab": {
     "base_uri": "https://localhost:8080/",
     "height": 1000
    },
    "id": "QEaEz4Pu1AmO",
    "outputId": "5a787665-52a5-4d14-9d9e-77ea94633ec3"
   },
   "outputs": [],
   "source": [
    "model.ExibeMudancasEstadoIncorretas(observacoes, previsto, real)"
   ]
  }
 ],
 "metadata": {
  "accelerator": "GPU",
  "colab": {
   "collapsed_sections": [],
   "name": "HMMVagas_V1",
   "provenance": []
  },
  "kernelspec": {
   "display_name": "Python 3",
   "language": "python",
   "name": "python3"
  },
  "language_info": {
   "codemirror_mode": {
    "name": "ipython",
    "version": 3
   },
   "file_extension": ".py",
   "mimetype": "text/x-python",
   "name": "python",
   "nbconvert_exporter": "python",
   "pygments_lexer": "ipython3",
   "version": "3.8.3"
  }
 },
 "nbformat": 4,
 "nbformat_minor": 1
}
