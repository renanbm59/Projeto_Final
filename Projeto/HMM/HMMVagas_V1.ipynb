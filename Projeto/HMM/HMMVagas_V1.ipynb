{
 "cells": [
  {
   "cell_type": "code",
   "execution_count": 1,
   "metadata": {
    "id": "P1H9UTBLvtKR"
   },
   "outputs": [],
   "source": [
    "import os\n",
    "\n",
    "import lib.tratamentoTexto as TT\n",
    "from lib.HMM_Vagas import HMM"
   ]
  },
  {
   "cell_type": "code",
   "execution_count": 2,
   "metadata": {},
   "outputs": [],
   "source": [
    "path = \"../Dados/vagas.json\"\n",
    "path = path.replace(\"\\\\\", \"/\")\n",
    "estados = ['salario', 'local', 'beneficios', 'descricao', 'empresa']"
   ]
  },
  {
   "cell_type": "code",
   "execution_count": 3,
   "metadata": {
    "colab": {
     "base_uri": "https://localhost:8080/",
     "height": 255
    },
    "id": "fpbmCRpqg_mS",
    "outputId": "ec5fb19e-df3c-49a9-9381-5a1335ec7c81"
   },
   "outputs": [
    {
     "name": "stdout",
     "output_type": "stream",
     "text": [
      "Calculating fit<....................................................................................................>\n",
      "Fit duration: 0:19:35.365024\n"
     ]
    }
   ],
   "source": [
    "data = TT.loadDataset(path, False)\n",
    "model = HMM(data = data, trainPerc=0.7, estados=estados)\n",
    "model.fit()"
   ]
  },
  {
   "cell_type": "code",
   "execution_count": 4,
   "metadata": {
    "colab": {
     "base_uri": "https://localhost:8080/",
     "height": 310
    },
    "id": "Aqs6vX2e5V8z",
    "outputId": "7552b8c5-e019-49f7-87b7-37bde86e18d8"
   },
   "outputs": [
    {
     "name": "stdout",
     "output_type": "stream",
     "text": [
      "Calculating cost <.....................................................................................................>\n",
      "Acuracia: 0.5518547827493618\n",
      "Percentual acertos totais: 0.10700538876058506\n",
      "Precision em salario 0.16643331220861396\n",
      "Recall em salario 0.9998819432146863\n",
      "F1 Score em salario 0.28536652136374163\n",
      "Precisão de acerto de transição de estado em salario\n",
      "\t {'salario': 0.9998466727997547, 'local': 0.9544521426738517, 'beneficios': -1, 'descricao': -1, 'empresa': -1}\n",
      "\n",
      "Precision em local 0.06746850323839944\n",
      "Recall em local 0.8720613532110092\n",
      "F1 Score em local 0.12524705591698923\n",
      "Precisão de acerto de transição de estado em local\n",
      "\t {'salario': -1, 'local': 0.7677817473205586, 'beneficios': 0.9903210195192773, 'descricao': 0.9981191222570532, 'empresa': -1}\n",
      "\n",
      "Precision em beneficios 0.06728947941868327\n",
      "Recall em beneficios 0.9766442299894574\n",
      "F1 Score em beneficios 0.12590431982603606\n",
      "Precisão de acerto de transição de estado em beneficios\n",
      "\t {'salario': -1, 'local': -1, 'beneficios': 0.9628180039138943, 'descricao': 0.9998386836586546, 'empresa': -1}\n",
      "\n",
      "Precision em descricao 0.8723904043221657\n",
      "Recall em descricao 0.6642156195689786\n",
      "F1 Score em descricao 0.754201563580397\n",
      "Precisão de acerto de transição de estado em descricao\n",
      "\t {'salario': -1, 'local': -1, 'beneficios': -1, 'descricao': 0.6616563077242517, 'empresa': 0.13507334730424841}\n",
      "\n",
      "Precision em empresa 0.5575471550073753\n",
      "Recall em empresa 0.2775258738527631\n",
      "F1 Score em empresa 0.3705873763370204\n",
      "Precisão de acerto de transição de estado em empresa\n",
      "\t {'salario': -1, 'local': -1, 'beneficios': -1, 'descricao': -1, 'empresa': 0.2790011265638225}\n",
      "\n",
      "Precisão de acerto de transição de estado no estado inicial\n",
      "\t {'salario': 1.0, 'local': -1, 'beneficios': -1, 'descricao': -1, 'empresa': -1}\n",
      "\n"
     ]
    }
   ],
   "source": [
    "x = model.fullCost(model.tests)"
   ]
  },
  {
   "cell_type": "code",
   "execution_count": 5,
   "metadata": {},
   "outputs": [],
   "source": [
    "savePath = \"Resultados/ResultadosV1/Resultados sem ordenacao\"\n",
    "model.salvaTudo(savePath)"
   ]
  },
  {
   "cell_type": "code",
   "execution_count": 6,
   "metadata": {
    "colab": {
     "base_uri": "https://localhost:8080/",
     "height": 255
    },
    "id": "cjEKHZyf-xm8",
    "outputId": "5ad58032-5b27-4a47-f275-757da0e6e89e"
   },
   "outputs": [
    {
     "name": "stdout",
     "output_type": "stream",
     "text": [
      "Calculating fit<....................................................................................................>\n",
      "Fit duration: 0:14:54.756146\n"
     ]
    }
   ],
   "source": [
    "data = TT.loadDataset(path, True)\n",
    "model = HMM(data = data, trainPerc=0.7, estados=estados)\n",
    "model.fit()"
   ]
  },
  {
   "cell_type": "code",
   "execution_count": 7,
   "metadata": {
    "colab": {
     "base_uri": "https://localhost:8080/",
     "height": 290
    },
    "id": "kq5mcYl--1Cf",
    "outputId": "2eff6b8d-8477-4d44-a4f3-e2aef98c3302"
   },
   "outputs": [
    {
     "name": "stdout",
     "output_type": "stream",
     "text": [
      "Calculating cost <.....................................................................................................>\n",
      "Acuracia: 0.5596901335788348\n",
      "Percentual acertos totais: 0.05709520143700282\n",
      "Precision em salario 0.12189126284683177\n",
      "Recall em salario 0.6878283454341538\n",
      "F1 Score em salario 0.20708468657392803\n",
      "Precisão de acerto de transição de estado em salario\n",
      "\t {'salario': 0.6893974241030358, 'local': 0.6261061946902655, 'beneficios': 0.6902985074626866, 'descricao': 0.8998282770463651, 'empresa': 0.7511436413540714}\n",
      "\n",
      "Precision em local 0.04073856473849629\n",
      "Recall em local 0.5118979357798165\n",
      "F1 Score em local 0.07547090058912108\n",
      "Precisão de acerto de transição de estado em local\n",
      "\t {'salario': 0.6867196367763905, 'local': 0.4842481325105554, 'beneficios': 0.6450924608819346, 'descricao': 0.9036353144835545, 'empresa': 0.6748681898066784}\n",
      "\n",
      "Precision em beneficios 0.04336951283875261\n",
      "Recall em beneficios 0.6130889627767415\n",
      "F1 Score em beneficios 0.08100853482777651\n",
      "Precisão de acerto de transição de estado em beneficios\n",
      "\t {'salario': 0.6934250764525994, 'local': 0.6243465272591486, 'beneficios': 0.668460534898891, 'descricao': 0.9043097151205259, 'empresa': 0.75}\n",
      "\n",
      "Precision em descricao 0.8903187111860186\n",
      "Recall em descricao 0.5699340598671089\n",
      "F1 Score em descricao 0.6949796195571654\n",
      "Precisão de acerto de transição de estado em descricao\n",
      "\t {'salario': 0.4732041049030787, 'local': 0.14837286265857694, 'beneficios': 0.15367316341829085, 'descricao': 0.5674640407906618, 'empresa': 0.13204225352112675}\n",
      "\n",
      "Precision em empresa 0.676549744437501\n",
      "Recall em empresa 0.5306483108767819\n",
      "F1 Score em empresa 0.5947822356562915\n",
      "Precisão de acerto de transição de estado em empresa\n",
      "\t {'salario': 0.4853448275862069, 'local': 0.15660377358490565, 'beneficios': 0.13222079589216945, 'descricao': 0.676923076923077, 'empresa': 0.5294198886852349}\n",
      "\n",
      "Precisão de acerto de transição de estado no estado inicial\n",
      "\t {'salario': 1.0, 'local': 0.9904171364148816, 'beneficios': 0.985820895522388, 'descricao': 1.0, 'empresa': 1.0}\n",
      "\n"
     ]
    }
   ],
   "source": [
    "x = model.fullCost(model.tests)"
   ]
  },
  {
   "cell_type": "code",
   "execution_count": 8,
   "metadata": {},
   "outputs": [],
   "source": [
    "savePath = \"Resultados/ResultadosV1/Resultados com ordenacao\"\n",
    "model.salvaTudo(savePath)"
   ]
  },
  {
   "cell_type": "code",
   "execution_count": 9,
   "metadata": {
    "colab": {
     "base_uri": "https://localhost:8080/",
     "height": 146
    },
    "id": "8rTOs1_5FAjv",
    "outputId": "4216a5e2-c92d-4cc4-9c32-76307d91549c"
   },
   "outputs": [
    {
     "name": "stdout",
     "output_type": "stream",
     "text": [
      "Observacoes\n",
      "\t ['assistência', 'médica', 'faixa', 'salarial', 'a', 'combinar', 'descrição', 'importar', 'no', 'sistema', 'informações', 'referente', 'ao', 'recebimento', 'de', 'mercadorias', 'transformando', 'em', 'lotes', 'de', 'conferência', 'além', 'de', 'acompanhar', 'todas', 'as', 'movimentações', 'em', 'estoque', 'gerar', 'e', 'imprimir', 'diariamente', 'todas', 'as', 'listas', 'de', 'separação', 'do', 'faturamento', 'identificar', 'através', 'de', 'relatórios', 'sistêmicos', 'os', 'produtos', 'com', 'data', 'próxima', 'do', 'vencimento', 'evitando', 'perdas', 'no', 'estoque', 'e', 'saída', 'de', 'mercadorias', 'impróprias', 'para', 'comercializaçãocontrolar', 'canhotos', 'e', 'comprovantes', 'de', 'entrega', 'de', 'mercadoria', 'em', 'processo', 'de', 'devolução', 'emitir', 'notas', 'fiscais', 'e', 'manifesto', 'de', 'carga', 'que', 'acompanham', 'o', 'transporte', 'e', 'a', 'entrega', 'dos', 'produtos', 'nas', 'filiais', 'realizar', 'outras', 'atividades', 'profissionais', 'correlatas', 'e', 'inerentes', 'ao', 'cargo', 'exercido', 'conforme', 'orientação', 'eou', 'solicitação', 'do', 'superior', 'imediato', 'gravataí']\n",
      "Previsto\n",
      "\t ['beneficios', 'beneficios', 'salario', 'salario', 'salario', 'salario', 'descricao', 'descricao', 'descricao', 'descricao', 'descricao', 'descricao', 'descricao', 'descricao', 'descricao', 'descricao', 'descricao', 'descricao', 'descricao', 'descricao', 'descricao', 'descricao', 'descricao', 'descricao', 'descricao', 'descricao', 'descricao', 'descricao', 'descricao', 'descricao', 'descricao', 'descricao', 'descricao', 'descricao', 'descricao', 'descricao', 'descricao', 'descricao', 'descricao', 'descricao', 'descricao', 'descricao', 'descricao', 'descricao', 'descricao', 'descricao', 'descricao', 'descricao', 'descricao', 'descricao', 'descricao', 'descricao', 'descricao', 'descricao', 'descricao', 'descricao', 'descricao', 'descricao', 'descricao', 'descricao', 'descricao', 'descricao', 'descricao', 'descricao', 'descricao', 'descricao', 'descricao', 'descricao', 'descricao', 'descricao', 'descricao', 'descricao', 'descricao', 'descricao', 'descricao', 'descricao', 'descricao', 'descricao', 'descricao', 'descricao', 'descricao', 'descricao', 'descricao', 'descricao', 'descricao', 'descricao', 'descricao', 'descricao', 'descricao', 'descricao', 'descricao', 'descricao', 'descricao', 'descricao', 'descricao', 'descricao', 'descricao', 'descricao', 'descricao', 'descricao', 'descricao', 'descricao', 'descricao', 'descricao', 'descricao', 'descricao', 'descricao', 'descricao', 'descricao', 'salario', 'local', 'beneficios', 'descricao', 'empresa']\n",
      "\n",
      "Real\n",
      "\t ['beneficios', 'beneficios', 'salario', 'salario', 'salario', 'salario', 'descricao', 'descricao', 'descricao', 'descricao', 'descricao', 'descricao', 'descricao', 'descricao', 'descricao', 'descricao', 'descricao', 'descricao', 'descricao', 'descricao', 'descricao', 'descricao', 'descricao', 'descricao', 'descricao', 'descricao', 'descricao', 'descricao', 'descricao', 'descricao', 'descricao', 'descricao', 'descricao', 'descricao', 'descricao', 'descricao', 'descricao', 'descricao', 'descricao', 'descricao', 'descricao', 'descricao', 'descricao', 'descricao', 'descricao', 'descricao', 'descricao', 'descricao', 'descricao', 'descricao', 'descricao', 'descricao', 'descricao', 'descricao', 'descricao', 'descricao', 'descricao', 'descricao', 'descricao', 'descricao', 'descricao', 'descricao', 'descricao', 'descricao', 'descricao', 'descricao', 'descricao', 'descricao', 'descricao', 'descricao', 'descricao', 'descricao', 'descricao', 'descricao', 'descricao', 'descricao', 'descricao', 'descricao', 'descricao', 'descricao', 'descricao', 'descricao', 'descricao', 'descricao', 'descricao', 'descricao', 'descricao', 'descricao', 'descricao', 'descricao', 'descricao', 'descricao', 'descricao', 'descricao', 'descricao', 'descricao', 'descricao', 'descricao', 'descricao', 'descricao', 'descricao', 'descricao', 'descricao', 'descricao', 'descricao', 'descricao', 'descricao', 'descricao', 'descricao', 'local']\n"
     ]
    }
   ],
   "source": [
    "observacoes, previsto, real = model.predictRandomTest()"
   ]
  },
  {
   "cell_type": "code",
   "execution_count": 10,
   "metadata": {
    "colab": {
     "base_uri": "https://localhost:8080/",
     "height": 1000
    },
    "id": "QEaEz4Pu1AmO",
    "outputId": "5a787665-52a5-4d14-9d9e-77ea94633ec3"
   },
   "outputs": [
    {
     "name": "stdout",
     "output_type": "stream",
     "text": [
      "Obs: gravataí / Previsto: salario / Real: local\n"
     ]
    }
   ],
   "source": [
    "model.ExibeMudancasEstadoIncorretas(observacoes, previsto, real)"
   ]
  }
 ],
 "metadata": {
  "accelerator": "GPU",
  "colab": {
   "collapsed_sections": [],
   "name": "HMMVagas_V1",
   "provenance": []
  },
  "kernelspec": {
   "display_name": "Python 3",
   "language": "python",
   "name": "python3"
  },
  "language_info": {
   "codemirror_mode": {
    "name": "ipython",
    "version": 3
   },
   "file_extension": ".py",
   "mimetype": "text/x-python",
   "name": "python",
   "nbconvert_exporter": "python",
   "pygments_lexer": "ipython3",
   "version": "3.7.6"
  }
 },
 "nbformat": 4,
 "nbformat_minor": 1
}
