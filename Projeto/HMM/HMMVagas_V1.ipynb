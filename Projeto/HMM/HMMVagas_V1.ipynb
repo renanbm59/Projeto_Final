{
 "cells": [
  {
   "cell_type": "code",
   "execution_count": 1,
   "metadata": {
    "id": "P1H9UTBLvtKR"
   },
   "outputs": [],
   "source": [
    "import os\n",
    "\n",
    "import lib.tratamentoTexto as TT\n",
    "from lib.HMM_Vagas import HMM"
   ]
  },
  {
   "cell_type": "code",
   "execution_count": 2,
   "metadata": {},
   "outputs": [],
   "source": [
    "path = \"../Dados/vagas.json\"\n",
    "path = path.replace(\"\\\\\", \"/\")\n",
    "estados = ['salario', 'local', 'beneficios', 'descricao', 'empresa']"
   ]
  },
  {
   "cell_type": "code",
   "execution_count": 3,
   "metadata": {
    "colab": {
     "base_uri": "https://localhost:8080/",
     "height": 255
    },
    "id": "fpbmCRpqg_mS",
    "outputId": "ec5fb19e-df3c-49a9-9381-5a1335ec7c81"
   },
   "outputs": [
    {
     "name": "stdout",
     "output_type": "stream",
     "text": [
      "Calculating fit<....................................................................................................>\n",
      "Fit duration: 0:55:10.264420\n"
     ]
    }
   ],
   "source": [
    "data = TT.loadDataset(path, False)\n",
    "model = HMM(data = data, trainPerc=0.7, estados=estados)\n",
    "model.fit()"
   ]
  },
  {
   "cell_type": "code",
   "execution_count": 4,
   "metadata": {
    "colab": {
     "base_uri": "https://localhost:8080/",
     "height": 310
    },
    "id": "Aqs6vX2e5V8z",
    "outputId": "7552b8c5-e019-49f7-87b7-37bde86e18d8"
   },
   "outputs": [
    {
     "name": "stdout",
     "output_type": "stream",
     "text": [
      "Calculating cost <.....................................................................................................>\n",
      "Loss: 0.5518547827493618\n",
      "Percentual acertos totais: 0.10700538876058506\n",
      "Loss em salario 0.9998819432146863\n",
      "\t {'salario': 0.9998466727997547, 'local': 0.9544521426738517, 'beneficios': -1, 'descricao': -1, 'empresa': -1}\n",
      "Loss em local 0.8720613532110092\n",
      "\t {'salario': -1, 'local': 0.7677817473205586, 'beneficios': 0.9903210195192773, 'descricao': 0.9981191222570532, 'empresa': -1}\n",
      "Loss em beneficios 0.9766442299894574\n",
      "\t {'salario': -1, 'local': -1, 'beneficios': 0.9628180039138943, 'descricao': 0.9998386836586546, 'empresa': -1}\n",
      "Loss em descricao 0.6642156195689786\n",
      "\t {'salario': -1, 'local': -1, 'beneficios': -1, 'descricao': 0.6616563077242517, 'empresa': 0.13507334730424841}\n",
      "Loss em empresa 0.2775258738527631\n",
      "\t {'salario': -1, 'local': -1, 'beneficios': -1, 'descricao': -1, 'empresa': 0.2790011265638225}\n",
      "Loss em estado inicial\n",
      "\t {'salario': 1.0, 'local': -1, 'beneficios': -1, 'descricao': -1, 'empresa': -1}\n"
     ]
    }
   ],
   "source": [
    "x = model.fullCost(model.tests)"
   ]
  },
  {
   "cell_type": "code",
   "execution_count": 5,
   "metadata": {},
   "outputs": [],
   "source": [
    "savePath = \"Resultados/ResultadosV1/Resultados sem ordenacao\"\n",
    "model.salvaTudo(savePath)"
   ]
  },
  {
   "cell_type": "code",
   "execution_count": 6,
   "metadata": {
    "colab": {
     "base_uri": "https://localhost:8080/",
     "height": 255
    },
    "id": "cjEKHZyf-xm8",
    "outputId": "5ad58032-5b27-4a47-f275-757da0e6e89e"
   },
   "outputs": [
    {
     "name": "stdout",
     "output_type": "stream",
     "text": [
      "Calculating fit<....................................................................................................>\n",
      "Fit duration: 0:12:17.832284\n"
     ]
    }
   ],
   "source": [
    "data = TT.loadDataset(path, True)\n",
    "model = HMM(data = data, trainPerc=0.7, estados=estados)\n",
    "model.fit()"
   ]
  },
  {
   "cell_type": "code",
   "execution_count": 7,
   "metadata": {
    "colab": {
     "base_uri": "https://localhost:8080/",
     "height": 290
    },
    "id": "kq5mcYl--1Cf",
    "outputId": "2eff6b8d-8477-4d44-a4f3-e2aef98c3302"
   },
   "outputs": [
    {
     "name": "stdout",
     "output_type": "stream",
     "text": [
      "Calculating cost <.....................................................................................................>\n",
      "Loss: 0.559828790245566\n",
      "Percentual acertos totais: 0.06068770849371311\n",
      "Loss em salario 0.6914290773862227\n",
      "\t {'salario': 0.6936905857099049, 'local': 0.6093660765276985, 'beneficios': 0.6773504273504274, 'descricao': 0.901297236322617, 'empresa': 0.7726075504828798}\n",
      "Loss em local 0.508170871559633\n",
      "\t {'salario': 0.6938110749185668, 'local': 0.4785644689834362, 'beneficios': 0.6301369863013698, 'descricao': 0.8954439252336449, 'empresa': 0.7102539981185324}\n",
      "Loss em beneficios 0.6084664666288216\n",
      "\t {'salario': 0.6978851963746223, 'local': 0.6382505559673832, 'beneficios': 0.6645466405740378, 'descricao': 0.8927285817134629, 'empresa': 0.7289603960396039}\n",
      "Loss em descricao 0.5650235417160764\n",
      "\t {'salario': 0.47026125625347415, 'local': 0.15966386554621848, 'beneficios': 0.15884194053208137, 'descricao': 0.5625669674775567, 'empresa': 0.1261101243339254}\n",
      "Loss em empresa 0.5409216949814489\n",
      "\t {'salario': 0.48973880597014924, 'local': 0.14463176574977818, 'beneficios': 0.14170506912442396, 'descricao': 0.660377358490566, 'empresa': 0.5396595843748951}\n",
      "Loss em estado inicial\n",
      "\t {'salario': 1.0, 'local': 0.9915824915824916, 'beneficios': 0.9910112359550561, 'descricao': 0.9994465965688988, 'empresa': 1.0}\n"
     ]
    }
   ],
   "source": [
    "x = model.fullCost(model.tests)"
   ]
  },
  {
   "cell_type": "code",
   "execution_count": 8,
   "metadata": {},
   "outputs": [],
   "source": [
    "savePath = \"Resultados/ResultadosV1/Resultados com ordenacao\"\n",
    "model.salvaTudo(savePath)"
   ]
  },
  {
   "cell_type": "code",
   "execution_count": 9,
   "metadata": {
    "colab": {
     "base_uri": "https://localhost:8080/",
     "height": 146
    },
    "id": "8rTOs1_5FAjv",
    "outputId": "4216a5e2-c92d-4cc4-9c32-76307d91549c"
   },
   "outputs": [
    {
     "name": "stdout",
     "output_type": "stream",
     "text": [
      "Observacoes\n",
      "\t ['faixa', 'salarial', 'a', 'combinar', 'assistência', 'médica', 'descrição', 'atribuiçõesauxiliar', 'nas', 'manobras', 'de', 'desligamento', 'e', 'normalização', 'conforme', 'instruções', 'de', 'operação', 'e', 'orientação', 'do', 'centro', 'de', 'operaçãoexecutar', 'as', 'manobras', 'de', 'recomposição', 'da', 'instalação', 'de', 'acordo', 'com', 'as', 'instruções', 'vigentes', 'interagindo', 'com', 'o', 'centro', 'de', 'operaçãoexecutar', 'manobras', 'de', 'liberaçãonormalização', 'e', 'recomposição', 'nos', 'equipamentos', 'de', 'serviço', 'auxiliar', 'da', 'instalaçãofornecer', 'e', 'registrar', 'informações', 'referentes', 'a', 'manobras', 'e', 'serviços', 'executados', 'eou', 'em', 'andamento', 'possíveis', 'anormalidades', 'e', 'condições', 'operativaefetuar', 'no', 'início', 'de', 'cada', 'turno', 'a', 'leitura', 'do', 'livro', 'de', 'ocorrências', 'verificando', 'os', 'horários', 'de', 'manobras', 'desligamentos', 'religamentos', 'proteções', 'e', 'sinalizações', 'em', 'linhas', 'eou', 'equipamentosinspecionar', 'de', 'forma', 'rotineira', 'equipamentos', 'no', 'pátio', 'painéis', 'e', 'sistemas', 'instalados', 'na', 'subestação', 'seguindo', 'os', 'procedimentos', 'padrõesemitir', 'solicitações', 'de', 'serviços', 'ss', 'comunicando', 'ao', 'superior', 'imediato', 'para', 'adoção', 'das', 'providências', 'referentes', 'a', 'intervenções', 'corretivasaplicar', 'normas', 'de', 'segurança', 'durante', 'os', 'serviços', 'na', 'instalação', 'sob', 'sua', 'responsabilidadetransmitir', 'ao', 'centro', 'de', 'operação', 'as', 'informações', 'referentes', 'as', 'proteções', 'e', 'sinalizações', 'atuadas', 'quando', 'de', 'desligamentos', 'intempestivos', 'das', 'linhas', 'e', 'ou', 'equipamentos', 'para', 'efetuar', 'a', 'avaliação', 'das', 'condições', 'do', 'sistema', 'antes', 'da', 'sua', 'reenergizaçãomonitorar', 'toda', 'a', 'área', 'da', 'instalação', 'através', 'de', 'câmeras', 'registrando', 'a', 'presença', 'de', 'pessoas', 'estranhas', 'no', 'local', 'para', 'manter', 'a', 'segurança', 'da', 'instalaçãooperar', 'os', 'equipamentos', 'e', 'sistemas', 'de', 'comunicação', 'para', 'intercâmbio', 'de', 'informações', 'com', 'o', 'centro', 'de', 'operação', 'e', 'com', 'outras', 'instalaçõescumprir', 'as', 'normas', 'e', 'instruções', 'de', 'operação', 'da', 'instalaçãozelar', 'pela', 'limpeza', 'manutenção', 'da', 'ordem', 'do', 'local', 'e', 'condições', 'de', 'segurança', 'e', 'higiene', 'do', 'trabalho', 'na', 'subestação', 'requisitosensino', 'técnico', 'completo', 'em', 'elétrica', 'eletrônica', 'eletrotécnica', 'eou', 'áreas', 'afinsdesejável', 'experiência', 'no', 'segmento', 'de', 'energia', 'horário', 'de', 'trabalho', 'a', 'combinarlocal', 'de', 'trabalho', 'poções', '-', 'ba', 'empresa', 'a', 'alupar', 'é', 'uma', 'holding', 'de', 'controle', 'nacional', 'privado', 'com', 'atuação', 'no', 'setor', 'de', 'energia', 'mais', 'especificamente', 'nos', 'segmentos', 'de', 'transmissão', 'e', 'geração', 'tendo', 'como', 'objetivo', 'desenvolver', 'e', 'investir', 'em', 'projetos', 'de', 'infraestrutura', 'relacionados', 'ao', 'setor', 'de', 'energia', 'no', 'brasil', 'e', 'nos', 'demais', 'países', 'da', 'américa', 'latina', 'a', 'companhia', 'é', 'a', 'maior', 'companhia', '100%', 'privada', 'e', 'uma', 'das', 'cinco', 'maiores', 'no', 'segmento', 'de', 'transmissão', 'de', 'energia', 'elétrica', 'no', 'brasil', 'em', 'termos', 'de', 'rapno', 'segmento', 'de', 'transmissão', 'a', 'alupar', 'possui', 'a', 'concessão', 'de', '28', 'sistemas', 'de', 'transmissão', 'totalizando', '7566', 'km', 'de', 'linhas', 'de', 'transmissão', 'por', 'meio', 'de', 'concessões', 'com', 'prazo', 'de', '30', 'anos', 'localizados', 'no', 'brasil', 'e', 'uma', 'vitalícia', 'na', 'colômbiaatuante', 'também', 'no', 'segmento', 'de', 'geração', 'a', 'alupar', 'detém', 'a', 'concessãoautorização', 'de', '10', 'ativos', 'que', 'totalizam', '6870', 'mw', 'de', 'capacidade', 'instalada', 'sendo', '5500', 'mw', 'decorrentes', 'de', '3', 'uhes', '3', 'pchs', 'e', '1', 'projeto', 'eólico', 'em', 'operação', 'os', '1370', 'mw', 'em', 'implantação', 'referem-se', 'a', 'projetos', 'de', 'geração', 'de', 'fonte', 'hidráulicacomprometida', 'em', 'gerar', 'valor', 'para', 'o', 'acionista', 'e', 'para', 'a', 'sociedade', 'a', 'alupar', 'possui', 'grande', 'competência', 'técnica', 'forte', 'disciplina', 'financeira', 'e', 'responsabilidade', 'social', 'para', 'continuar', 'com', 'o', 'seu', 'crescimento', 'sustentável', 'através', 'do', 'desenvolvimento', 'de', 'projetos', 'de', 'geração', 'e', 'sistemas', 'de', 'transmissão', 'poções']\n",
      "Previsto\n",
      "\t ['salario', 'salario', 'salario', 'salario', 'beneficios', 'beneficios', 'descricao', 'descricao', 'descricao', 'descricao', 'descricao', 'descricao', 'descricao', 'descricao', 'descricao', 'descricao', 'descricao', 'descricao', 'descricao', 'descricao', 'descricao', 'descricao', 'descricao', 'descricao', 'descricao', 'descricao', 'descricao', 'descricao', 'descricao', 'descricao', 'descricao', 'descricao', 'descricao', 'descricao', 'descricao', 'descricao', 'descricao', 'descricao', 'descricao', 'descricao', 'descricao', 'descricao', 'descricao', 'descricao', 'descricao', 'descricao', 'descricao', 'descricao', 'descricao', 'descricao', 'descricao', 'descricao', 'descricao', 'descricao', 'descricao', 'descricao', 'descricao', 'descricao', 'descricao', 'descricao', 'descricao', 'descricao', 'descricao', 'descricao', 'descricao', 'descricao', 'descricao', 'descricao', 'descricao', 'descricao', 'descricao', 'descricao', 'descricao', 'descricao', 'descricao', 'descricao', 'descricao', 'descricao', 'descricao', 'descricao', 'descricao', 'descricao', 'descricao', 'descricao', 'descricao', 'descricao', 'descricao', 'descricao', 'descricao', 'descricao', 'descricao', 'descricao', 'descricao', 'descricao', 'descricao', 'descricao', 'descricao', 'descricao', 'descricao', 'descricao', 'descricao', 'descricao', 'salario', 'local', 'beneficios', 'descricao', 'empresa', 'salario', 'local', 'beneficios', 'descricao', 'empresa', 'salario', 'local', 'beneficios', 'descricao', 'empresa', 'salario', 'local', 'beneficios', 'descricao', 'empresa', 'salario', 'local', 'beneficios', 'descricao', 'empresa', 'salario', 'local', 'beneficios', 'descricao', 'empresa', 'salario', 'local', 'beneficios', 'descricao', 'empresa', 'salario', 'local', 'beneficios', 'descricao', 'empresa', 'salario', 'local', 'beneficios', 'descricao', 'empresa', 'salario', 'local', 'beneficios', 'descricao', 'empresa', 'salario', 'local', 'beneficios', 'descricao', 'empresa', 'salario', 'local', 'beneficios', 'descricao', 'empresa', 'salario', 'local', 'beneficios', 'descricao', 'empresa', 'salario', 'local', 'beneficios', 'descricao', 'empresa', 'salario', 'local', 'beneficios', 'descricao', 'empresa', 'salario', 'local', 'beneficios', 'descricao', 'empresa', 'salario', 'local', 'beneficios', 'descricao', 'empresa', 'salario', 'local', 'beneficios', 'descricao', 'empresa', 'salario', 'local', 'beneficios', 'descricao', 'empresa', 'salario', 'local', 'beneficios', 'descricao', 'empresa', 'salario', 'local', 'beneficios', 'descricao', 'empresa', 'salario', 'local', 'beneficios', 'descricao', 'empresa', 'salario', 'local', 'beneficios', 'descricao', 'empresa', 'salario', 'local', 'beneficios', 'descricao', 'empresa', 'salario', 'local', 'beneficios', 'descricao', 'empresa', 'salario', 'local', 'beneficios', 'descricao', 'empresa', 'salario', 'local', 'beneficios', 'descricao', 'empresa', 'salario', 'local', 'beneficios', 'descricao', 'empresa', 'salario', 'local', 'beneficios', 'descricao', 'empresa', 'salario', 'local', 'beneficios', 'descricao', 'empresa', 'salario', 'local', 'beneficios', 'descricao', 'empresa', 'salario', 'local', 'beneficios', 'descricao', 'empresa', 'salario', 'local', 'beneficios', 'descricao', 'empresa', 'salario', 'local', 'beneficios', 'descricao', 'empresa', 'salario', 'local', 'beneficios', 'descricao', 'empresa', 'salario', 'local', 'beneficios', 'descricao', 'empresa', 'salario', 'local', 'beneficios', 'descricao', 'empresa', 'salario', 'local', 'beneficios', 'descricao', 'empresa', 'salario', 'local', 'beneficios', 'descricao', 'empresa', 'salario', 'local', 'beneficios', 'descricao', 'empresa', 'salario', 'local', 'beneficios', 'descricao', 'empresa', 'salario', 'local', 'beneficios', 'descricao', 'empresa', 'salario', 'local', 'beneficios', 'descricao', 'empresa', 'salario', 'local', 'beneficios', 'descricao', 'empresa', 'salario', 'local', 'beneficios', 'descricao', 'empresa', 'salario', 'local', 'beneficios', 'descricao', 'empresa', 'salario', 'local', 'beneficios', 'descricao', 'empresa', 'salario', 'local', 'beneficios', 'descricao', 'empresa', 'salario', 'local', 'beneficios', 'descricao', 'empresa', 'salario', 'local', 'beneficios', 'descricao', 'empresa', 'salario', 'local', 'beneficios', 'descricao', 'empresa', 'salario', 'local', 'beneficios', 'descricao', 'empresa', 'salario', 'local', 'beneficios', 'descricao', 'empresa', 'salario', 'local', 'beneficios', 'descricao', 'empresa', 'salario', 'local', 'beneficios', 'descricao', 'empresa', 'salario', 'local', 'beneficios', 'descricao', 'empresa', 'salario', 'local', 'beneficios', 'descricao', 'empresa', 'salario', 'local', 'beneficios', 'descricao', 'empresa', 'salario', 'local', 'beneficios', 'descricao', 'empresa', 'salario', 'local', 'beneficios', 'descricao', 'empresa', 'salario', 'local', 'beneficios', 'descricao', 'empresa', 'salario', 'local', 'beneficios', 'descricao', 'empresa', 'salario', 'local', 'beneficios', 'descricao', 'empresa', 'salario', 'local', 'beneficios', 'descricao', 'empresa', 'salario', 'local', 'beneficios', 'descricao', 'empresa', 'salario', 'local', 'beneficios', 'descricao', 'empresa', 'salario', 'local', 'beneficios', 'descricao', 'empresa', 'salario', 'local', 'beneficios', 'descricao', 'empresa', 'salario', 'local', 'beneficios', 'descricao', 'empresa', 'salario', 'local', 'beneficios', 'descricao', 'empresa', 'salario', 'local', 'beneficios', 'descricao', 'empresa', 'salario', 'local', 'beneficios', 'descricao', 'empresa', 'salario', 'local', 'beneficios', 'descricao', 'empresa', 'salario', 'local', 'beneficios', 'descricao', 'empresa', 'salario', 'local', 'beneficios', 'descricao', 'empresa', 'salario', 'local', 'beneficios', 'descricao', 'empresa', 'salario', 'local', 'beneficios', 'descricao', 'empresa', 'salario', 'local', 'beneficios', 'descricao', 'empresa', 'salario', 'local', 'beneficios', 'descricao', 'empresa', 'salario', 'local', 'beneficios', 'descricao', 'empresa', 'salario', 'local', 'beneficios', 'descricao', 'empresa', 'salario', 'local', 'beneficios', 'descricao', 'empresa', 'salario', 'local', 'beneficios', 'descricao', 'empresa', 'salario', 'local', 'beneficios', 'descricao', 'empresa', 'salario', 'local', 'beneficios', 'descricao', 'empresa', 'salario', 'local', 'beneficios', 'descricao', 'empresa', 'salario', 'local', 'beneficios', 'descricao', 'empresa', 'salario', 'local', 'beneficios', 'descricao', 'empresa', 'salario', 'local', 'beneficios', 'descricao', 'empresa', 'salario', 'local', 'beneficios', 'descricao', 'empresa', 'salario', 'local', 'beneficios', 'descricao', 'empresa', 'salario', 'local', 'beneficios', 'descricao', 'empresa', 'salario', 'local', 'beneficios', 'descricao', 'empresa', 'salario', 'local', 'beneficios', 'descricao', 'empresa', 'salario', 'local', 'beneficios', 'descricao', 'empresa', 'salario', 'local', 'beneficios', 'descricao', 'empresa', 'salario', 'local', 'beneficios', 'descricao', 'empresa', 'salario', 'local', 'beneficios', 'descricao', 'empresa', 'salario', 'local', 'beneficios', 'descricao', 'empresa', 'salario', 'local', 'beneficios', 'descricao', 'empresa', 'salario', 'local', 'beneficios', 'descricao', 'empresa', 'salario', 'local', 'beneficios', 'descricao', 'empresa', 'salario', 'local', 'beneficios', 'descricao', 'empresa', 'salario', 'local', 'beneficios', 'descricao', 'empresa', 'salario', 'local', 'beneficios', 'descricao', 'empresa', 'salario', 'local', 'beneficios', 'descricao', 'empresa', 'salario', 'local', 'beneficios', 'descricao', 'empresa', 'salario', 'local', 'beneficios', 'descricao', 'empresa', 'salario', 'local', 'beneficios', 'descricao', 'empresa', 'salario', 'local', 'beneficios', 'descricao', 'empresa', 'salario', 'local', 'beneficios', 'descricao', 'empresa', 'salario', 'local', 'beneficios', 'descricao', 'empresa', 'salario', 'local', 'beneficios', 'descricao', 'empresa', 'salario', 'local', 'beneficios', 'descricao', 'empresa', 'salario', 'local', 'beneficios', 'descricao', 'empresa', 'salario', 'local', 'beneficios', 'descricao', 'empresa', 'salario', 'local', 'beneficios', 'descricao', 'empresa', 'salario', 'local', 'beneficios', 'descricao', 'empresa', 'salario', 'local', 'beneficios', 'descricao', 'empresa', 'salario', 'local', 'beneficios', 'descricao', 'empresa', 'salario', 'local', 'beneficios', 'descricao', 'empresa', 'salario', 'local', 'beneficios', 'descricao', 'empresa', 'salario', 'local', 'beneficios', 'descricao', 'empresa', 'salario', 'local', 'beneficios', 'descricao', 'empresa', 'salario', 'local', 'beneficios', 'descricao', 'empresa', 'salario', 'local', 'beneficios', 'descricao', 'empresa', 'salario', 'local', 'beneficios', 'descricao', 'empresa', 'salario', 'local', 'beneficios', 'descricao', 'empresa', 'salario', 'local', 'beneficios', 'descricao', 'empresa', 'salario', 'local', 'beneficios', 'descricao', 'empresa', 'salario', 'local', 'beneficios', 'descricao', 'empresa', 'salario', 'local', 'beneficios', 'descricao', 'empresa', 'salario', 'local', 'beneficios', 'descricao', 'empresa', 'salario', 'local', 'beneficios', 'descricao', 'empresa', 'salario', 'local', 'beneficios', 'descricao', 'empresa', 'salario', 'local', 'beneficios', 'descricao', 'empresa', 'salario', 'local', 'beneficios', 'descricao', 'empresa', 'salario', 'local', 'beneficios', 'descricao', 'empresa', 'salario', 'local', 'beneficios', 'descricao', 'empresa', 'salario', 'local', 'beneficios', 'descricao', 'empresa', 'salario', 'local', 'beneficios', 'descricao', 'empresa', 'salario', 'local', 'beneficios', 'descricao', 'empresa', 'salario', 'local', 'beneficios', 'descricao', 'empresa', 'salario', 'local', 'beneficios', 'descricao', 'empresa', 'salario', 'local', 'beneficios', 'descricao', 'empresa', 'salario', 'local', 'beneficios', 'descricao', 'empresa', 'salario', 'local', 'beneficios', 'descricao', 'empresa', 'salario', 'local', 'beneficios', 'descricao', 'empresa', 'salario', 'local', 'beneficios', 'descricao', 'empresa', 'salario', 'local', 'beneficios', 'descricao', 'empresa', 'salario', 'local', 'beneficios', 'descricao', 'empresa', 'salario', 'local', 'beneficios', 'descricao', 'empresa', 'salario', 'local', 'beneficios', 'descricao', 'empresa', 'salario', 'local', 'beneficios', 'descricao', 'empresa', 'salario', 'local', 'beneficios', 'descricao', 'empresa', 'salario', 'local', 'beneficios', 'descricao', 'empresa', 'salario', 'local', 'beneficios', 'descricao', 'empresa', 'salario', 'local', 'beneficios', 'descricao', 'empresa', 'salario', 'local', 'beneficios', 'descricao', 'empresa', 'salario', 'local', 'beneficios', 'descricao', 'empresa', 'salario', 'local', 'beneficios', 'descricao', 'empresa', 'salario', 'local', 'beneficios', 'descricao', 'empresa', 'salario', 'local', 'beneficios', 'descricao', 'empresa', 'salario', 'local', 'beneficios', 'descricao', 'empresa', 'salario', 'local', 'beneficios', 'descricao', 'empresa', 'salario', 'local', 'beneficios', 'descricao', 'empresa', 'salario', 'local', 'beneficios', 'descricao', 'empresa', 'salario', 'local', 'beneficios', 'descricao', 'empresa', 'salario', 'local', 'beneficios', 'descricao', 'empresa', 'salario', 'local', 'beneficios', 'descricao', 'empresa', 'salario', 'local', 'beneficios', 'descricao', 'empresa', 'salario', 'local', 'beneficios', 'descricao', 'empresa', 'salario', 'local', 'beneficios', 'descricao', 'empresa', 'salario', 'local', 'beneficios', 'descricao', 'empresa', 'salario', 'local', 'beneficios', 'descricao', 'empresa', 'salario', 'local', 'beneficios', 'descricao', 'empresa', 'salario', 'local', 'beneficios', 'descricao', 'empresa', 'salario', 'local', 'beneficios', 'descricao', 'empresa', 'salario', 'local', 'beneficios', 'descricao', 'empresa', 'salario', 'local', 'beneficios', 'descricao', 'empresa', 'salario', 'local', 'beneficios', 'descricao', 'empresa', 'salario', 'local', 'beneficios', 'descricao', 'empresa', 'salario', 'local', 'beneficios', 'descricao', 'empresa', 'salario', 'local', 'beneficios', 'descricao', 'empresa', 'salario', 'local', 'beneficios', 'descricao', 'empresa', 'salario', 'local', 'beneficios', 'descricao', 'empresa', 'salario', 'local', 'beneficios', 'descricao', 'empresa', 'salario', 'local', 'beneficios', 'descricao', 'empresa', 'salario', 'local', 'beneficios', 'descricao', 'empresa', 'salario', 'local', 'beneficios', 'descricao', 'empresa', 'salario', 'local', 'beneficios', 'descricao', 'empresa', 'salario', 'local', 'beneficios', 'descricao', 'empresa', 'salario', 'local', 'beneficios', 'descricao', 'empresa', 'salario', 'local', 'beneficios', 'descricao', 'empresa', 'salario', 'local', 'beneficios', 'descricao', 'empresa', 'salario', 'local', 'beneficios', 'descricao', 'empresa', 'salario', 'local', 'beneficios', 'descricao', 'empresa', 'salario', 'local', 'beneficios', 'descricao', 'empresa', 'salario', 'local', 'beneficios', 'descricao', 'empresa', 'salario', 'local', 'beneficios', 'descricao', 'empresa', 'salario', 'local', 'beneficios', 'descricao', 'empresa', 'salario', 'local', 'beneficios', 'descricao', 'empresa', 'salario', 'local', 'beneficios', 'descricao', 'empresa', 'salario', 'local', 'beneficios', 'descricao', 'empresa', 'salario', 'local', 'beneficios', 'descricao', 'empresa', 'salario', 'local', 'beneficios', 'descricao', 'empresa', 'salario', 'local', 'beneficios', 'descricao', 'empresa', 'salario', 'local', 'beneficios', 'descricao', 'empresa', 'salario', 'local', 'beneficios', 'descricao', 'empresa', 'salario', 'local', 'beneficios', 'descricao', 'empresa', 'salario', 'local', 'beneficios', 'descricao', 'empresa', 'salario', 'local', 'beneficios', 'descricao', 'empresa', 'salario', 'local', 'beneficios', 'descricao', 'empresa', 'salario', 'local', 'beneficios', 'descricao', 'empresa', 'salario', 'local', 'beneficios', 'descricao', 'empresa', 'salario', 'local', 'beneficios', 'descricao', 'empresa', 'salario', 'local', 'beneficios', 'descricao', 'empresa', 'salario', 'local', 'beneficios', 'descricao', 'empresa', 'salario', 'local', 'beneficios', 'descricao', 'empresa', 'salario', 'local', 'beneficios', 'descricao', 'empresa', 'salario', 'local', 'beneficios', 'descricao', 'empresa', 'salario', 'local', 'beneficios', 'descricao', 'empresa', 'salario', 'local', 'beneficios', 'descricao', 'empresa', 'salario', 'local', 'beneficios', 'descricao', 'empresa', 'salario', 'local', 'beneficios', 'descricao', 'empresa', 'salario', 'local', 'beneficios', 'descricao', 'empresa', 'salario', 'local', 'beneficios', 'descricao', 'empresa', 'salario', 'local', 'beneficios', 'descricao', 'empresa', 'salario', 'local', 'beneficios', 'descricao', 'empresa', 'salario', 'local', 'beneficios', 'descricao', 'empresa', 'salario', 'local', 'beneficios', 'descricao', 'empresa', 'salario', 'local', 'beneficios', 'descricao', 'empresa', 'salario', 'local', 'beneficios', 'descricao', 'empresa', 'salario', 'local', 'beneficios', 'descricao', 'empresa', 'salario', 'local', 'beneficios', 'descricao', 'empresa', 'salario', 'local', 'beneficios', 'descricao', 'empresa', 'salario', 'local', 'beneficios', 'descricao', 'empresa', 'salario', 'local', 'beneficios', 'descricao', 'empresa', 'salario', 'local', 'beneficios', 'descricao', 'empresa', 'salario', 'local', 'beneficios', 'descricao', 'empresa', 'salario', 'local', 'beneficios', 'descricao', 'empresa', 'salario', 'local', 'beneficios', 'descricao', 'empresa', 'salario', 'local', 'beneficios', 'descricao', 'empresa', 'salario', 'local', 'beneficios', 'descricao', 'empresa', 'salario', 'local', 'beneficios', 'descricao', 'empresa', 'salario', 'local', 'beneficios', 'descricao', 'empresa', 'salario', 'local', 'beneficios', 'descricao', 'empresa', 'salario', 'local', 'beneficios', 'descricao', 'empresa', 'salario', 'local', 'beneficios', 'descricao', 'empresa', 'salario', 'local', 'beneficios', 'descricao', 'empresa', 'salario', 'local', 'beneficios', 'descricao', 'empresa', 'salario', 'local', 'beneficios', 'descricao', 'empresa', 'salario', 'local', 'beneficios', 'descricao', 'empresa', 'salario', 'local', 'beneficios', 'descricao', 'empresa', 'salario', 'local', 'beneficios', 'descricao', 'empresa', 'salario', 'local', 'beneficios', 'descricao', 'empresa', 'salario', 'local', 'beneficios', 'descricao', 'empresa', 'salario', 'local', 'beneficios', 'descricao', 'empresa', 'salario', 'local', 'beneficios', 'descricao', 'empresa', 'salario', 'local', 'beneficios', 'descricao', 'empresa', 'salario', 'local', 'beneficios', 'descricao', 'empresa', 'salario', 'local', 'beneficios', 'descricao', 'empresa', 'salario', 'local', 'beneficios', 'descricao', 'empresa', 'salario', 'local', 'beneficios', 'descricao', 'empresa', 'salario', 'local', 'beneficios', 'descricao', 'empresa', 'salario', 'local', 'beneficios', 'descricao', 'empresa', 'salario', 'local', 'beneficios', 'descricao', 'empresa', 'salario', 'local', 'beneficios', 'descricao', 'empresa', 'salario', 'local', 'beneficios', 'descricao', 'empresa', 'salario', 'local', 'beneficios', 'descricao', 'empresa', 'salario', 'local', 'beneficios', 'descricao', 'empresa', 'salario', 'local', 'beneficios', 'descricao', 'empresa', 'salario', 'local', 'beneficios', 'descricao', 'empresa', 'salario', 'local', 'beneficios', 'descricao', 'empresa', 'salario', 'local', 'beneficios', 'descricao', 'empresa', 'salario', 'local', 'beneficios', 'descricao', 'empresa', 'salario', 'local', 'beneficios', 'descricao', 'empresa', 'salario', 'local', 'beneficios', 'descricao', 'empresa', 'salario', 'local', 'beneficios', 'descricao', 'empresa', 'salario', 'local', 'beneficios', 'descricao', 'empresa', 'salario', 'local', 'beneficios', 'descricao', 'empresa', 'salario', 'local', 'beneficios', 'descricao', 'empresa', 'salario', 'local', 'beneficios', 'descricao', 'empresa', 'salario', 'local', 'beneficios', 'descricao', 'empresa', 'salario', 'local', 'beneficios', 'descricao', 'empresa', 'salario', 'local', 'beneficios', 'descricao', 'empresa', 'salario', 'local', 'beneficios', 'descricao', 'empresa', 'salario', 'local', 'beneficios', 'descricao', 'empresa', 'salario', 'local', 'beneficios', 'descricao', 'empresa', 'salario', 'local', 'beneficios', 'descricao', 'empresa', 'salario', 'local', 'beneficios', 'descricao', 'empresa', 'salario', 'local', 'beneficios', 'descricao', 'empresa', 'salario', 'local', 'beneficios', 'descricao', 'empresa', 'salario', 'local', 'beneficios', 'descricao', 'empresa', 'salario', 'local', 'beneficios', 'descricao', 'empresa', 'salario', 'local', 'beneficios', 'descricao', 'empresa', 'salario', 'local', 'beneficios', 'descricao', 'empresa', 'salario', 'local', 'beneficios', 'descricao', 'empresa', 'salario', 'local', 'beneficios', 'descricao', 'empresa', 'salario', 'local', 'beneficios', 'descricao', 'empresa', 'salario', 'local', 'beneficios', 'descricao', 'empresa', 'salario', 'local', 'beneficios', 'descricao', 'empresa', 'salario', 'local', 'beneficios', 'descricao', 'empresa', 'salario', 'local', 'beneficios', 'descricao', 'empresa', 'salario', 'local', 'beneficios', 'descricao', 'empresa', 'salario', 'local', 'beneficios', 'descricao', 'empresa', 'salario', 'local', 'beneficios', 'descricao', 'empresa', 'salario', 'local', 'beneficios', 'descricao', 'empresa', 'salario', 'local', 'beneficios', 'descricao', 'empresa', 'salario', 'local', 'beneficios', 'descricao', 'empresa', 'salario', 'local', 'beneficios', 'descricao', 'empresa', 'salario', 'local', 'beneficios', 'descricao', 'empresa', 'salario', 'local', 'beneficios', 'descricao', 'empresa', 'salario', 'local', 'beneficios', 'descricao', 'empresa', 'salario', 'local', 'beneficios', 'descricao', 'empresa', 'salario', 'local', 'beneficios', 'descricao', 'empresa', 'salario', 'local', 'beneficios', 'descricao', 'empresa', 'salario', 'local', 'beneficios', 'descricao', 'empresa', 'salario', 'local', 'beneficios', 'descricao', 'empresa', 'salario', 'local', 'beneficios', 'descricao', 'empresa', 'salario', 'local', 'beneficios', 'descricao', 'empresa', 'salario', 'local', 'beneficios', 'descricao', 'empresa', 'salario', 'local', 'beneficios', 'descricao', 'empresa', 'salario', 'local', 'beneficios', 'descricao', 'empresa', 'salario', 'local', 'beneficios', 'descricao', 'empresa', 'salario', 'local', 'beneficios', 'descricao', 'empresa', 'salario', 'local', 'beneficios', 'descricao', 'empresa', 'salario', 'local', 'beneficios', 'descricao', 'empresa', 'salario', 'local', 'beneficios', 'descricao', 'empresa', 'salario', 'local', 'beneficios', 'descricao', 'empresa', 'salario', 'local', 'beneficios', 'descricao', 'empresa', 'salario', 'local', 'beneficios', 'descricao', 'empresa', 'salario', 'local', 'beneficios', 'descricao', 'empresa', 'salario', 'local', 'beneficios', 'descricao', 'empresa', 'salario', 'local', 'beneficios', 'descricao', 'empresa', 'salario', 'local', 'beneficios', 'descricao', 'empresa', 'salario', 'local', 'beneficios', 'descricao', 'empresa', 'salario', 'local', 'beneficios', 'descricao', 'empresa', 'salario', 'local', 'beneficios', 'descricao', 'empresa', 'salario', 'local', 'beneficios', 'descricao', 'empresa', 'salario', 'local', 'beneficios', 'descricao', 'empresa', 'salario', 'local', 'beneficios', 'descricao', 'empresa', 'salario', 'local', 'beneficios', 'descricao', 'empresa', 'salario', 'local', 'beneficios', 'descricao', 'empresa', 'salario', 'local', 'beneficios', 'descricao', 'empresa', 'salario', 'local', 'beneficios', 'descricao', 'empresa', 'salario', 'local', 'beneficios', 'descricao', 'empresa', 'salario', 'local', 'beneficios', 'descricao', 'empresa', 'salario', 'local', 'beneficios', 'descricao', 'empresa', 'salario', 'local', 'beneficios', 'descricao', 'empresa', 'salario', 'local', 'beneficios', 'descricao', 'empresa', 'salario', 'local', 'beneficios', 'descricao', 'empresa', 'salario', 'local', 'beneficios', 'descricao', 'empresa', 'salario', 'local', 'beneficios', 'descricao', 'empresa', 'salario', 'local', 'beneficios', 'descricao', 'empresa', 'salario', 'local', 'beneficios', 'descricao', 'empresa', 'salario', 'local', 'beneficios', 'descricao', 'empresa', 'salario', 'local', 'beneficios', 'descricao', 'empresa', 'salario', 'local', 'beneficios', 'descricao', 'empresa', 'salario', 'local', 'beneficios', 'descricao', 'empresa', 'salario', 'local', 'beneficios', 'descricao', 'empresa']\n",
      "\n",
      "Real\n",
      "\t ['salario', 'salario', 'salario', 'salario', 'beneficios', 'beneficios', 'descricao', 'descricao', 'descricao', 'descricao', 'descricao', 'descricao', 'descricao', 'descricao', 'descricao', 'descricao', 'descricao', 'descricao', 'descricao', 'descricao', 'descricao', 'descricao', 'descricao', 'descricao', 'descricao', 'descricao', 'descricao', 'descricao', 'descricao', 'descricao', 'descricao', 'descricao', 'descricao', 'descricao', 'descricao', 'descricao', 'descricao', 'descricao', 'descricao', 'descricao', 'descricao', 'descricao', 'descricao', 'descricao', 'descricao', 'descricao', 'descricao', 'descricao', 'descricao', 'descricao', 'descricao', 'descricao', 'descricao', 'descricao', 'descricao', 'descricao', 'descricao', 'descricao', 'descricao', 'descricao', 'descricao', 'descricao', 'descricao', 'descricao', 'descricao', 'descricao', 'descricao', 'descricao', 'descricao', 'descricao', 'descricao', 'descricao', 'descricao', 'descricao', 'descricao', 'descricao', 'descricao', 'descricao', 'descricao', 'descricao', 'descricao', 'descricao', 'descricao', 'descricao', 'descricao', 'descricao', 'descricao', 'descricao', 'descricao', 'descricao', 'descricao', 'descricao', 'descricao', 'descricao', 'descricao', 'descricao', 'descricao', 'descricao', 'descricao', 'descricao', 'descricao', 'descricao', 'descricao', 'descricao', 'descricao', 'descricao', 'descricao', 'descricao', 'descricao', 'descricao', 'descricao', 'descricao', 'descricao', 'descricao', 'descricao', 'descricao', 'descricao', 'descricao', 'descricao', 'descricao', 'descricao', 'descricao', 'descricao', 'descricao', 'descricao', 'descricao', 'descricao', 'descricao', 'descricao', 'descricao', 'descricao', 'descricao', 'descricao', 'descricao', 'descricao', 'descricao', 'descricao', 'descricao', 'descricao', 'descricao', 'descricao', 'descricao', 'descricao', 'descricao', 'descricao', 'descricao', 'descricao', 'descricao', 'descricao', 'descricao', 'descricao', 'descricao', 'descricao', 'descricao', 'descricao', 'descricao', 'descricao', 'descricao', 'descricao', 'descricao', 'descricao', 'descricao', 'descricao', 'descricao', 'descricao', 'descricao', 'descricao', 'descricao', 'descricao', 'descricao', 'descricao', 'descricao', 'descricao', 'descricao', 'descricao', 'descricao', 'descricao', 'descricao', 'descricao', 'descricao', 'descricao', 'descricao', 'descricao', 'descricao', 'descricao', 'descricao', 'descricao', 'descricao', 'descricao', 'descricao', 'descricao', 'descricao', 'descricao', 'descricao', 'descricao', 'descricao', 'descricao', 'descricao', 'descricao', 'descricao', 'descricao', 'descricao', 'descricao', 'descricao', 'descricao', 'descricao', 'descricao', 'descricao', 'descricao', 'descricao', 'descricao', 'descricao', 'descricao', 'descricao', 'descricao', 'descricao', 'descricao', 'descricao', 'descricao', 'descricao', 'descricao', 'descricao', 'descricao', 'descricao', 'descricao', 'descricao', 'descricao', 'descricao', 'descricao', 'descricao', 'descricao', 'descricao', 'descricao', 'descricao', 'descricao', 'descricao', 'descricao', 'descricao', 'descricao', 'descricao', 'descricao', 'descricao', 'descricao', 'descricao', 'descricao', 'descricao', 'descricao', 'descricao', 'descricao', 'descricao', 'descricao', 'descricao', 'descricao', 'descricao', 'descricao', 'descricao', 'descricao', 'descricao', 'descricao', 'descricao', 'descricao', 'descricao', 'descricao', 'empresa', 'empresa', 'empresa', 'empresa', 'empresa', 'empresa', 'empresa', 'empresa', 'empresa', 'empresa', 'empresa', 'empresa', 'empresa', 'empresa', 'empresa', 'empresa', 'empresa', 'empresa', 'empresa', 'empresa', 'empresa', 'empresa', 'empresa', 'empresa', 'empresa', 'empresa', 'empresa', 'empresa', 'empresa', 'empresa', 'empresa', 'empresa', 'empresa', 'empresa', 'empresa', 'empresa', 'empresa', 'empresa', 'empresa', 'empresa', 'empresa', 'empresa', 'empresa', 'empresa', 'empresa', 'empresa', 'empresa', 'empresa', 'empresa', 'empresa', 'empresa', 'empresa', 'empresa', 'empresa', 'empresa', 'empresa', 'empresa', 'empresa', 'empresa', 'empresa', 'empresa', 'empresa', 'empresa', 'empresa', 'empresa', 'empresa', 'empresa', 'empresa', 'empresa', 'empresa', 'empresa', 'empresa', 'empresa', 'empresa', 'empresa', 'empresa', 'empresa', 'empresa', 'empresa', 'empresa', 'empresa', 'empresa', 'empresa', 'empresa', 'empresa', 'empresa', 'empresa', 'empresa', 'empresa', 'empresa', 'empresa', 'empresa', 'empresa', 'empresa', 'empresa', 'empresa', 'empresa', 'empresa', 'empresa', 'empresa', 'empresa', 'empresa', 'empresa', 'empresa', 'empresa', 'empresa', 'empresa', 'empresa', 'empresa', 'empresa', 'empresa', 'empresa', 'empresa', 'empresa', 'empresa', 'empresa', 'empresa', 'empresa', 'empresa', 'empresa', 'empresa', 'empresa', 'empresa', 'empresa', 'empresa', 'empresa', 'empresa', 'empresa', 'empresa', 'empresa', 'empresa', 'empresa', 'empresa', 'empresa', 'empresa', 'empresa', 'empresa', 'empresa', 'empresa', 'empresa', 'empresa', 'empresa', 'empresa', 'empresa', 'empresa', 'empresa', 'empresa', 'empresa', 'empresa', 'empresa', 'empresa', 'empresa', 'empresa', 'empresa', 'empresa', 'empresa', 'empresa', 'empresa', 'empresa', 'empresa', 'empresa', 'empresa', 'empresa', 'empresa', 'empresa', 'empresa', 'empresa', 'empresa', 'empresa', 'empresa', 'empresa', 'empresa', 'empresa', 'empresa', 'empresa', 'empresa', 'empresa', 'empresa', 'empresa', 'empresa', 'empresa', 'empresa', 'empresa', 'empresa', 'empresa', 'empresa', 'empresa', 'empresa', 'empresa', 'empresa', 'empresa', 'empresa', 'empresa', 'empresa', 'empresa', 'empresa', 'empresa', 'empresa', 'empresa', 'local']\n"
     ]
    }
   ],
   "source": [
    "observacoes, previsto, real = model.predictRandomTest()"
   ]
  },
  {
   "cell_type": "code",
   "execution_count": 10,
   "metadata": {
    "colab": {
     "base_uri": "https://localhost:8080/",
     "height": 1000
    },
    "id": "QEaEz4Pu1AmO",
    "outputId": "5a787665-52a5-4d14-9d9e-77ea94633ec3"
   },
   "outputs": [
    {
     "name": "stdout",
     "output_type": "stream",
     "text": [
      "Obs: painéis / Previsto: salario / Real: descricao\n",
      "Obs: e / Previsto: local / Real: descricao\n",
      "Obs: sistemas / Previsto: beneficios / Real: descricao\n",
      "Obs: na / Previsto: empresa / Real: descricao\n",
      "Obs: subestação / Previsto: salario / Real: descricao\n",
      "Obs: seguindo / Previsto: local / Real: descricao\n",
      "Obs: os / Previsto: beneficios / Real: descricao\n",
      "Obs: padrõesemitir / Previsto: empresa / Real: descricao\n",
      "Obs: solicitações / Previsto: salario / Real: descricao\n",
      "Obs: de / Previsto: local / Real: descricao\n",
      "Obs: serviços / Previsto: beneficios / Real: descricao\n",
      "Obs: comunicando / Previsto: empresa / Real: descricao\n",
      "Obs: ao / Previsto: salario / Real: descricao\n",
      "Obs: superior / Previsto: local / Real: descricao\n",
      "Obs: imediato / Previsto: beneficios / Real: descricao\n",
      "Obs: adoção / Previsto: empresa / Real: descricao\n",
      "Obs: das / Previsto: salario / Real: descricao\n",
      "Obs: providências / Previsto: local / Real: descricao\n",
      "Obs: referentes / Previsto: beneficios / Real: descricao\n",
      "Obs: intervenções / Previsto: empresa / Real: descricao\n",
      "Obs: corretivasaplicar / Previsto: salario / Real: descricao\n",
      "Obs: normas / Previsto: local / Real: descricao\n",
      "Obs: de / Previsto: beneficios / Real: descricao\n",
      "Obs: durante / Previsto: empresa / Real: descricao\n",
      "Obs: os / Previsto: salario / Real: descricao\n",
      "Obs: serviços / Previsto: local / Real: descricao\n",
      "Obs: na / Previsto: beneficios / Real: descricao\n",
      "Obs: sob / Previsto: empresa / Real: descricao\n",
      "Obs: sua / Previsto: salario / Real: descricao\n",
      "Obs: responsabilidadetransmitir / Previsto: local / Real: descricao\n",
      "Obs: ao / Previsto: beneficios / Real: descricao\n",
      "Obs: de / Previsto: empresa / Real: descricao\n",
      "Obs: operação / Previsto: salario / Real: descricao\n",
      "Obs: as / Previsto: local / Real: descricao\n",
      "Obs: informações / Previsto: beneficios / Real: descricao\n",
      "Obs: as / Previsto: empresa / Real: descricao\n",
      "Obs: proteções / Previsto: salario / Real: descricao\n",
      "Obs: e / Previsto: local / Real: descricao\n",
      "Obs: sinalizações / Previsto: beneficios / Real: descricao\n",
      "Obs: quando / Previsto: empresa / Real: descricao\n",
      "Obs: de / Previsto: salario / Real: descricao\n",
      "Obs: desligamentos / Previsto: local / Real: descricao\n",
      "Obs: intempestivos / Previsto: beneficios / Real: descricao\n",
      "Obs: linhas / Previsto: empresa / Real: descricao\n",
      "Obs: e / Previsto: salario / Real: descricao\n",
      "Obs: ou / Previsto: local / Real: descricao\n",
      "Obs: equipamentos / Previsto: beneficios / Real: descricao\n",
      "Obs: efetuar / Previsto: empresa / Real: descricao\n",
      "Obs: a / Previsto: salario / Real: descricao\n",
      "Obs: avaliação / Previsto: local / Real: descricao\n",
      "Obs: das / Previsto: beneficios / Real: descricao\n",
      "Obs: do / Previsto: empresa / Real: descricao\n",
      "Obs: sistema / Previsto: salario / Real: descricao\n",
      "Obs: antes / Previsto: local / Real: descricao\n",
      "Obs: da / Previsto: beneficios / Real: descricao\n",
      "Obs: reenergizaçãomonitorar / Previsto: empresa / Real: descricao\n",
      "Obs: toda / Previsto: salario / Real: descricao\n",
      "Obs: a / Previsto: local / Real: descricao\n",
      "Obs: área / Previsto: beneficios / Real: descricao\n",
      "Obs: instalação / Previsto: empresa / Real: descricao\n",
      "Obs: através / Previsto: salario / Real: descricao\n",
      "Obs: de / Previsto: local / Real: descricao\n",
      "Obs: câmeras / Previsto: beneficios / Real: descricao\n",
      "Obs: a / Previsto: empresa / Real: descricao\n",
      "Obs: presença / Previsto: salario / Real: descricao\n",
      "Obs: de / Previsto: local / Real: descricao\n",
      "Obs: pessoas / Previsto: beneficios / Real: descricao\n",
      "Obs: no / Previsto: empresa / Real: descricao\n",
      "Obs: local / Previsto: salario / Real: descricao\n",
      "Obs: para / Previsto: local / Real: descricao\n",
      "Obs: manter / Previsto: beneficios / Real: descricao\n",
      "Obs: segurança / Previsto: empresa / Real: descricao\n",
      "Obs: da / Previsto: salario / Real: descricao\n",
      "Obs: instalaçãooperar / Previsto: local / Real: descricao\n",
      "Obs: os / Previsto: beneficios / Real: descricao\n",
      "Obs: e / Previsto: empresa / Real: descricao\n",
      "Obs: sistemas / Previsto: salario / Real: descricao\n",
      "Obs: de / Previsto: local / Real: descricao\n",
      "Obs: comunicação / Previsto: beneficios / Real: descricao\n",
      "Obs: intercâmbio / Previsto: empresa / Real: descricao\n",
      "Obs: de / Previsto: salario / Real: descricao\n",
      "Obs: informações / Previsto: local / Real: descricao\n",
      "Obs: com / Previsto: beneficios / Real: descricao\n",
      "Obs: centro / Previsto: empresa / Real: descricao\n",
      "Obs: de / Previsto: salario / Real: descricao\n",
      "Obs: operação / Previsto: local / Real: descricao\n",
      "Obs: e / Previsto: beneficios / Real: descricao\n",
      "Obs: outras / Previsto: empresa / Real: descricao\n",
      "Obs: instalaçõescumprir / Previsto: salario / Real: descricao\n",
      "Obs: as / Previsto: local / Real: descricao\n",
      "Obs: normas / Previsto: beneficios / Real: descricao\n",
      "Obs: instruções / Previsto: empresa / Real: descricao\n",
      "Obs: de / Previsto: salario / Real: descricao\n",
      "Obs: operação / Previsto: local / Real: descricao\n",
      "Obs: da / Previsto: beneficios / Real: descricao\n",
      "Obs: pela / Previsto: empresa / Real: descricao\n",
      "Obs: limpeza / Previsto: salario / Real: descricao\n",
      "Obs: manutenção / Previsto: local / Real: descricao\n",
      "Obs: da / Previsto: beneficios / Real: descricao\n",
      "Obs: do / Previsto: empresa / Real: descricao\n",
      "Obs: local / Previsto: salario / Real: descricao\n",
      "Obs: e / Previsto: local / Real: descricao\n",
      "Obs: condições / Previsto: beneficios / Real: descricao\n",
      "Obs: segurança / Previsto: empresa / Real: descricao\n",
      "Obs: e / Previsto: salario / Real: descricao\n",
      "Obs: higiene / Previsto: local / Real: descricao\n",
      "Obs: do / Previsto: beneficios / Real: descricao\n",
      "Obs: na / Previsto: empresa / Real: descricao\n",
      "Obs: subestação / Previsto: salario / Real: descricao\n",
      "Obs: requisitosensino / Previsto: local / Real: descricao\n",
      "Obs: técnico / Previsto: beneficios / Real: descricao\n",
      "Obs: em / Previsto: empresa / Real: descricao\n",
      "Obs: elétrica / Previsto: salario / Real: descricao\n",
      "Obs: eletrônica / Previsto: local / Real: descricao\n",
      "Obs: eletrotécnica / Previsto: beneficios / Real: descricao\n",
      "Obs: áreas / Previsto: empresa / Real: descricao\n",
      "Obs: afinsdesejável / Previsto: salario / Real: descricao\n",
      "Obs: experiência / Previsto: local / Real: descricao\n",
      "Obs: no / Previsto: beneficios / Real: descricao\n",
      "Obs: de / Previsto: empresa / Real: descricao\n",
      "Obs: energia / Previsto: salario / Real: descricao\n",
      "Obs: horário / Previsto: local / Real: descricao\n",
      "Obs: de / Previsto: beneficios / Real: descricao\n",
      "Obs: a / Previsto: empresa / Real: descricao\n",
      "Obs: combinarlocal / Previsto: salario / Real: descricao\n",
      "Obs: de / Previsto: local / Real: descricao\n",
      "Obs: trabalho / Previsto: beneficios / Real: descricao\n",
      "Obs: - / Previsto: empresa / Real: descricao\n",
      "Obs: ba / Previsto: salario / Real: descricao\n",
      "Obs: empresa / Previsto: local / Real: empresa\n",
      "Obs: a / Previsto: beneficios / Real: empresa\n",
      "Obs: alupar / Previsto: descricao / Real: empresa\n",
      "Obs: uma / Previsto: salario / Real: empresa\n",
      "Obs: holding / Previsto: local / Real: empresa\n",
      "Obs: de / Previsto: beneficios / Real: empresa\n",
      "Obs: controle / Previsto: descricao / Real: empresa\n",
      "Obs: privado / Previsto: salario / Real: empresa\n",
      "Obs: com / Previsto: local / Real: empresa\n",
      "Obs: atuação / Previsto: beneficios / Real: empresa\n",
      "Obs: no / Previsto: descricao / Real: empresa\n",
      "Obs: de / Previsto: salario / Real: empresa\n",
      "Obs: energia / Previsto: local / Real: empresa\n",
      "Obs: mais / Previsto: beneficios / Real: empresa\n",
      "Obs: especificamente / Previsto: descricao / Real: empresa\n",
      "Obs: segmentos / Previsto: salario / Real: empresa\n",
      "Obs: de / Previsto: local / Real: empresa\n",
      "Obs: transmissão / Previsto: beneficios / Real: empresa\n",
      "Obs: e / Previsto: descricao / Real: empresa\n",
      "Obs: tendo / Previsto: salario / Real: empresa\n",
      "Obs: como / Previsto: local / Real: empresa\n",
      "Obs: objetivo / Previsto: beneficios / Real: empresa\n",
      "Obs: desenvolver / Previsto: descricao / Real: empresa\n",
      "Obs: investir / Previsto: salario / Real: empresa\n",
      "Obs: em / Previsto: local / Real: empresa\n",
      "Obs: projetos / Previsto: beneficios / Real: empresa\n",
      "Obs: de / Previsto: descricao / Real: empresa\n",
      "Obs: relacionados / Previsto: salario / Real: empresa\n",
      "Obs: ao / Previsto: local / Real: empresa\n",
      "Obs: setor / Previsto: beneficios / Real: empresa\n",
      "Obs: de / Previsto: descricao / Real: empresa\n",
      "Obs: no / Previsto: salario / Real: empresa\n",
      "Obs: brasil / Previsto: local / Real: empresa\n",
      "Obs: e / Previsto: beneficios / Real: empresa\n",
      "Obs: nos / Previsto: descricao / Real: empresa\n",
      "Obs: países / Previsto: salario / Real: empresa\n",
      "Obs: da / Previsto: local / Real: empresa\n",
      "Obs: américa / Previsto: beneficios / Real: empresa\n",
      "Obs: latina / Previsto: descricao / Real: empresa\n",
      "Obs: companhia / Previsto: salario / Real: empresa\n",
      "Obs: é / Previsto: local / Real: empresa\n",
      "Obs: a / Previsto: beneficios / Real: empresa\n",
      "Obs: maior / Previsto: descricao / Real: empresa\n",
      "Obs: 100% / Previsto: salario / Real: empresa\n",
      "Obs: privada / Previsto: local / Real: empresa\n",
      "Obs: e / Previsto: beneficios / Real: empresa\n",
      "Obs: uma / Previsto: descricao / Real: empresa\n",
      "Obs: cinco / Previsto: salario / Real: empresa\n",
      "Obs: maiores / Previsto: local / Real: empresa\n",
      "Obs: no / Previsto: beneficios / Real: empresa\n",
      "Obs: segmento / Previsto: descricao / Real: empresa\n",
      "Obs: transmissão / Previsto: salario / Real: empresa\n",
      "Obs: de / Previsto: local / Real: empresa\n",
      "Obs: energia / Previsto: beneficios / Real: empresa\n",
      "Obs: elétrica / Previsto: descricao / Real: empresa\n",
      "Obs: brasil / Previsto: salario / Real: empresa\n",
      "Obs: em / Previsto: local / Real: empresa\n",
      "Obs: termos / Previsto: beneficios / Real: empresa\n",
      "Obs: de / Previsto: descricao / Real: empresa\n",
      "Obs: segmento / Previsto: salario / Real: empresa\n",
      "Obs: de / Previsto: local / Real: empresa\n",
      "Obs: transmissão / Previsto: beneficios / Real: empresa\n",
      "Obs: a / Previsto: descricao / Real: empresa\n",
      "Obs: possui / Previsto: salario / Real: empresa\n",
      "Obs: a / Previsto: local / Real: empresa\n",
      "Obs: concessão / Previsto: beneficios / Real: empresa\n",
      "Obs: de / Previsto: descricao / Real: empresa\n",
      "Obs: sistemas / Previsto: salario / Real: empresa\n",
      "Obs: de / Previsto: local / Real: empresa\n",
      "Obs: transmissão / Previsto: beneficios / Real: empresa\n",
      "Obs: totalizando / Previsto: descricao / Real: empresa\n",
      "Obs: km / Previsto: salario / Real: empresa\n",
      "Obs: de / Previsto: local / Real: empresa\n",
      "Obs: linhas / Previsto: beneficios / Real: empresa\n",
      "Obs: de / Previsto: descricao / Real: empresa\n",
      "Obs: por / Previsto: salario / Real: empresa\n",
      "Obs: meio / Previsto: local / Real: empresa\n",
      "Obs: de / Previsto: beneficios / Real: empresa\n",
      "Obs: concessões / Previsto: descricao / Real: empresa\n",
      "Obs: prazo / Previsto: salario / Real: empresa\n",
      "Obs: de / Previsto: local / Real: empresa\n",
      "Obs: 30 / Previsto: beneficios / Real: empresa\n",
      "Obs: anos / Previsto: descricao / Real: empresa\n",
      "Obs: no / Previsto: salario / Real: empresa\n",
      "Obs: brasil / Previsto: local / Real: empresa\n",
      "Obs: e / Previsto: beneficios / Real: empresa\n",
      "Obs: uma / Previsto: descricao / Real: empresa\n",
      "Obs: na / Previsto: salario / Real: empresa\n",
      "Obs: colômbiaatuante / Previsto: local / Real: empresa\n",
      "Obs: também / Previsto: beneficios / Real: empresa\n",
      "Obs: no / Previsto: descricao / Real: empresa\n",
      "Obs: de / Previsto: salario / Real: empresa\n",
      "Obs: geração / Previsto: local / Real: empresa\n",
      "Obs: a / Previsto: beneficios / Real: empresa\n",
      "Obs: alupar / Previsto: descricao / Real: empresa\n",
      "Obs: a / Previsto: salario / Real: empresa\n",
      "Obs: concessãoautorização / Previsto: local / Real: empresa\n",
      "Obs: de / Previsto: beneficios / Real: empresa\n",
      "Obs: 10 / Previsto: descricao / Real: empresa\n",
      "Obs: que / Previsto: salario / Real: empresa\n",
      "Obs: totalizam / Previsto: local / Real: empresa\n",
      "Obs: 6870 / Previsto: beneficios / Real: empresa\n",
      "Obs: mw / Previsto: descricao / Real: empresa\n",
      "Obs: capacidade / Previsto: salario / Real: empresa\n",
      "Obs: instalada / Previsto: local / Real: empresa\n",
      "Obs: sendo / Previsto: beneficios / Real: empresa\n",
      "Obs: 5500 / Previsto: descricao / Real: empresa\n",
      "Obs: decorrentes / Previsto: salario / Real: empresa\n",
      "Obs: de / Previsto: local / Real: empresa\n",
      "Obs: 3 / Previsto: beneficios / Real: empresa\n",
      "Obs: uhes / Previsto: descricao / Real: empresa\n",
      "Obs: pchs / Previsto: salario / Real: empresa\n",
      "Obs: e / Previsto: local / Real: empresa\n",
      "Obs: 1 / Previsto: beneficios / Real: empresa\n",
      "Obs: projeto / Previsto: descricao / Real: empresa\n",
      "Obs: em / Previsto: salario / Real: empresa\n",
      "Obs: operação / Previsto: local / Real: empresa\n",
      "Obs: os / Previsto: beneficios / Real: empresa\n",
      "Obs: 1370 / Previsto: descricao / Real: empresa\n",
      "Obs: em / Previsto: salario / Real: empresa\n",
      "Obs: implantação / Previsto: local / Real: empresa\n",
      "Obs: referem-se / Previsto: beneficios / Real: empresa\n",
      "Obs: a / Previsto: descricao / Real: empresa\n",
      "Obs: de / Previsto: salario / Real: empresa\n",
      "Obs: geração / Previsto: local / Real: empresa\n",
      "Obs: de / Previsto: beneficios / Real: empresa\n",
      "Obs: fonte / Previsto: descricao / Real: empresa\n",
      "Obs: em / Previsto: salario / Real: empresa\n",
      "Obs: gerar / Previsto: local / Real: empresa\n",
      "Obs: valor / Previsto: beneficios / Real: empresa\n",
      "Obs: para / Previsto: descricao / Real: empresa\n",
      "Obs: acionista / Previsto: salario / Real: empresa\n",
      "Obs: e / Previsto: local / Real: empresa\n",
      "Obs: para / Previsto: beneficios / Real: empresa\n",
      "Obs: a / Previsto: descricao / Real: empresa\n",
      "Obs: a / Previsto: salario / Real: empresa\n",
      "Obs: alupar / Previsto: local / Real: empresa\n",
      "Obs: possui / Previsto: beneficios / Real: empresa\n",
      "Obs: grande / Previsto: descricao / Real: empresa\n",
      "Obs: técnica / Previsto: salario / Real: empresa\n",
      "Obs: forte / Previsto: local / Real: empresa\n",
      "Obs: disciplina / Previsto: beneficios / Real: empresa\n",
      "Obs: financeira / Previsto: descricao / Real: empresa\n",
      "Obs: responsabilidade / Previsto: salario / Real: empresa\n",
      "Obs: social / Previsto: local / Real: empresa\n",
      "Obs: para / Previsto: beneficios / Real: empresa\n",
      "Obs: continuar / Previsto: descricao / Real: empresa\n",
      "Obs: o / Previsto: salario / Real: empresa\n",
      "Obs: seu / Previsto: local / Real: empresa\n",
      "Obs: crescimento / Previsto: beneficios / Real: empresa\n",
      "Obs: sustentável / Previsto: descricao / Real: empresa\n",
      "Obs: do / Previsto: salario / Real: empresa\n",
      "Obs: desenvolvimento / Previsto: local / Real: empresa\n",
      "Obs: de / Previsto: beneficios / Real: empresa\n",
      "Obs: projetos / Previsto: descricao / Real: empresa\n",
      "Obs: geração / Previsto: salario / Real: empresa\n",
      "Obs: e / Previsto: local / Real: empresa\n",
      "Obs: sistemas / Previsto: beneficios / Real: empresa\n",
      "Obs: de / Previsto: descricao / Real: empresa\n",
      "Obs: poções / Previsto: salario / Real: local\n"
     ]
    }
   ],
   "source": [
    "model.ExibeMudancasEstadoIncorretas(observacoes, previsto, real)"
   ]
  }
 ],
 "metadata": {
  "accelerator": "GPU",
  "colab": {
   "collapsed_sections": [],
   "name": "HMMVagas_V1",
   "provenance": []
  },
  "kernelspec": {
   "display_name": "Python 3",
   "language": "python",
   "name": "python3"
  },
  "language_info": {
   "codemirror_mode": {
    "name": "ipython",
    "version": 3
   },
   "file_extension": ".py",
   "mimetype": "text/x-python",
   "name": "python",
   "nbconvert_exporter": "python",
   "pygments_lexer": "ipython3",
   "version": "3.7.6"
  }
 },
 "nbformat": 4,
 "nbformat_minor": 1
}
